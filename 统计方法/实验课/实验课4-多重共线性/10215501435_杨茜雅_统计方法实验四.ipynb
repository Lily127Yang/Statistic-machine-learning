{
 "cells": [
  {
   "cell_type": "markdown",
   "id": "530a7c78-7136-47c3-879b-437115e4cf14",
   "metadata": {},
   "source": [
    "## 统计方法实验四--多重共线性--10215501435 杨茜雅\n"
   ]
  },
  {
   "cell_type": "code",
   "execution_count": 1,
   "id": "2f26a39a-5b0c-48f4-aa8f-e06eb28bc047",
   "metadata": {},
   "outputs": [],
   "source": [
    "from sklearn.datasets import load_diabetes\n",
    "import sas7bdat\n",
    "import os\n",
    "\n",
    "import pandas as pd\n",
    "import numpy as np\n",
    "import random\n",
    "import seaborn as sns\n",
    "import scipy.stats as stats\n",
    "import matplotlib.pyplot as plt\n",
    "import math\n",
    "\n",
    "from sklearn import preprocessing # Data Preprocessing\n",
    "import statsmodels.api as sm # LSE, Ridge Regression\n",
    "from statsmodels.stats.outliers_influence import variance_inflation_factor # VIF \n",
    "from statsmodels.multivariate.pca import PCA # PCR\n",
    "\n",
    "from jupyterquiz import display_quiz "
   ]
  },
  {
   "cell_type": "markdown",
   "id": "43399ede-5859-4a07-97f8-5e84fb56ee78",
   "metadata": {},
   "source": [
    "## 数据预处理\n",
    "\n",
    "### 1、 从scikit-learn包中载入数据集diabetes"
   ]
  },
  {
   "cell_type": "markdown",
   "id": "1372f68b-b3bd-4cbb-8a30-6bc98b1aa872",
   "metadata": {},
   "source": [
    "### 我们先来看一下原始数据集"
   ]
  },
  {
   "cell_type": "code",
   "execution_count": 2,
   "id": "17bb057d-a922-4676-9499-9cb04b05f417",
   "metadata": {
    "scrolled": true
   },
   "outputs": [
    {
     "name": "stdout",
     "output_type": "stream",
     "text": [
      "        age       sex       bmi        bp        s1        s2        s3  \\\n",
      "0  0.038076  0.050680  0.061696  0.021872 -0.044223 -0.034821 -0.043401   \n",
      "1 -0.001882 -0.044642 -0.051474 -0.026328 -0.008449 -0.019163  0.074412   \n",
      "2  0.085299  0.050680  0.044451 -0.005670 -0.045599 -0.034194 -0.032356   \n",
      "3 -0.089063 -0.044642 -0.011595 -0.036656  0.012191  0.024991 -0.036038   \n",
      "4  0.005383 -0.044642 -0.036385  0.021872  0.003935  0.015596  0.008142   \n",
      "\n",
      "         s4        s5        s6  target  \n",
      "0 -0.002592  0.019907 -0.017646   151.0  \n",
      "1 -0.039493 -0.068332 -0.092204    75.0  \n",
      "2 -0.002592  0.002861 -0.025930   141.0  \n",
      "3  0.034309  0.022688 -0.009362   206.0  \n",
      "4 -0.002592 -0.031988 -0.046641   135.0  \n"
     ]
    }
   ],
   "source": [
    "Data = pd.read_csv(\"./Data/diabetes.csv\")\n",
    "print(Data.head())"
   ]
  },
  {
   "cell_type": "markdown",
   "id": "6275fed3-d940-44fb-b98f-cabed4a5fda7",
   "metadata": {},
   "source": [
    "我们可以简单统计一下这个数据集中的一些基本信息，如样本量、特征维度，即"
   ]
  },
  {
   "cell_type": "code",
   "execution_count": 3,
   "id": "663e56a2-ce2e-4790-8e25-c008edf6ca99",
   "metadata": {},
   "outputs": [
    {
     "name": "stdout",
     "output_type": "stream",
     "text": [
      "The number of features is 10\n",
      "The sample size is 442\n"
     ]
    }
   ],
   "source": [
    "p = Data.shape[1]-1\n",
    "n = Data.shape[0]\n",
    "\n",
    "print(\"The number of features is\",p)\n",
    "print(\"The sample size is\",n)"
   ]
  },
  {
   "cell_type": "markdown",
   "id": "f76caebb-7462-4b74-93e2-daf3ae574aa2",
   "metadata": {},
   "source": [
    "### 我们再来看一下参考文献二中的\"二次模型\"SAS数据集"
   ]
  },
  {
   "cell_type": "code",
   "execution_count": 4,
   "id": "973a5a93-028a-4b14-b974-a33ff7de5d74",
   "metadata": {},
   "outputs": [],
   "source": [
    "path = r\"/home/jovyan/Stat_ML_2023/Data/diabetes2.sas7bdat\"\n",
    "Data = sas7bdat.SAS7BDAT(path,encoding='gb2312').to_data_frame()"
   ]
  },
  {
   "cell_type": "code",
   "execution_count": 5,
   "id": "de545b0e-6fc6-460c-9ccd-026d2c5d6af5",
   "metadata": {},
   "outputs": [
    {
     "name": "stdout",
     "output_type": "stream",
     "text": [
      "          age       sex       bmi       map        tc       ldl       hdl  \\\n",
      "0    0.038076  0.050680  0.061696  0.021872 -0.044223 -0.034821 -0.043401   \n",
      "1   -0.001882 -0.044642 -0.051474 -0.026328 -0.008449 -0.019163  0.074412   \n",
      "2    0.085299  0.050680  0.044451 -0.005671 -0.045599 -0.034194 -0.032356   \n",
      "3   -0.089063 -0.044642 -0.011595 -0.036656  0.012191  0.024991 -0.036038   \n",
      "4    0.005383 -0.044642 -0.036385  0.021872  0.003935  0.015596  0.008142   \n",
      "..        ...       ...       ...       ...       ...       ...       ...   \n",
      "437  0.041708  0.050680  0.019662  0.059744 -0.005697 -0.002566 -0.028674   \n",
      "438 -0.005515  0.050680 -0.015906 -0.067642  0.049341  0.079165 -0.028674   \n",
      "439  0.041708  0.050680 -0.015906  0.017282 -0.037344 -0.013840 -0.024993   \n",
      "440 -0.045472 -0.044642  0.039062  0.001215  0.016318  0.015283 -0.028674   \n",
      "441 -0.045472 -0.044642 -0.073030 -0.081414  0.083740  0.027809  0.173816   \n",
      "\n",
      "          tch       ltg       glu  ...   ldl_tch   ldl_ltg   ldl_glu  \\\n",
      "0   -0.002592  0.019908 -0.017646  ... -0.022038 -0.031125 -0.000922   \n",
      "1   -0.039493 -0.068330 -0.092204  ... -0.011564  0.012973  0.023783   \n",
      "2   -0.002592  0.002864 -0.025930  ... -0.022063 -0.018016  0.004913   \n",
      "3    0.034309  0.022692 -0.009362  ... -0.009984 -0.003373 -0.019109   \n",
      "4   -0.002592 -0.031991 -0.046641  ... -0.024091 -0.026846 -0.029687   \n",
      "..        ...       ...       ...  ...       ...       ...       ...   \n",
      "437 -0.002592  0.031193  0.007207  ... -0.023352 -0.017623 -0.014490   \n",
      "438  0.034309 -0.018118  0.044485  ...  0.019221 -0.047444  0.061400   \n",
      "439 -0.011080 -0.046879  0.015491  ... -0.021047 -0.001573 -0.018690   \n",
      "440  0.026560  0.044528 -0.025930  ... -0.017078 -0.000875 -0.022589   \n",
      "441 -0.039493 -0.004220  0.003064  ... -0.040713 -0.018444 -0.012267   \n",
      "\n",
      "      hdl_tch   hdl_ltg   hdl_glu   tch_ltg   tch_glu   ltg_glu      y  \n",
      "0    0.033494  0.000852  0.031150 -0.028191 -0.017658 -0.027794  151.0  \n",
      "1   -0.023815 -0.094506 -0.140378  0.025298  0.053034  0.104013   75.0  \n",
      "2    0.032956  0.018281  0.032795 -0.027332 -0.017236 -0.022304  141.0  \n",
      "3    0.008159  0.001898  0.021514 -0.012045 -0.024872 -0.025042  206.0  \n",
      "4    0.030984  0.014489  0.005386 -0.025575 -0.016180  0.008735  135.0  \n",
      "..        ...       ...       ...       ...       ...       ...    ...  \n",
      "437  0.032777  0.000165  0.009279 -0.028760 -0.018925 -0.016378  178.0  \n",
      "438  0.012903  0.032113 -0.014762 -0.039277  0.011449 -0.036804  104.0  \n",
      "439  0.036581  0.046847  0.005219 -0.017085 -0.021932 -0.035222  132.0  \n",
      "440  0.017077 -0.008474  0.030648 -0.004186 -0.032097 -0.043712  220.0  \n",
      "441 -0.097548  0.003802  0.025905 -0.023946 -0.020937 -0.021088   57.0  \n",
      "\n",
      "[442 rows x 65 columns]\n"
     ]
    }
   ],
   "source": [
    "print(Data)"
   ]
  },
  {
   "cell_type": "markdown",
   "id": "d84f20fd-7793-44fb-ad0a-8943f32cd8a6",
   "metadata": {},
   "source": [
    "我们可以简单统计一下这个数据集中的一些基本信息，如样本量、特征维度，即"
   ]
  },
  {
   "cell_type": "code",
   "execution_count": 6,
   "id": "52063602-671e-4df6-8795-23c5bb78e8b5",
   "metadata": {},
   "outputs": [
    {
     "name": "stdout",
     "output_type": "stream",
     "text": [
      "The number of features is 64\n",
      "The sample size is 442\n"
     ]
    }
   ],
   "source": [
    "p = Data.shape[1]-1\n",
    "n = Data.shape[0]\n",
    "print(\"The number of features is\",p)\n",
    "print(\"The sample size is\",n)"
   ]
  },
  {
   "cell_type": "markdown",
   "id": "6bd95fb9-81d1-4cc4-9181-c613b5036300",
   "metadata": {},
   "source": [
    "### 2、 通过阅读以下参考文献，定义清楚问题背景、数据中响应变量和自变量的概念、取值范围等信息。"
   ]
  },
  {
   "cell_type": "markdown",
   "id": "16c918ad-9b7b-4a26-92e1-32c5a11044a1",
   "metadata": {},
   "source": [
    "### 答：\n",
    "\n",
    "原始数据一次项为10项，它们为特征（或自变量），分别为AGE SEX BMI BP S1 S2 S3 S4 S5 S6，另外有Y为响应变量(或标签）,这 10 个特征变量中的每一个均已以均值为中心，并按标准差乘以平方根n_samples（即每列的平方和总计为 1）进行缩放\n",
    "\n",
    "在SAS数据集中，二次项共64项，包括前十项以及其交叉项，最后加上一列响应变量Y。\n",
    "\n",
    "问题背景：本数据集是对 442 名糖尿病患者中的每一位进行了十项基线变量、年龄、性别、体重指数、平均血压和六项血清测量，以及感兴趣的反应，一年后疾病进展的定量测量基线"
   ]
  },
  {
   "cell_type": "markdown",
   "id": "9cb4dbe5-a883-40f3-a372-b636cd316844",
   "metadata": {},
   "source": [
    "### 3、 以学号的最后三位数字作为随机种子，采用留出法划分训练集和测试集，样本比例为7.5:2.5。"
   ]
  },
  {
   "cell_type": "code",
   "execution_count": 7,
   "id": "ba2ac899-f0aa-450e-9c32-36f419ed1878",
   "metadata": {},
   "outputs": [],
   "source": [
    "n_train = 331 # 75% * n\n",
    "n_test = n-n_train\n",
    "seed = 435\n",
    "random.seed(seed)\n",
    "index = range(0,n)\n",
    "index_selected = random.sample(index,n_train)\n",
    "index_selected.sort()\n",
    "\n",
    "Data_train = Data.loc[index_selected]\n",
    "Data_test = Data.drop(index = index_selected)"
   ]
  },
  {
   "cell_type": "code",
   "execution_count": 8,
   "id": "60ed8dba-fc66-4a5b-8889-ea048656cd71",
   "metadata": {},
   "outputs": [
    {
     "data": {
      "text/html": [
       "<div>\n",
       "<style scoped>\n",
       "    .dataframe tbody tr th:only-of-type {\n",
       "        vertical-align: middle;\n",
       "    }\n",
       "\n",
       "    .dataframe tbody tr th {\n",
       "        vertical-align: top;\n",
       "    }\n",
       "\n",
       "    .dataframe thead th {\n",
       "        text-align: right;\n",
       "    }\n",
       "</style>\n",
       "<table border=\"1\" class=\"dataframe\">\n",
       "  <thead>\n",
       "    <tr style=\"text-align: right;\">\n",
       "      <th></th>\n",
       "      <th>age</th>\n",
       "      <th>sex</th>\n",
       "      <th>bmi</th>\n",
       "      <th>map</th>\n",
       "      <th>tc</th>\n",
       "      <th>ldl</th>\n",
       "      <th>hdl</th>\n",
       "      <th>tch</th>\n",
       "      <th>ltg</th>\n",
       "      <th>glu</th>\n",
       "      <th>...</th>\n",
       "      <th>ldl_tch</th>\n",
       "      <th>ldl_ltg</th>\n",
       "      <th>ldl_glu</th>\n",
       "      <th>hdl_tch</th>\n",
       "      <th>hdl_ltg</th>\n",
       "      <th>hdl_glu</th>\n",
       "      <th>tch_ltg</th>\n",
       "      <th>tch_glu</th>\n",
       "      <th>ltg_glu</th>\n",
       "      <th>y</th>\n",
       "    </tr>\n",
       "  </thead>\n",
       "  <tbody>\n",
       "    <tr>\n",
       "      <th>0</th>\n",
       "      <td>0.038076</td>\n",
       "      <td>0.050680</td>\n",
       "      <td>0.061696</td>\n",
       "      <td>0.021872</td>\n",
       "      <td>-0.044223</td>\n",
       "      <td>-0.034821</td>\n",
       "      <td>-0.043401</td>\n",
       "      <td>-0.002592</td>\n",
       "      <td>0.019908</td>\n",
       "      <td>-0.017646</td>\n",
       "      <td>...</td>\n",
       "      <td>-0.022038</td>\n",
       "      <td>-0.031125</td>\n",
       "      <td>-0.000922</td>\n",
       "      <td>0.033494</td>\n",
       "      <td>0.000852</td>\n",
       "      <td>0.031150</td>\n",
       "      <td>-0.028191</td>\n",
       "      <td>-0.017658</td>\n",
       "      <td>-0.027794</td>\n",
       "      <td>151.0</td>\n",
       "    </tr>\n",
       "    <tr>\n",
       "      <th>1</th>\n",
       "      <td>-0.001882</td>\n",
       "      <td>-0.044642</td>\n",
       "      <td>-0.051474</td>\n",
       "      <td>-0.026328</td>\n",
       "      <td>-0.008449</td>\n",
       "      <td>-0.019163</td>\n",
       "      <td>0.074412</td>\n",
       "      <td>-0.039493</td>\n",
       "      <td>-0.068330</td>\n",
       "      <td>-0.092204</td>\n",
       "      <td>...</td>\n",
       "      <td>-0.011564</td>\n",
       "      <td>0.012973</td>\n",
       "      <td>0.023783</td>\n",
       "      <td>-0.023815</td>\n",
       "      <td>-0.094506</td>\n",
       "      <td>-0.140378</td>\n",
       "      <td>0.025298</td>\n",
       "      <td>0.053034</td>\n",
       "      <td>0.104013</td>\n",
       "      <td>75.0</td>\n",
       "    </tr>\n",
       "    <tr>\n",
       "      <th>2</th>\n",
       "      <td>0.085299</td>\n",
       "      <td>0.050680</td>\n",
       "      <td>0.044451</td>\n",
       "      <td>-0.005671</td>\n",
       "      <td>-0.045599</td>\n",
       "      <td>-0.034194</td>\n",
       "      <td>-0.032356</td>\n",
       "      <td>-0.002592</td>\n",
       "      <td>0.002864</td>\n",
       "      <td>-0.025930</td>\n",
       "      <td>...</td>\n",
       "      <td>-0.022063</td>\n",
       "      <td>-0.018016</td>\n",
       "      <td>0.004913</td>\n",
       "      <td>0.032956</td>\n",
       "      <td>0.018281</td>\n",
       "      <td>0.032795</td>\n",
       "      <td>-0.027332</td>\n",
       "      <td>-0.017236</td>\n",
       "      <td>-0.022304</td>\n",
       "      <td>141.0</td>\n",
       "    </tr>\n",
       "    <tr>\n",
       "      <th>4</th>\n",
       "      <td>0.005383</td>\n",
       "      <td>-0.044642</td>\n",
       "      <td>-0.036385</td>\n",
       "      <td>0.021872</td>\n",
       "      <td>0.003935</td>\n",
       "      <td>0.015596</td>\n",
       "      <td>0.008142</td>\n",
       "      <td>-0.002592</td>\n",
       "      <td>-0.031991</td>\n",
       "      <td>-0.046641</td>\n",
       "      <td>...</td>\n",
       "      <td>-0.024091</td>\n",
       "      <td>-0.026846</td>\n",
       "      <td>-0.029687</td>\n",
       "      <td>0.030984</td>\n",
       "      <td>0.014489</td>\n",
       "      <td>0.005386</td>\n",
       "      <td>-0.025575</td>\n",
       "      <td>-0.016180</td>\n",
       "      <td>0.008735</td>\n",
       "      <td>135.0</td>\n",
       "    </tr>\n",
       "    <tr>\n",
       "      <th>5</th>\n",
       "      <td>-0.092695</td>\n",
       "      <td>-0.044642</td>\n",
       "      <td>-0.040696</td>\n",
       "      <td>-0.019442</td>\n",
       "      <td>-0.068991</td>\n",
       "      <td>-0.079288</td>\n",
       "      <td>0.041277</td>\n",
       "      <td>-0.076395</td>\n",
       "      <td>-0.041180</td>\n",
       "      <td>-0.096346</td>\n",
       "      <td>...</td>\n",
       "      <td>0.071719</td>\n",
       "      <td>0.056037</td>\n",
       "      <td>0.149663</td>\n",
       "      <td>-0.027844</td>\n",
       "      <td>-0.018031</td>\n",
       "      <td>-0.075513</td>\n",
       "      <td>0.033999</td>\n",
       "      <td>0.126147</td>\n",
       "      <td>0.057789</td>\n",
       "      <td>97.0</td>\n",
       "    </tr>\n",
       "  </tbody>\n",
       "</table>\n",
       "<p>5 rows × 65 columns</p>\n",
       "</div>"
      ],
      "text/plain": [
       "        age       sex       bmi       map        tc       ldl       hdl  \\\n",
       "0  0.038076  0.050680  0.061696  0.021872 -0.044223 -0.034821 -0.043401   \n",
       "1 -0.001882 -0.044642 -0.051474 -0.026328 -0.008449 -0.019163  0.074412   \n",
       "2  0.085299  0.050680  0.044451 -0.005671 -0.045599 -0.034194 -0.032356   \n",
       "4  0.005383 -0.044642 -0.036385  0.021872  0.003935  0.015596  0.008142   \n",
       "5 -0.092695 -0.044642 -0.040696 -0.019442 -0.068991 -0.079288  0.041277   \n",
       "\n",
       "        tch       ltg       glu  ...   ldl_tch   ldl_ltg   ldl_glu   hdl_tch  \\\n",
       "0 -0.002592  0.019908 -0.017646  ... -0.022038 -0.031125 -0.000922  0.033494   \n",
       "1 -0.039493 -0.068330 -0.092204  ... -0.011564  0.012973  0.023783 -0.023815   \n",
       "2 -0.002592  0.002864 -0.025930  ... -0.022063 -0.018016  0.004913  0.032956   \n",
       "4 -0.002592 -0.031991 -0.046641  ... -0.024091 -0.026846 -0.029687  0.030984   \n",
       "5 -0.076395 -0.041180 -0.096346  ...  0.071719  0.056037  0.149663 -0.027844   \n",
       "\n",
       "    hdl_ltg   hdl_glu   tch_ltg   tch_glu   ltg_glu      y  \n",
       "0  0.000852  0.031150 -0.028191 -0.017658 -0.027794  151.0  \n",
       "1 -0.094506 -0.140378  0.025298  0.053034  0.104013   75.0  \n",
       "2  0.018281  0.032795 -0.027332 -0.017236 -0.022304  141.0  \n",
       "4  0.014489  0.005386 -0.025575 -0.016180  0.008735  135.0  \n",
       "5 -0.018031 -0.075513  0.033999  0.126147  0.057789   97.0  \n",
       "\n",
       "[5 rows x 65 columns]"
      ]
     },
     "execution_count": 8,
     "metadata": {},
     "output_type": "execute_result"
    }
   ],
   "source": [
    "Data_train.head()"
   ]
  },
  {
   "cell_type": "code",
   "execution_count": 9,
   "id": "5d38fa2f-cea5-4cfd-94f5-6763e0441601",
   "metadata": {},
   "outputs": [
    {
     "data": {
      "text/html": [
       "<div>\n",
       "<style scoped>\n",
       "    .dataframe tbody tr th:only-of-type {\n",
       "        vertical-align: middle;\n",
       "    }\n",
       "\n",
       "    .dataframe tbody tr th {\n",
       "        vertical-align: top;\n",
       "    }\n",
       "\n",
       "    .dataframe thead th {\n",
       "        text-align: right;\n",
       "    }\n",
       "</style>\n",
       "<table border=\"1\" class=\"dataframe\">\n",
       "  <thead>\n",
       "    <tr style=\"text-align: right;\">\n",
       "      <th></th>\n",
       "      <th>age</th>\n",
       "      <th>sex</th>\n",
       "      <th>bmi</th>\n",
       "      <th>map</th>\n",
       "      <th>tc</th>\n",
       "      <th>ldl</th>\n",
       "      <th>hdl</th>\n",
       "      <th>tch</th>\n",
       "      <th>ltg</th>\n",
       "      <th>glu</th>\n",
       "      <th>...</th>\n",
       "      <th>ldl_tch</th>\n",
       "      <th>ldl_ltg</th>\n",
       "      <th>ldl_glu</th>\n",
       "      <th>hdl_tch</th>\n",
       "      <th>hdl_ltg</th>\n",
       "      <th>hdl_glu</th>\n",
       "      <th>tch_ltg</th>\n",
       "      <th>tch_glu</th>\n",
       "      <th>ltg_glu</th>\n",
       "      <th>y</th>\n",
       "    </tr>\n",
       "  </thead>\n",
       "  <tbody>\n",
       "    <tr>\n",
       "      <th>3</th>\n",
       "      <td>-0.089063</td>\n",
       "      <td>-0.044642</td>\n",
       "      <td>-0.011595</td>\n",
       "      <td>-0.036656</td>\n",
       "      <td>0.012191</td>\n",
       "      <td>0.024991</td>\n",
       "      <td>-0.036038</td>\n",
       "      <td>0.034309</td>\n",
       "      <td>0.022692</td>\n",
       "      <td>-0.009362</td>\n",
       "      <td>...</td>\n",
       "      <td>-0.009984</td>\n",
       "      <td>-0.003373</td>\n",
       "      <td>-0.019109</td>\n",
       "      <td>0.008159</td>\n",
       "      <td>0.001898</td>\n",
       "      <td>0.021514</td>\n",
       "      <td>-0.012045</td>\n",
       "      <td>-0.024872</td>\n",
       "      <td>-0.025042</td>\n",
       "      <td>206.0</td>\n",
       "    </tr>\n",
       "    <tr>\n",
       "      <th>6</th>\n",
       "      <td>-0.045472</td>\n",
       "      <td>0.050680</td>\n",
       "      <td>-0.047163</td>\n",
       "      <td>-0.015999</td>\n",
       "      <td>-0.040096</td>\n",
       "      <td>-0.024800</td>\n",
       "      <td>0.000779</td>\n",
       "      <td>-0.039493</td>\n",
       "      <td>-0.062913</td>\n",
       "      <td>-0.038357</td>\n",
       "      <td>...</td>\n",
       "      <td>-0.008066</td>\n",
       "      <td>0.018496</td>\n",
       "      <td>0.006298</td>\n",
       "      <td>0.030803</td>\n",
       "      <td>0.019267</td>\n",
       "      <td>0.013254</td>\n",
       "      <td>0.021137</td>\n",
       "      <td>0.011224</td>\n",
       "      <td>0.026986</td>\n",
       "      <td>138.0</td>\n",
       "    </tr>\n",
       "    <tr>\n",
       "      <th>7</th>\n",
       "      <td>0.063504</td>\n",
       "      <td>0.050680</td>\n",
       "      <td>-0.001895</td>\n",
       "      <td>0.066630</td>\n",
       "      <td>0.090620</td>\n",
       "      <td>0.108914</td>\n",
       "      <td>0.022869</td>\n",
       "      <td>0.017703</td>\n",
       "      <td>-0.035817</td>\n",
       "      <td>0.003064</td>\n",
       "      <td>...</td>\n",
       "      <td>0.006841</td>\n",
       "      <td>-0.101758</td>\n",
       "      <td>-0.006939</td>\n",
       "      <td>0.038984</td>\n",
       "      <td>0.001868</td>\n",
       "      <td>0.015502</td>\n",
       "      <td>-0.039520</td>\n",
       "      <td>-0.017491</td>\n",
       "      <td>-0.023007</td>\n",
       "      <td>63.0</td>\n",
       "    </tr>\n",
       "    <tr>\n",
       "      <th>8</th>\n",
       "      <td>0.041708</td>\n",
       "      <td>0.050680</td>\n",
       "      <td>0.061696</td>\n",
       "      <td>-0.040099</td>\n",
       "      <td>-0.013953</td>\n",
       "      <td>0.006202</td>\n",
       "      <td>-0.028674</td>\n",
       "      <td>-0.002592</td>\n",
       "      <td>-0.014956</td>\n",
       "      <td>0.011349</td>\n",
       "      <td>...</td>\n",
       "      <td>-0.023709</td>\n",
       "      <td>-0.017902</td>\n",
       "      <td>-0.012585</td>\n",
       "      <td>0.032777</td>\n",
       "      <td>0.030064</td>\n",
       "      <td>0.006608</td>\n",
       "      <td>-0.026433</td>\n",
       "      <td>-0.019136</td>\n",
       "      <td>-0.024196</td>\n",
       "      <td>110.0</td>\n",
       "    </tr>\n",
       "    <tr>\n",
       "      <th>11</th>\n",
       "      <td>0.027178</td>\n",
       "      <td>0.050680</td>\n",
       "      <td>0.017506</td>\n",
       "      <td>-0.033214</td>\n",
       "      <td>-0.007073</td>\n",
       "      <td>0.045972</td>\n",
       "      <td>-0.065491</td>\n",
       "      <td>0.071210</td>\n",
       "      <td>-0.096433</td>\n",
       "      <td>-0.059067</td>\n",
       "      <td>...</td>\n",
       "      <td>0.027982</td>\n",
       "      <td>-0.113478</td>\n",
       "      <td>-0.072303</td>\n",
       "      <td>-0.056210</td>\n",
       "      <td>0.163067</td>\n",
       "      <td>0.100925</td>\n",
       "      <td>-0.160745</td>\n",
       "      <td>-0.101251</td>\n",
       "      <td>0.092040</td>\n",
       "      <td>69.0</td>\n",
       "    </tr>\n",
       "  </tbody>\n",
       "</table>\n",
       "<p>5 rows × 65 columns</p>\n",
       "</div>"
      ],
      "text/plain": [
       "         age       sex       bmi       map        tc       ldl       hdl  \\\n",
       "3  -0.089063 -0.044642 -0.011595 -0.036656  0.012191  0.024991 -0.036038   \n",
       "6  -0.045472  0.050680 -0.047163 -0.015999 -0.040096 -0.024800  0.000779   \n",
       "7   0.063504  0.050680 -0.001895  0.066630  0.090620  0.108914  0.022869   \n",
       "8   0.041708  0.050680  0.061696 -0.040099 -0.013953  0.006202 -0.028674   \n",
       "11  0.027178  0.050680  0.017506 -0.033214 -0.007073  0.045972 -0.065491   \n",
       "\n",
       "         tch       ltg       glu  ...   ldl_tch   ldl_ltg   ldl_glu   hdl_tch  \\\n",
       "3   0.034309  0.022692 -0.009362  ... -0.009984 -0.003373 -0.019109  0.008159   \n",
       "6  -0.039493 -0.062913 -0.038357  ... -0.008066  0.018496  0.006298  0.030803   \n",
       "7   0.017703 -0.035817  0.003064  ...  0.006841 -0.101758 -0.006939  0.038984   \n",
       "8  -0.002592 -0.014956  0.011349  ... -0.023709 -0.017902 -0.012585  0.032777   \n",
       "11  0.071210 -0.096433 -0.059067  ...  0.027982 -0.113478 -0.072303 -0.056210   \n",
       "\n",
       "     hdl_ltg   hdl_glu   tch_ltg   tch_glu   ltg_glu      y  \n",
       "3   0.001898  0.021514 -0.012045 -0.024872 -0.025042  206.0  \n",
       "6   0.019267  0.013254  0.021137  0.011224  0.026986  138.0  \n",
       "7   0.001868  0.015502 -0.039520 -0.017491 -0.023007   63.0  \n",
       "8   0.030064  0.006608 -0.026433 -0.019136 -0.024196  110.0  \n",
       "11  0.163067  0.100925 -0.160745 -0.101251  0.092040   69.0  \n",
       "\n",
       "[5 rows x 65 columns]"
      ]
     },
     "execution_count": 9,
     "metadata": {},
     "output_type": "execute_result"
    }
   ],
   "source": [
    "Data_test.head()"
   ]
  },
  {
   "cell_type": "code",
   "execution_count": 10,
   "id": "9b845f69-3108-4d93-b5fe-684579216e11",
   "metadata": {},
   "outputs": [
    {
     "name": "stdout",
     "output_type": "stream",
     "text": [
      "[[ 0.04275517  0.05682299  0.0695996  ... -0.03308919 -0.02206755\n",
      "  -0.03332875]\n",
      " [-0.0028028  -0.05316771 -0.0584812  ...  0.02603656  0.05346515\n",
      "   0.10772014]\n",
      " [ 0.09659641  0.05682299  0.05008252 ... -0.03213928 -0.02161644\n",
      "  -0.02745387]\n",
      " ...\n",
      " [-0.00694442  0.05682299 -0.01822723 ... -0.04534373  0.00903242\n",
      "  -0.04297067]\n",
      " [ 0.0468968   0.05682299 -0.01822723 ... -0.02081312 -0.02663377\n",
      "  -0.04127843]\n",
      " [-0.0525024  -0.05316771 -0.08287754 ... -0.02839675 -0.02557071\n",
      "  -0.02615341]]\n"
     ]
    }
   ],
   "source": [
    "X_train = Data_train.drop(columns = ['y'],axis=1)\n",
    "Y_train = Data_train.y\n",
    "X_test = Data_test.drop(columns = [\"y\"],axis=1)\n",
    "Y_test = Data_test.y\n",
    "\n",
    "# X_train_standardized=X_train.values\n",
    "\n",
    "X_train_standardized = preprocessing.scale(X_train, with_mean = True, with_std=True)/np.sqrt(n_train)\n",
    "Y_train_centered = preprocessing.scale(Y_train, with_mean = True, with_std=False)\n",
    "Y_train_mean = np.average(Y_train)\n",
    "X_test_standardized = preprocessing.scale(X_test, with_mean = True, with_std=True)/np.sqrt(n_test)\n",
    "print(X_train_standardized)"
   ]
  },
  {
   "cell_type": "markdown",
   "id": "692b918e-facd-42af-9a56-0bd576a604ee",
   "metadata": {},
   "source": [
    "## 模型构建\n",
    "### 在本次实验中我们将a quantitative measure of disease progression one year after baseline作为响应变量，构建合适的特征（可参考文献2），并训练模型。"
   ]
  },
  {
   "cell_type": "markdown",
   "id": "d13b2c25-afca-46e8-8470-b375f5f4c9bb",
   "metadata": {},
   "source": [
    "#### 参考文献二，所以我使用增加了二次变量的SAS数据集来构建模型"
   ]
  },
  {
   "cell_type": "markdown",
   "id": "a500c58f-1af7-408d-9d01-441aa05d101f",
   "metadata": {},
   "source": [
    "### 4、 判断用于建模的特征数据中是否存在多重共线性？提供合适的判断方案。"
   ]
  },
  {
   "cell_type": "markdown",
   "id": "2382d6a5-1d91-4465-a681-e5e071654d91",
   "metadata": {},
   "source": [
    "##  Method 1\n",
    "\n",
    "### 热力图观察"
   ]
  },
  {
   "cell_type": "markdown",
   "id": "6853c920-8b25-4adb-be47-adde97ff2c08",
   "metadata": {},
   "source": [
    "首先可以通过热力图来观察一下特征之间的自身相关性。"
   ]
  },
  {
   "cell_type": "code",
   "execution_count": 11,
   "id": "1a943b22-1436-404f-81b8-ddee0d8a1f99",
   "metadata": {},
   "outputs": [
    {
     "data": {
      "text/plain": [
       "<Axes: >"
      ]
     },
     "execution_count": 11,
     "metadata": {},
     "output_type": "execute_result"
    },
    {
     "data": {
      "image/png": "[encoded data removed]",
      "text/plain": [
       "<Figure size 640x480 with 2 Axes>"
      ]
     },
     "metadata": {},
     "output_type": "display_data"
    }
   ],
   "source": [
    "pcorr = X_train.corr(method = 'pearson')\n",
    "tick_ = (np.arange(0,13,2)-2)/10\n",
    "dict_ = {\"orientation\":'vertical',\n",
    "         'label':'Correlation Coefficients',\n",
    "         \"drawedges\":False,\n",
    "         \"ticklocation\":\"top\",\n",
    "         \"extend\":\"min\",\n",
    "        #\"filled\":True,\n",
    "         \"alpha\":0.8,\n",
    "         \"cmap\":\"cmap\",\n",
    "         \"ticks\":tick_}\n",
    "sns.heatmap(pcorr,cbar_kws= dict_,center=0)"
   ]
  },
  {
   "cell_type": "markdown",
   "id": "41fc267f-90f2-4441-99ca-3605d21cec94",
   "metadata": {},
   "source": [
    "### 因为自变量数量过多，具体关系无法看得很清楚，但是从浅色区域可以观察到，相邻自变量之间存在相关性。"
   ]
  },
  {
   "cell_type": "markdown",
   "id": "9e637258-caaf-402f-8b69-61b4cffdb5f0",
   "metadata": {},
   "source": [
    "##  Method 2\n",
    "\n",
    "### 方差扩大因子法(设置临界值为 5)"
   ]
  },
  {
   "cell_type": "code",
   "execution_count": 12,
   "id": "bce80023-a66a-4fdb-804f-ddd011c43601",
   "metadata": {},
   "outputs": [],
   "source": [
    "vif_cv = 5 # The criterion value of VIF"
   ]
  },
  {
   "cell_type": "markdown",
   "id": "323cd33c-a5c9-4a9f-87a9-1ecda28f7ded",
   "metadata": {},
   "source": [
    "1. 根据方差扩大因子的定义，可以通过矩阵计算来确定方差扩大因子。"
   ]
  },
  {
   "cell_type": "code",
   "execution_count": 13,
   "id": "4a3ec75b-f5fc-46e1-8fab-3c883a8fe02f",
   "metadata": {},
   "outputs": [
    {
     "name": "stdout",
     "output_type": "stream",
     "text": [
      "The VIF's are [1.62000000e+00 1.50000000e+00 2.79000000e+00 2.02000000e+00\n",
      " 1.71312995e+06 1.33468125e+06 2.32881930e+05 2.75000000e+01\n",
      " 1.92126810e+05 1.96000000e+00 1.75000000e+00 2.58000000e+00\n",
      " 1.79000000e+00 2.33861700e+04 1.40088700e+04 9.95900000e+02\n",
      " 1.51940000e+02 1.45882000e+03 3.85000000e+00 1.91000000e+00\n",
      " 2.61000000e+00 2.27000000e+00 1.34500000e+02 8.76500000e+01\n",
      " 2.75000000e+01 1.70000000e+01 1.77300000e+01 2.57000000e+00\n",
      " 2.34000000e+00 2.08000000e+00 1.25840000e+02 7.96400000e+01\n",
      " 2.62300000e+01 1.49400000e+01 1.94400000e+01 2.10000000e+00\n",
      " 3.01000000e+00 1.72180000e+02 1.19170000e+02 4.72700000e+01\n",
      " 2.37700000e+01 2.40100000e+01 3.75000000e+00 1.73270000e+02\n",
      " 1.26450000e+02 3.66600000e+01 1.63000000e+01 2.88200000e+01\n",
      " 3.36000000e+00 6.68380600e+04 5.90189000e+03 1.26878000e+03\n",
      " 8.40417700e+04 1.32640000e+02 4.07591000e+03 9.02910000e+02\n",
      " 5.89152400e+04 9.60800000e+01 3.61910000e+02 9.77766000e+03\n",
      " 3.26800000e+01 1.62730000e+02 2.32900000e+01 3.02500000e+01]\n"
     ]
    }
   ],
   "source": [
    "# Method One\n",
    "C = np.linalg.inv(np.dot(X_train_standardized.T,X_train_standardized))\n",
    "VIF_1 = np.diag(C)\n",
    "print(\"The VIF's are\", np.round(VIF_1,2))"
   ]
  },
  {
   "cell_type": "markdown",
   "id": "1c968467-8b17-49f0-8fc3-386c0a3072c3",
   "metadata": {},
   "source": [
    "2. 使用Python中statsmodel包中的自带函数variance_inflation_factor。"
   ]
  },
  {
   "cell_type": "code",
   "execution_count": 14,
   "id": "08277a8f-f389-47d0-bf5f-eaa5b7abc41a",
   "metadata": {},
   "outputs": [
    {
     "name": "stdout",
     "output_type": "stream",
     "text": [
      "The VIF's are [1.62000000e+00 1.50000000e+00 2.79000000e+00 2.02000000e+00\n",
      " 1.71312995e+06 1.33468126e+06 2.32881930e+05 2.75000000e+01\n",
      " 1.92126810e+05 1.96000000e+00 1.75000000e+00 2.58000000e+00\n",
      " 1.79000000e+00 2.33861700e+04 1.40088700e+04 9.95900000e+02\n",
      " 1.51940000e+02 1.45882000e+03 3.85000000e+00 1.91000000e+00\n",
      " 2.61000000e+00 2.27000000e+00 1.34500000e+02 8.76500000e+01\n",
      " 2.75000000e+01 1.70000000e+01 1.77300000e+01 2.57000000e+00\n",
      " 2.34000000e+00 2.08000000e+00 1.25840000e+02 7.96400000e+01\n",
      " 2.62300000e+01 1.49400000e+01 1.94400000e+01 2.10000000e+00\n",
      " 3.01000000e+00 1.72180000e+02 1.19170000e+02 4.72700000e+01\n",
      " 2.37700000e+01 2.40100000e+01 3.75000000e+00 1.73270000e+02\n",
      " 1.26450000e+02 3.66600000e+01 1.63000000e+01 2.88200000e+01\n",
      " 3.36000000e+00 6.68380600e+04 5.90189000e+03 1.26878000e+03\n",
      " 8.40417700e+04 1.32640000e+02 4.07591000e+03 9.02910000e+02\n",
      " 5.89152400e+04 9.60800000e+01 3.61910000e+02 9.77766000e+03\n",
      " 3.26800000e+01 1.62730000e+02 2.32900000e+01 3.02500000e+01]\n"
     ]
    }
   ],
   "source": [
    "# Method Two\n",
    "VIF_2 = [variance_inflation_factor(X_train_standardized[:,0:p], i) for i in range(p)]\n",
    "print(\"The VIF's are\", np.round(VIF_2,2))"
   ]
  },
  {
   "cell_type": "markdown",
   "id": "cc162fc8-e46c-422d-b2ab-206d727cb482",
   "metadata": {},
   "source": [
    "可以观察到使用method1和method2计算出来的方差扩大因子是一样的。"
   ]
  },
  {
   "cell_type": "code",
   "execution_count": 15,
   "id": "82d0af7e-9c51-4551-8b54-313b81ef85b2",
   "metadata": {},
   "outputs": [
    {
     "name": "stdout",
     "output_type": "stream",
     "text": [
      "The VIF of the fifth feature is 1697473.79\n"
     ]
    }
   ],
   "source": [
    "# Method Three\n",
    "X_5 = X_train_standardized[:,4]\n",
    "X_others = X_train_standardized[:,5:p]\n",
    "model_vif = sm.OLS(X_5,X_others).fit()\n",
    "X_5_VIF = 1/(1-model_vif.rsquared)\n",
    "print(\"The VIF of the fifth feature is\", np.round(X_5_VIF,2))"
   ]
  },
  {
   "cell_type": "markdown",
   "id": "8a8aa8e5-9b60-493e-9fd6-eb99e6a332ed",
   "metadata": {},
   "source": [
    "这里选取前五个自变量，可以发现其方差扩大因子超级大，远大于临界值，说明其多重共线性是严重的。"
   ]
  },
  {
   "cell_type": "markdown",
   "id": "3e0d9608-6825-44d2-9c9c-68d437f32b12",
   "metadata": {},
   "source": [
    "##  Method 3\n",
    "\n",
    "### 特征值方法\n",
    "\n",
    "通过计算 𝐗′𝐗 的特征值来判断数据多重共线性的程度。"
   ]
  },
  {
   "cell_type": "code",
   "execution_count": 16,
   "id": "9bb0036a-142f-42f1-ac4e-43d9613f20bb",
   "metadata": {},
   "outputs": [
    {
     "name": "stdout",
     "output_type": "stream",
     "text": [
      "The eigen values are [1.10341e+01 6.10960e+00 5.29100e+00 3.96370e+00 3.48650e+00 2.96780e+00\n",
      " 2.57210e+00 2.44700e+00 2.04570e+00 1.90290e+00 1.79230e+00 1.45940e+00\n",
      " 1.39700e+00 1.25510e+00 1.18600e+00 1.09240e+00 1.03940e+00 9.43600e-01\n",
      " 8.26500e-01 7.69900e-01 7.32500e-01 7.24800e-01 6.68000e-01 6.24600e-01\n",
      " 6.17600e-01 5.86500e-01 5.61200e-01 5.35800e-01 4.90900e-01 4.69000e-01\n",
      " 4.52200e-01 4.41700e-01 4.10400e-01 3.57800e-01 3.34700e-01 3.04600e-01\n",
      " 2.65900e-01 2.48400e-01 2.41300e-01 2.19000e-01 1.93000e-01 1.81200e-01\n",
      " 1.62100e-01 1.59000e-01 9.65000e-02 8.50000e-02 5.53000e-02 4.71000e-02\n",
      " 3.17000e-02 2.87000e-02 2.24000e-02 2.02000e-02 1.36000e-02 1.04000e-02\n",
      " 6.30000e-03 4.60000e-03 3.90000e-03 3.30000e-03 2.60000e-03 2.30000e-03\n",
      " 1.70000e-03 4.00000e-04 0.00000e+00 0.00000e+00]\n"
     ]
    }
   ],
   "source": [
    "R = np.dot(X_train_standardized.T,X_train_standardized)\n",
    "W, V = np.linalg.eig(R)\n",
    "W = -1* np.sort(-1*W)\n",
    "W_diag = np.diag(W)\n",
    "V = V.T\n",
    "print(\"The eigen values are\", np.round(W,4))"
   ]
  },
  {
   "cell_type": "code",
   "execution_count": 17,
   "id": "7efb5ef7-9a9f-4e27-ba69-b9d4c91cd0a4",
   "metadata": {},
   "outputs": [
    {
     "name": "stdout",
     "output_type": "stream",
     "text": [
      "The condition number is 6392.9182\n"
     ]
    }
   ],
   "source": [
    "Condition_Number = np.sqrt(np.max(W)/np.min(W))\n",
    "print(\"The condition number is\",np.round(Condition_Number,4))"
   ]
  },
  {
   "cell_type": "code",
   "execution_count": 18,
   "id": "039368b7-b860-478f-b470-404d473e10c7",
   "metadata": {},
   "outputs": [
    {
     "name": "stdout",
     "output_type": "stream",
     "text": [
      "The condition number is 6392.9182\n"
     ]
    }
   ],
   "source": [
    "model_ols = sm.OLS(Y_train_centered,X_train_standardized).fit()\n",
    "print(\"The condition number is\",round(model_ols.condition_number,4))"
   ]
  },
  {
   "cell_type": "markdown",
   "id": "fe6f7ddb-7333-4979-b105-eef81c17c63a",
   "metadata": {},
   "source": [
    "可以发现，这里计算出来的条件值也很大。"
   ]
  },
  {
   "cell_type": "markdown",
   "id": "8ee8596e-588a-4e92-8108-057afa5183ef",
   "metadata": {},
   "source": [
    "### 5、构建线性回归模型Model_1、岭回归模型Model_2、主成分回归模型Model_3"
   ]
  },
  {
   "cell_type": "markdown",
   "id": "33342bf9-6cfb-4517-b61e-5af2b90ab7ac",
   "metadata": {},
   "source": [
    "### 构建线性回归模型Model_1"
   ]
  },
  {
   "cell_type": "code",
   "execution_count": 19,
   "id": "07555c53-a246-4d26-8303-74b8fc6db70d",
   "metadata": {},
   "outputs": [
    {
     "data": {
      "text/html": [
       "<table class=\"simpletable\">\n",
       "<caption>OLS Regression Results</caption>\n",
       "<tr>\n",
       "  <th>Dep. Variable:</th>            <td>y</td>        <th>  R-squared:         </th> <td>   0.605</td>\n",
       "</tr>\n",
       "<tr>\n",
       "  <th>Model:</th>                   <td>OLS</td>       <th>  Adj. R-squared:    </th> <td>   0.510</td>\n",
       "</tr>\n",
       "<tr>\n",
       "  <th>Method:</th>             <td>Least Squares</td>  <th>  F-statistic:       </th> <td>   6.357</td>\n",
       "</tr>\n",
       "<tr>\n",
       "  <th>Date:</th>             <td>Thu, 02 Nov 2023</td> <th>  Prob (F-statistic):</th> <td>1.33e-27</td>\n",
       "</tr>\n",
       "<tr>\n",
       "  <th>Time:</th>                 <td>03:10:38</td>     <th>  Log-Likelihood:    </th> <td> -1755.6</td>\n",
       "</tr>\n",
       "<tr>\n",
       "  <th>No. Observations:</th>      <td>   331</td>      <th>  AIC:               </th> <td>   3641.</td>\n",
       "</tr>\n",
       "<tr>\n",
       "  <th>Df Residuals:</th>          <td>   266</td>      <th>  BIC:               </th> <td>   3888.</td>\n",
       "</tr>\n",
       "<tr>\n",
       "  <th>Df Model:</th>              <td>    64</td>      <th>                     </th>     <td> </td>   \n",
       "</tr>\n",
       "<tr>\n",
       "  <th>Covariance Type:</th>      <td>nonrobust</td>    <th>                     </th>     <td> </td>   \n",
       "</tr>\n",
       "</table>\n",
       "<table class=\"simpletable\">\n",
       "<tr>\n",
       "     <td></td>        <th>coef</th>     <th>std err</th>      <th>t</th>      <th>P>|t|</th>  <th>[0.025</th>    <th>0.975]</th>  \n",
       "</tr>\n",
       "<tr>\n",
       "  <th>const</th>   <td>  152.9564</td> <td>    3.074</td> <td>   49.760</td> <td> 0.000</td> <td>  146.904</td> <td>  159.009</td>\n",
       "</tr>\n",
       "<tr>\n",
       "  <th>age</th>     <td>  -11.3203</td> <td>   78.811</td> <td>   -0.144</td> <td> 0.886</td> <td> -166.494</td> <td>  143.853</td>\n",
       "</tr>\n",
       "<tr>\n",
       "  <th>sex</th>     <td> -231.5765</td> <td>   76.733</td> <td>   -3.018</td> <td> 0.003</td> <td> -382.658</td> <td>  -80.495</td>\n",
       "</tr>\n",
       "<tr>\n",
       "  <th>bmi</th>     <td>  463.9708</td> <td>  102.721</td> <td>    4.517</td> <td> 0.000</td> <td>  261.721</td> <td>  666.220</td>\n",
       "</tr>\n",
       "<tr>\n",
       "  <th>map</th>     <td>  371.4369</td> <td>   88.357</td> <td>    4.204</td> <td> 0.000</td> <td>  197.469</td> <td>  545.405</td>\n",
       "</tr>\n",
       "<tr>\n",
       "  <th>tc</th>      <td> 2897.9556</td> <td> 8.16e+04</td> <td>    0.036</td> <td> 0.972</td> <td>-1.58e+05</td> <td> 1.64e+05</td>\n",
       "</tr>\n",
       "<tr>\n",
       "  <th>ldl</th>     <td>-2722.8825</td> <td> 7.17e+04</td> <td>   -0.038</td> <td> 0.970</td> <td>-1.44e+05</td> <td> 1.39e+05</td>\n",
       "</tr>\n",
       "<tr>\n",
       "  <th>hdl</th>     <td>-1308.0199</td> <td> 3.05e+04</td> <td>   -0.043</td> <td> 0.966</td> <td>-6.14e+04</td> <td> 5.88e+04</td>\n",
       "</tr>\n",
       "<tr>\n",
       "  <th>tch</th>     <td>   78.7774</td> <td>  319.941</td> <td>    0.246</td> <td> 0.806</td> <td> -551.162</td> <td>  708.717</td>\n",
       "</tr>\n",
       "<tr>\n",
       "  <th>ltg</th>     <td> -354.6107</td> <td> 2.68e+04</td> <td>   -0.013</td> <td> 0.989</td> <td>-5.32e+04</td> <td> 5.25e+04</td>\n",
       "</tr>\n",
       "<tr>\n",
       "  <th>glu</th>     <td>   88.2148</td> <td>   83.344</td> <td>    1.058</td> <td> 0.291</td> <td>  -75.883</td> <td>  252.312</td>\n",
       "</tr>\n",
       "<tr>\n",
       "  <th>age2</th>    <td>   69.3956</td> <td>   81.186</td> <td>    0.855</td> <td> 0.393</td> <td>  -90.453</td> <td>  229.245</td>\n",
       "</tr>\n",
       "<tr>\n",
       "  <th>bmi2</th>    <td>  123.6581</td> <td>   96.196</td> <td>    1.285</td> <td> 0.200</td> <td>  -65.744</td> <td>  313.060</td>\n",
       "</tr>\n",
       "<tr>\n",
       "  <th>map2</th>    <td>  -16.4148</td> <td>   82.423</td> <td>   -0.199</td> <td> 0.842</td> <td> -178.699</td> <td>  145.870</td>\n",
       "</tr>\n",
       "<tr>\n",
       "  <th>tc2</th>     <td> 8445.3173</td> <td> 9032.534</td> <td>    0.935</td> <td> 0.351</td> <td>-9339.040</td> <td> 2.62e+04</td>\n",
       "</tr>\n",
       "<tr>\n",
       "  <th>ldl2</th>    <td> 4881.7277</td> <td> 6917.414</td> <td>    0.706</td> <td> 0.481</td> <td>-8738.122</td> <td> 1.85e+04</td>\n",
       "</tr>\n",
       "<tr>\n",
       "  <th>hdl2</th>    <td> 2277.9684</td> <td> 1962.520</td> <td>    1.161</td> <td> 0.247</td> <td>-1586.081</td> <td> 6142.018</td>\n",
       "</tr>\n",
       "<tr>\n",
       "  <th>tch2</th>    <td>  513.4119</td> <td>  704.183</td> <td>    0.729</td> <td> 0.467</td> <td> -873.070</td> <td> 1899.893</td>\n",
       "</tr>\n",
       "<tr>\n",
       "  <th>ltg2</th>    <td> 1444.2136</td> <td> 2284.445</td> <td>    0.632</td> <td> 0.528</td> <td>-3053.681</td> <td> 5942.109</td>\n",
       "</tr>\n",
       "<tr>\n",
       "  <th>glu2</th>    <td>    0.4893</td> <td>  112.344</td> <td>    0.004</td> <td> 0.997</td> <td> -220.707</td> <td>  221.686</td>\n",
       "</tr>\n",
       "<tr>\n",
       "  <th>age_sex</th> <td>  206.8778</td> <td>   85.373</td> <td>    2.423</td> <td> 0.016</td> <td>   38.785</td> <td>  374.971</td>\n",
       "</tr>\n",
       "<tr>\n",
       "  <th>age_bmi</th> <td>  -16.1967</td> <td>   96.466</td> <td>   -0.168</td> <td> 0.867</td> <td> -206.131</td> <td>  173.737</td>\n",
       "</tr>\n",
       "<tr>\n",
       "  <th>age_map</th> <td>  -26.1159</td> <td>   91.939</td> <td>   -0.284</td> <td> 0.777</td> <td> -207.138</td> <td>  154.906</td>\n",
       "</tr>\n",
       "<tr>\n",
       "  <th>age_tc</th>  <td>   31.2498</td> <td>  701.422</td> <td>    0.045</td> <td> 0.964</td> <td>-1349.795</td> <td> 1412.295</td>\n",
       "</tr>\n",
       "<tr>\n",
       "  <th>age_ldl</th> <td> -239.0744</td> <td>  565.442</td> <td>   -0.423</td> <td> 0.673</td> <td>-1352.386</td> <td>  874.237</td>\n",
       "</tr>\n",
       "<tr>\n",
       "  <th>age_hdl</th> <td>  197.7218</td> <td>  324.232</td> <td>    0.610</td> <td> 0.543</td> <td> -440.666</td> <td>  836.110</td>\n",
       "</tr>\n",
       "<tr>\n",
       "  <th>age_tch</th> <td>  171.5627</td> <td>  247.744</td> <td>    0.692</td> <td> 0.489</td> <td> -316.227</td> <td>  659.352</td>\n",
       "</tr>\n",
       "<tr>\n",
       "  <th>age_ltg</th> <td>   43.5219</td> <td>  259.290</td> <td>    0.168</td> <td> 0.867</td> <td> -467.001</td> <td>  554.045</td>\n",
       "</tr>\n",
       "<tr>\n",
       "  <th>age_glu</th> <td>   95.7251</td> <td>   96.190</td> <td>    0.995</td> <td> 0.321</td> <td>  -93.666</td> <td>  285.116</td>\n",
       "</tr>\n",
       "<tr>\n",
       "  <th>sex_bmi</th> <td>   60.9185</td> <td>   94.200</td> <td>    0.647</td> <td> 0.518</td> <td> -124.554</td> <td>  246.391</td>\n",
       "</tr>\n",
       "<tr>\n",
       "  <th>sex_map</th> <td>  163.5939</td> <td>   89.061</td> <td>    1.837</td> <td> 0.067</td> <td>  -11.760</td> <td>  338.948</td>\n",
       "</tr>\n",
       "<tr>\n",
       "  <th>sex_tc</th>  <td>   66.4258</td> <td>  697.993</td> <td>    0.095</td> <td> 0.924</td> <td>-1307.868</td> <td> 1440.720</td>\n",
       "</tr>\n",
       "<tr>\n",
       "  <th>sex_ldl</th> <td>   71.0926</td> <td>  552.736</td> <td>    0.129</td> <td> 0.898</td> <td>-1017.201</td> <td> 1159.386</td>\n",
       "</tr>\n",
       "<tr>\n",
       "  <th>sex_hdl</th> <td>  -98.3689</td> <td>  320.551</td> <td>   -0.307</td> <td> 0.759</td> <td> -729.508</td> <td>  532.770</td>\n",
       "</tr>\n",
       "<tr>\n",
       "  <th>sex_tch</th> <td> -268.9975</td> <td>  233.669</td> <td>   -1.151</td> <td> 0.251</td> <td> -729.074</td> <td>  191.079</td>\n",
       "</tr>\n",
       "<tr>\n",
       "  <th>sex_ltg</th> <td>    5.2509</td> <td>  268.950</td> <td>    0.020</td> <td> 0.984</td> <td> -524.290</td> <td>  534.792</td>\n",
       "</tr>\n",
       "<tr>\n",
       "  <th>sex_glu</th> <td>   37.0762</td> <td>   86.537</td> <td>    0.428</td> <td> 0.669</td> <td> -133.308</td> <td>  207.461</td>\n",
       "</tr>\n",
       "<tr>\n",
       "  <th>bmi_map</th> <td>   15.5130</td> <td>  106.422</td> <td>    0.146</td> <td> 0.884</td> <td> -194.024</td> <td>  225.050</td>\n",
       "</tr>\n",
       "<tr>\n",
       "  <th>bmi_tc</th>  <td> -350.3768</td> <td>  783.188</td> <td>   -0.447</td> <td> 0.655</td> <td>-1892.414</td> <td> 1191.660</td>\n",
       "</tr>\n",
       "<tr>\n",
       "  <th>bmi_ldl</th> <td>  174.6594</td> <td>  656.168</td> <td>    0.266</td> <td> 0.790</td> <td>-1117.284</td> <td> 1466.603</td>\n",
       "</tr>\n",
       "<tr>\n",
       "  <th>bmi_hdl</th> <td>  398.1472</td> <td>  407.844</td> <td>    0.976</td> <td> 0.330</td> <td> -404.866</td> <td> 1201.160</td>\n",
       "</tr>\n",
       "<tr>\n",
       "  <th>bmi_tch</th> <td>  153.1804</td> <td>  290.976</td> <td>    0.526</td> <td> 0.599</td> <td> -419.729</td> <td>  726.089</td>\n",
       "</tr>\n",
       "<tr>\n",
       "  <th>bmi_ltg</th> <td>   89.2297</td> <td>  303.493</td> <td>    0.294</td> <td> 0.769</td> <td> -508.324</td> <td>  686.783</td>\n",
       "</tr>\n",
       "<tr>\n",
       "  <th>bmi_glu</th> <td>   27.0114</td> <td>  116.232</td> <td>    0.232</td> <td> 0.816</td> <td> -201.841</td> <td>  255.864</td>\n",
       "</tr>\n",
       "<tr>\n",
       "  <th>map_tc</th>  <td>  894.0826</td> <td>  819.413</td> <td>    1.091</td> <td> 0.276</td> <td> -719.277</td> <td> 2507.442</td>\n",
       "</tr>\n",
       "<tr>\n",
       "  <th>map_ldl</th> <td> -720.3336</td> <td>  691.290</td> <td>   -1.042</td> <td> 0.298</td> <td>-2081.430</td> <td>  640.763</td>\n",
       "</tr>\n",
       "<tr>\n",
       "  <th>map_hdl</th> <td> -419.5027</td> <td>  365.923</td> <td>   -1.146</td> <td> 0.253</td> <td>-1139.977</td> <td>  300.972</td>\n",
       "</tr>\n",
       "<tr>\n",
       "  <th>map_tch</th> <td>  -51.7218</td> <td>  239.645</td> <td>   -0.216</td> <td> 0.829</td> <td> -523.564</td> <td>  420.121</td>\n",
       "</tr>\n",
       "<tr>\n",
       "  <th>map_ltg</th> <td> -312.3559</td> <td>  325.085</td> <td>   -0.961</td> <td> 0.338</td> <td> -952.423</td> <td>  327.711</td>\n",
       "</tr>\n",
       "<tr>\n",
       "  <th>map_glu</th> <td>  -49.2304</td> <td>  106.708</td> <td>   -0.461</td> <td> 0.645</td> <td> -259.331</td> <td>  160.870</td>\n",
       "</tr>\n",
       "<tr>\n",
       "  <th>tc_ldl</th>  <td> -1.22e+04</td> <td> 1.52e+04</td> <td>   -0.803</td> <td> 0.423</td> <td>-4.21e+04</td> <td> 1.77e+04</td>\n",
       "</tr>\n",
       "<tr>\n",
       "  <th>tc_hdl</th>  <td>-5178.2563</td> <td> 4802.191</td> <td>   -1.078</td> <td> 0.282</td> <td>-1.46e+04</td> <td> 4276.885</td>\n",
       "</tr>\n",
       "<tr>\n",
       "  <th>tc_tch</th>  <td>-2204.2875</td> <td> 2056.601</td> <td>   -1.072</td> <td> 0.285</td> <td>-6253.575</td> <td> 1845.000</td>\n",
       "</tr>\n",
       "<tr>\n",
       "  <th>tc_ltg</th>  <td>-5786.9454</td> <td> 1.77e+04</td> <td>   -0.328</td> <td> 0.743</td> <td>-4.05e+04</td> <td>  2.9e+04</td>\n",
       "</tr>\n",
       "<tr>\n",
       "  <th>tc_glu</th>  <td> -366.3425</td> <td>  685.705</td> <td>   -0.534</td> <td> 0.594</td> <td>-1716.442</td> <td>  983.758</td>\n",
       "</tr>\n",
       "<tr>\n",
       "  <th>ldl_hdl</th> <td> 3687.1417</td> <td> 4020.772</td> <td>    0.917</td> <td> 0.360</td> <td>-4229.447</td> <td> 1.16e+04</td>\n",
       "</tr>\n",
       "<tr>\n",
       "  <th>ldl_tch</th> <td> 1236.7435</td> <td> 1715.356</td> <td>    0.721</td> <td> 0.472</td> <td>-2140.659</td> <td> 4614.146</td>\n",
       "</tr>\n",
       "<tr>\n",
       "  <th>ldl_ltg</th> <td> 4528.6892</td> <td> 1.47e+04</td> <td>    0.307</td> <td> 0.759</td> <td>-2.45e+04</td> <td> 3.35e+04</td>\n",
       "</tr>\n",
       "<tr>\n",
       "  <th>ldl_glu</th> <td>  178.8113</td> <td>  581.091</td> <td>    0.308</td> <td> 0.759</td> <td> -965.312</td> <td> 1322.935</td>\n",
       "</tr>\n",
       "<tr>\n",
       "  <th>hdl_tch</th> <td>  961.0595</td> <td> 1168.768</td> <td>    0.822</td> <td> 0.412</td> <td>-1340.154</td> <td> 3262.273</td>\n",
       "</tr>\n",
       "<tr>\n",
       "  <th>hdl_ltg</th> <td> 2117.5155</td> <td> 6145.603</td> <td>    0.345</td> <td> 0.731</td> <td>-9982.699</td> <td> 1.42e+04</td>\n",
       "</tr>\n",
       "<tr>\n",
       "  <th>hdl_glu</th> <td>  332.8032</td> <td>  344.143</td> <td>    0.967</td> <td> 0.334</td> <td> -344.788</td> <td> 1010.394</td>\n",
       "</tr>\n",
       "<tr>\n",
       "  <th>tch_ltg</th> <td>  134.0116</td> <td>  765.596</td> <td>    0.175</td> <td> 0.861</td> <td>-1373.387</td> <td> 1641.410</td>\n",
       "</tr>\n",
       "<tr>\n",
       "  <th>tch_glu</th> <td>  449.1885</td> <td>  279.987</td> <td>    1.604</td> <td> 0.110</td> <td> -102.084</td> <td> 1000.461</td>\n",
       "</tr>\n",
       "<tr>\n",
       "  <th>ltg_glu</th> <td>  184.4882</td> <td>  319.553</td> <td>    0.577</td> <td> 0.564</td> <td> -444.687</td> <td>  813.663</td>\n",
       "</tr>\n",
       "</table>\n",
       "<table class=\"simpletable\">\n",
       "<tr>\n",
       "  <th>Omnibus:</th>       <td> 1.281</td> <th>  Durbin-Watson:     </th> <td>   2.080</td>\n",
       "</tr>\n",
       "<tr>\n",
       "  <th>Prob(Omnibus):</th> <td> 0.527</td> <th>  Jarque-Bera (JB):  </th> <td>   1.255</td>\n",
       "</tr>\n",
       "<tr>\n",
       "  <th>Skew:</th>          <td> 0.150</td> <th>  Prob(JB):          </th> <td>   0.534</td>\n",
       "</tr>\n",
       "<tr>\n",
       "  <th>Kurtosis:</th>      <td> 2.964</td> <th>  Cond. No.          </th> <td>4.01e+04</td>\n",
       "</tr>\n",
       "</table><br/><br/>Notes:<br/>[1] Standard Errors assume that the covariance matrix of the errors is correctly specified.<br/>[2] The condition number is large, 4.01e+04. This might indicate that there are<br/>strong multicollinearity or other numerical problems."
      ],
      "text/latex": [
       "\\begin{center}\n",
       "\\begin{tabular}{lclc}\n",
       "\\toprule\n",
       "\\textbf{Dep. Variable:}    &        y         & \\textbf{  R-squared:         } &     0.605   \\\\\n",
       "\\textbf{Model:}            &       OLS        & \\textbf{  Adj. R-squared:    } &     0.510   \\\\\n",
       "\\textbf{Method:}           &  Least Squares   & \\textbf{  F-statistic:       } &     6.357   \\\\\n",
       "\\textbf{Date:}             & Thu, 02 Nov 2023 & \\textbf{  Prob (F-statistic):} &  1.33e-27   \\\\\n",
       "\\textbf{Time:}             &     03:10:38     & \\textbf{  Log-Likelihood:    } &   -1755.6   \\\\\n",
       "\\textbf{No. Observations:} &         331      & \\textbf{  AIC:               } &     3641.   \\\\\n",
       "\\textbf{Df Residuals:}     &         266      & \\textbf{  BIC:               } &     3888.   \\\\\n",
       "\\textbf{Df Model:}         &          64      & \\textbf{                     } &             \\\\\n",
       "\\textbf{Covariance Type:}  &    nonrobust     & \\textbf{                     } &             \\\\\n",
       "\\bottomrule\n",
       "\\end{tabular}\n",
       "\\begin{tabular}{lcccccc}\n",
       "                  & \\textbf{coef} & \\textbf{std err} & \\textbf{t} & \\textbf{P$> |$t$|$} & \\textbf{[0.025} & \\textbf{0.975]}  \\\\\n",
       "\\midrule\n",
       "\\textbf{const}    &     152.9564  &        3.074     &    49.760  &         0.000        &      146.904    &      159.009     \\\\\n",
       "\\textbf{age}      &     -11.3203  &       78.811     &    -0.144  &         0.886        &     -166.494    &      143.853     \\\\\n",
       "\\textbf{sex}      &    -231.5765  &       76.733     &    -3.018  &         0.003        &     -382.658    &      -80.495     \\\\\n",
       "\\textbf{bmi}      &     463.9708  &      102.721     &     4.517  &         0.000        &      261.721    &      666.220     \\\\\n",
       "\\textbf{map}      &     371.4369  &       88.357     &     4.204  &         0.000        &      197.469    &      545.405     \\\\\n",
       "\\textbf{tc}       &    2897.9556  &     8.16e+04     &     0.036  &         0.972        &    -1.58e+05    &     1.64e+05     \\\\\n",
       "\\textbf{ldl}      &   -2722.8825  &     7.17e+04     &    -0.038  &         0.970        &    -1.44e+05    &     1.39e+05     \\\\\n",
       "\\textbf{hdl}      &   -1308.0199  &     3.05e+04     &    -0.043  &         0.966        &    -6.14e+04    &     5.88e+04     \\\\\n",
       "\\textbf{tch}      &      78.7774  &      319.941     &     0.246  &         0.806        &     -551.162    &      708.717     \\\\\n",
       "\\textbf{ltg}      &    -354.6107  &     2.68e+04     &    -0.013  &         0.989        &    -5.32e+04    &     5.25e+04     \\\\\n",
       "\\textbf{glu}      &      88.2148  &       83.344     &     1.058  &         0.291        &      -75.883    &      252.312     \\\\\n",
       "\\textbf{age2}     &      69.3956  &       81.186     &     0.855  &         0.393        &      -90.453    &      229.245     \\\\\n",
       "\\textbf{bmi2}     &     123.6581  &       96.196     &     1.285  &         0.200        &      -65.744    &      313.060     \\\\\n",
       "\\textbf{map2}     &     -16.4148  &       82.423     &    -0.199  &         0.842        &     -178.699    &      145.870     \\\\\n",
       "\\textbf{tc2}      &    8445.3173  &     9032.534     &     0.935  &         0.351        &    -9339.040    &     2.62e+04     \\\\\n",
       "\\textbf{ldl2}     &    4881.7277  &     6917.414     &     0.706  &         0.481        &    -8738.122    &     1.85e+04     \\\\\n",
       "\\textbf{hdl2}     &    2277.9684  &     1962.520     &     1.161  &         0.247        &    -1586.081    &     6142.018     \\\\\n",
       "\\textbf{tch2}     &     513.4119  &      704.183     &     0.729  &         0.467        &     -873.070    &     1899.893     \\\\\n",
       "\\textbf{ltg2}     &    1444.2136  &     2284.445     &     0.632  &         0.528        &    -3053.681    &     5942.109     \\\\\n",
       "\\textbf{glu2}     &       0.4893  &      112.344     &     0.004  &         0.997        &     -220.707    &      221.686     \\\\\n",
       "\\textbf{age\\_sex} &     206.8778  &       85.373     &     2.423  &         0.016        &       38.785    &      374.971     \\\\\n",
       "\\textbf{age\\_bmi} &     -16.1967  &       96.466     &    -0.168  &         0.867        &     -206.131    &      173.737     \\\\\n",
       "\\textbf{age\\_map} &     -26.1159  &       91.939     &    -0.284  &         0.777        &     -207.138    &      154.906     \\\\\n",
       "\\textbf{age\\_tc}  &      31.2498  &      701.422     &     0.045  &         0.964        &    -1349.795    &     1412.295     \\\\\n",
       "\\textbf{age\\_ldl} &    -239.0744  &      565.442     &    -0.423  &         0.673        &    -1352.386    &      874.237     \\\\\n",
       "\\textbf{age\\_hdl} &     197.7218  &      324.232     &     0.610  &         0.543        &     -440.666    &      836.110     \\\\\n",
       "\\textbf{age\\_tch} &     171.5627  &      247.744     &     0.692  &         0.489        &     -316.227    &      659.352     \\\\\n",
       "\\textbf{age\\_ltg} &      43.5219  &      259.290     &     0.168  &         0.867        &     -467.001    &      554.045     \\\\\n",
       "\\textbf{age\\_glu} &      95.7251  &       96.190     &     0.995  &         0.321        &      -93.666    &      285.116     \\\\\n",
       "\\textbf{sex\\_bmi} &      60.9185  &       94.200     &     0.647  &         0.518        &     -124.554    &      246.391     \\\\\n",
       "\\textbf{sex\\_map} &     163.5939  &       89.061     &     1.837  &         0.067        &      -11.760    &      338.948     \\\\\n",
       "\\textbf{sex\\_tc}  &      66.4258  &      697.993     &     0.095  &         0.924        &    -1307.868    &     1440.720     \\\\\n",
       "\\textbf{sex\\_ldl} &      71.0926  &      552.736     &     0.129  &         0.898        &    -1017.201    &     1159.386     \\\\\n",
       "\\textbf{sex\\_hdl} &     -98.3689  &      320.551     &    -0.307  &         0.759        &     -729.508    &      532.770     \\\\\n",
       "\\textbf{sex\\_tch} &    -268.9975  &      233.669     &    -1.151  &         0.251        &     -729.074    &      191.079     \\\\\n",
       "\\textbf{sex\\_ltg} &       5.2509  &      268.950     &     0.020  &         0.984        &     -524.290    &      534.792     \\\\\n",
       "\\textbf{sex\\_glu} &      37.0762  &       86.537     &     0.428  &         0.669        &     -133.308    &      207.461     \\\\\n",
       "\\textbf{bmi\\_map} &      15.5130  &      106.422     &     0.146  &         0.884        &     -194.024    &      225.050     \\\\\n",
       "\\textbf{bmi\\_tc}  &    -350.3768  &      783.188     &    -0.447  &         0.655        &    -1892.414    &     1191.660     \\\\\n",
       "\\textbf{bmi\\_ldl} &     174.6594  &      656.168     &     0.266  &         0.790        &    -1117.284    &     1466.603     \\\\\n",
       "\\textbf{bmi\\_hdl} &     398.1472  &      407.844     &     0.976  &         0.330        &     -404.866    &     1201.160     \\\\\n",
       "\\textbf{bmi\\_tch} &     153.1804  &      290.976     &     0.526  &         0.599        &     -419.729    &      726.089     \\\\\n",
       "\\textbf{bmi\\_ltg} &      89.2297  &      303.493     &     0.294  &         0.769        &     -508.324    &      686.783     \\\\\n",
       "\\textbf{bmi\\_glu} &      27.0114  &      116.232     &     0.232  &         0.816        &     -201.841    &      255.864     \\\\\n",
       "\\textbf{map\\_tc}  &     894.0826  &      819.413     &     1.091  &         0.276        &     -719.277    &     2507.442     \\\\\n",
       "\\textbf{map\\_ldl} &    -720.3336  &      691.290     &    -1.042  &         0.298        &    -2081.430    &      640.763     \\\\\n",
       "\\textbf{map\\_hdl} &    -419.5027  &      365.923     &    -1.146  &         0.253        &    -1139.977    &      300.972     \\\\\n",
       "\\textbf{map\\_tch} &     -51.7218  &      239.645     &    -0.216  &         0.829        &     -523.564    &      420.121     \\\\\n",
       "\\textbf{map\\_ltg} &    -312.3559  &      325.085     &    -0.961  &         0.338        &     -952.423    &      327.711     \\\\\n",
       "\\textbf{map\\_glu} &     -49.2304  &      106.708     &    -0.461  &         0.645        &     -259.331    &      160.870     \\\\\n",
       "\\textbf{tc\\_ldl}  &    -1.22e+04  &     1.52e+04     &    -0.803  &         0.423        &    -4.21e+04    &     1.77e+04     \\\\\n",
       "\\textbf{tc\\_hdl}  &   -5178.2563  &     4802.191     &    -1.078  &         0.282        &    -1.46e+04    &     4276.885     \\\\\n",
       "\\textbf{tc\\_tch}  &   -2204.2875  &     2056.601     &    -1.072  &         0.285        &    -6253.575    &     1845.000     \\\\\n",
       "\\textbf{tc\\_ltg}  &   -5786.9454  &     1.77e+04     &    -0.328  &         0.743        &    -4.05e+04    &      2.9e+04     \\\\\n",
       "\\textbf{tc\\_glu}  &    -366.3425  &      685.705     &    -0.534  &         0.594        &    -1716.442    &      983.758     \\\\\n",
       "\\textbf{ldl\\_hdl} &    3687.1417  &     4020.772     &     0.917  &         0.360        &    -4229.447    &     1.16e+04     \\\\\n",
       "\\textbf{ldl\\_tch} &    1236.7435  &     1715.356     &     0.721  &         0.472        &    -2140.659    &     4614.146     \\\\\n",
       "\\textbf{ldl\\_ltg} &    4528.6892  &     1.47e+04     &     0.307  &         0.759        &    -2.45e+04    &     3.35e+04     \\\\\n",
       "\\textbf{ldl\\_glu} &     178.8113  &      581.091     &     0.308  &         0.759        &     -965.312    &     1322.935     \\\\\n",
       "\\textbf{hdl\\_tch} &     961.0595  &     1168.768     &     0.822  &         0.412        &    -1340.154    &     3262.273     \\\\\n",
       "\\textbf{hdl\\_ltg} &    2117.5155  &     6145.603     &     0.345  &         0.731        &    -9982.699    &     1.42e+04     \\\\\n",
       "\\textbf{hdl\\_glu} &     332.8032  &      344.143     &     0.967  &         0.334        &     -344.788    &     1010.394     \\\\\n",
       "\\textbf{tch\\_ltg} &     134.0116  &      765.596     &     0.175  &         0.861        &    -1373.387    &     1641.410     \\\\\n",
       "\\textbf{tch\\_glu} &     449.1885  &      279.987     &     1.604  &         0.110        &     -102.084    &     1000.461     \\\\\n",
       "\\textbf{ltg\\_glu} &     184.4882  &      319.553     &     0.577  &         0.564        &     -444.687    &      813.663     \\\\\n",
       "\\bottomrule\n",
       "\\end{tabular}\n",
       "\\begin{tabular}{lclc}\n",
       "\\textbf{Omnibus:}       &  1.281 & \\textbf{  Durbin-Watson:     } &    2.080  \\\\\n",
       "\\textbf{Prob(Omnibus):} &  0.527 & \\textbf{  Jarque-Bera (JB):  } &    1.255  \\\\\n",
       "\\textbf{Skew:}          &  0.150 & \\textbf{  Prob(JB):          } &    0.534  \\\\\n",
       "\\textbf{Kurtosis:}      &  2.964 & \\textbf{  Cond. No.          } & 4.01e+04  \\\\\n",
       "\\bottomrule\n",
       "\\end{tabular}\n",
       "%\\caption{OLS Regression Results}\n",
       "\\end{center}\n",
       "\n",
       "Notes: \\newline\n",
       " [1] Standard Errors assume that the covariance matrix of the errors is correctly specified. \\newline\n",
       " [2] The condition number is large, 4.01e+04. This might indicate that there are \\newline\n",
       " strong multicollinearity or other numerical problems."
      ],
      "text/plain": [
       "<class 'statsmodels.iolib.summary.Summary'>\n",
       "\"\"\"\n",
       "                            OLS Regression Results                            \n",
       "==============================================================================\n",
       "Dep. Variable:                      y   R-squared:                       0.605\n",
       "Model:                            OLS   Adj. R-squared:                  0.510\n",
       "Method:                 Least Squares   F-statistic:                     6.357\n",
       "Date:                Thu, 02 Nov 2023   Prob (F-statistic):           1.33e-27\n",
       "Time:                        03:10:38   Log-Likelihood:                -1755.6\n",
       "No. Observations:                 331   AIC:                             3641.\n",
       "Df Residuals:                     266   BIC:                             3888.\n",
       "Df Model:                          64                                         \n",
       "Covariance Type:            nonrobust                                         \n",
       "==============================================================================\n",
       "                 coef    std err          t      P>|t|      [0.025      0.975]\n",
       "------------------------------------------------------------------------------\n",
       "const        152.9564      3.074     49.760      0.000     146.904     159.009\n",
       "age          -11.3203     78.811     -0.144      0.886    -166.494     143.853\n",
       "sex         -231.5765     76.733     -3.018      0.003    -382.658     -80.495\n",
       "bmi          463.9708    102.721      4.517      0.000     261.721     666.220\n",
       "map          371.4369     88.357      4.204      0.000     197.469     545.405\n",
       "tc          2897.9556   8.16e+04      0.036      0.972   -1.58e+05    1.64e+05\n",
       "ldl        -2722.8825   7.17e+04     -0.038      0.970   -1.44e+05    1.39e+05\n",
       "hdl        -1308.0199   3.05e+04     -0.043      0.966   -6.14e+04    5.88e+04\n",
       "tch           78.7774    319.941      0.246      0.806    -551.162     708.717\n",
       "ltg         -354.6107   2.68e+04     -0.013      0.989   -5.32e+04    5.25e+04\n",
       "glu           88.2148     83.344      1.058      0.291     -75.883     252.312\n",
       "age2          69.3956     81.186      0.855      0.393     -90.453     229.245\n",
       "bmi2         123.6581     96.196      1.285      0.200     -65.744     313.060\n",
       "map2         -16.4148     82.423     -0.199      0.842    -178.699     145.870\n",
       "tc2         8445.3173   9032.534      0.935      0.351   -9339.040    2.62e+04\n",
       "ldl2        4881.7277   6917.414      0.706      0.481   -8738.122    1.85e+04\n",
       "hdl2        2277.9684   1962.520      1.161      0.247   -1586.081    6142.018\n",
       "tch2         513.4119    704.183      0.729      0.467    -873.070    1899.893\n",
       "ltg2        1444.2136   2284.445      0.632      0.528   -3053.681    5942.109\n",
       "glu2           0.4893    112.344      0.004      0.997    -220.707     221.686\n",
       "age_sex      206.8778     85.373      2.423      0.016      38.785     374.971\n",
       "age_bmi      -16.1967     96.466     -0.168      0.867    -206.131     173.737\n",
       "age_map      -26.1159     91.939     -0.284      0.777    -207.138     154.906\n",
       "age_tc        31.2498    701.422      0.045      0.964   -1349.795    1412.295\n",
       "age_ldl     -239.0744    565.442     -0.423      0.673   -1352.386     874.237\n",
       "age_hdl      197.7218    324.232      0.610      0.543    -440.666     836.110\n",
       "age_tch      171.5627    247.744      0.692      0.489    -316.227     659.352\n",
       "age_ltg       43.5219    259.290      0.168      0.867    -467.001     554.045\n",
       "age_glu       95.7251     96.190      0.995      0.321     -93.666     285.116\n",
       "sex_bmi       60.9185     94.200      0.647      0.518    -124.554     246.391\n",
       "sex_map      163.5939     89.061      1.837      0.067     -11.760     338.948\n",
       "sex_tc        66.4258    697.993      0.095      0.924   -1307.868    1440.720\n",
       "sex_ldl       71.0926    552.736      0.129      0.898   -1017.201    1159.386\n",
       "sex_hdl      -98.3689    320.551     -0.307      0.759    -729.508     532.770\n",
       "sex_tch     -268.9975    233.669     -1.151      0.251    -729.074     191.079\n",
       "sex_ltg        5.2509    268.950      0.020      0.984    -524.290     534.792\n",
       "sex_glu       37.0762     86.537      0.428      0.669    -133.308     207.461\n",
       "bmi_map       15.5130    106.422      0.146      0.884    -194.024     225.050\n",
       "bmi_tc      -350.3768    783.188     -0.447      0.655   -1892.414    1191.660\n",
       "bmi_ldl      174.6594    656.168      0.266      0.790   -1117.284    1466.603\n",
       "bmi_hdl      398.1472    407.844      0.976      0.330    -404.866    1201.160\n",
       "bmi_tch      153.1804    290.976      0.526      0.599    -419.729     726.089\n",
       "bmi_ltg       89.2297    303.493      0.294      0.769    -508.324     686.783\n",
       "bmi_glu       27.0114    116.232      0.232      0.816    -201.841     255.864\n",
       "map_tc       894.0826    819.413      1.091      0.276    -719.277    2507.442\n",
       "map_ldl     -720.3336    691.290     -1.042      0.298   -2081.430     640.763\n",
       "map_hdl     -419.5027    365.923     -1.146      0.253   -1139.977     300.972\n",
       "map_tch      -51.7218    239.645     -0.216      0.829    -523.564     420.121\n",
       "map_ltg     -312.3559    325.085     -0.961      0.338    -952.423     327.711\n",
       "map_glu      -49.2304    106.708     -0.461      0.645    -259.331     160.870\n",
       "tc_ldl      -1.22e+04   1.52e+04     -0.803      0.423   -4.21e+04    1.77e+04\n",
       "tc_hdl     -5178.2563   4802.191     -1.078      0.282   -1.46e+04    4276.885\n",
       "tc_tch     -2204.2875   2056.601     -1.072      0.285   -6253.575    1845.000\n",
       "tc_ltg     -5786.9454   1.77e+04     -0.328      0.743   -4.05e+04     2.9e+04\n",
       "tc_glu      -366.3425    685.705     -0.534      0.594   -1716.442     983.758\n",
       "ldl_hdl     3687.1417   4020.772      0.917      0.360   -4229.447    1.16e+04\n",
       "ldl_tch     1236.7435   1715.356      0.721      0.472   -2140.659    4614.146\n",
       "ldl_ltg     4528.6892   1.47e+04      0.307      0.759   -2.45e+04    3.35e+04\n",
       "ldl_glu      178.8113    581.091      0.308      0.759    -965.312    1322.935\n",
       "hdl_tch      961.0595   1168.768      0.822      0.412   -1340.154    3262.273\n",
       "hdl_ltg     2117.5155   6145.603      0.345      0.731   -9982.699    1.42e+04\n",
       "hdl_glu      332.8032    344.143      0.967      0.334    -344.788    1010.394\n",
       "tch_ltg      134.0116    765.596      0.175      0.861   -1373.387    1641.410\n",
       "tch_glu      449.1885    279.987      1.604      0.110    -102.084    1000.461\n",
       "ltg_glu      184.4882    319.553      0.577      0.564    -444.687     813.663\n",
       "==============================================================================\n",
       "Omnibus:                        1.281   Durbin-Watson:                   2.080\n",
       "Prob(Omnibus):                  0.527   Jarque-Bera (JB):                1.255\n",
       "Skew:                           0.150   Prob(JB):                        0.534\n",
       "Kurtosis:                       2.964   Cond. No.                     4.01e+04\n",
       "==============================================================================\n",
       "\n",
       "Notes:\n",
       "[1] Standard Errors assume that the covariance matrix of the errors is correctly specified.\n",
       "[2] The condition number is large, 4.01e+04. This might indicate that there are\n",
       "strong multicollinearity or other numerical problems.\n",
       "\"\"\""
      ]
     },
     "execution_count": 19,
     "metadata": {},
     "output_type": "execute_result"
    }
   ],
   "source": [
    "X_train_withintercept = sm.add_constant(X_train)\n",
    "model_1 = sm.OLS(Y_train,X_train_withintercept).fit()\n",
    "model_1.summary()"
   ]
  },
  {
   "cell_type": "markdown",
   "id": "76a3c4ae-ede9-4591-b969-fc19d5947bca",
   "metadata": {},
   "source": [
    "### 构建岭回归模型Model_2\n",
    "\n",
    "岭回归估计为\n",
    "$$\n",
    "\\hat{\\mathbf{\\beta}}(k) = (\\mathbf{X}'\\mathbf{X} + k \\mathbf{I})^{-1} \\mathbf{X}' \\mathbf{y}.\n",
    "$$\n",
    "\n",
    "使用statmodels.api包中OLS.fit_regularized可以实现。"
   ]
  },
  {
   "cell_type": "code",
   "execution_count": 20,
   "id": "b306597d-4500-4809-9f56-2610f946fa70",
   "metadata": {},
   "outputs": [
    {
     "name": "stdout",
     "output_type": "stream",
     "text": [
      "The parameters in the ridge regression are  [  6.01   2.14  23.32  16.88   7.42   5.56 -15.02  15.81  21.47  14.86\n",
      "  -0.65  10.06   6.22   1.1    0.64  -3.6    5.13   3.2    4.63   4.38\n",
      "  -2.66   2.57  -3.48  -5.54  -1.45   0.19   2.44   2.45   2.6    6.06\n",
      "   2.63   0.37   2.79   0.14   2.99   2.45   4.61  -1.99  -3.56  -2.07\n",
      "   3.44   3.41   5.57   0.62  -2.3   -0.1    1.35   4.82   4.13   0.49\n",
      "  -2.19   2.01   1.42   2.27   1.95   0.11  -3.11   0.03  -1.8   -1.12\n",
      "  -4.6    3.56   6.47   5.92]\n"
     ]
    }
   ],
   "source": [
    "## Ridge Regression\n",
    "alpha  = 0.1 # A hyperparameter in Ridge Regression (equivalently but not equally, k in slides)\n",
    "model_rr = sm.OLS(Y_train_centered,X_train_standardized).fit_regularized(L1_wt=0,alpha = alpha)\n",
    "print(\"The parameters in the ridge regression are \",np.round(model_rr.params,2))"
   ]
  },
  {
   "cell_type": "markdown",
   "id": "8686177a-dc88-4bdc-a4fd-0e60baa55403",
   "metadata": {},
   "source": [
    "其中超参数 $\\alpha=k/n$"
   ]
  },
  {
   "cell_type": "code",
   "execution_count": 21,
   "id": "1e4a125d-ccdb-4d3b-91f7-3fb5974be7c4",
   "metadata": {},
   "outputs": [],
   "source": [
    "alpha_num = 100\n",
    "alpha_vec = np.array(list(range(0,alpha_num)))/alpha_num/1000\n",
    "RR_coef = []\n",
    "RR_vif = []\n",
    "\n",
    "for alpha in alpha_vec:\n",
    "    rr_model = sm.OLS(Y_train_centered,X_train_standardized).fit_regularized(L1_wt=0,alpha = alpha)\n",
    "    rr_coef = rr_model.params\n",
    "    RR_coef.append(rr_coef)"
   ]
  },
  {
   "cell_type": "markdown",
   "id": "f17691aa-f144-4e70-bcc9-7bd5d364ba7d",
   "metadata": {},
   "source": [
    "下面通过岭迹图来去认定最优的超参数。"
   ]
  },
  {
   "cell_type": "code",
   "execution_count": 22,
   "id": "07f2e3f2-ae74-465e-94b8-6e8607e6d71f",
   "metadata": {},
   "outputs": [
    {
     "data": {
      "text/plain": [
       "<matplotlib.legend.Legend at 0x7f4f9a596690>"
      ]
     },
     "execution_count": 22,
     "metadata": {},
     "output_type": "execute_result"
    },
    {
     "data": {
      "image/png": "[encoded data removed]",
      "text/plain": [
       "<Figure size 640x480 with 1 Axes>"
      ]
     },
     "metadata": {},
     "output_type": "display_data"
    }
   ],
   "source": [
    "for i in range(p):\n",
    "    plt.plot(alpha_vec, np.array(RR_coef)[:,i],label = \"X%d\"%(i+1))\n",
    "\n",
    "plt.axis([-0.00005,0.0008,-6000,8000])    \n",
    "plt.legend(loc=\"right\",bbox_to_anchor=(1.25,0.5),borderaxespad=1)\n"
   ]
  },
  {
   "cell_type": "markdown",
   "id": "a4f841dc-4e4f-411a-9a43-8c21cf7c328b",
   "metadata": {},
   "source": [
    "因为自变量过多，从上图也很难直接看出最优的超参数，因此可以计算不同$\\alpha$下的VIF值，其复合临界值条件时，可以进行选择。"
   ]
  },
  {
   "cell_type": "code",
   "execution_count": 23,
   "id": "77d9a5e6-495c-491f-8135-7373cf10b6e5",
   "metadata": {},
   "outputs": [
    {
     "name": "stdout",
     "output_type": "stream",
     "text": [
      "The chosen value of alpha is 4e-05\n"
     ]
    }
   ],
   "source": [
    "C_k = []\n",
    "for alpha in alpha_vec:\n",
    "    k = alpha * n_train\n",
    "    c_k = np.linalg.inv(X_train_standardized.T @ X_train_standardized + k * np.eye(p)) @ X_train_standardized.T @ X_train_standardized @ np.linalg.inv(X_train_standardized.T @ X_train_standardized + k * np.eye(p))\n",
    "    C_k.append(np.mean(np.diag(c_k)))\n",
    "\n",
    "alpha_best = alpha_vec[np.min(np.where(np.array(C_k) < vif_cv))]\n",
    "print(\"The chosen value of alpha is\", alpha_best)"
   ]
  },
  {
   "cell_type": "code",
   "execution_count": 24,
   "id": "9f5479ac-833d-4db2-8691-df0debc60182",
   "metadata": {},
   "outputs": [
    {
     "name": "stdout",
     "output_type": "stream",
     "text": [
      "[ -12.60258374 -180.05234974  414.51376186  295.39884548  -77.36505523\n",
      " -104.27207357 -149.94006389  111.1169049   477.09578708   92.79775901\n",
      "   65.47082681  113.7501245   -12.07507888   36.39986309   14.9268986\n",
      "   12.94205598   35.4394068   129.87600059   -2.58760797  190.17928284\n",
      "  -14.88813525   -9.04742184    9.00696229 -183.68638573  172.33163235\n",
      "  139.93098186   31.4513552    73.35473229   55.54502895  144.92616868\n",
      "  108.26189578  -10.25810118  -48.50289911 -172.39450276  -44.45666236\n",
      "   26.36750595   10.1191226  -131.68981578   40.41699163  209.46511966\n",
      "   65.65620496   -4.39339979   28.51461798   82.22126198  -37.58645663\n",
      "  -70.45512315  -34.77873775   10.18442287  -53.58976839  160.22351407\n",
      "  -13.50392215 -290.20464398 -249.81289309 -120.21934947 -113.09457734\n",
      " -113.85048528  358.86004372   33.1579435   -81.59211744  -16.76930778\n",
      "  152.41741984 -199.42843051  309.19608254   74.67579535]\n"
     ]
    }
   ],
   "source": [
    "model_rr_best = sm.OLS(Y_train_centered,X_train_standardized).fit_regularized(L1_wt=0,alpha = alpha_best)\n",
    "model_rr_best_coef = model_rr_best.params\n",
    "print(model_rr_best_coef)"
   ]
  },
  {
   "cell_type": "markdown",
   "id": "f02a1cf1-7d69-4a95-a2cc-624f938977f1",
   "metadata": {},
   "source": [
    "### 构建主成分回归模型Model_3\n",
    "\n",
    "在PCR模型中，先构建特征的主成分。"
   ]
  },
  {
   "cell_type": "code",
   "execution_count": 25,
   "id": "439379b2-2dcc-4328-abb8-db7a32a368f4",
   "metadata": {},
   "outputs": [
    {
     "name": "stdout",
     "output_type": "stream",
     "text": [
      "The percentages of total variance are [1.10341e+01 6.10960e+00 5.29100e+00 3.96370e+00 3.48650e+00 2.96780e+00\n",
      " 2.57210e+00 2.44700e+00 2.04570e+00 1.90290e+00 1.79230e+00 1.45940e+00\n",
      " 1.39700e+00 1.25510e+00 1.18600e+00 1.09240e+00 1.03940e+00 9.43600e-01\n",
      " 8.26500e-01 7.69900e-01 7.32500e-01 7.24800e-01 6.68000e-01 6.24600e-01\n",
      " 6.17600e-01 5.86500e-01 5.61200e-01 5.35800e-01 4.90900e-01 4.69000e-01\n",
      " 4.52200e-01 4.41700e-01 4.10400e-01 3.57800e-01 3.34700e-01 3.04600e-01\n",
      " 2.65900e-01 2.48400e-01 2.41300e-01 2.19000e-01 1.93000e-01 1.81200e-01\n",
      " 1.62100e-01 1.59000e-01 9.65000e-02 8.50000e-02 5.53000e-02 4.71000e-02\n",
      " 3.17000e-02 2.87000e-02 2.24000e-02 2.02000e-02 1.36000e-02 1.04000e-02\n",
      " 6.30000e-03 4.60000e-03 3.90000e-03 3.30000e-03 2.60000e-03 2.30000e-03\n",
      " 1.70000e-03 4.00000e-04 0.00000e+00 0.00000e+00]\n"
     ]
    }
   ],
   "source": [
    "model_pca = PCA(X_train_standardized,standardize = False, demean = True)\n",
    "model_pca_cr = model_pca.eigenvals # contribution rate of each component\n",
    "print(\"The percentages of total variance are\", np.around(model_pca_cr,4))"
   ]
  },
  {
   "cell_type": "markdown",
   "id": "c39dbee2-cac3-44e4-a3b5-4dd68ad9458a",
   "metadata": {},
   "source": [
    "在计算出$\\mathbf{X}'\\mathbf{X}$的特征值后，通过代码进行验证。"
   ]
  },
  {
   "cell_type": "code",
   "execution_count": 26,
   "id": "f863036c-3484-48cb-a087-1e9976d09c86",
   "metadata": {},
   "outputs": [
    {
     "name": "stdout",
     "output_type": "stream",
     "text": [
      "The eigen values of X'X are  [1.10341e+01 6.10960e+00 5.29100e+00 3.96370e+00 3.48650e+00 2.96780e+00\n",
      " 2.57210e+00 2.44700e+00 2.04570e+00 1.90290e+00 1.79230e+00 1.45940e+00\n",
      " 1.39700e+00 1.25510e+00 1.18600e+00 1.09240e+00 1.03940e+00 9.43600e-01\n",
      " 8.26500e-01 7.69900e-01 7.32500e-01 7.24800e-01 6.68000e-01 6.24600e-01\n",
      " 6.17600e-01 5.86500e-01 5.61200e-01 5.35800e-01 4.90900e-01 4.69000e-01\n",
      " 4.52200e-01 4.41700e-01 4.10400e-01 3.57800e-01 3.34700e-01 3.04600e-01\n",
      " 2.65900e-01 2.48400e-01 2.41300e-01 2.19000e-01 1.93000e-01 1.81200e-01\n",
      " 1.62100e-01 1.59000e-01 9.65000e-02 8.50000e-02 5.53000e-02 4.71000e-02\n",
      " 3.17000e-02 2.87000e-02 2.24000e-02 2.02000e-02 1.36000e-02 1.04000e-02\n",
      " 6.30000e-03 4.60000e-03 3.90000e-03 3.30000e-03 2.60000e-03 2.30000e-03\n",
      " 1.70000e-03 4.00000e-04 0.00000e+00 0.00000e+00]\n"
     ]
    }
   ],
   "source": [
    "Corr_Mat = X_train_standardized.T @ X_train_standardized\n",
    "Lambda, V = np.linalg.eig(Corr_Mat)\n",
    "Lambda = sorted(Lambda,reverse = True)\n",
    "print(\"The eigen values of X'X are \", np.around(Lambda,4))"
   ]
  },
  {
   "cell_type": "markdown",
   "id": "b4274857-9281-45bc-bb53-17b164b5eb2b",
   "metadata": {},
   "source": [
    "通过比对发现，二者的值没有区别。\n",
    "\n",
    "接下来选择超参数：主成分个数。通过绘制scree plot来进行主观判断。"
   ]
  },
  {
   "cell_type": "code",
   "execution_count": 27,
   "id": "f15bb06f-5a7e-4513-98df-6bd3bd41514b",
   "metadata": {},
   "outputs": [
    {
     "data": {
      "image/png": "[encoded data removed]",
      "text/plain": [
       "<Figure size 640x480 with 1 Axes>"
      ]
     },
     "metadata": {},
     "output_type": "display_data"
    }
   ],
   "source": [
    "fig = model_pca.plot_scree(log_scale = False)"
   ]
  },
  {
   "cell_type": "markdown",
   "id": "85691f89-1d5c-4554-a812-8a2d043b8af7",
   "metadata": {},
   "source": [
    "同时可以计算其信息增量（每增加一个主成分），因此绘制scree plot来观察其累计贡献率。"
   ]
  },
  {
   "cell_type": "code",
   "execution_count": 28,
   "id": "2afa037c-8374-4bab-9a0f-bac8ce64d30b",
   "metadata": {},
   "outputs": [
    {
     "name": "stdout",
     "output_type": "stream",
     "text": [
      "The cummulative percentages of total variance are [0.1724 0.2679 0.3505 0.4125 0.467  0.5133 0.5535 0.5917 0.6237 0.6534\n",
      " 0.6814 0.7043 0.7261 0.7457 0.7642 0.7813 0.7975 0.8123 0.8252 0.8372\n",
      " 0.8487 0.86   0.8704 0.8802 0.8898 0.899  0.9078 0.9161 0.9238 0.9311\n",
      " 0.9382 0.9451 0.9515 0.9571 0.9623 0.9671 0.9713 0.9751 0.9789 0.9823\n",
      " 0.9853 0.9882 0.9907 0.9932 0.9947 0.996  0.9969 0.9976 0.9981 0.9986\n",
      " 0.9989 0.9992 0.9994 0.9996 0.9997 0.9998 0.9998 0.9999 0.9999 1.\n",
      " 1.     1.     1.     1.    ]\n"
     ]
    },
    {
     "data": {
      "image/png": "[encoded data removed]",
      "text/plain": [
       "<Figure size 640x480 with 1 Axes>"
      ]
     },
     "metadata": {},
     "output_type": "display_data"
    }
   ],
   "source": [
    "model_pca_ccr = np.cumsum(model_pca_cr)/p # cummulative contribution rate\n",
    "print(\"The cummulative percentages of total variance are\", np.around(model_pca_ccr,4))\n",
    "\n",
    "fig = model_pca.plot_scree(log_scale = False)"
   ]
  },
  {
   "cell_type": "markdown",
   "id": "a39ab332-073c-4b04-8f73-36c4e8155a41",
   "metadata": {},
   "source": [
    "选取主成分，要求其累计贡献率达到90%。"
   ]
  },
  {
   "cell_type": "code",
   "execution_count": 29,
   "id": "03ffe2d1-f681-4012-8ff7-cb8cf60d29b4",
   "metadata": {},
   "outputs": [],
   "source": [
    "pca_cv = 0.90"
   ]
  },
  {
   "cell_type": "code",
   "execution_count": 30,
   "id": "27024ee4-aea7-483c-ad8e-9e34ab9363f9",
   "metadata": {},
   "outputs": [
    {
     "name": "stdout",
     "output_type": "stream",
     "text": [
      "The appropriate number of component is 27\n"
     ]
    }
   ],
   "source": [
    "num_pca = np.min(np.where(model_pca_ccr > pca_cv))\n",
    "print(\"The appropriate number of component is\", (num_pca+1))"
   ]
  },
  {
   "cell_type": "markdown",
   "id": "a7a07b83-9c43-4414-aae2-49d24eed8ab6",
   "metadata": {},
   "source": [
    "最佳主成分个数为27。（虽然正常来说应该不超过6个）\n",
    "\n",
    "最后构建主成分来代替原始特征，并拟合回归模型；通过线性变换来估计主成分回归中的参数。"
   ]
  },
  {
   "cell_type": "code",
   "execution_count": 31,
   "id": "27d7d8df-9217-42cb-87d9-ab9c1a183eaa",
   "metadata": {},
   "outputs": [
    {
     "name": "stdout",
     "output_type": "stream",
     "text": [
      "[  -7.40003964   -0.29840147   37.0722936   -47.99398408  -73.09119981\n",
      "  -22.88083013   38.76281396  -10.93118416    2.96078244  208.11247613\n",
      "   -5.38228859  104.13355674  157.43780327   47.30746653  -72.71067498\n",
      "   14.72268458 -197.0189051   -12.81881559  -16.69648506   -1.42702075\n",
      "   75.37602008  119.47502934   67.75223967  103.80753443   57.70121211\n",
      "  103.2380225   -48.62323352   55.10976401 -141.11844565 -127.52008587\n",
      "  -14.22007911   84.10389327    2.27871168  -76.69729901   29.60922164\n",
      "  137.14350692  244.67872008   92.92265969  -52.08345577  -23.21745931\n",
      "   94.88633175  -23.34387196 -129.43605418   -8.28975543  144.21801773\n",
      "  -25.86297678   -7.92675531   -8.15490649  -42.61526001  -40.90821826\n",
      "   57.99759654   20.62869192   16.40893275   18.3288203    93.3067998\n",
      "  112.94321572   63.06182978  105.66453222  -40.18101671   -4.5599626\n",
      "  -31.47312152   62.95173539  -85.43883109  168.31509031]\n"
     ]
    }
   ],
   "source": [
    "model_pca_selected = PCA(X_train_standardized,  standardize = False,  demean = True)\n",
    "V = model_pca_selected.loadings\n",
    "Z_train_standardized= X_train_standardized @ V[:,0:(num_pca+1)]\n",
    "model_pcr = sm.OLS(Y_train_centered, Z_train_standardized).fit()\n",
    "model_pcr_coef = V.T @ np.pad(model_pcr.params,(0,p-(num_pca+1)))\n",
    "print(model_pcr_coef)"
   ]
  },
  {
   "cell_type": "markdown",
   "id": "2b6aea4b-ed41-4eeb-be77-20602bfc836b",
   "metadata": {},
   "source": [
    "## 模型评价\n",
    "\n",
    "### 6、利用RMSE，比较Model_1、Model_2、Model_3在测试集上的预测效果。请进行评论。"
   ]
  },
  {
   "cell_type": "markdown",
   "id": "b9f7f3ac-421a-4422-8985-02706d6dcf0c",
   "metadata": {},
   "source": [
    "RMSE衡量指标：\n",
    "\n",
    "$$\n",
    "RMSE = \\sqrt{n^{-1}\\sum_{i=1}^n (\\hat{y}_i - y_i)^2}\n",
    "$$\n",
    "\n",
    "1. 构建线性回归模型。对于每一个数据$(\\mathbf{x}_i,y_i)$，线性回归模型的预测结果为\n",
    "$$\n",
    "y_i^{\\text{ols}} = \\hat{\\beta}_0 + \\mathbf{x}_i \\hat{\\mathbf{\\beta}}^{\\text{ols}}\n",
    "$$\n",
    "这里\n",
    "- $\\hat{\\beta}_0$采用训练集中响应变量的样本均值来估计；\n",
    "- $\\hat{\\mathbf{\\beta}}^{\\text{ols}}$采用最小二乘估计；"
   ]
  },
  {
   "cell_type": "code",
   "execution_count": 32,
   "id": "935d82a7-c647-46b2-9183-2c93e40754f8",
   "metadata": {},
   "outputs": [
    {
     "name": "stdout",
     "output_type": "stream",
     "text": [
      "The RMSE in the ordinary regression is 106.9224\n"
     ]
    }
   ],
   "source": [
    "model_ols_coef = model_ols.params \n",
    "Y_pred_ols = Y_train_mean + X_test_standardized @ model_ols_coef\n",
    "ols_rmse = np.sqrt(np.mean((Y_pred_ols-Y_test)**2))\n",
    "print(\"The RMSE in the ordinary regression is\", round(ols_rmse,4))"
   ]
  },
  {
   "cell_type": "markdown",
   "id": "a5232905-3012-4df9-8ff8-c5af577263d9",
   "metadata": {},
   "source": [
    "2. 构建岭回归模型。对于每一个数据$(\\mathbf{x}_i,y_i)$，岭回归模型的预测结果为\n",
    "$$\n",
    "y_i^{\\text{rr}} = \\hat{\\beta}_0 + \\mathbf{x}_i \\hat{\\mathbf{\\beta}}^{\\text{rr}}\n",
    "$$\n",
    "这里\n",
    "- $\\hat{\\beta}_0$采用训练集中响应变量的样本均值来估计；\n",
    "- $\\hat{\\mathbf{\\beta}}^{\\text{rr}}$采用岭回归估计；\n"
   ]
  },
  {
   "cell_type": "code",
   "execution_count": 33,
   "id": "67c3e91d-6500-43e4-a66d-4dff9b8da97a",
   "metadata": {},
   "outputs": [
    {
     "name": "stdout",
     "output_type": "stream",
     "text": [
      "The RMSE in the ridge regression is 73.0725\n"
     ]
    }
   ],
   "source": [
    "Y_pred_rr = Y_train_mean + X_test_standardized @ model_rr_best_coef\n",
    "rr_rmse = np.sqrt(np.mean((Y_pred_rr-Y_test)**2))\n",
    "\n",
    "print(\"The RMSE in the ridge regression is\", round(rr_rmse,4))\n",
    "    "
   ]
  },
  {
   "cell_type": "markdown",
   "id": "809ded5d-0b96-4496-8aa0-8ad476a7a90d",
   "metadata": {},
   "source": [
    "3. 构建主成分回归模型。对于每一个数据$(\\mathbf{x}_i,y_i)$，主成分回归模型的预测结果为\n",
    "$$\n",
    "y_i^{\\text{pcr}} = \\hat{\\beta}_0 + \\mathbf{x}_i \\hat{\\mathbf{\\beta}}^{\\text{pcr}}\n",
    "$$\n",
    "这里\n",
    "- $\\hat{\\beta}_0$采用训练集中响应变量的样本均值来估计；\n",
    "- $\\hat{\\mathbf{\\beta}}^{\\text{pcrr}}$采用主成分回归估计；\n"
   ]
  },
  {
   "cell_type": "code",
   "execution_count": 34,
   "id": "7869a24f-8d52-4c98-bec6-2929e2d2fa88",
   "metadata": {},
   "outputs": [
    {
     "name": "stdout",
     "output_type": "stream",
     "text": [
      "The RMSE in the principle component regression is 102.7484\n"
     ]
    }
   ],
   "source": [
    "Y_pred_pcr = Y_train_mean + X_test_standardized @ model_pcr_coef\n",
    "pcr_rmse = np.sqrt(np.mean((Y_pred_pcr-Y_test)**2))\n",
    "\n",
    "print(\"The RMSE in the principle component regression is\", round(pcr_rmse,4))"
   ]
  },
  {
   "cell_type": "markdown",
   "id": "76581c47-3aab-4d27-8fa1-9a9233666554",
   "metadata": {},
   "source": [
    "从预测的角度来看，岭回归模型和主成分回归模型均优于普通线性回归模型"
   ]
  }
 ],
 "metadata": {
  "kernelspec": {
   "display_name": "Python 3 (ipykernel)",
   "language": "python",
   "name": "python3"
  },
  "language_info": {
   "codemirror_mode": {
    "name": "ipython",
    "version": 3
   },
   "file_extension": ".py",
   "mimetype": "text/x-python",
   "name": "python",
   "nbconvert_exporter": "python",
   "pygments_lexer": "ipython3",
   "version": "3.11.5"
  }
 },
 "nbformat": 4,
 "nbformat_minor": 5
}
