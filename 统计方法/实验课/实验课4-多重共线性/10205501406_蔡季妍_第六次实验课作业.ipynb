{
 "cells": [
  {
   "cell_type": "markdown",
   "id": "530a7c78-7136-47c3-879b-437115e4cf14",
   "metadata": {},
   "source": [
    "# Tutorial Five: Multicollinearity"
   ]
  },
  {
   "cell_type": "code",
   "execution_count": 1,
   "id": "2f26a39a-5b0c-48f4-aa8f-e06eb28bc047",
   "metadata": {},
   "outputs": [],
   "source": [
    "from sklearn.datasets import load_diabetes\n",
    "import sas7bdat\n",
    "import os\n",
    "\n",
    "import pandas as pd\n",
    "import numpy as np\n",
    "import random\n",
    "import seaborn as sns\n",
    "import scipy.stats as stats\n",
    "import matplotlib.pyplot as plt\n",
    "import math\n",
    "\n",
    "from sklearn import preprocessing # Data Preprocessing\n",
    "import statsmodels.api as sm # LSE, Ridge Regression\n",
    "from statsmodels.stats.outliers_influence import variance_inflation_factor # VIF \n",
    "from statsmodels.multivariate.pca import PCA # PCR\n",
    "\n",
    "from jupyterquiz import display_quiz "
   ]
  },
  {
   "cell_type": "markdown",
   "id": "43399ede-5859-4a07-97f8-5e84fb56ee78",
   "metadata": {},
   "source": [
    "## 数据预处理\n",
    "\n",
    "### 1. 从scikit-learn包中载入数据集diabetes"
   ]
  },
  {
   "cell_type": "code",
   "execution_count": 2,
   "id": "973a5a93-028a-4b14-b974-a33ff7de5d74",
   "metadata": {},
   "outputs": [],
   "source": [
    "path = r\"../Project/diabetes2.sas7bdat\"\n",
    "Data = sas7bdat.SAS7BDAT(path,encoding='gb2312').to_data_frame()"
   ]
  },
  {
   "cell_type": "code",
   "execution_count": 3,
   "id": "de545b0e-6fc6-460c-9ccd-026d2c5d6af5",
   "metadata": {},
   "outputs": [
    {
     "name": "stdout",
     "output_type": "stream",
     "text": [
      "          age       sex       bmi       map        tc       ldl       hdl  \\\n",
      "0    0.038076  0.050680  0.061696  0.021872 -0.044223 -0.034821 -0.043401   \n",
      "1   -0.001882 -0.044642 -0.051474 -0.026328 -0.008449 -0.019163  0.074412   \n",
      "2    0.085299  0.050680  0.044451 -0.005671 -0.045599 -0.034194 -0.032356   \n",
      "3   -0.089063 -0.044642 -0.011595 -0.036656  0.012191  0.024991 -0.036038   \n",
      "4    0.005383 -0.044642 -0.036385  0.021872  0.003935  0.015596  0.008142   \n",
      "..        ...       ...       ...       ...       ...       ...       ...   \n",
      "437  0.041708  0.050680  0.019662  0.059744 -0.005697 -0.002566 -0.028674   \n",
      "438 -0.005515  0.050680 -0.015906 -0.067642  0.049341  0.079165 -0.028674   \n",
      "439  0.041708  0.050680 -0.015906  0.017282 -0.037344 -0.013840 -0.024993   \n",
      "440 -0.045472 -0.044642  0.039062  0.001215  0.016318  0.015283 -0.028674   \n",
      "441 -0.045472 -0.044642 -0.073030 -0.081414  0.083740  0.027809  0.173816   \n",
      "\n",
      "          tch       ltg       glu  ...   ldl_tch   ldl_ltg   ldl_glu  \\\n",
      "0   -0.002592  0.019908 -0.017646  ... -0.022038 -0.031125 -0.000922   \n",
      "1   -0.039493 -0.068330 -0.092204  ... -0.011564  0.012973  0.023783   \n",
      "2   -0.002592  0.002864 -0.025930  ... -0.022063 -0.018016  0.004913   \n",
      "3    0.034309  0.022692 -0.009362  ... -0.009984 -0.003373 -0.019109   \n",
      "4   -0.002592 -0.031991 -0.046641  ... -0.024091 -0.026846 -0.029687   \n",
      "..        ...       ...       ...  ...       ...       ...       ...   \n",
      "437 -0.002592  0.031193  0.007207  ... -0.023352 -0.017623 -0.014490   \n",
      "438  0.034309 -0.018118  0.044485  ...  0.019221 -0.047444  0.061400   \n",
      "439 -0.011080 -0.046879  0.015491  ... -0.021047 -0.001573 -0.018690   \n",
      "440  0.026560  0.044528 -0.025930  ... -0.017078 -0.000875 -0.022589   \n",
      "441 -0.039493 -0.004220  0.003064  ... -0.040713 -0.018444 -0.012267   \n",
      "\n",
      "      hdl_tch   hdl_ltg   hdl_glu   tch_ltg   tch_glu   ltg_glu      y  \n",
      "0    0.033494  0.000852  0.031150 -0.028191 -0.017658 -0.027794  151.0  \n",
      "1   -0.023815 -0.094506 -0.140378  0.025298  0.053034  0.104013   75.0  \n",
      "2    0.032956  0.018281  0.032795 -0.027332 -0.017236 -0.022304  141.0  \n",
      "3    0.008159  0.001898  0.021514 -0.012045 -0.024872 -0.025042  206.0  \n",
      "4    0.030984  0.014489  0.005386 -0.025575 -0.016180  0.008735  135.0  \n",
      "..        ...       ...       ...       ...       ...       ...    ...  \n",
      "437  0.032777  0.000165  0.009279 -0.028760 -0.018925 -0.016378  178.0  \n",
      "438  0.012903  0.032113 -0.014762 -0.039277  0.011449 -0.036804  104.0  \n",
      "439  0.036581  0.046847  0.005219 -0.017085 -0.021932 -0.035222  132.0  \n",
      "440  0.017077 -0.008474  0.030648 -0.004186 -0.032097 -0.043712  220.0  \n",
      "441 -0.097548  0.003802  0.025905 -0.023946 -0.020937 -0.021088   57.0  \n",
      "\n",
      "[442 rows x 65 columns]\n"
     ]
    }
   ],
   "source": [
    "print(Data)"
   ]
  },
  {
   "cell_type": "code",
   "execution_count": 38,
   "id": "52063602-671e-4df6-8795-23c5bb78e8b5",
   "metadata": {},
   "outputs": [
    {
     "name": "stdout",
     "output_type": "stream",
     "text": [
      "The number of features is 64\n",
      "The sample size is 442\n"
     ]
    }
   ],
   "source": [
    "p = Data.shape[1]-1\n",
    "n = Data.shape[0]\n",
    "print(\"The number of features is\",p)\n",
    "print(\"The sample size is\",n)"
   ]
  },
  {
   "cell_type": "markdown",
   "id": "6bd95fb9-81d1-4cc4-9181-c613b5036300",
   "metadata": {},
   "source": [
    "### 2. 通过阅读以下参考文献，定义清楚问题背景、数据中响应变量和自变量的概念、取值范围等信息。\n",
    "\n",
    "原始数据一次项为10项，分别为AGE SEX BMI BP S1 S2 S3 S4 S5 S6，另外有Y为响应变量；而二次项共64项，包括前十项以及其交叉项，最后加上一列响应变量Y。\n",
    "\n",
    "### 3. 以自己的学号作为随机种子，采用留出法划分训练集和测试集，样本比例为7.5:2.5。"
   ]
  },
  {
   "cell_type": "code",
   "execution_count": 39,
   "id": "ba2ac899-f0aa-450e-9c32-36f419ed1878",
   "metadata": {},
   "outputs": [],
   "source": [
    "n_train = 331 # 75% * n\n",
    "n_test = n-n_train\n",
    "seed = 10205501406\n",
    "random.seed(seed)\n",
    "index = range(0,n)\n",
    "index_selected = random.sample(index,n_train)\n",
    "index_selected.sort()\n",
    "\n",
    "Data_train = Data.loc[index_selected]\n",
    "Data_test = Data.drop(index = index_selected)"
   ]
  },
  {
   "cell_type": "code",
   "execution_count": 6,
   "id": "60ed8dba-fc66-4a5b-8889-ea048656cd71",
   "metadata": {},
   "outputs": [
    {
     "data": {
      "text/html": [
       "<div>\n",
       "<style scoped>\n",
       "    .dataframe tbody tr th:only-of-type {\n",
       "        vertical-align: middle;\n",
       "    }\n",
       "\n",
       "    .dataframe tbody tr th {\n",
       "        vertical-align: top;\n",
       "    }\n",
       "\n",
       "    .dataframe thead th {\n",
       "        text-align: right;\n",
       "    }\n",
       "</style>\n",
       "<table border=\"1\" class=\"dataframe\">\n",
       "  <thead>\n",
       "    <tr style=\"text-align: right;\">\n",
       "      <th></th>\n",
       "      <th>age</th>\n",
       "      <th>sex</th>\n",
       "      <th>bmi</th>\n",
       "      <th>map</th>\n",
       "      <th>tc</th>\n",
       "      <th>ldl</th>\n",
       "      <th>hdl</th>\n",
       "      <th>tch</th>\n",
       "      <th>ltg</th>\n",
       "      <th>glu</th>\n",
       "      <th>...</th>\n",
       "      <th>ldl_tch</th>\n",
       "      <th>ldl_ltg</th>\n",
       "      <th>ldl_glu</th>\n",
       "      <th>hdl_tch</th>\n",
       "      <th>hdl_ltg</th>\n",
       "      <th>hdl_glu</th>\n",
       "      <th>tch_ltg</th>\n",
       "      <th>tch_glu</th>\n",
       "      <th>ltg_glu</th>\n",
       "      <th>y</th>\n",
       "    </tr>\n",
       "  </thead>\n",
       "  <tbody>\n",
       "    <tr>\n",
       "      <th>0</th>\n",
       "      <td>0.038076</td>\n",
       "      <td>0.050680</td>\n",
       "      <td>0.061696</td>\n",
       "      <td>0.021872</td>\n",
       "      <td>-0.044223</td>\n",
       "      <td>-0.034821</td>\n",
       "      <td>-0.043401</td>\n",
       "      <td>-0.002592</td>\n",
       "      <td>0.019908</td>\n",
       "      <td>-0.017646</td>\n",
       "      <td>...</td>\n",
       "      <td>-0.022038</td>\n",
       "      <td>-0.031125</td>\n",
       "      <td>-0.000922</td>\n",
       "      <td>0.033494</td>\n",
       "      <td>0.000852</td>\n",
       "      <td>0.031150</td>\n",
       "      <td>-0.028191</td>\n",
       "      <td>-0.017658</td>\n",
       "      <td>-0.027794</td>\n",
       "      <td>151.0</td>\n",
       "    </tr>\n",
       "    <tr>\n",
       "      <th>1</th>\n",
       "      <td>-0.001882</td>\n",
       "      <td>-0.044642</td>\n",
       "      <td>-0.051474</td>\n",
       "      <td>-0.026328</td>\n",
       "      <td>-0.008449</td>\n",
       "      <td>-0.019163</td>\n",
       "      <td>0.074412</td>\n",
       "      <td>-0.039493</td>\n",
       "      <td>-0.068330</td>\n",
       "      <td>-0.092204</td>\n",
       "      <td>...</td>\n",
       "      <td>-0.011564</td>\n",
       "      <td>0.012973</td>\n",
       "      <td>0.023783</td>\n",
       "      <td>-0.023815</td>\n",
       "      <td>-0.094506</td>\n",
       "      <td>-0.140378</td>\n",
       "      <td>0.025298</td>\n",
       "      <td>0.053034</td>\n",
       "      <td>0.104013</td>\n",
       "      <td>75.0</td>\n",
       "    </tr>\n",
       "    <tr>\n",
       "      <th>2</th>\n",
       "      <td>0.085299</td>\n",
       "      <td>0.050680</td>\n",
       "      <td>0.044451</td>\n",
       "      <td>-0.005671</td>\n",
       "      <td>-0.045599</td>\n",
       "      <td>-0.034194</td>\n",
       "      <td>-0.032356</td>\n",
       "      <td>-0.002592</td>\n",
       "      <td>0.002864</td>\n",
       "      <td>-0.025930</td>\n",
       "      <td>...</td>\n",
       "      <td>-0.022063</td>\n",
       "      <td>-0.018016</td>\n",
       "      <td>0.004913</td>\n",
       "      <td>0.032956</td>\n",
       "      <td>0.018281</td>\n",
       "      <td>0.032795</td>\n",
       "      <td>-0.027332</td>\n",
       "      <td>-0.017236</td>\n",
       "      <td>-0.022304</td>\n",
       "      <td>141.0</td>\n",
       "    </tr>\n",
       "    <tr>\n",
       "      <th>3</th>\n",
       "      <td>-0.089063</td>\n",
       "      <td>-0.044642</td>\n",
       "      <td>-0.011595</td>\n",
       "      <td>-0.036656</td>\n",
       "      <td>0.012191</td>\n",
       "      <td>0.024991</td>\n",
       "      <td>-0.036038</td>\n",
       "      <td>0.034309</td>\n",
       "      <td>0.022692</td>\n",
       "      <td>-0.009362</td>\n",
       "      <td>...</td>\n",
       "      <td>-0.009984</td>\n",
       "      <td>-0.003373</td>\n",
       "      <td>-0.019109</td>\n",
       "      <td>0.008159</td>\n",
       "      <td>0.001898</td>\n",
       "      <td>0.021514</td>\n",
       "      <td>-0.012045</td>\n",
       "      <td>-0.024872</td>\n",
       "      <td>-0.025042</td>\n",
       "      <td>206.0</td>\n",
       "    </tr>\n",
       "    <tr>\n",
       "      <th>4</th>\n",
       "      <td>0.005383</td>\n",
       "      <td>-0.044642</td>\n",
       "      <td>-0.036385</td>\n",
       "      <td>0.021872</td>\n",
       "      <td>0.003935</td>\n",
       "      <td>0.015596</td>\n",
       "      <td>0.008142</td>\n",
       "      <td>-0.002592</td>\n",
       "      <td>-0.031991</td>\n",
       "      <td>-0.046641</td>\n",
       "      <td>...</td>\n",
       "      <td>-0.024091</td>\n",
       "      <td>-0.026846</td>\n",
       "      <td>-0.029687</td>\n",
       "      <td>0.030984</td>\n",
       "      <td>0.014489</td>\n",
       "      <td>0.005386</td>\n",
       "      <td>-0.025575</td>\n",
       "      <td>-0.016180</td>\n",
       "      <td>0.008735</td>\n",
       "      <td>135.0</td>\n",
       "    </tr>\n",
       "  </tbody>\n",
       "</table>\n",
       "<p>5 rows × 65 columns</p>\n",
       "</div>"
      ],
      "text/plain": [
       "        age       sex       bmi       map        tc       ldl       hdl  \\\n",
       "0  0.038076  0.050680  0.061696  0.021872 -0.044223 -0.034821 -0.043401   \n",
       "1 -0.001882 -0.044642 -0.051474 -0.026328 -0.008449 -0.019163  0.074412   \n",
       "2  0.085299  0.050680  0.044451 -0.005671 -0.045599 -0.034194 -0.032356   \n",
       "3 -0.089063 -0.044642 -0.011595 -0.036656  0.012191  0.024991 -0.036038   \n",
       "4  0.005383 -0.044642 -0.036385  0.021872  0.003935  0.015596  0.008142   \n",
       "\n",
       "        tch       ltg       glu  ...   ldl_tch   ldl_ltg   ldl_glu   hdl_tch  \\\n",
       "0 -0.002592  0.019908 -0.017646  ... -0.022038 -0.031125 -0.000922  0.033494   \n",
       "1 -0.039493 -0.068330 -0.092204  ... -0.011564  0.012973  0.023783 -0.023815   \n",
       "2 -0.002592  0.002864 -0.025930  ... -0.022063 -0.018016  0.004913  0.032956   \n",
       "3  0.034309  0.022692 -0.009362  ... -0.009984 -0.003373 -0.019109  0.008159   \n",
       "4 -0.002592 -0.031991 -0.046641  ... -0.024091 -0.026846 -0.029687  0.030984   \n",
       "\n",
       "    hdl_ltg   hdl_glu   tch_ltg   tch_glu   ltg_glu      y  \n",
       "0  0.000852  0.031150 -0.028191 -0.017658 -0.027794  151.0  \n",
       "1 -0.094506 -0.140378  0.025298  0.053034  0.104013   75.0  \n",
       "2  0.018281  0.032795 -0.027332 -0.017236 -0.022304  141.0  \n",
       "3  0.001898  0.021514 -0.012045 -0.024872 -0.025042  206.0  \n",
       "4  0.014489  0.005386 -0.025575 -0.016180  0.008735  135.0  \n",
       "\n",
       "[5 rows x 65 columns]"
      ]
     },
     "execution_count": 6,
     "metadata": {},
     "output_type": "execute_result"
    }
   ],
   "source": [
    "Data_train.head()"
   ]
  },
  {
   "cell_type": "code",
   "execution_count": 7,
   "id": "5d38fa2f-cea5-4cfd-94f5-6763e0441601",
   "metadata": {},
   "outputs": [
    {
     "data": {
      "text/html": [
       "<div>\n",
       "<style scoped>\n",
       "    .dataframe tbody tr th:only-of-type {\n",
       "        vertical-align: middle;\n",
       "    }\n",
       "\n",
       "    .dataframe tbody tr th {\n",
       "        vertical-align: top;\n",
       "    }\n",
       "\n",
       "    .dataframe thead th {\n",
       "        text-align: right;\n",
       "    }\n",
       "</style>\n",
       "<table border=\"1\" class=\"dataframe\">\n",
       "  <thead>\n",
       "    <tr style=\"text-align: right;\">\n",
       "      <th></th>\n",
       "      <th>age</th>\n",
       "      <th>sex</th>\n",
       "      <th>bmi</th>\n",
       "      <th>map</th>\n",
       "      <th>tc</th>\n",
       "      <th>ldl</th>\n",
       "      <th>hdl</th>\n",
       "      <th>tch</th>\n",
       "      <th>ltg</th>\n",
       "      <th>glu</th>\n",
       "      <th>...</th>\n",
       "      <th>ldl_tch</th>\n",
       "      <th>ldl_ltg</th>\n",
       "      <th>ldl_glu</th>\n",
       "      <th>hdl_tch</th>\n",
       "      <th>hdl_ltg</th>\n",
       "      <th>hdl_glu</th>\n",
       "      <th>tch_ltg</th>\n",
       "      <th>tch_glu</th>\n",
       "      <th>ltg_glu</th>\n",
       "      <th>y</th>\n",
       "    </tr>\n",
       "  </thead>\n",
       "  <tbody>\n",
       "    <tr>\n",
       "      <th>6</th>\n",
       "      <td>-0.045472</td>\n",
       "      <td>0.050680</td>\n",
       "      <td>-0.047163</td>\n",
       "      <td>-0.015999</td>\n",
       "      <td>-0.040096</td>\n",
       "      <td>-0.024800</td>\n",
       "      <td>0.000779</td>\n",
       "      <td>-0.039493</td>\n",
       "      <td>-0.062913</td>\n",
       "      <td>-0.038357</td>\n",
       "      <td>...</td>\n",
       "      <td>-0.008066</td>\n",
       "      <td>0.018496</td>\n",
       "      <td>0.006298</td>\n",
       "      <td>0.030803</td>\n",
       "      <td>0.019267</td>\n",
       "      <td>0.013254</td>\n",
       "      <td>0.021137</td>\n",
       "      <td>0.011224</td>\n",
       "      <td>0.026986</td>\n",
       "      <td>138.0</td>\n",
       "    </tr>\n",
       "    <tr>\n",
       "      <th>7</th>\n",
       "      <td>0.063504</td>\n",
       "      <td>0.050680</td>\n",
       "      <td>-0.001895</td>\n",
       "      <td>0.066630</td>\n",
       "      <td>0.090620</td>\n",
       "      <td>0.108914</td>\n",
       "      <td>0.022869</td>\n",
       "      <td>0.017703</td>\n",
       "      <td>-0.035817</td>\n",
       "      <td>0.003064</td>\n",
       "      <td>...</td>\n",
       "      <td>0.006841</td>\n",
       "      <td>-0.101758</td>\n",
       "      <td>-0.006939</td>\n",
       "      <td>0.038984</td>\n",
       "      <td>0.001868</td>\n",
       "      <td>0.015502</td>\n",
       "      <td>-0.039520</td>\n",
       "      <td>-0.017491</td>\n",
       "      <td>-0.023007</td>\n",
       "      <td>63.0</td>\n",
       "    </tr>\n",
       "    <tr>\n",
       "      <th>9</th>\n",
       "      <td>-0.070900</td>\n",
       "      <td>-0.044642</td>\n",
       "      <td>0.039062</td>\n",
       "      <td>-0.033214</td>\n",
       "      <td>-0.012577</td>\n",
       "      <td>-0.034508</td>\n",
       "      <td>-0.024993</td>\n",
       "      <td>-0.002592</td>\n",
       "      <td>0.067736</td>\n",
       "      <td>-0.013504</td>\n",
       "      <td>...</td>\n",
       "      <td>-0.022051</td>\n",
       "      <td>-0.067329</td>\n",
       "      <td>-0.004105</td>\n",
       "      <td>0.032597</td>\n",
       "      <td>-0.017875</td>\n",
       "      <td>0.021517</td>\n",
       "      <td>-0.030603</td>\n",
       "      <td>-0.017869</td>\n",
       "      <td>-0.038958</td>\n",
       "      <td>310.0</td>\n",
       "    </tr>\n",
       "    <tr>\n",
       "      <th>10</th>\n",
       "      <td>-0.096328</td>\n",
       "      <td>-0.044642</td>\n",
       "      <td>-0.083808</td>\n",
       "      <td>0.008101</td>\n",
       "      <td>-0.103389</td>\n",
       "      <td>-0.090561</td>\n",
       "      <td>-0.013948</td>\n",
       "      <td>-0.076395</td>\n",
       "      <td>-0.062913</td>\n",
       "      <td>-0.034215</td>\n",
       "      <td>...</td>\n",
       "      <td>0.085251</td>\n",
       "      <td>0.109597</td>\n",
       "      <td>0.052328</td>\n",
       "      <td>0.051393</td>\n",
       "      <td>0.040201</td>\n",
       "      <td>0.024659</td>\n",
       "      <td>0.066290</td>\n",
       "      <td>0.032830</td>\n",
       "      <td>0.021822</td>\n",
       "      <td>101.0</td>\n",
       "    </tr>\n",
       "    <tr>\n",
       "      <th>11</th>\n",
       "      <td>0.027178</td>\n",
       "      <td>0.050680</td>\n",
       "      <td>0.017506</td>\n",
       "      <td>-0.033214</td>\n",
       "      <td>-0.007073</td>\n",
       "      <td>0.045972</td>\n",
       "      <td>-0.065491</td>\n",
       "      <td>0.071210</td>\n",
       "      <td>-0.096433</td>\n",
       "      <td>-0.059067</td>\n",
       "      <td>...</td>\n",
       "      <td>0.027982</td>\n",
       "      <td>-0.113478</td>\n",
       "      <td>-0.072303</td>\n",
       "      <td>-0.056210</td>\n",
       "      <td>0.163067</td>\n",
       "      <td>0.100925</td>\n",
       "      <td>-0.160745</td>\n",
       "      <td>-0.101251</td>\n",
       "      <td>0.092040</td>\n",
       "      <td>69.0</td>\n",
       "    </tr>\n",
       "  </tbody>\n",
       "</table>\n",
       "<p>5 rows × 65 columns</p>\n",
       "</div>"
      ],
      "text/plain": [
       "         age       sex       bmi       map        tc       ldl       hdl  \\\n",
       "6  -0.045472  0.050680 -0.047163 -0.015999 -0.040096 -0.024800  0.000779   \n",
       "7   0.063504  0.050680 -0.001895  0.066630  0.090620  0.108914  0.022869   \n",
       "9  -0.070900 -0.044642  0.039062 -0.033214 -0.012577 -0.034508 -0.024993   \n",
       "10 -0.096328 -0.044642 -0.083808  0.008101 -0.103389 -0.090561 -0.013948   \n",
       "11  0.027178  0.050680  0.017506 -0.033214 -0.007073  0.045972 -0.065491   \n",
       "\n",
       "         tch       ltg       glu  ...   ldl_tch   ldl_ltg   ldl_glu   hdl_tch  \\\n",
       "6  -0.039493 -0.062913 -0.038357  ... -0.008066  0.018496  0.006298  0.030803   \n",
       "7   0.017703 -0.035817  0.003064  ...  0.006841 -0.101758 -0.006939  0.038984   \n",
       "9  -0.002592  0.067736 -0.013504  ... -0.022051 -0.067329 -0.004105  0.032597   \n",
       "10 -0.076395 -0.062913 -0.034215  ...  0.085251  0.109597  0.052328  0.051393   \n",
       "11  0.071210 -0.096433 -0.059067  ...  0.027982 -0.113478 -0.072303 -0.056210   \n",
       "\n",
       "     hdl_ltg   hdl_glu   tch_ltg   tch_glu   ltg_glu      y  \n",
       "6   0.019267  0.013254  0.021137  0.011224  0.026986  138.0  \n",
       "7   0.001868  0.015502 -0.039520 -0.017491 -0.023007   63.0  \n",
       "9  -0.017875  0.021517 -0.030603 -0.017869 -0.038958  310.0  \n",
       "10  0.040201  0.024659  0.066290  0.032830  0.021822  101.0  \n",
       "11  0.163067  0.100925 -0.160745 -0.101251  0.092040   69.0  \n",
       "\n",
       "[5 rows x 65 columns]"
      ]
     },
     "execution_count": 7,
     "metadata": {},
     "output_type": "execute_result"
    }
   ],
   "source": [
    "Data_test.head()"
   ]
  },
  {
   "cell_type": "code",
   "execution_count": 8,
   "id": "9b845f69-3108-4d93-b5fe-684579216e11",
   "metadata": {},
   "outputs": [
    {
     "name": "stdout",
     "output_type": "stream",
     "text": [
      "[[ 0.04395604  0.05786431  0.07156889 ... -0.03392584 -0.02066368\n",
      "  -0.03199881]\n",
      " [-0.00285413 -0.0522109  -0.06020568 ...  0.0273009   0.05971011\n",
      "   0.11637379]\n",
      " [ 0.09927714  0.05786431  0.05148895 ... -0.03294217 -0.02018365\n",
      "  -0.02581889]\n",
      " ...\n",
      " [-0.00710958  0.05786431 -0.01879081 ... -0.04661584  0.01242957\n",
      "  -0.04214137]\n",
      " [ 0.0482115   0.05786431 -0.01879081 ... -0.02121355 -0.02552255\n",
      "  -0.04036126]\n",
      " [-0.05391975 -0.0522109   0.04521397 ... -0.00644764 -0.03708047\n",
      "  -0.04991816]]\n"
     ]
    }
   ],
   "source": [
    "X_train = Data_train.drop(columns = ['y'],axis=1)\n",
    "Y_train = Data_train.y\n",
    "X_test = Data_test.drop(columns = [\"y\"],axis=1)\n",
    "Y_test = Data_test.y\n",
    "\n",
    "# X_train_standardized=X_train.values\n",
    "\n",
    "X_train_standardized = preprocessing.scale(X_train, with_mean = True, with_std=True)/np.sqrt(n_train)\n",
    "Y_train_centered = preprocessing.scale(Y_train, with_mean = True, with_std=False)\n",
    "Y_train_mean = np.average(Y_train)\n",
    "X_test_standardized = preprocessing.scale(X_test, with_mean = True, with_std=True)/np.sqrt(n_test)\n",
    "print(X_train_standardized)"
   ]
  },
  {
   "cell_type": "markdown",
   "id": "692b918e-facd-42af-9a56-0bd576a604ee",
   "metadata": {},
   "source": [
    "## 模型构建\n",
    "### 4. 判断用于建模的特征数据中是否存在多重共线性？提供合适的判断方案。"
   ]
  },
  {
   "cell_type": "markdown",
   "id": "6853c920-8b25-4adb-be47-adde97ff2c08",
   "metadata": {},
   "source": [
    "首先可以通过热力图来观察一下特征之间的自身相关性。"
   ]
  },
  {
   "cell_type": "code",
   "execution_count": 9,
   "id": "1a943b22-1436-404f-81b8-ddee0d8a1f99",
   "metadata": {},
   "outputs": [
    {
     "data": {
      "text/plain": [
       "<AxesSubplot:>"
      ]
     },
     "execution_count": 9,
     "metadata": {},
     "output_type": "execute_result"
    },
    {
     "data": {
      "image/png": "[encoded data removed]",
      "text/plain": [
       "<Figure size 432x288 with 2 Axes>"
      ]
     },
     "metadata": {
      "needs_background": "light"
     },
     "output_type": "display_data"
    }
   ],
   "source": [
    "pcorr = X_train.corr(method = 'pearson')\n",
    "tick_ = (np.arange(0,13,2)-2)/10\n",
    "dict_ = {\"orientation\":'vertical',\n",
    "         'label':'Correlation Coefficients',\n",
    "         \"drawedges\":False,\n",
    "         \"ticklocation\":\"top\",\n",
    "         \"extend\":\"min\",\n",
    "        \"filled\":True,\n",
    "         \"alpha\":0.8,\n",
    "         \"cmap\":\"cmap\",\n",
    "         \"ticks\":tick_}\n",
    "sns.heatmap(pcorr,cbar_kws= dict_,center=0)"
   ]
  },
  {
   "cell_type": "markdown",
   "id": "41fc267f-90f2-4441-99ca-3605d21cec94",
   "metadata": {},
   "source": [
    "因为自变量数量过多，具体关系无法看得很清楚，但是从浅色区域可以观察到，相邻自变量之间存在相关性。\n",
    "- 方差扩大因子法\n",
    "\n",
    "设置临界值为 5。"
   ]
  },
  {
   "cell_type": "code",
   "execution_count": 10,
   "id": "bce80023-a66a-4fdb-804f-ddd011c43601",
   "metadata": {},
   "outputs": [],
   "source": [
    "vif_cv = 5 # The criterion value of VIF"
   ]
  },
  {
   "cell_type": "markdown",
   "id": "323cd33c-a5c9-4a9f-87a9-1ecda28f7ded",
   "metadata": {},
   "source": [
    "1. 根据方差扩大因子的定义，可以通过矩阵计算来确定方差扩大因子。"
   ]
  },
  {
   "cell_type": "code",
   "execution_count": 11,
   "id": "4a3ec75b-f5fc-46e1-8fab-3c883a8fe02f",
   "metadata": {},
   "outputs": [
    {
     "name": "stdout",
     "output_type": "stream",
     "text": [
      "The VIF's are [1.60000000e+00 1.58000000e+00 2.71000000e+00 1.93000000e+00\n",
      " 1.13047516e+06 8.69491600e+05 1.58971170e+05 2.79400000e+01\n",
      " 1.29310430e+05 1.86000000e+00 1.79000000e+00 2.73000000e+00\n",
      " 1.89000000e+00 1.68879200e+04 8.14546000e+03 8.56210000e+02\n",
      " 1.53260000e+02 1.00684000e+03 3.71000000e+00 2.09000000e+00\n",
      " 2.25000000e+00 2.45000000e+00 1.40120000e+02 9.27800000e+01\n",
      " 3.11500000e+01 1.70000000e+01 1.91300000e+01 2.72000000e+00\n",
      " 2.32000000e+00 2.17000000e+00 1.20370000e+02 7.53200000e+01\n",
      " 2.54300000e+01 1.47600000e+01 1.79400000e+01 2.18000000e+00\n",
      " 2.63000000e+00 1.57040000e+02 1.13940000e+02 3.26900000e+01\n",
      " 2.54000000e+01 2.72800000e+01 3.02000000e+00 1.62950000e+02\n",
      " 1.15730000e+02 3.53000000e+01 1.69200000e+01 2.65500000e+01\n",
      " 3.11000000e+00 4.40575600e+04 4.62923000e+03 1.09613000e+03\n",
      " 5.70068300e+04 1.28890000e+02 3.13101000e+03 6.34540000e+02\n",
      " 3.94287300e+04 8.98800000e+01 4.71240000e+02 6.81495000e+03\n",
      " 3.55000000e+01 1.95070000e+02 2.29600000e+01 2.94400000e+01]\n"
     ]
    }
   ],
   "source": [
    "# Method One\n",
    "C = np.linalg.inv(np.dot(X_train_standardized.T,X_train_standardized))\n",
    "VIF_1 = np.diag(C)\n",
    "print(\"The VIF's are\", np.round(VIF_1,2))"
   ]
  },
  {
   "cell_type": "markdown",
   "id": "1c968467-8b17-49f0-8fc3-386c0a3072c3",
   "metadata": {},
   "source": [
    "2. 使用Python中statsmodel包中的自带函数variance_inflation_factor。"
   ]
  },
  {
   "cell_type": "code",
   "execution_count": 12,
   "id": "08277a8f-f389-47d0-bf5f-eaa5b7abc41a",
   "metadata": {},
   "outputs": [
    {
     "name": "stdout",
     "output_type": "stream",
     "text": [
      "The VIF's are [1.60000000e+00 1.58000000e+00 2.71000000e+00 1.93000000e+00\n",
      " 1.13047516e+06 8.69491600e+05 1.58971170e+05 2.79400000e+01\n",
      " 1.29310430e+05 1.86000000e+00 1.79000000e+00 2.73000000e+00\n",
      " 1.89000000e+00 1.68879200e+04 8.14546000e+03 8.56210000e+02\n",
      " 1.53260000e+02 1.00684000e+03 3.71000000e+00 2.09000000e+00\n",
      " 2.25000000e+00 2.45000000e+00 1.40120000e+02 9.27800000e+01\n",
      " 3.11500000e+01 1.70000000e+01 1.91300000e+01 2.72000000e+00\n",
      " 2.32000000e+00 2.17000000e+00 1.20370000e+02 7.53200000e+01\n",
      " 2.54300000e+01 1.47600000e+01 1.79400000e+01 2.18000000e+00\n",
      " 2.63000000e+00 1.57040000e+02 1.13940000e+02 3.26900000e+01\n",
      " 2.54000000e+01 2.72800000e+01 3.02000000e+00 1.62950000e+02\n",
      " 1.15730000e+02 3.53000000e+01 1.69200000e+01 2.65500000e+01\n",
      " 3.11000000e+00 4.40575600e+04 4.62923000e+03 1.09613000e+03\n",
      " 5.70068300e+04 1.28890000e+02 3.13101000e+03 6.34540000e+02\n",
      " 3.94287300e+04 8.98800000e+01 4.71240000e+02 6.81495000e+03\n",
      " 3.55000000e+01 1.95070000e+02 2.29600000e+01 2.94400000e+01]\n"
     ]
    }
   ],
   "source": [
    "# Method Two\n",
    "VIF_2 = [variance_inflation_factor(X_train_standardized[:,0:p], i) for i in range(p)]\n",
    "print(\"The VIF's are\", np.round(VIF_2,2))"
   ]
  },
  {
   "cell_type": "markdown",
   "id": "cc162fc8-e46c-422d-b2ab-206d727cb482",
   "metadata": {},
   "source": [
    "可以观察到使用method1和method2计算出来的方差扩大因子是一样的。"
   ]
  },
  {
   "cell_type": "code",
   "execution_count": 49,
   "id": "82d0af7e-9c51-4551-8b54-313b81ef85b2",
   "metadata": {},
   "outputs": [
    {
     "name": "stdout",
     "output_type": "stream",
     "text": [
      "The VIF of the fifth feature is 1107739.49\n"
     ]
    }
   ],
   "source": [
    "# Method Three\n",
    "X_5 = X_train_standardized[:,4]\n",
    "X_others = X_train_standardized[:,5:p]\n",
    "model_vif = sm.OLS(X_5,X_others).fit()\n",
    "X_5_VIF = 1/(1-model_vif.rsquared)\n",
    "print(\"The VIF of the fifth feature is\", np.round(X_1_VIF,2))"
   ]
  },
  {
   "cell_type": "markdown",
   "id": "8a8aa8e5-9b60-493e-9fd6-eb99e6a332ed",
   "metadata": {},
   "source": [
    "这里选取前五个自变量，可以发现其方差扩大因子超级大，远大于临界值，说明其多重共线性是严重的。"
   ]
  },
  {
   "cell_type": "markdown",
   "id": "3e0d9608-6825-44d2-9c9c-68d437f32b12",
   "metadata": {},
   "source": [
    "- 特征值方法\n",
    "\n",
    "通过计算 𝐗′𝐗 的特征值来判断数据多重共线性的程度。"
   ]
  },
  {
   "cell_type": "code",
   "execution_count": 15,
   "id": "9bb0036a-142f-42f1-ac4e-43d9613f20bb",
   "metadata": {},
   "outputs": [
    {
     "name": "stdout",
     "output_type": "stream",
     "text": [
      "The eigen values are [1.06367e+01 6.03830e+00 5.29970e+00 4.17950e+00 3.51890e+00 2.77800e+00\n",
      " 2.55830e+00 2.43240e+00 2.17240e+00 1.89020e+00 1.73500e+00 1.53430e+00\n",
      " 1.41340e+00 1.29740e+00 1.24320e+00 1.09210e+00 1.05390e+00 1.00020e+00\n",
      " 9.02800e-01 8.02000e-01 7.60700e-01 7.09000e-01 6.84500e-01 6.19300e-01\n",
      " 5.92300e-01 5.85300e-01 5.49900e-01 5.24100e-01 5.02300e-01 4.82700e-01\n",
      " 4.47300e-01 4.37100e-01 4.11000e-01 3.47200e-01 3.17800e-01 2.94500e-01\n",
      " 2.84200e-01 2.59300e-01 2.56800e-01 2.37300e-01 1.95300e-01 1.78900e-01\n",
      " 1.66500e-01 1.57900e-01 8.99000e-02 7.82000e-02 5.62000e-02 3.75000e-02\n",
      " 3.42000e-02 3.22000e-02 2.35000e-02 2.12000e-02 1.24000e-02 1.03000e-02\n",
      " 5.60000e-03 4.20000e-03 3.90000e-03 3.40000e-03 2.90000e-03 2.40000e-03\n",
      " 2.10000e-03 4.00000e-04 0.00000e+00 0.00000e+00]\n"
     ]
    }
   ],
   "source": [
    "R = np.dot(X_train_standardized.T,X_train_standardized)\n",
    "W, V = np.linalg.eig(R)\n",
    "W = -1* np.sort(-1*W)\n",
    "W_diag = np.diag(W)\n",
    "V = V.T\n",
    "print(\"The eigen values are\", np.round(W,4))"
   ]
  },
  {
   "cell_type": "code",
   "execution_count": 16,
   "id": "7efb5ef7-9a9f-4e27-ba69-b9d4c91cd0a4",
   "metadata": {},
   "outputs": [
    {
     "name": "stdout",
     "output_type": "stream",
     "text": [
      "The condition number is 5090.5826\n"
     ]
    }
   ],
   "source": [
    "Condition_Number = np.sqrt(np.max(W)/np.min(W))\n",
    "print(\"The condition number is\",np.round(Condition_Number,4))"
   ]
  },
  {
   "cell_type": "code",
   "execution_count": 17,
   "id": "039368b7-b860-478f-b470-404d473e10c7",
   "metadata": {},
   "outputs": [
    {
     "name": "stdout",
     "output_type": "stream",
     "text": [
      "The condition number is 5090.5825\n"
     ]
    }
   ],
   "source": [
    "model_ols = sm.OLS(Y_train_centered,X_train_standardized).fit()\n",
    "print(\"The condition number is\",round(model_ols.condition_number,4))"
   ]
  },
  {
   "cell_type": "code",
   "execution_count": null,
   "id": "920821be-bdf2-4adb-aa6b-a4d55dc64377",
   "metadata": {},
   "outputs": [],
   "source": [
    "可以发现，这里计算出来的条件值也很大。"
   ]
  },
  {
   "cell_type": "markdown",
   "id": "33342bf9-6cfb-4517-b61e-5af2b90ab7ac",
   "metadata": {},
   "source": [
    "### 5. 构建线性回归模型Model_1"
   ]
  },
  {
   "cell_type": "code",
   "execution_count": 18,
   "id": "07555c53-a246-4d26-8303-74b8fc6db70d",
   "metadata": {},
   "outputs": [
    {
     "data": {
      "text/html": [
       "<table class=\"simpletable\">\n",
       "<caption>OLS Regression Results</caption>\n",
       "<tr>\n",
       "  <th>Dep. Variable:</th>            <td>y</td>        <th>  R-squared:         </th> <td>   0.635</td>\n",
       "</tr>\n",
       "<tr>\n",
       "  <th>Model:</th>                   <td>OLS</td>       <th>  Adj. R-squared:    </th> <td>   0.547</td>\n",
       "</tr>\n",
       "<tr>\n",
       "  <th>Method:</th>             <td>Least Squares</td>  <th>  F-statistic:       </th> <td>   7.227</td>\n",
       "</tr>\n",
       "<tr>\n",
       "  <th>Date:</th>             <td>Wed, 09 Nov 2022</td> <th>  Prob (F-statistic):</th> <td>1.50e-31</td>\n",
       "</tr>\n",
       "<tr>\n",
       "  <th>Time:</th>                 <td>15:19:12</td>     <th>  Log-Likelihood:    </th> <td> -1739.8</td>\n",
       "</tr>\n",
       "<tr>\n",
       "  <th>No. Observations:</th>      <td>   331</td>      <th>  AIC:               </th> <td>   3610.</td>\n",
       "</tr>\n",
       "<tr>\n",
       "  <th>Df Residuals:</th>          <td>   266</td>      <th>  BIC:               </th> <td>   3857.</td>\n",
       "</tr>\n",
       "<tr>\n",
       "  <th>Df Model:</th>              <td>    64</td>      <th>                     </th>     <td> </td>   \n",
       "</tr>\n",
       "<tr>\n",
       "  <th>Covariance Type:</th>      <td>nonrobust</td>    <th>                     </th>     <td> </td>   \n",
       "</tr>\n",
       "</table>\n",
       "<table class=\"simpletable\">\n",
       "<tr>\n",
       "     <td></td>        <th>coef</th>     <th>std err</th>      <th>t</th>      <th>P>|t|</th>  <th>[0.025</th>    <th>0.975]</th>  \n",
       "</tr>\n",
       "<tr>\n",
       "  <th>const</th>   <td>  155.6401</td> <td>    2.945</td> <td>   52.854</td> <td> 0.000</td> <td>  149.842</td> <td>  161.438</td>\n",
       "</tr>\n",
       "<tr>\n",
       "  <th>age</th>     <td>   51.2268</td> <td>   76.581</td> <td>    0.669</td> <td> 0.504</td> <td>  -99.554</td> <td>  202.008</td>\n",
       "</tr>\n",
       "<tr>\n",
       "  <th>sex</th>     <td> -268.8649</td> <td>   75.199</td> <td>   -3.575</td> <td> 0.000</td> <td> -416.926</td> <td> -120.804</td>\n",
       "</tr>\n",
       "<tr>\n",
       "  <th>bmi</th>     <td>  447.8763</td> <td>   99.196</td> <td>    4.515</td> <td> 0.000</td> <td>  252.567</td> <td>  643.185</td>\n",
       "</tr>\n",
       "<tr>\n",
       "  <th>map</th>     <td>  340.9305</td> <td>   81.422</td> <td>    4.187</td> <td> 0.000</td> <td>  180.617</td> <td>  501.244</td>\n",
       "</tr>\n",
       "<tr>\n",
       "  <th>tc</th>      <td>-3.684e+04</td> <td> 6.47e+04</td> <td>   -0.569</td> <td> 0.570</td> <td>-1.64e+05</td> <td> 9.06e+04</td>\n",
       "</tr>\n",
       "<tr>\n",
       "  <th>ldl</th>     <td> 3.238e+04</td> <td> 5.69e+04</td> <td>    0.569</td> <td> 0.570</td> <td>-7.96e+04</td> <td> 1.44e+05</td>\n",
       "</tr>\n",
       "<tr>\n",
       "  <th>hdl</th>     <td>  1.36e+04</td> <td> 2.42e+04</td> <td>    0.562</td> <td> 0.574</td> <td> -3.4e+04</td> <td> 6.12e+04</td>\n",
       "</tr>\n",
       "<tr>\n",
       "  <th>tch</th>     <td>  -30.4083</td> <td>  318.628</td> <td>   -0.095</td> <td> 0.924</td> <td> -657.763</td> <td>  596.946</td>\n",
       "</tr>\n",
       "<tr>\n",
       "  <th>ltg</th>     <td> 1.273e+04</td> <td> 2.13e+04</td> <td>    0.598</td> <td> 0.550</td> <td>-2.92e+04</td> <td> 5.46e+04</td>\n",
       "</tr>\n",
       "<tr>\n",
       "  <th>glu</th>     <td>  122.6224</td> <td>   80.619</td> <td>    1.521</td> <td> 0.129</td> <td>  -36.110</td> <td>  281.354</td>\n",
       "</tr>\n",
       "<tr>\n",
       "  <th>age2</th>    <td>   -5.5146</td> <td>   82.895</td> <td>   -0.067</td> <td> 0.947</td> <td> -168.728</td> <td>  157.699</td>\n",
       "</tr>\n",
       "<tr>\n",
       "  <th>bmi2</th>    <td>   63.0349</td> <td>  102.886</td> <td>    0.613</td> <td> 0.541</td> <td> -139.539</td> <td>  265.608</td>\n",
       "</tr>\n",
       "<tr>\n",
       "  <th>map2</th>    <td>  -44.0289</td> <td>   78.444</td> <td>   -0.561</td> <td> 0.575</td> <td> -198.478</td> <td>  110.420</td>\n",
       "</tr>\n",
       "<tr>\n",
       "  <th>tc2</th>     <td> 2104.6831</td> <td> 7757.430</td> <td>    0.271</td> <td> 0.786</td> <td>-1.32e+04</td> <td> 1.74e+04</td>\n",
       "</tr>\n",
       "<tr>\n",
       "  <th>ldl2</th>    <td>  268.9691</td> <td> 5803.992</td> <td>    0.046</td> <td> 0.963</td> <td>-1.12e+04</td> <td> 1.17e+04</td>\n",
       "</tr>\n",
       "<tr>\n",
       "  <th>hdl2</th>    <td>  434.0327</td> <td> 1922.008</td> <td>    0.226</td> <td> 0.822</td> <td>-3350.252</td> <td> 4218.317</td>\n",
       "</tr>\n",
       "<tr>\n",
       "  <th>tch2</th>    <td> 1471.2789</td> <td>  781.428</td> <td>    1.883</td> <td> 0.061</td> <td>  -67.293</td> <td> 3009.850</td>\n",
       "</tr>\n",
       "<tr>\n",
       "  <th>ltg2</th>    <td> 2190.7087</td> <td> 1857.618</td> <td>    1.179</td> <td> 0.239</td> <td>-1466.798</td> <td> 5848.215</td>\n",
       "</tr>\n",
       "<tr>\n",
       "  <th>glu2</th>    <td>  -14.6809</td> <td>  111.910</td> <td>   -0.131</td> <td> 0.896</td> <td> -235.023</td> <td>  205.661</td>\n",
       "</tr>\n",
       "<tr>\n",
       "  <th>age_sex</th> <td>  124.2630</td> <td>   88.389</td> <td>    1.406</td> <td> 0.161</td> <td>  -49.768</td> <td>  298.294</td>\n",
       "</tr>\n",
       "<tr>\n",
       "  <th>age_bmi</th> <td>  -99.1106</td> <td>   92.369</td> <td>   -1.073</td> <td> 0.284</td> <td> -280.978</td> <td>   82.757</td>\n",
       "</tr>\n",
       "<tr>\n",
       "  <th>age_map</th> <td>   88.0290</td> <td>   92.720</td> <td>    0.949</td> <td> 0.343</td> <td>  -94.529</td> <td>  270.587</td>\n",
       "</tr>\n",
       "<tr>\n",
       "  <th>age_tc</th>  <td>   31.9475</td> <td>  732.414</td> <td>    0.044</td> <td> 0.965</td> <td>-1410.119</td> <td> 1474.014</td>\n",
       "</tr>\n",
       "<tr>\n",
       "  <th>age_ldl</th> <td> -212.7334</td> <td>  594.122</td> <td>   -0.358</td> <td> 0.721</td> <td>-1382.514</td> <td>  957.047</td>\n",
       "</tr>\n",
       "<tr>\n",
       "  <th>age_hdl</th> <td>  106.7541</td> <td>  339.675</td> <td>    0.314</td> <td> 0.754</td> <td> -562.039</td> <td>  775.547</td>\n",
       "</tr>\n",
       "<tr>\n",
       "  <th>age_tch</th> <td>  222.6064</td> <td>  248.283</td> <td>    0.897</td> <td> 0.371</td> <td> -266.245</td> <td>  711.457</td>\n",
       "</tr>\n",
       "<tr>\n",
       "  <th>age_ltg</th> <td>  -85.9359</td> <td>  267.530</td> <td>   -0.321</td> <td> 0.748</td> <td> -612.682</td> <td>  440.810</td>\n",
       "</tr>\n",
       "<tr>\n",
       "  <th>age_glu</th> <td>  172.2985</td> <td>   99.446</td> <td>    1.733</td> <td> 0.084</td> <td>  -23.502</td> <td>  368.099</td>\n",
       "</tr>\n",
       "<tr>\n",
       "  <th>sex_bmi</th> <td>   36.8630</td> <td>   91.902</td> <td>    0.401</td> <td> 0.689</td> <td> -144.084</td> <td>  217.810</td>\n",
       "</tr>\n",
       "<tr>\n",
       "  <th>sex_map</th> <td>   81.8598</td> <td>   86.132</td> <td>    0.950</td> <td> 0.343</td> <td>  -87.728</td> <td>  251.448</td>\n",
       "</tr>\n",
       "<tr>\n",
       "  <th>sex_tc</th>  <td>  769.7530</td> <td>  667.827</td> <td>    1.153</td> <td> 0.250</td> <td> -545.146</td> <td> 2084.652</td>\n",
       "</tr>\n",
       "<tr>\n",
       "  <th>sex_ldl</th> <td> -721.1049</td> <td>  528.815</td> <td>   -1.364</td> <td> 0.174</td> <td>-1762.301</td> <td>  320.091</td>\n",
       "</tr>\n",
       "<tr>\n",
       "  <th>sex_hdl</th> <td> -208.9125</td> <td>  306.232</td> <td>   -0.682</td> <td> 0.496</td> <td> -811.859</td> <td>  394.034</td>\n",
       "</tr>\n",
       "<tr>\n",
       "  <th>sex_tch</th> <td>   20.5195</td> <td>  232.421</td> <td>    0.088</td> <td> 0.930</td> <td> -437.100</td> <td>  478.139</td>\n",
       "</tr>\n",
       "<tr>\n",
       "  <th>sex_ltg</th> <td> -251.1841</td> <td>  251.954</td> <td>   -0.997</td> <td> 0.320</td> <td> -747.261</td> <td>  244.893</td>\n",
       "</tr>\n",
       "<tr>\n",
       "  <th>sex_glu</th> <td>    6.8582</td> <td>   87.610</td> <td>    0.078</td> <td> 0.938</td> <td> -165.640</td> <td>  179.356</td>\n",
       "</tr>\n",
       "<tr>\n",
       "  <th>bmi_map</th> <td>  192.0910</td> <td>   93.461</td> <td>    2.055</td> <td> 0.041</td> <td>    8.073</td> <td>  376.108</td>\n",
       "</tr>\n",
       "<tr>\n",
       "  <th>bmi_tc</th>  <td>-1044.2646</td> <td>  756.017</td> <td>   -1.381</td> <td> 0.168</td> <td>-2532.804</td> <td>  444.275</td>\n",
       "</tr>\n",
       "<tr>\n",
       "  <th>bmi_ldl</th> <td>  882.6153</td> <td>  634.089</td> <td>    1.392</td> <td> 0.165</td> <td> -365.856</td> <td> 2131.087</td>\n",
       "</tr>\n",
       "<tr>\n",
       "  <th>bmi_hdl</th> <td>  289.5559</td> <td>  381.204</td> <td>    0.760</td> <td> 0.448</td> <td> -461.005</td> <td> 1040.117</td>\n",
       "</tr>\n",
       "<tr>\n",
       "  <th>bmi_tch</th> <td> -137.7382</td> <td>  310.339</td> <td>   -0.444</td> <td> 0.658</td> <td> -748.772</td> <td>  473.296</td>\n",
       "</tr>\n",
       "<tr>\n",
       "  <th>bmi_ltg</th> <td>  372.3151</td> <td>  297.514</td> <td>    1.251</td> <td> 0.212</td> <td> -213.467</td> <td>  958.097</td>\n",
       "</tr>\n",
       "<tr>\n",
       "  <th>bmi_glu</th> <td>   97.5954</td> <td>  103.246</td> <td>    0.945</td> <td> 0.345</td> <td> -105.688</td> <td>  300.879</td>\n",
       "</tr>\n",
       "<tr>\n",
       "  <th>map_tc</th>  <td> 1216.2363</td> <td>  767.077</td> <td>    1.586</td> <td> 0.114</td> <td> -294.078</td> <td> 2726.551</td>\n",
       "</tr>\n",
       "<tr>\n",
       "  <th>map_ldl</th> <td> -851.9632</td> <td>  641.351</td> <td>   -1.328</td> <td> 0.185</td> <td>-2114.734</td> <td>  410.808</td>\n",
       "</tr>\n",
       "<tr>\n",
       "  <th>map_hdl</th> <td> -585.5670</td> <td>  362.285</td> <td>   -1.616</td> <td> 0.107</td> <td>-1298.878</td> <td>  127.744</td>\n",
       "</tr>\n",
       "<tr>\n",
       "  <th>map_tch</th> <td> -219.4879</td> <td>  238.134</td> <td>   -0.922</td> <td> 0.358</td> <td> -688.355</td> <td>  249.379</td>\n",
       "</tr>\n",
       "<tr>\n",
       "  <th>map_ltg</th> <td> -385.1686</td> <td>  304.295</td> <td>   -1.266</td> <td> 0.207</td> <td> -984.301</td> <td>  213.964</td>\n",
       "</tr>\n",
       "<tr>\n",
       "  <th>map_glu</th> <td> -205.0633</td> <td>  104.633</td> <td>   -1.960</td> <td> 0.051</td> <td> -411.077</td> <td>    0.950</td>\n",
       "</tr>\n",
       "<tr>\n",
       "  <th>tc_ldl</th>  <td>-1885.0305</td> <td> 1.29e+04</td> <td>   -0.146</td> <td> 0.884</td> <td>-2.72e+04</td> <td> 2.35e+04</td>\n",
       "</tr>\n",
       "<tr>\n",
       "  <th>tc_hdl</th>  <td> -807.6017</td> <td> 4349.435</td> <td>   -0.186</td> <td> 0.853</td> <td>-9371.302</td> <td> 7756.099</td>\n",
       "</tr>\n",
       "<tr>\n",
       "  <th>tc_tch</th>  <td>-1266.7931</td> <td> 2177.617</td> <td>   -0.582</td> <td> 0.561</td> <td>-5554.351</td> <td> 3020.765</td>\n",
       "</tr>\n",
       "<tr>\n",
       "  <th>tc_ltg</th>  <td> 4113.1446</td> <td> 1.41e+04</td> <td>    0.292</td> <td> 0.771</td> <td>-2.37e+04</td> <td> 3.19e+04</td>\n",
       "</tr>\n",
       "<tr>\n",
       "  <th>tc_glu</th>  <td>   97.3578</td> <td>  692.361</td> <td>    0.141</td> <td> 0.888</td> <td>-1265.848</td> <td> 1460.563</td>\n",
       "</tr>\n",
       "<tr>\n",
       "  <th>ldl_hdl</th> <td>   31.2944</td> <td> 3570.140</td> <td>    0.009</td> <td> 0.993</td> <td>-6998.035</td> <td> 7060.623</td>\n",
       "</tr>\n",
       "<tr>\n",
       "  <th>ldl_tch</th> <td>  301.2446</td> <td> 1737.976</td> <td>    0.173</td> <td> 0.863</td> <td>-3120.695</td> <td> 3723.184</td>\n",
       "</tr>\n",
       "<tr>\n",
       "  <th>ldl_ltg</th> <td>-3631.1849</td> <td> 1.17e+04</td> <td>   -0.309</td> <td> 0.757</td> <td>-2.67e+04</td> <td> 1.95e+04</td>\n",
       "</tr>\n",
       "<tr>\n",
       "  <th>ldl_glu</th> <td> -123.5584</td> <td>  579.173</td> <td>   -0.213</td> <td> 0.831</td> <td>-1263.906</td> <td> 1016.789</td>\n",
       "</tr>\n",
       "<tr>\n",
       "  <th>hdl_tch</th> <td> 1210.8095</td> <td> 1329.197</td> <td>    0.911</td> <td> 0.363</td> <td>-1406.275</td> <td> 3827.894</td>\n",
       "</tr>\n",
       "<tr>\n",
       "  <th>hdl_ltg</th> <td>-1576.8139</td> <td> 4955.877</td> <td>   -0.318</td> <td> 0.751</td> <td>-1.13e+04</td> <td> 8180.923</td>\n",
       "</tr>\n",
       "<tr>\n",
       "  <th>hdl_glu</th> <td>  134.9799</td> <td>  357.541</td> <td>    0.378</td> <td> 0.706</td> <td> -568.990</td> <td>  838.949</td>\n",
       "</tr>\n",
       "<tr>\n",
       "  <th>tch_ltg</th> <td> -410.9339</td> <td>  827.353</td> <td>   -0.497</td> <td> 0.620</td> <td>-2039.928</td> <td> 1218.061</td>\n",
       "</tr>\n",
       "<tr>\n",
       "  <th>tch_glu</th> <td>  161.9255</td> <td>  281.957</td> <td>    0.574</td> <td> 0.566</td> <td> -393.226</td> <td>  717.077</td>\n",
       "</tr>\n",
       "<tr>\n",
       "  <th>ltg_glu</th> <td>  248.3995</td> <td>  316.067</td> <td>    0.786</td> <td> 0.433</td> <td> -373.913</td> <td>  870.712</td>\n",
       "</tr>\n",
       "</table>\n",
       "<table class=\"simpletable\">\n",
       "<tr>\n",
       "  <th>Omnibus:</th>       <td> 1.589</td> <th>  Durbin-Watson:     </th> <td>   2.022</td>\n",
       "</tr>\n",
       "<tr>\n",
       "  <th>Prob(Omnibus):</th> <td> 0.452</td> <th>  Jarque-Bera (JB):  </th> <td>   1.660</td>\n",
       "</tr>\n",
       "<tr>\n",
       "  <th>Skew:</th>          <td> 0.162</td> <th>  Prob(JB):          </th> <td>   0.436</td>\n",
       "</tr>\n",
       "<tr>\n",
       "  <th>Kurtosis:</th>      <td> 2.876</td> <th>  Cond. No.          </th> <td>3.33e+04</td>\n",
       "</tr>\n",
       "</table><br/><br/>Notes:<br/>[1] Standard Errors assume that the covariance matrix of the errors is correctly specified.<br/>[2] The condition number is large, 3.33e+04. This might indicate that there are<br/>strong multicollinearity or other numerical problems."
      ],
      "text/plain": [
       "<class 'statsmodels.iolib.summary.Summary'>\n",
       "\"\"\"\n",
       "                            OLS Regression Results                            \n",
       "==============================================================================\n",
       "Dep. Variable:                      y   R-squared:                       0.635\n",
       "Model:                            OLS   Adj. R-squared:                  0.547\n",
       "Method:                 Least Squares   F-statistic:                     7.227\n",
       "Date:                Wed, 09 Nov 2022   Prob (F-statistic):           1.50e-31\n",
       "Time:                        15:19:12   Log-Likelihood:                -1739.8\n",
       "No. Observations:                 331   AIC:                             3610.\n",
       "Df Residuals:                     266   BIC:                             3857.\n",
       "Df Model:                          64                                         \n",
       "Covariance Type:            nonrobust                                         \n",
       "==============================================================================\n",
       "                 coef    std err          t      P>|t|      [0.025      0.975]\n",
       "------------------------------------------------------------------------------\n",
       "const        155.6401      2.945     52.854      0.000     149.842     161.438\n",
       "age           51.2268     76.581      0.669      0.504     -99.554     202.008\n",
       "sex         -268.8649     75.199     -3.575      0.000    -416.926    -120.804\n",
       "bmi          447.8763     99.196      4.515      0.000     252.567     643.185\n",
       "map          340.9305     81.422      4.187      0.000     180.617     501.244\n",
       "tc         -3.684e+04   6.47e+04     -0.569      0.570   -1.64e+05    9.06e+04\n",
       "ldl         3.238e+04   5.69e+04      0.569      0.570   -7.96e+04    1.44e+05\n",
       "hdl          1.36e+04   2.42e+04      0.562      0.574    -3.4e+04    6.12e+04\n",
       "tch          -30.4083    318.628     -0.095      0.924    -657.763     596.946\n",
       "ltg         1.273e+04   2.13e+04      0.598      0.550   -2.92e+04    5.46e+04\n",
       "glu          122.6224     80.619      1.521      0.129     -36.110     281.354\n",
       "age2          -5.5146     82.895     -0.067      0.947    -168.728     157.699\n",
       "bmi2          63.0349    102.886      0.613      0.541    -139.539     265.608\n",
       "map2         -44.0289     78.444     -0.561      0.575    -198.478     110.420\n",
       "tc2         2104.6831   7757.430      0.271      0.786   -1.32e+04    1.74e+04\n",
       "ldl2         268.9691   5803.992      0.046      0.963   -1.12e+04    1.17e+04\n",
       "hdl2         434.0327   1922.008      0.226      0.822   -3350.252    4218.317\n",
       "tch2        1471.2789    781.428      1.883      0.061     -67.293    3009.850\n",
       "ltg2        2190.7087   1857.618      1.179      0.239   -1466.798    5848.215\n",
       "glu2         -14.6809    111.910     -0.131      0.896    -235.023     205.661\n",
       "age_sex      124.2630     88.389      1.406      0.161     -49.768     298.294\n",
       "age_bmi      -99.1106     92.369     -1.073      0.284    -280.978      82.757\n",
       "age_map       88.0290     92.720      0.949      0.343     -94.529     270.587\n",
       "age_tc        31.9475    732.414      0.044      0.965   -1410.119    1474.014\n",
       "age_ldl     -212.7334    594.122     -0.358      0.721   -1382.514     957.047\n",
       "age_hdl      106.7541    339.675      0.314      0.754    -562.039     775.547\n",
       "age_tch      222.6064    248.283      0.897      0.371    -266.245     711.457\n",
       "age_ltg      -85.9359    267.530     -0.321      0.748    -612.682     440.810\n",
       "age_glu      172.2985     99.446      1.733      0.084     -23.502     368.099\n",
       "sex_bmi       36.8630     91.902      0.401      0.689    -144.084     217.810\n",
       "sex_map       81.8598     86.132      0.950      0.343     -87.728     251.448\n",
       "sex_tc       769.7530    667.827      1.153      0.250    -545.146    2084.652\n",
       "sex_ldl     -721.1049    528.815     -1.364      0.174   -1762.301     320.091\n",
       "sex_hdl     -208.9125    306.232     -0.682      0.496    -811.859     394.034\n",
       "sex_tch       20.5195    232.421      0.088      0.930    -437.100     478.139\n",
       "sex_ltg     -251.1841    251.954     -0.997      0.320    -747.261     244.893\n",
       "sex_glu        6.8582     87.610      0.078      0.938    -165.640     179.356\n",
       "bmi_map      192.0910     93.461      2.055      0.041       8.073     376.108\n",
       "bmi_tc     -1044.2646    756.017     -1.381      0.168   -2532.804     444.275\n",
       "bmi_ldl      882.6153    634.089      1.392      0.165    -365.856    2131.087\n",
       "bmi_hdl      289.5559    381.204      0.760      0.448    -461.005    1040.117\n",
       "bmi_tch     -137.7382    310.339     -0.444      0.658    -748.772     473.296\n",
       "bmi_ltg      372.3151    297.514      1.251      0.212    -213.467     958.097\n",
       "bmi_glu       97.5954    103.246      0.945      0.345    -105.688     300.879\n",
       "map_tc      1216.2363    767.077      1.586      0.114    -294.078    2726.551\n",
       "map_ldl     -851.9632    641.351     -1.328      0.185   -2114.734     410.808\n",
       "map_hdl     -585.5670    362.285     -1.616      0.107   -1298.878     127.744\n",
       "map_tch     -219.4879    238.134     -0.922      0.358    -688.355     249.379\n",
       "map_ltg     -385.1686    304.295     -1.266      0.207    -984.301     213.964\n",
       "map_glu     -205.0633    104.633     -1.960      0.051    -411.077       0.950\n",
       "tc_ldl     -1885.0305   1.29e+04     -0.146      0.884   -2.72e+04    2.35e+04\n",
       "tc_hdl      -807.6017   4349.435     -0.186      0.853   -9371.302    7756.099\n",
       "tc_tch     -1266.7931   2177.617     -0.582      0.561   -5554.351    3020.765\n",
       "tc_ltg      4113.1446   1.41e+04      0.292      0.771   -2.37e+04    3.19e+04\n",
       "tc_glu        97.3578    692.361      0.141      0.888   -1265.848    1460.563\n",
       "ldl_hdl       31.2944   3570.140      0.009      0.993   -6998.035    7060.623\n",
       "ldl_tch      301.2446   1737.976      0.173      0.863   -3120.695    3723.184\n",
       "ldl_ltg    -3631.1849   1.17e+04     -0.309      0.757   -2.67e+04    1.95e+04\n",
       "ldl_glu     -123.5584    579.173     -0.213      0.831   -1263.906    1016.789\n",
       "hdl_tch     1210.8095   1329.197      0.911      0.363   -1406.275    3827.894\n",
       "hdl_ltg    -1576.8139   4955.877     -0.318      0.751   -1.13e+04    8180.923\n",
       "hdl_glu      134.9799    357.541      0.378      0.706    -568.990     838.949\n",
       "tch_ltg     -410.9339    827.353     -0.497      0.620   -2039.928    1218.061\n",
       "tch_glu      161.9255    281.957      0.574      0.566    -393.226     717.077\n",
       "ltg_glu      248.3995    316.067      0.786      0.433    -373.913     870.712\n",
       "==============================================================================\n",
       "Omnibus:                        1.589   Durbin-Watson:                   2.022\n",
       "Prob(Omnibus):                  0.452   Jarque-Bera (JB):                1.660\n",
       "Skew:                           0.162   Prob(JB):                        0.436\n",
       "Kurtosis:                       2.876   Cond. No.                     3.33e+04\n",
       "==============================================================================\n",
       "\n",
       "Notes:\n",
       "[1] Standard Errors assume that the covariance matrix of the errors is correctly specified.\n",
       "[2] The condition number is large, 3.33e+04. This might indicate that there are\n",
       "strong multicollinearity or other numerical problems.\n",
       "\"\"\""
      ]
     },
     "execution_count": 18,
     "metadata": {},
     "output_type": "execute_result"
    }
   ],
   "source": [
    "X_train_withintercept = sm.add_constant(X_train)\n",
    "model_1 = sm.OLS(Y_train,X_train_withintercept).fit()\n",
    "model_1.summary()"
   ]
  },
  {
   "cell_type": "markdown",
   "id": "76a3c4ae-ede9-4591-b969-fc19d5947bca",
   "metadata": {},
   "source": [
    "### 6. 构建岭回归模型Model_2\n",
    "\n",
    "岭回归估计为\n",
    "$$\n",
    "\\hat{\\mathbf{\\beta}}(k) = (\\mathbf{X}'\\mathbf{X} + k \\mathbf{I})^{-1} \\mathbf{X}' \\mathbf{y}.\n",
    "$$\n",
    "\n",
    "使用statmodels.api包中OLS.fit_regularized可以实现。"
   ]
  },
  {
   "cell_type": "code",
   "execution_count": 19,
   "id": "b306597d-4500-4809-9f56-2610f946fa70",
   "metadata": {},
   "outputs": [
    {
     "name": "stdout",
     "output_type": "stream",
     "text": [
      "The parameters in the ridge regression are  [  6.57   0.87  22.98  16.82   8.17   7.1  -15.32  16.35  21.09  14.71\n",
      "  -0.82   9.9    7.02   1.94   1.65  -5.66   4.99   1.39   5.74   2.56\n",
      "  -3.37   2.26  -4.32  -5.53  -2.09  -1.11   0.9    1.12  -0.21   2.07\n",
      "  -0.12  -2.29   2.68  -0.76   1.27   1.1    6.04  -3.62  -5.58  -1.44\n",
      "   0.54   2.68   5.71  -1.32  -3.8   -0.18  -0.76   3.71   2.62   1.5\n",
      "  -0.77   3.24   0.31   2.68   3.25   1.35  -4.31  -0.25   0.97   2.75\n",
      "  -2.9    0.82   5.68   6.25]\n"
     ]
    }
   ],
   "source": [
    "## Ridge Regression\n",
    "alpha  = 0.1 # A hyperparameter in Ridge Regression (equivalently but not equally, k in slides)\n",
    "model_rr = sm.OLS(Y_train_centered,X_train_standardized).fit_regularized(L1_wt=0,alpha = alpha)\n",
    "print(\"The parameters in the ridge regression are \",np.round(model_rr.params,2))"
   ]
  },
  {
   "cell_type": "markdown",
   "id": "8686177a-dc88-4bdc-a4fd-0e60baa55403",
   "metadata": {},
   "source": [
    "其中超参数 $\\alpha=k/n$"
   ]
  },
  {
   "cell_type": "code",
   "execution_count": 20,
   "id": "1e4a125d-ccdb-4d3b-91f7-3fb5974be7c4",
   "metadata": {},
   "outputs": [],
   "source": [
    "alpha_num = 100\n",
    "alpha_vec = np.array(list(range(0,alpha_num)))/alpha_num/1000\n",
    "RR_coef = []\n",
    "RR_vif = []\n",
    "\n",
    "for alpha in alpha_vec:\n",
    "    rr_model = sm.OLS(Y_train_centered,X_train_standardized).fit_regularized(L1_wt=0,alpha = alpha)\n",
    "    rr_coef = rr_model.params\n",
    "    RR_coef.append(rr_coef)"
   ]
  },
  {
   "cell_type": "markdown",
   "id": "f17691aa-f144-4e70-bcc9-7bd5d364ba7d",
   "metadata": {},
   "source": [
    "下面通过岭迹图来去认定最优的超参数。"
   ]
  },
  {
   "cell_type": "code",
   "execution_count": 21,
   "id": "07f2e3f2-ae74-465e-94b8-6e8607e6d71f",
   "metadata": {},
   "outputs": [
    {
     "data": {
      "text/plain": [
       "<matplotlib.legend.Legend at 0x7fffac211f70>"
      ]
     },
     "execution_count": 21,
     "metadata": {},
     "output_type": "execute_result"
    },
    {
     "data": {
      "image/png": "[encoded data removed]",
      "text/plain": [
       "<Figure size 432x288 with 1 Axes>"
      ]
     },
     "metadata": {
      "needs_background": "light"
     },
     "output_type": "display_data"
    }
   ],
   "source": [
    "for i in range(p):\n",
    "    plt.plot(alpha_vec, np.array(RR_coef)[:,i],label = \"X%d\"%(i+1))\n",
    "\n",
    "plt.axis([-0.00005,0.0008,-6000,8000])    \n",
    "plt.legend(loc=\"right\",bbox_to_anchor=(1.25,0.5),borderaxespad=1)\n"
   ]
  },
  {
   "cell_type": "markdown",
   "id": "a4f841dc-4e4f-411a-9a43-8c21cf7c328b",
   "metadata": {},
   "source": [
    "因为自变量过多，从上图也很难直接看出最优的超参数，因此可以计算不同$\\alpha$下的VIF值，其复合临界值条件时，可以进行选择。"
   ]
  },
  {
   "cell_type": "code",
   "execution_count": 22,
   "id": "77d9a5e6-495c-491f-8135-7373cf10b6e5",
   "metadata": {},
   "outputs": [
    {
     "name": "stdout",
     "output_type": "stream",
     "text": [
      "The chosen value of alpha is 4e-05\n"
     ]
    }
   ],
   "source": [
    "C_k = []\n",
    "for alpha in alpha_vec:\n",
    "    k = alpha * n_train\n",
    "    c_k = np.linalg.inv(X_train_standardized.T @ X_train_standardized + k * np.eye(p)) @ X_train_standardized.T @ X_train_standardized @ np.linalg.inv(X_train_standardized.T @ X_train_standardized + k * np.eye(p))\n",
    "    C_k.append(np.mean(np.diag(c_k)))\n",
    "\n",
    "alpha_best = alpha_vec[np.min(np.where(np.array(C_k) < vif_cv))]\n",
    "print(\"The chosen value of alpha is\", alpha_best)"
   ]
  },
  {
   "cell_type": "code",
   "execution_count": 26,
   "id": "9f5479ac-833d-4db2-8691-df0debc60182",
   "metadata": {},
   "outputs": [
    {
     "name": "stdout",
     "output_type": "stream",
     "text": [
      "[  49.18727069 -209.59909726  393.31498016  288.79412849  -18.69428418\n",
      "  -34.98887568 -110.68624965   58.70066223  452.28552038  105.59352164\n",
      "    8.56283294   60.90136242  -49.86567536   67.09812668 -122.7738872\n",
      " -161.72013873  382.15277195  163.77752245    9.54041553  126.7286674\n",
      "  -84.57046454   80.02853587   49.96810357 -156.00731847   65.09918099\n",
      "  127.81976687  -63.99186267  107.46572671   44.79407627   52.93282717\n",
      "  244.66979557 -300.57351992    8.39526631   65.8828763  -107.43982286\n",
      "   14.88396914  169.99052531 -264.93812755  199.08444868   38.51421567\n",
      " -101.24225078   62.16441333  103.43664844  185.72820868  -30.99995111\n",
      " -114.32316045 -132.98761051    4.96939327 -168.60370417   94.24212656\n",
      "  139.19905777 -159.39372414 -303.71741972  -21.53842278 -121.27733869\n",
      "   51.51580821  323.64712523   -4.5036802    27.09635228   71.2965431\n",
      "  156.596778   -352.25736379  156.93639597  190.53269687]\n"
     ]
    }
   ],
   "source": [
    "model_rr_best = sm.OLS(Y_train_centered,X_train_standardized).fit_regularized(L1_wt=0,alpha = alpha_best)\n",
    "model_rr_best_coef = model_rr_best.params\n",
    "print(model_rr_best_coef)"
   ]
  },
  {
   "cell_type": "markdown",
   "id": "f02a1cf1-7d69-4a95-a2cc-624f938977f1",
   "metadata": {},
   "source": [
    "### 7. 构建主成分回归模型Model_3\n",
    "\n",
    "在PCR模型中，先构建特征的主成分。"
   ]
  },
  {
   "cell_type": "code",
   "execution_count": 27,
   "id": "439379b2-2dcc-4328-abb8-db7a32a368f4",
   "metadata": {},
   "outputs": [
    {
     "name": "stdout",
     "output_type": "stream",
     "text": [
      "The percentages of total variance are [1.06367e+01 6.03830e+00 5.29970e+00 4.17950e+00 3.51890e+00 2.77800e+00\n",
      " 2.55830e+00 2.43240e+00 2.17240e+00 1.89020e+00 1.73500e+00 1.53430e+00\n",
      " 1.41340e+00 1.29740e+00 1.24320e+00 1.09210e+00 1.05390e+00 1.00020e+00\n",
      " 9.02800e-01 8.02000e-01 7.60700e-01 7.09000e-01 6.84500e-01 6.19300e-01\n",
      " 5.92300e-01 5.85300e-01 5.49900e-01 5.24100e-01 5.02300e-01 4.82700e-01\n",
      " 4.47300e-01 4.37100e-01 4.11000e-01 3.47200e-01 3.17800e-01 2.94500e-01\n",
      " 2.84200e-01 2.59300e-01 2.56800e-01 2.37300e-01 1.95300e-01 1.78900e-01\n",
      " 1.66500e-01 1.57900e-01 8.99000e-02 7.82000e-02 5.62000e-02 3.75000e-02\n",
      " 3.42000e-02 3.22000e-02 2.35000e-02 2.12000e-02 1.24000e-02 1.03000e-02\n",
      " 5.60000e-03 4.20000e-03 3.90000e-03 3.40000e-03 2.90000e-03 2.40000e-03\n",
      " 2.10000e-03 4.00000e-04 0.00000e+00 0.00000e+00]\n"
     ]
    }
   ],
   "source": [
    "model_pca = PCA(X_train_standardized,standardize = False, demean = True)\n",
    "model_pca_cr = model_pca.eigenvals # contribution rate of each component\n",
    "print(\"The percentages of total variance are\", np.around(model_pca_cr,4))"
   ]
  },
  {
   "cell_type": "markdown",
   "id": "c39dbee2-cac3-44e4-a3b5-4dd68ad9458a",
   "metadata": {},
   "source": [
    "在计算出$\\mathbf{X}'\\mathbf{X}$的特征值后，通过代码进行验证。"
   ]
  },
  {
   "cell_type": "code",
   "execution_count": 52,
   "id": "f863036c-3484-48cb-a087-1e9976d09c86",
   "metadata": {},
   "outputs": [
    {
     "name": "stdout",
     "output_type": "stream",
     "text": [
      "The eigen values of X'X are  [1.06367e+01 6.03830e+00 5.29970e+00 4.17950e+00 3.51890e+00 2.77800e+00\n",
      " 2.55830e+00 2.43240e+00 2.17240e+00 1.89020e+00 1.73500e+00 1.53430e+00\n",
      " 1.41340e+00 1.29740e+00 1.24320e+00 1.09210e+00 1.05390e+00 1.00020e+00\n",
      " 9.02800e-01 8.02000e-01 7.60700e-01 7.09000e-01 6.84500e-01 6.19300e-01\n",
      " 5.92300e-01 5.85300e-01 5.49900e-01 5.24100e-01 5.02300e-01 4.82700e-01\n",
      " 4.47300e-01 4.37100e-01 4.11000e-01 3.47200e-01 3.17800e-01 2.94500e-01\n",
      " 2.84200e-01 2.59300e-01 2.56800e-01 2.37300e-01 1.95300e-01 1.78900e-01\n",
      " 1.66500e-01 1.57900e-01 8.99000e-02 7.82000e-02 5.62000e-02 3.75000e-02\n",
      " 3.42000e-02 3.22000e-02 2.35000e-02 2.12000e-02 1.24000e-02 1.03000e-02\n",
      " 5.60000e-03 4.20000e-03 3.90000e-03 3.40000e-03 2.90000e-03 2.40000e-03\n",
      " 2.10000e-03 4.00000e-04 0.00000e+00 0.00000e+00]\n"
     ]
    }
   ],
   "source": [
    "Corr_Mat = X_train_standardized.T @ X_train_standardized\n",
    "Lambda, V = np.linalg.eig(Corr_Mat)\n",
    "Lambda = sorted(Lambda,reverse = True)\n",
    "print(\"The eigen values of X'X are \", np.around(Lambda,4))"
   ]
  },
  {
   "cell_type": "markdown",
   "id": "b4274857-9281-45bc-bb53-17b164b5eb2b",
   "metadata": {},
   "source": [
    "通过比对发现，二者的值没有区别。\n",
    "\n",
    "接下来选择超参数：主成分个数。通过绘制scree plot来进行主观判断。"
   ]
  },
  {
   "cell_type": "code",
   "execution_count": 29,
   "id": "f15bb06f-5a7e-4513-98df-6bd3bd41514b",
   "metadata": {},
   "outputs": [
    {
     "data": {
      "image/png": "[encoded data removed]",
      "text/plain": [
       "<Figure size 432x288 with 1 Axes>"
      ]
     },
     "metadata": {
      "needs_background": "light"
     },
     "output_type": "display_data"
    }
   ],
   "source": [
    "fig = model_pca.plot_scree(log_scale = False)"
   ]
  },
  {
   "cell_type": "markdown",
   "id": "85691f89-1d5c-4554-a812-8a2d043b8af7",
   "metadata": {},
   "source": [
    "同时可以计算其信息增量（每增加一个主成分），因此绘制scree plot来观察其累计贡献率。"
   ]
  },
  {
   "cell_type": "code",
   "execution_count": 30,
   "id": "2afa037c-8374-4bab-9a0f-bac8ce64d30b",
   "metadata": {},
   "outputs": [
    {
     "name": "stdout",
     "output_type": "stream",
     "text": [
      "The cummulative percentages of total variance are [0.1662 0.2605 0.3434 0.4087 0.4636 0.507  0.547  0.585  0.619  0.6485\n",
      " 0.6756 0.6996 0.7217 0.7419 0.7614 0.7784 0.7949 0.8105 0.8246 0.8372\n",
      " 0.849  0.8601 0.8708 0.8805 0.8898 0.8989 0.9075 0.9157 0.9235 0.9311\n",
      " 0.9381 0.9449 0.9513 0.9567 0.9617 0.9663 0.9707 0.9748 0.9788 0.9825\n",
      " 0.9856 0.9884 0.991  0.9934 0.9948 0.9961 0.9969 0.9975 0.9981 0.9986\n",
      " 0.9989 0.9993 0.9995 0.9996 0.9997 0.9998 0.9998 0.9999 0.9999 1.\n",
      " 1.     1.     1.     1.    ]\n"
     ]
    },
    {
     "data": {
      "image/png": "[encoded data removed]",
      "text/plain": [
       "<Figure size 432x288 with 1 Axes>"
      ]
     },
     "metadata": {
      "needs_background": "light"
     },
     "output_type": "display_data"
    }
   ],
   "source": [
    "model_pca_ccr = np.cumsum(model_pca_cr)/p # cummulative contribution rate\n",
    "print(\"The cummulative percentages of total variance are\", np.around(model_pca_ccr,4))\n",
    "\n",
    "fig = model_pca.plot_scree(log_scale = False)"
   ]
  },
  {
   "cell_type": "markdown",
   "id": "a39ab332-073c-4b04-8f73-36c4e8155a41",
   "metadata": {},
   "source": [
    "选取主成分，要求其累计贡献率达到85%。"
   ]
  },
  {
   "cell_type": "code",
   "execution_count": 55,
   "id": "03ffe2d1-f681-4012-8ff7-cb8cf60d29b4",
   "metadata": {},
   "outputs": [],
   "source": [
    "pca_cv = 0.85"
   ]
  },
  {
   "cell_type": "code",
   "execution_count": 56,
   "id": "27024ee4-aea7-483c-ad8e-9e34ab9363f9",
   "metadata": {},
   "outputs": [
    {
     "name": "stdout",
     "output_type": "stream",
     "text": [
      "The appropriate number of component is 22\n"
     ]
    }
   ],
   "source": [
    "num_pca = np.min(np.where(model_pca_ccr > pca_cv))\n",
    "print(\"The appropriate number of component is\", (num_pca+1))"
   ]
  },
  {
   "cell_type": "markdown",
   "id": "a7a07b83-9c43-4414-aae2-49d24eed8ab6",
   "metadata": {},
   "source": [
    "最佳主成分个数为22。（虽然正常来说应该不超过6个）\n",
    "\n",
    "最后构建主成分来代替原始特征，并拟合回归模型；通过线性变换来估计主成分回归中的参数。"
   ]
  },
  {
   "cell_type": "code",
   "execution_count": 57,
   "id": "27d7d8df-9217-42cb-87d9-ab9c1a183eaa",
   "metadata": {},
   "outputs": [
    {
     "name": "stdout",
     "output_type": "stream",
     "text": [
      "[  31.64514126  -87.0640497    35.42076033  -21.74276651   25.1368363\n",
      "  -86.9997658    29.57686656  -24.20677382   92.60103624    4.25962194\n",
      "   17.20312271   95.23542076 -160.88848535  -50.22052549  -21.4689416\n",
      "  -53.76083077  -12.26890518  -25.6538251  -101.18046153  149.0209172\n",
      "  -27.33113385   43.78598147   65.42582837   39.59455104  173.06349843\n",
      "  -36.46876517  224.39088252   -8.63737177  -60.3047631    33.30957996\n",
      "  -46.16583603  -92.90026034  204.60530321   29.5615031    86.94343733\n",
      " -186.72364988   84.42328373  -66.55982519  -12.22593065  -32.21613177\n",
      "  -47.15029132  194.62677498  -36.92885881  -36.67419706  -34.91204804\n",
      "  -51.20543564  -29.56013147   14.97954988   12.259338     23.7876361\n",
      "   -7.07468394   -7.08433808   30.82951756  -34.91007149   92.47695574\n",
      " -120.62902269  -16.53773432   80.28942301   12.56838477   28.90698879\n",
      "  -10.2644987    69.6746599    50.86233647 -114.14998843]\n"
     ]
    }
   ],
   "source": [
    "model_pca_selected = PCA(X_train_standardized,  standardize = False,  demean = True)\n",
    "V = model_pca_selected.loadings\n",
    "Z_train_standardized= X_train_standardized @ V[:,0:(num_pca+1)]\n",
    "model_pcr = sm.OLS(Y_train_centered, Z_train_standardized).fit()\n",
    "model_pcr_coef = V.T @ np.pad(model_pcr.params,(0,p-(num_pca+1)))\n",
    "print(model_pcr_coef)"
   ]
  },
  {
   "cell_type": "markdown",
   "id": "2b6aea4b-ed41-4eeb-be77-20602bfc836b",
   "metadata": {},
   "source": [
    "## 模型评价\n",
    "\n",
    "### 8. 利用RMSE，比较Model_1、Model_2、Model_3在测试集上的预测效果。请进行评论。"
   ]
  },
  {
   "cell_type": "markdown",
   "id": "b9f7f3ac-421a-4422-8985-02706d6dcf0c",
   "metadata": {},
   "source": [
    "RMSE衡量指标：\n",
    "\n",
    "$$\n",
    "RMSE = \\sqrt{n^{-1}\\sum_{i=1}^n (\\hat{y}_i - y_i)^2}\n",
    "$$\n",
    "\n",
    "1. 构建线性回归模型。对于每一个数据$(\\mathbf{x}_i,y_i)$，线性回归模型的预测结果为\n",
    "$$\n",
    "y_i^{\\text{ols}} = \\hat{\\beta}_0 + \\mathbf{x}_i \\hat{\\mathbf{\\beta}}^{\\text{ols}}\n",
    "$$\n",
    "这里\n",
    "- $\\hat{\\beta}_0$采用训练集中响应变量的样本均值来估计；\n",
    "- $\\hat{\\mathbf{\\beta}}^{\\text{ols}}$采用最小二乘估计；"
   ]
  },
  {
   "cell_type": "code",
   "execution_count": 34,
   "id": "935d82a7-c647-46b2-9183-2c93e40754f8",
   "metadata": {},
   "outputs": [
    {
     "name": "stdout",
     "output_type": "stream",
     "text": [
      "The RMSE in the ordinary regression is 167.8528\n"
     ]
    }
   ],
   "source": [
    "model_ols_coef = model_ols.params \n",
    "Y_pred_ols = Y_train_mean + X_test_standardized @ model_ols_coef\n",
    "ols_rmse = np.sqrt(np.mean((Y_pred_ols-Y_test)**2))\n",
    "print(\"The RMSE in the ordinary regression is\", round(ols_rmse,4))"
   ]
  },
  {
   "cell_type": "markdown",
   "id": "a5232905-3012-4df9-8ff8-c5af577263d9",
   "metadata": {},
   "source": [
    "2. 构建岭回归模型。对于每一个数据$(\\mathbf{x}_i,y_i)$，岭回归模型的预测结果为\n",
    "$$\n",
    "y_i^{\\text{rr}} = \\hat{\\beta}_0 + \\mathbf{x}_i \\hat{\\mathbf{\\beta}}^{\\text{rr}}\n",
    "$$\n",
    "这里\n",
    "- $\\hat{\\beta}_0$采用训练集中响应变量的样本均值来估计；\n",
    "- $\\hat{\\mathbf{\\beta}}^{\\text{rr}}$采用岭回归估计；\n"
   ]
  },
  {
   "cell_type": "code",
   "execution_count": 36,
   "id": "67c3e91d-6500-43e4-a66d-4dff9b8da97a",
   "metadata": {},
   "outputs": [
    {
     "name": "stdout",
     "output_type": "stream",
     "text": [
      "The RMSE in the ridge regression is 87.0656\n"
     ]
    }
   ],
   "source": [
    "Y_pred_rr = Y_train_mean + X_test_standardized @ model_rr_best_coef\n",
    "rr_rmse = np.sqrt(np.mean((Y_pred_rr-Y_test)**2))\n",
    "\n",
    "print(\"The RMSE in the ridge regression is\", round(rr_rmse,4))\n",
    "    "
   ]
  },
  {
   "cell_type": "markdown",
   "id": "809ded5d-0b96-4496-8aa0-8ad476a7a90d",
   "metadata": {},
   "source": [
    "3. 构建主成分回归模型。对于每一个数据$(\\mathbf{x}_i,y_i)$，主成分回归模型的预测结果为\n",
    "$$\n",
    "y_i^{\\text{pcr}} = \\hat{\\beta}_0 + \\mathbf{x}_i \\hat{\\mathbf{\\beta}}^{\\text{pcr}}\n",
    "$$\n",
    "这里\n",
    "- $\\hat{\\beta}_0$采用训练集中响应变量的样本均值来估计；\n",
    "- $\\hat{\\mathbf{\\beta}}^{\\text{pcrr}}$采用主成分回归估计；\n"
   ]
  },
  {
   "cell_type": "code",
   "execution_count": 37,
   "id": "7869a24f-8d52-4c98-bec6-2929e2d2fa88",
   "metadata": {},
   "outputs": [
    {
     "name": "stdout",
     "output_type": "stream",
     "text": [
      "The RMSE in the ordinary regression is 92.3889\n"
     ]
    }
   ],
   "source": [
    "Y_pred_pcr = Y_train_mean + X_test_standardized @ model_pcr_coef\n",
    "pcr_rmse = np.sqrt(np.mean((Y_pred_pcr-Y_test)**2))\n",
    "\n",
    "print(\"The RMSE in the ordinary regression is\", round(pcr_rmse,4))"
   ]
  },
  {
   "cell_type": "markdown",
   "id": "76581c47-3aab-4d27-8fa1-9a9233666554",
   "metadata": {},
   "source": [
    "从预测的角度来看，预测效果：岭回归模型>主成分回归模型>普通线性回归模型。"
   ]
  },
  {
   "cell_type": "code",
   "execution_count": null,
   "id": "b5c06402-22ce-4bf2-bcac-635fe0f08525",
   "metadata": {},
   "outputs": [],
   "source": []
  }
 ],
 "metadata": {
  "kernelspec": {
   "display_name": "Python 3 (ipykernel)",
   "language": "python",
   "name": "python3"
  },
  "language_info": {
   "codemirror_mode": {
    "name": "ipython",
    "version": 3
   },
   "file_extension": ".py",
   "mimetype": "text/x-python",
   "name": "python",
   "nbconvert_exporter": "python",
   "pygments_lexer": "ipython3",
   "version": "3.9.12"
  }
 },
 "nbformat": 4,
 "nbformat_minor": 5
}
