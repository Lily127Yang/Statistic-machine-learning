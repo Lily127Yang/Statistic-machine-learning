{
 "cells": [
  {
   "cell_type": "markdown",
   "id": "cbbb2998",
   "metadata": {},
   "source": [
    "##                                                  统计方法与机器学习实验二\n",
    "\n",
    "###                                                                                                                                                              10215501435 杨茜雅\n",
    "\n",
    "## 背景描述\n",
    "\n",
    "汽车发动机在测功机上产生的**制动马力**被认为是**发动机转速**(每分钟转数，rpm)、**燃料的道路辛烷值**和**发动机压缩值**的函数，我们在实验室里进行实验，研究它们的函数关系。\n",
    "\n",
    "## 数据描述\n",
    "| 变量名 | 变量含义 | 变量类型 | 变量取值范围 |\n",
    "| :----------: | :--------: | :----------: | :----------: |\n",
    "| rpm | 发动机转速 | 连续变量 | $R^+$ |\n",
    "| Road_Octane_Number | 道路辛烷值 | 连续变量 | $R+$ |\n",
    "| Compression | 压缩值 | 连续变量 | $R^+$ |\n",
    "| Brake_Horsepower | 制动马力 | 连续变量 | $R^+$ |\n",
    "\n",
    "## 任务 \n",
    "注：这里使用 $\\alpha=0.05$ 的显著性水平。\n",
    "\n",
    "1. 请用多元线性回归模型，描述制动马力和发动机转速、道路辛烷值以及压缩值之间的函数关系。\n",
    "2. 分别将数据中心化、标准化之后，比较参数估计的异同，并进行评述（提示：可以结合理论课的课件）。\n",
    "3. 从模型显著性、参数显著性以及残差分析三个角度，分析多元线性回归模型是否合理。\n",
    "4. 若取发动机转速为3000转/min，道路辛烷值为90，发动机压缩值为100时，分别给出制动马力值的置信区间和预测区间。\n"
   ]
  },
  {
   "cell_type": "code",
   "execution_count": 74,
   "id": "80232deb",
   "metadata": {},
   "outputs": [],
   "source": [
    "import os # 修改工作目录\n",
    "\n",
    "import numpy as np\n",
    "import pandas as pd\n",
    "import scipy.stats as stats\n",
    "import matplotlib.pyplot as plt\n",
    "from sklearn.linear_model import LinearRegression\n",
    "from jupyterquiz import display_quiz\n",
    "\n",
    "import statsmodels.api as sm\n",
    "from statsmodels.formula.api import ols\n",
    "from statsmodels.stats.anova import anova_lm\n",
    "from scipy.stats import f\n",
    "from scipy.stats import t\n",
    "\n",
    "from sklearn import datasets, linear_model\n",
    "from sklearn.metrics import mean_squared_error, r2_score\n",
    "from sklearn import preprocessing\n",
    "\n",
    "import warnings\n",
    "warnings.filterwarnings('ignore')\n",
    "\n",
    "alpha = 0.05"
   ]
  },
  {
   "cell_type": "code",
   "execution_count": 75,
   "id": "946e1836",
   "metadata": {},
   "outputs": [],
   "source": [
    "os.chdir(\"/Users/86138/统计方法实验二/Data\")"
   ]
  },
  {
   "cell_type": "code",
   "execution_count": 76,
   "id": "52638002",
   "metadata": {},
   "outputs": [
    {
     "name": "stdout",
     "output_type": "stream",
     "text": [
      "Data 3 is shown as follows: \n",
      "      rpm  Road Octane Number  Compression  Brake Horsepower\n",
      "0   2000                  90          100               225\n",
      "1   1800                  94           95               212\n",
      "2   2400                  88          110               229\n",
      "3   1900                  91           96               222\n",
      "4   1600                  86          100               219\n",
      "5   2500                  96          110               278\n",
      "6   3000                  94           98               246\n",
      "7   3200                  90          100               237\n",
      "8   2800                  88          105               233\n",
      "9   3400                  86           97               224\n",
      "10  1800                  90          100               223\n",
      "11  2500                  89          104               230\n"
     ]
    }
   ],
   "source": [
    "print('Data 3 is shown as follows: \\n', pd.read_csv(\"Project_3.csv\"))"
   ]
  },
  {
   "cell_type": "code",
   "execution_count": 77,
   "id": "a8b6cbac",
   "metadata": {},
   "outputs": [
    {
     "name": "stdout",
     "output_type": "stream",
     "text": [
      "    rpm  Road Octane Number  Compression  Brake Horsepower\n",
      "0  2000                  90          100               225\n",
      "1  1800                  94           95               212\n",
      "2  2400                  88          110               229\n",
      "3  1900                  91           96               222\n",
      "4  1600                  86          100               219\n"
     ]
    }
   ],
   "source": [
    "Data = pd.read_csv(\"Project_3.csv\")\n",
    "print(Data.head())"
   ]
  },
  {
   "cell_type": "code",
   "execution_count": 78,
   "id": "20f72805",
   "metadata": {},
   "outputs": [
    {
     "name": "stdout",
     "output_type": "stream",
     "text": [
      "The number of instances is  12\n",
      "The number of features is  3\n"
     ]
    }
   ],
   "source": [
    "n = Data.shape[0]\n",
    "p = Data.shape[1] - 1\n",
    "print(\"The number of instances is \", n)\n",
    "print(\"The number of features is \", p)"
   ]
  },
  {
   "cell_type": "markdown",
   "id": "03c45990",
   "metadata": {},
   "source": [
    "# Task 1: 请用多元线性回归模型，描述制动马力和发动机转速、道路辛烷值以及压缩值之间的函数关系。\n",
    "\n",
    "多元线性回归模型形如\n",
    "$$\n",
    "y_i = \\beta_0 + \\beta_1 x_{1} + \\beta_2 x_{2} + \\beta_3 x_{3} + \\epsilon_{i}, i=1,2,\\cdots,n\n",
    "$$\n",
    "其中，$\\beta_0,\\beta_1,\\beta_2,\\beta_3$分别是未知参数，而$\\epsilon_{i}$是误差项，且满足$E(\\epsilon_{i}) = 0$和$Var(\\epsilon_{i}) = \\sigma^2$。$n$表示样本量。\n",
    "\n",
    "我们可以用矩阵的形式来写这个模型，即\n",
    "$$\n",
    "\\mathbf{y} = \\mathbf{X}\\mathbf{\\beta} + \\mathbf{\\epsilon}\n",
    "$$\n",
    "其中，\n",
    "- 响应变量构成的向量为$$\n",
    "\\mathbf{y} = \\begin{pmatrix}y_1\\\\y_2\\\\\\vdots\\\\ y_n\\end{pmatrix},\n",
    "$$\n",
    "- 自变量/特征构成的矩阵$$\n",
    "\\mathbf{X} = \\begin{pmatrix}\n",
    "1 & x_{11} & x_{12} \\\\\n",
    "1 & x_{21} & x_{22} \\\\\n",
    "\\vdots & \\vdots & \\vdots \\\\\n",
    "1 & x_{n1} & x_{n2} \\\\\n",
    "\\end{pmatrix},\n",
    "$$\n",
    "- 待估参数向量为\n",
    "$$\n",
    "\\mathbf{\\beta} = \\begin{pmatrix}\n",
    "\\beta_0 \\\\ \\beta_1 \\\\ \\beta_2 \\\\ \\beta_3\n",
    "\\end{pmatrix},\n",
    "$$\n",
    "- 误差向量为\n",
    "$$\n",
    "\\mathbf{\\epsilon} = \\begin{pmatrix}\\epsilon_1\\\\\\epsilon_2\\\\\\vdots\\\\ \\epsilon_n\\end{pmatrix}.\n",
    "$$\n"
   ]
  },
  {
   "cell_type": "markdown",
   "id": "46d441f8",
   "metadata": {},
   "source": [
    "已知参数向量的估计为\n",
    "$$\n",
    "\\hat{\\mathbf{\\beta}} = (\\mathbf{X}'\\mathbf{X})^{-1} \\mathbf{X}'\\mathbf{y}.\n",
    "$$"
   ]
  },
  {
   "cell_type": "markdown",
   "id": "223bfeae",
   "metadata": {},
   "source": [
    "**Solution:**  \n",
    "使用多元线性回归的方法，令发动机转速为$X_1$，道路辛烷值为$X_2$，压缩值为$X_3$，制动马力为$Y$。则线性模型为：$Y = \\beta_0 + \\beta_1X_1 + \\beta_2X_2 + \\beta_3X_3 +\\epsilon$，并假定随机误差项符合正态分布。根据以上数据，可以求得$\\hat{\\beta_1},\\hat{\\beta_2},\\hat{\\beta_3}$及线性回归方程如下。"
   ]
  },
  {
   "cell_type": "markdown",
   "id": "30b37d4e",
   "metadata": {},
   "source": [
    "## 课上代码迁移 ##"
   ]
  },
  {
   "cell_type": "code",
   "execution_count": 79,
   "id": "a79cca85",
   "metadata": {},
   "outputs": [
    {
     "name": "stdout",
     "output_type": "stream",
     "text": [
      "The estimates of the parameters are \n",
      " [-2.660312e+02  1.070000e-02  3.134800e+00  1.867400e+00]\n"
     ]
    }
   ],
   "source": [
    "## Method 1: Matrix Calculus\n",
    "Data1 = sm.add_constant(Data)\n",
    "Data1_value = Data1.values\n",
    "X = Data1_value[:,0:(p+1)]\n",
    "y = Data1_value[:,-1]\n",
    "beta_hat_1 = np.linalg.inv(X.T @ X) @ (X.T @ y)\n",
    "# A @ B <=> np.dot(A,B) matrix multiply\n",
    "print(\"The estimates of the parameters are \\n\", \n",
    "      np.around(beta_hat_1,4))"
   ]
  },
  {
   "cell_type": "code",
   "execution_count": 80,
   "id": "6405fa09",
   "metadata": {},
   "outputs": [
    {
     "name": "stdout",
     "output_type": "stream",
     "text": [
      "    rpm  Road_Octane_Number  Compression  Brake_Horsepower\n",
      "0  2000                  90          100               225\n",
      "1  1800                  94           95               212\n",
      "2  2400                  88          110               229\n",
      "3  1900                  91           96               222\n",
      "4  1600                  86          100               219\n",
      "The estimates of the parameters are \n",
      " Intercept            -266.0312\n",
      "rpm                     0.0107\n",
      "Road_Octane_Number      3.1348\n",
      "Compression             1.8674\n",
      "dtype: float64\n"
     ]
    }
   ],
   "source": [
    "## Method 2: 「statsmodels」 package\n",
    "Data2 = pd.read_csv(\"Project_3.csv\")\n",
    "\n",
    "# 将列名中的空格改为下划线\n",
    "Data2 = Data2.rename(columns={'Road Octane Number': 'Road_Octane_Number', 'Brake Horsepower': 'Brake_Horsepower'})\n",
    "\n",
    "# 打印前几行数据，检查列名是否已更改\n",
    "print(Data2.head())\n",
    "\n",
    "model1 = ols(\"Brake_Horsepower ~ rpm + Road_Octane_Number + Compression\", Data2).fit()\n",
    "beta_hat_2 = model1.params\n",
    "#print(\"The estimates of the parameters are \\n\", \n",
    "#      round(model.param(),4))\n",
    "print(\"The estimates of the parameters are \\n\", \n",
    "      round(beta_hat_2,4))"
   ]
  },
  {
   "cell_type": "code",
   "execution_count": 81,
   "id": "081a0ed4",
   "metadata": {},
   "outputs": [
    {
     "name": "stdout",
     "output_type": "stream",
     "text": [
      "The estimates of the parameters are \n",
      " [-2.660312e+02  1.070000e-02  3.134800e+00  1.867400e+00]\n"
     ]
    }
   ],
   "source": [
    "## Method 3: 「scikit-learn」package\n",
    "model2 = linear_model.LinearRegression()\n",
    "X_without_intercept = X[:,1:4]\n",
    "model2.fit(X_without_intercept, y)\n",
    "beta_hat_3 = np.append(np.array(model2.intercept_),model2.coef_)\n",
    "print(\"The estimates of the parameters are \\n\", \n",
    "      np.around(beta_hat_3,4))"
   ]
  },
  {
   "cell_type": "markdown",
   "id": "b85b786a",
   "metadata": {},
   "source": [
    "## 自己尝试 ##"
   ]
  },
  {
   "cell_type": "code",
   "execution_count": 82,
   "id": "f63f3547",
   "metadata": {
    "scrolled": true
   },
   "outputs": [
    {
     "name": "stdout",
     "output_type": "stream",
     "text": [
      "    intercept      P1    P2     P3      F\n",
      "0         1.0  2000.0  90.0  100.0  225.0\n",
      "1         1.0  1800.0  94.0   95.0  212.0\n",
      "2         1.0  2400.0  88.0  110.0  229.0\n",
      "3         1.0  1900.0  91.0   96.0  222.0\n",
      "4         1.0  1600.0  86.0  100.0  219.0\n",
      "5         1.0  2500.0  96.0  110.0  278.0\n",
      "6         1.0  3000.0  94.0   98.0  246.0\n",
      "7         1.0  3200.0  90.0  100.0  237.0\n",
      "8         1.0  2800.0  88.0  105.0  233.0\n",
      "9         1.0  3400.0  86.0   97.0  224.0\n",
      "10        1.0  1800.0  90.0  100.0  223.0\n",
      "11        1.0  2500.0  89.0  104.0  230.0\n",
      "参数估计值: \n",
      " Intercept   -266.0312\n",
      "P1             0.0107\n",
      "P2             3.1348\n",
      "P3             1.8674\n",
      "dtype: float64\n"
     ]
    },
    {
     "data": {
      "text/html": [
       "<table class=\"simpletable\">\n",
       "<caption>OLS Regression Results</caption>\n",
       "<tr>\n",
       "  <th>Dep. Variable:</th>            <td>F</td>        <th>  R-squared:         </th> <td>   0.807</td>\n",
       "</tr>\n",
       "<tr>\n",
       "  <th>Model:</th>                   <td>OLS</td>       <th>  Adj. R-squared:    </th> <td>   0.734</td>\n",
       "</tr>\n",
       "<tr>\n",
       "  <th>Method:</th>             <td>Least Squares</td>  <th>  F-statistic:       </th> <td>   11.12</td>\n",
       "</tr>\n",
       "<tr>\n",
       "  <th>Date:</th>             <td>Sat, 07 Oct 2023</td> <th>  Prob (F-statistic):</th>  <td>0.00317</td>\n",
       "</tr>\n",
       "<tr>\n",
       "  <th>Time:</th>                 <td>15:22:12</td>     <th>  Log-Likelihood:    </th> <td> -40.708</td>\n",
       "</tr>\n",
       "<tr>\n",
       "  <th>No. Observations:</th>      <td>    12</td>      <th>  AIC:               </th> <td>   89.42</td>\n",
       "</tr>\n",
       "<tr>\n",
       "  <th>Df Residuals:</th>          <td>     8</td>      <th>  BIC:               </th> <td>   91.36</td>\n",
       "</tr>\n",
       "<tr>\n",
       "  <th>Df Model:</th>              <td>     3</td>      <th>                     </th>     <td> </td>   \n",
       "</tr>\n",
       "<tr>\n",
       "  <th>Covariance Type:</th>      <td>nonrobust</td>    <th>                     </th>     <td> </td>   \n",
       "</tr>\n",
       "</table>\n",
       "<table class=\"simpletable\">\n",
       "<tr>\n",
       "      <td></td>         <th>coef</th>     <th>std err</th>      <th>t</th>      <th>P>|t|</th>  <th>[0.025</th>    <th>0.975]</th>  \n",
       "</tr>\n",
       "<tr>\n",
       "  <th>Intercept</th> <td> -266.0312</td> <td>   92.674</td> <td>   -2.871</td> <td> 0.021</td> <td> -479.737</td> <td>  -52.325</td>\n",
       "</tr>\n",
       "<tr>\n",
       "  <th>P1</th>        <td>    0.0107</td> <td>    0.004</td> <td>    2.390</td> <td> 0.044</td> <td>    0.000</td> <td>    0.021</td>\n",
       "</tr>\n",
       "<tr>\n",
       "  <th>P2</th>        <td>    3.1348</td> <td>    0.844</td> <td>    3.712</td> <td> 0.006</td> <td>    1.188</td> <td>    5.082</td>\n",
       "</tr>\n",
       "<tr>\n",
       "  <th>P3</th>        <td>    1.8674</td> <td>    0.535</td> <td>    3.494</td> <td> 0.008</td> <td>    0.635</td> <td>    3.100</td>\n",
       "</tr>\n",
       "</table>\n",
       "<table class=\"simpletable\">\n",
       "<tr>\n",
       "  <th>Omnibus:</th>       <td> 0.392</td> <th>  Durbin-Watson:     </th> <td>   1.043</td>\n",
       "</tr>\n",
       "<tr>\n",
       "  <th>Prob(Omnibus):</th> <td> 0.822</td> <th>  Jarque-Bera (JB):  </th> <td>   0.230</td>\n",
       "</tr>\n",
       "<tr>\n",
       "  <th>Skew:</th>          <td>-0.282</td> <th>  Prob(JB):          </th> <td>   0.891</td>\n",
       "</tr>\n",
       "<tr>\n",
       "  <th>Kurtosis:</th>      <td> 2.625</td> <th>  Cond. No.          </th> <td>9.03e+04</td>\n",
       "</tr>\n",
       "</table><br/><br/>Notes:<br/>[1] Standard Errors assume that the covariance matrix of the errors is correctly specified.<br/>[2] The condition number is large, 9.03e+04. This might indicate that there are<br/>strong multicollinearity or other numerical problems."
      ],
      "text/latex": [
       "\\begin{center}\n",
       "\\begin{tabular}{lclc}\n",
       "\\toprule\n",
       "\\textbf{Dep. Variable:}    &        F         & \\textbf{  R-squared:         } &     0.807   \\\\\n",
       "\\textbf{Model:}            &       OLS        & \\textbf{  Adj. R-squared:    } &     0.734   \\\\\n",
       "\\textbf{Method:}           &  Least Squares   & \\textbf{  F-statistic:       } &     11.12   \\\\\n",
       "\\textbf{Date:}             & Sat, 07 Oct 2023 & \\textbf{  Prob (F-statistic):} &  0.00317    \\\\\n",
       "\\textbf{Time:}             &     15:22:12     & \\textbf{  Log-Likelihood:    } &   -40.708   \\\\\n",
       "\\textbf{No. Observations:} &          12      & \\textbf{  AIC:               } &     89.42   \\\\\n",
       "\\textbf{Df Residuals:}     &           8      & \\textbf{  BIC:               } &     91.36   \\\\\n",
       "\\textbf{Df Model:}         &           3      & \\textbf{                     } &             \\\\\n",
       "\\textbf{Covariance Type:}  &    nonrobust     & \\textbf{                     } &             \\\\\n",
       "\\bottomrule\n",
       "\\end{tabular}\n",
       "\\begin{tabular}{lcccccc}\n",
       "                   & \\textbf{coef} & \\textbf{std err} & \\textbf{t} & \\textbf{P$> |$t$|$} & \\textbf{[0.025} & \\textbf{0.975]}  \\\\\n",
       "\\midrule\n",
       "\\textbf{Intercept} &    -266.0312  &       92.674     &    -2.871  &         0.021        &     -479.737    &      -52.325     \\\\\n",
       "\\textbf{P1}        &       0.0107  &        0.004     &     2.390  &         0.044        &        0.000    &        0.021     \\\\\n",
       "\\textbf{P2}        &       3.1348  &        0.844     &     3.712  &         0.006        &        1.188    &        5.082     \\\\\n",
       "\\textbf{P3}        &       1.8674  &        0.535     &     3.494  &         0.008        &        0.635    &        3.100     \\\\\n",
       "\\bottomrule\n",
       "\\end{tabular}\n",
       "\\begin{tabular}{lclc}\n",
       "\\textbf{Omnibus:}       &  0.392 & \\textbf{  Durbin-Watson:     } &    1.043  \\\\\n",
       "\\textbf{Prob(Omnibus):} &  0.822 & \\textbf{  Jarque-Bera (JB):  } &    0.230  \\\\\n",
       "\\textbf{Skew:}          & -0.282 & \\textbf{  Prob(JB):          } &    0.891  \\\\\n",
       "\\textbf{Kurtosis:}      &  2.625 & \\textbf{  Cond. No.          } & 9.03e+04  \\\\\n",
       "\\bottomrule\n",
       "\\end{tabular}\n",
       "%\\caption{OLS Regression Results}\n",
       "\\end{center}\n",
       "\n",
       "Notes: \\newline\n",
       " [1] Standard Errors assume that the covariance matrix of the errors is correctly specified. \\newline\n",
       " [2] The condition number is large, 9.03e+04. This might indicate that there are \\newline\n",
       " strong multicollinearity or other numerical problems."
      ],
      "text/plain": [
       "<class 'statsmodels.iolib.summary.Summary'>\n",
       "\"\"\"\n",
       "                            OLS Regression Results                            \n",
       "==============================================================================\n",
       "Dep. Variable:                      F   R-squared:                       0.807\n",
       "Model:                            OLS   Adj. R-squared:                  0.734\n",
       "Method:                 Least Squares   F-statistic:                     11.12\n",
       "Date:                Sat, 07 Oct 2023   Prob (F-statistic):            0.00317\n",
       "Time:                        15:22:12   Log-Likelihood:                -40.708\n",
       "No. Observations:                  12   AIC:                             89.42\n",
       "Df Residuals:                       8   BIC:                             91.36\n",
       "Df Model:                           3                                         \n",
       "Covariance Type:            nonrobust                                         \n",
       "==============================================================================\n",
       "                 coef    std err          t      P>|t|      [0.025      0.975]\n",
       "------------------------------------------------------------------------------\n",
       "Intercept   -266.0312     92.674     -2.871      0.021    -479.737     -52.325\n",
       "P1             0.0107      0.004      2.390      0.044       0.000       0.021\n",
       "P2             3.1348      0.844      3.712      0.006       1.188       5.082\n",
       "P3             1.8674      0.535      3.494      0.008       0.635       3.100\n",
       "==============================================================================\n",
       "Omnibus:                        0.392   Durbin-Watson:                   1.043\n",
       "Prob(Omnibus):                  0.822   Jarque-Bera (JB):                0.230\n",
       "Skew:                          -0.282   Prob(JB):                        0.891\n",
       "Kurtosis:                       2.625   Cond. No.                     9.03e+04\n",
       "==============================================================================\n",
       "\n",
       "Notes:\n",
       "[1] Standard Errors assume that the covariance matrix of the errors is correctly specified.\n",
       "[2] The condition number is large, 9.03e+04. This might indicate that there are\n",
       "strong multicollinearity or other numerical problems.\n",
       "\"\"\""
      ]
     },
     "execution_count": 82,
     "metadata": {},
     "output_type": "execute_result"
    }
   ],
   "source": [
    "import scipy.stats as stats\n",
    "import math\n",
    "\n",
    "x = pd.read_csv('Project_3.csv')\n",
    "x.insert(0, 'intercept', np.ones(len(x))) \n",
    "data = x.values * 1\n",
    "df = pd.DataFrame(data, columns = ['intercept', 'P1', 'P2', 'P3', 'F'])\n",
    "print(df)\n",
    "\n",
    "# Do the multiple linear regression\n",
    "model = ols('F ~ P1 + P2 + P3', df).fit()\n",
    "beta = model.params\n",
    "print('参数估计值: \\n', round(beta, 4))\n",
    "X = data[:, 0 : p + 1]\n",
    "Y = data[:, -1]\n",
    "Y_hat = model.fittedvalues\n",
    "model.summary()"
   ]
  },
  {
   "cell_type": "markdown",
   "id": "1d76f2a9",
   "metadata": {},
   "source": [
    "## 综上所述，我们可以输出多元线性回归方程 ##"
   ]
  },
  {
   "cell_type": "code",
   "execution_count": 83,
   "id": "f7256d9a",
   "metadata": {},
   "outputs": [
    {
     "name": "stdout",
     "output_type": "stream",
     "text": [
      "Y_hat = -266.03 + (0.01 * X1) + (3.13 * X2) + (1.87 * X3)\n"
     ]
    }
   ],
   "source": [
    "print('Y_hat = %.2f + (%.2f * X1) + (%.2f * X2) + (%.2f * X3)' % (beta[0], beta[1], beta[2], beta[3]))"
   ]
  },
  {
   "cell_type": "markdown",
   "id": "49d0c7c7",
   "metadata": {},
   "source": [
    "# Task 2: 分别将数据中心化、标准化之后，比较参数估计的异同，并进行评述（提示：可以结合理论课的课件）。"
   ]
  },
  {
   "cell_type": "markdown",
   "id": "b2adbd82",
   "metadata": {},
   "source": [
    "## 中心化"
   ]
  },
  {
   "cell_type": "markdown",
   "id": "238dc9b5",
   "metadata": {},
   "source": [
    "### 课上代码"
   ]
  },
  {
   "cell_type": "code",
   "execution_count": 84,
   "id": "b306c5a3",
   "metadata": {},
   "outputs": [
    {
     "data": {
      "text/html": [
       "<table class=\"simpletable\">\n",
       "<caption>OLS Regression Results</caption>\n",
       "<tr>\n",
       "  <th>Dep. Variable:</th>    <td>Brake_Horsepower</td> <th>  R-squared:         </th> <td>   0.807</td>\n",
       "</tr>\n",
       "<tr>\n",
       "  <th>Model:</th>                   <td>OLS</td>       <th>  Adj. R-squared:    </th> <td>   0.734</td>\n",
       "</tr>\n",
       "<tr>\n",
       "  <th>Method:</th>             <td>Least Squares</td>  <th>  F-statistic:       </th> <td>   11.12</td>\n",
       "</tr>\n",
       "<tr>\n",
       "  <th>Date:</th>             <td>Sat, 07 Oct 2023</td> <th>  Prob (F-statistic):</th>  <td>0.00317</td>\n",
       "</tr>\n",
       "<tr>\n",
       "  <th>Time:</th>                 <td>15:22:14</td>     <th>  Log-Likelihood:    </th> <td> -40.708</td>\n",
       "</tr>\n",
       "<tr>\n",
       "  <th>No. Observations:</th>      <td>    12</td>      <th>  AIC:               </th> <td>   89.42</td>\n",
       "</tr>\n",
       "<tr>\n",
       "  <th>Df Residuals:</th>          <td>     8</td>      <th>  BIC:               </th> <td>   91.36</td>\n",
       "</tr>\n",
       "<tr>\n",
       "  <th>Df Model:</th>              <td>     3</td>      <th>                     </th>     <td> </td>   \n",
       "</tr>\n",
       "<tr>\n",
       "  <th>Covariance Type:</th>      <td>nonrobust</td>    <th>                     </th>     <td> </td>   \n",
       "</tr>\n",
       "</table>\n",
       "<table class=\"simpletable\">\n",
       "<tr>\n",
       "           <td></td>             <th>coef</th>     <th>std err</th>      <th>t</th>      <th>P>|t|</th>  <th>[0.025</th>    <th>0.975]</th>  \n",
       "</tr>\n",
       "<tr>\n",
       "  <th>Intercept</th>          <td> -266.0312</td> <td>   92.674</td> <td>   -2.871</td> <td> 0.021</td> <td> -479.737</td> <td>  -52.325</td>\n",
       "</tr>\n",
       "<tr>\n",
       "  <th>rpm</th>                <td>    0.0107</td> <td>    0.004</td> <td>    2.390</td> <td> 0.044</td> <td>    0.000</td> <td>    0.021</td>\n",
       "</tr>\n",
       "<tr>\n",
       "  <th>Road_Octane_Number</th> <td>    3.1348</td> <td>    0.844</td> <td>    3.712</td> <td> 0.006</td> <td>    1.188</td> <td>    5.082</td>\n",
       "</tr>\n",
       "<tr>\n",
       "  <th>Compression</th>        <td>    1.8674</td> <td>    0.535</td> <td>    3.494</td> <td> 0.008</td> <td>    0.635</td> <td>    3.100</td>\n",
       "</tr>\n",
       "</table>\n",
       "<table class=\"simpletable\">\n",
       "<tr>\n",
       "  <th>Omnibus:</th>       <td> 0.392</td> <th>  Durbin-Watson:     </th> <td>   1.043</td>\n",
       "</tr>\n",
       "<tr>\n",
       "  <th>Prob(Omnibus):</th> <td> 0.822</td> <th>  Jarque-Bera (JB):  </th> <td>   0.230</td>\n",
       "</tr>\n",
       "<tr>\n",
       "  <th>Skew:</th>          <td>-0.282</td> <th>  Prob(JB):          </th> <td>   0.891</td>\n",
       "</tr>\n",
       "<tr>\n",
       "  <th>Kurtosis:</th>      <td> 2.625</td> <th>  Cond. No.          </th> <td>9.03e+04</td>\n",
       "</tr>\n",
       "</table><br/><br/>Notes:<br/>[1] Standard Errors assume that the covariance matrix of the errors is correctly specified.<br/>[2] The condition number is large, 9.03e+04. This might indicate that there are<br/>strong multicollinearity or other numerical problems."
      ],
      "text/latex": [
       "\\begin{center}\n",
       "\\begin{tabular}{lclc}\n",
       "\\toprule\n",
       "\\textbf{Dep. Variable:}       & Brake\\_Horsepower & \\textbf{  R-squared:         } &     0.807   \\\\\n",
       "\\textbf{Model:}               &        OLS        & \\textbf{  Adj. R-squared:    } &     0.734   \\\\\n",
       "\\textbf{Method:}              &   Least Squares   & \\textbf{  F-statistic:       } &     11.12   \\\\\n",
       "\\textbf{Date:}                &  Sat, 07 Oct 2023 & \\textbf{  Prob (F-statistic):} &  0.00317    \\\\\n",
       "\\textbf{Time:}                &      15:22:14     & \\textbf{  Log-Likelihood:    } &   -40.708   \\\\\n",
       "\\textbf{No. Observations:}    &           12      & \\textbf{  AIC:               } &     89.42   \\\\\n",
       "\\textbf{Df Residuals:}        &            8      & \\textbf{  BIC:               } &     91.36   \\\\\n",
       "\\textbf{Df Model:}            &            3      & \\textbf{                     } &             \\\\\n",
       "\\textbf{Covariance Type:}     &     nonrobust     & \\textbf{                     } &             \\\\\n",
       "\\bottomrule\n",
       "\\end{tabular}\n",
       "\\begin{tabular}{lcccccc}\n",
       "                              & \\textbf{coef} & \\textbf{std err} & \\textbf{t} & \\textbf{P$> |$t$|$} & \\textbf{[0.025} & \\textbf{0.975]}  \\\\\n",
       "\\midrule\n",
       "\\textbf{Intercept}            &    -266.0312  &       92.674     &    -2.871  &         0.021        &     -479.737    &      -52.325     \\\\\n",
       "\\textbf{rpm}                  &       0.0107  &        0.004     &     2.390  &         0.044        &        0.000    &        0.021     \\\\\n",
       "\\textbf{Road\\_Octane\\_Number} &       3.1348  &        0.844     &     3.712  &         0.006        &        1.188    &        5.082     \\\\\n",
       "\\textbf{Compression}          &       1.8674  &        0.535     &     3.494  &         0.008        &        0.635    &        3.100     \\\\\n",
       "\\bottomrule\n",
       "\\end{tabular}\n",
       "\\begin{tabular}{lclc}\n",
       "\\textbf{Omnibus:}       &  0.392 & \\textbf{  Durbin-Watson:     } &    1.043  \\\\\n",
       "\\textbf{Prob(Omnibus):} &  0.822 & \\textbf{  Jarque-Bera (JB):  } &    0.230  \\\\\n",
       "\\textbf{Skew:}          & -0.282 & \\textbf{  Prob(JB):          } &    0.891  \\\\\n",
       "\\textbf{Kurtosis:}      &  2.625 & \\textbf{  Cond. No.          } & 9.03e+04  \\\\\n",
       "\\bottomrule\n",
       "\\end{tabular}\n",
       "%\\caption{OLS Regression Results}\n",
       "\\end{center}\n",
       "\n",
       "Notes: \\newline\n",
       " [1] Standard Errors assume that the covariance matrix of the errors is correctly specified. \\newline\n",
       " [2] The condition number is large, 9.03e+04. This might indicate that there are \\newline\n",
       " strong multicollinearity or other numerical problems."
      ],
      "text/plain": [
       "<class 'statsmodels.iolib.summary.Summary'>\n",
       "\"\"\"\n",
       "                            OLS Regression Results                            \n",
       "==============================================================================\n",
       "Dep. Variable:       Brake_Horsepower   R-squared:                       0.807\n",
       "Model:                            OLS   Adj. R-squared:                  0.734\n",
       "Method:                 Least Squares   F-statistic:                     11.12\n",
       "Date:                Sat, 07 Oct 2023   Prob (F-statistic):            0.00317\n",
       "Time:                        15:22:14   Log-Likelihood:                -40.708\n",
       "No. Observations:                  12   AIC:                             89.42\n",
       "Df Residuals:                       8   BIC:                             91.36\n",
       "Df Model:                           3                                         \n",
       "Covariance Type:            nonrobust                                         \n",
       "======================================================================================\n",
       "                         coef    std err          t      P>|t|      [0.025      0.975]\n",
       "--------------------------------------------------------------------------------------\n",
       "Intercept           -266.0312     92.674     -2.871      0.021    -479.737     -52.325\n",
       "rpm                    0.0107      0.004      2.390      0.044       0.000       0.021\n",
       "Road_Octane_Number     3.1348      0.844      3.712      0.006       1.188       5.082\n",
       "Compression            1.8674      0.535      3.494      0.008       0.635       3.100\n",
       "==============================================================================\n",
       "Omnibus:                        0.392   Durbin-Watson:                   1.043\n",
       "Prob(Omnibus):                  0.822   Jarque-Bera (JB):                0.230\n",
       "Skew:                          -0.282   Prob(JB):                        0.891\n",
       "Kurtosis:                       2.625   Cond. No.                     9.03e+04\n",
       "==============================================================================\n",
       "\n",
       "Notes:\n",
       "[1] Standard Errors assume that the covariance matrix of the errors is correctly specified.\n",
       "[2] The condition number is large, 9.03e+04. This might indicate that there are\n",
       "strong multicollinearity or other numerical problems.\n",
       "\"\"\""
      ]
     },
     "execution_count": 84,
     "metadata": {},
     "output_type": "execute_result"
    }
   ],
   "source": [
    "model1.summary()"
   ]
  },
  {
   "cell_type": "code",
   "execution_count": 85,
   "id": "be7ac440",
   "metadata": {},
   "outputs": [
    {
     "name": "stdout",
     "output_type": "stream",
     "text": [
      "The sample means of centered features are  [-0. -0.  0.]\n",
      "The sample mean of centered response is  0.0\n"
     ]
    }
   ],
   "source": [
    "## 中心化\n",
    "Data1 = sm.add_constant(Data)\n",
    "Data1_value = Data1.values\n",
    "X = Data1_value[:,0:(p+1)]\n",
    "y = Data1_value[:,-1]\n",
    "X_center = preprocessing.scale(X_without_intercept, with_mean = True, with_std=False)\n",
    "y_center = preprocessing.scale(y, with_mean = True, with_std=False)\n",
    "# with_mean = True (default), with_std = True (default)\n",
    "\n",
    "# print(X_center) \n",
    "\n",
    "print(\"The sample means of centered features are \", np.around(np.mean(X_center,axis=0),4))\n",
    "print(\"The sample mean of centered response is \", np.around(np.mean(y_center,axis=0),4))"
   ]
  },
  {
   "cell_type": "code",
   "execution_count": 86,
   "id": "fe078115",
   "metadata": {},
   "outputs": [
    {
     "name": "stdout",
     "output_type": "stream",
     "text": [
      "The estimates of the parameters are \n",
      " [0.     0.0107 3.1348 1.8674]\n"
     ]
    }
   ],
   "source": [
    "model3 = linear_model.LinearRegression()\n",
    "model3.fit(X_center, y_center)\n",
    "beta_hat_4 = np.append(np.array(model3.intercept_),model3.coef_)\n",
    "print(\"The estimates of the parameters are \\n\", \n",
    "          np.around(beta_hat_4,4))"
   ]
  },
  {
   "cell_type": "markdown",
   "id": "eace4391",
   "metadata": {},
   "source": [
    "### 自己尝试"
   ]
  },
  {
   "cell_type": "code",
   "execution_count": 87,
   "id": "8e14d05a",
   "metadata": {},
   "outputs": [
    {
     "name": "stdout",
     "output_type": "stream",
     "text": [
      "参数估计值: \n",
      " Intercept    0.0000\n",
      "P1_cent      0.0107\n",
      "P2_cent      3.1348\n",
      "P3_cent      1.8674\n",
      "dtype: float64\n"
     ]
    },
    {
     "data": {
      "text/html": [
       "<table class=\"simpletable\">\n",
       "<caption>OLS Regression Results</caption>\n",
       "<tr>\n",
       "  <th>Dep. Variable:</th>         <td>F_cent</td>      <th>  R-squared:         </th> <td>   0.807</td>\n",
       "</tr>\n",
       "<tr>\n",
       "  <th>Model:</th>                   <td>OLS</td>       <th>  Adj. R-squared:    </th> <td>   0.734</td>\n",
       "</tr>\n",
       "<tr>\n",
       "  <th>Method:</th>             <td>Least Squares</td>  <th>  F-statistic:       </th> <td>   11.12</td>\n",
       "</tr>\n",
       "<tr>\n",
       "  <th>Date:</th>             <td>Sat, 07 Oct 2023</td> <th>  Prob (F-statistic):</th>  <td>0.00317</td>\n",
       "</tr>\n",
       "<tr>\n",
       "  <th>Time:</th>                 <td>15:22:16</td>     <th>  Log-Likelihood:    </th> <td> -40.708</td>\n",
       "</tr>\n",
       "<tr>\n",
       "  <th>No. Observations:</th>      <td>    12</td>      <th>  AIC:               </th> <td>   89.42</td>\n",
       "</tr>\n",
       "<tr>\n",
       "  <th>Df Residuals:</th>          <td>     8</td>      <th>  BIC:               </th> <td>   91.36</td>\n",
       "</tr>\n",
       "<tr>\n",
       "  <th>Df Model:</th>              <td>     3</td>      <th>                     </th>     <td> </td>   \n",
       "</tr>\n",
       "<tr>\n",
       "  <th>Covariance Type:</th>      <td>nonrobust</td>    <th>                     </th>     <td> </td>   \n",
       "</tr>\n",
       "</table>\n",
       "<table class=\"simpletable\">\n",
       "<tr>\n",
       "      <td></td>         <th>coef</th>     <th>std err</th>      <th>t</th>      <th>P>|t|</th>  <th>[0.025</th>    <th>0.975]</th>  \n",
       "</tr>\n",
       "<tr>\n",
       "  <th>Intercept</th> <td>  1.11e-16</td> <td>    2.544</td> <td> 4.36e-17</td> <td> 1.000</td> <td>   -5.866</td> <td>    5.866</td>\n",
       "</tr>\n",
       "<tr>\n",
       "  <th>P1_cent</th>   <td>    0.0107</td> <td>    0.004</td> <td>    2.390</td> <td> 0.044</td> <td>    0.000</td> <td>    0.021</td>\n",
       "</tr>\n",
       "<tr>\n",
       "  <th>P2_cent</th>   <td>    3.1348</td> <td>    0.844</td> <td>    3.712</td> <td> 0.006</td> <td>    1.188</td> <td>    5.082</td>\n",
       "</tr>\n",
       "<tr>\n",
       "  <th>P3_cent</th>   <td>    1.8674</td> <td>    0.535</td> <td>    3.494</td> <td> 0.008</td> <td>    0.635</td> <td>    3.100</td>\n",
       "</tr>\n",
       "</table>\n",
       "<table class=\"simpletable\">\n",
       "<tr>\n",
       "  <th>Omnibus:</th>       <td> 0.392</td> <th>  Durbin-Watson:     </th> <td>   1.043</td>\n",
       "</tr>\n",
       "<tr>\n",
       "  <th>Prob(Omnibus):</th> <td> 0.822</td> <th>  Jarque-Bera (JB):  </th> <td>   0.230</td>\n",
       "</tr>\n",
       "<tr>\n",
       "  <th>Skew:</th>          <td>-0.282</td> <th>  Prob(JB):          </th> <td>   0.891</td>\n",
       "</tr>\n",
       "<tr>\n",
       "  <th>Kurtosis:</th>      <td> 2.625</td> <th>  Cond. No.          </th> <td>    574.</td>\n",
       "</tr>\n",
       "</table><br/><br/>Notes:<br/>[1] Standard Errors assume that the covariance matrix of the errors is correctly specified."
      ],
      "text/latex": [
       "\\begin{center}\n",
       "\\begin{tabular}{lclc}\n",
       "\\toprule\n",
       "\\textbf{Dep. Variable:}    &     F\\_cent      & \\textbf{  R-squared:         } &     0.807   \\\\\n",
       "\\textbf{Model:}            &       OLS        & \\textbf{  Adj. R-squared:    } &     0.734   \\\\\n",
       "\\textbf{Method:}           &  Least Squares   & \\textbf{  F-statistic:       } &     11.12   \\\\\n",
       "\\textbf{Date:}             & Sat, 07 Oct 2023 & \\textbf{  Prob (F-statistic):} &  0.00317    \\\\\n",
       "\\textbf{Time:}             &     15:22:16     & \\textbf{  Log-Likelihood:    } &   -40.708   \\\\\n",
       "\\textbf{No. Observations:} &          12      & \\textbf{  AIC:               } &     89.42   \\\\\n",
       "\\textbf{Df Residuals:}     &           8      & \\textbf{  BIC:               } &     91.36   \\\\\n",
       "\\textbf{Df Model:}         &           3      & \\textbf{                     } &             \\\\\n",
       "\\textbf{Covariance Type:}  &    nonrobust     & \\textbf{                     } &             \\\\\n",
       "\\bottomrule\n",
       "\\end{tabular}\n",
       "\\begin{tabular}{lcccccc}\n",
       "                   & \\textbf{coef} & \\textbf{std err} & \\textbf{t} & \\textbf{P$> |$t$|$} & \\textbf{[0.025} & \\textbf{0.975]}  \\\\\n",
       "\\midrule\n",
       "\\textbf{Intercept} &     1.11e-16  &        2.544     &  4.36e-17  &         1.000        &       -5.866    &        5.866     \\\\\n",
       "\\textbf{P1\\_cent}  &       0.0107  &        0.004     &     2.390  &         0.044        &        0.000    &        0.021     \\\\\n",
       "\\textbf{P2\\_cent}  &       3.1348  &        0.844     &     3.712  &         0.006        &        1.188    &        5.082     \\\\\n",
       "\\textbf{P3\\_cent}  &       1.8674  &        0.535     &     3.494  &         0.008        &        0.635    &        3.100     \\\\\n",
       "\\bottomrule\n",
       "\\end{tabular}\n",
       "\\begin{tabular}{lclc}\n",
       "\\textbf{Omnibus:}       &  0.392 & \\textbf{  Durbin-Watson:     } &    1.043  \\\\\n",
       "\\textbf{Prob(Omnibus):} &  0.822 & \\textbf{  Jarque-Bera (JB):  } &    0.230  \\\\\n",
       "\\textbf{Skew:}          & -0.282 & \\textbf{  Prob(JB):          } &    0.891  \\\\\n",
       "\\textbf{Kurtosis:}      &  2.625 & \\textbf{  Cond. No.          } &     574.  \\\\\n",
       "\\bottomrule\n",
       "\\end{tabular}\n",
       "%\\caption{OLS Regression Results}\n",
       "\\end{center}\n",
       "\n",
       "Notes: \\newline\n",
       " [1] Standard Errors assume that the covariance matrix of the errors is correctly specified."
      ],
      "text/plain": [
       "<class 'statsmodels.iolib.summary.Summary'>\n",
       "\"\"\"\n",
       "                            OLS Regression Results                            \n",
       "==============================================================================\n",
       "Dep. Variable:                 F_cent   R-squared:                       0.807\n",
       "Model:                            OLS   Adj. R-squared:                  0.734\n",
       "Method:                 Least Squares   F-statistic:                     11.12\n",
       "Date:                Sat, 07 Oct 2023   Prob (F-statistic):            0.00317\n",
       "Time:                        15:22:16   Log-Likelihood:                -40.708\n",
       "No. Observations:                  12   AIC:                             89.42\n",
       "Df Residuals:                       8   BIC:                             91.36\n",
       "Df Model:                           3                                         \n",
       "Covariance Type:            nonrobust                                         \n",
       "==============================================================================\n",
       "                 coef    std err          t      P>|t|      [0.025      0.975]\n",
       "------------------------------------------------------------------------------\n",
       "Intercept    1.11e-16      2.544   4.36e-17      1.000      -5.866       5.866\n",
       "P1_cent        0.0107      0.004      2.390      0.044       0.000       0.021\n",
       "P2_cent        3.1348      0.844      3.712      0.006       1.188       5.082\n",
       "P3_cent        1.8674      0.535      3.494      0.008       0.635       3.100\n",
       "==============================================================================\n",
       "Omnibus:                        0.392   Durbin-Watson:                   1.043\n",
       "Prob(Omnibus):                  0.822   Jarque-Bera (JB):                0.230\n",
       "Skew:                          -0.282   Prob(JB):                        0.891\n",
       "Kurtosis:                       2.625   Cond. No.                         574.\n",
       "==============================================================================\n",
       "\n",
       "Notes:\n",
       "[1] Standard Errors assume that the covariance matrix of the errors is correctly specified.\n",
       "\"\"\""
      ]
     },
     "execution_count": 87,
     "metadata": {},
     "output_type": "execute_result"
    }
   ],
   "source": [
    "X = data[:, 0 : p + 1]\n",
    "Y = data[:, -1]\n",
    "# 求均值\n",
    "X_mean = []\n",
    "for k in range(p + 1):\n",
    "    X_mean.append(np.mean(data[:, k]))  # 自变量 x 的均值\n",
    "Y_mean = np.mean(data[:, -1])  # 因变量 y 的均值\n",
    "\n",
    "# 数据中心化\n",
    "X_cent = X - X_mean\n",
    "Y_cent = Y - Y_mean\n",
    "\n",
    "# Do the multiple linear regression\n",
    "df = pd.DataFrame(X_cent, columns = ['intercept_cent', 'P1_cent', 'P2_cent', 'P3_cent'])\n",
    "df['F_cent'] = Y_cent\n",
    "model_cent = ols('F_cent ~ P1_cent + P2_cent + P3_cent', df).fit()\n",
    "beta_cent = model_cent.params\n",
    "print('参数估计值: \\n', round(beta_cent, 4))\n",
    "Y_hat_cent = model_cent.fittedvalues\n",
    "model_cent.summary()"
   ]
  },
  {
   "cell_type": "markdown",
   "id": "f14a4327",
   "metadata": {},
   "source": [
    "### 输出中心化后的多元线性回归方程"
   ]
  },
  {
   "cell_type": "code",
   "execution_count": 88,
   "id": "43ffe8a3",
   "metadata": {},
   "outputs": [
    {
     "name": "stdout",
     "output_type": "stream",
     "text": [
      "Y_hat_cent = 0.00 + (0.01 * X1_cent) + (3.13 * X2_cent) + (1.87 * X3_cent)\n"
     ]
    }
   ],
   "source": [
    "print('Y_hat_cent = %.2f + (%.2f * X1_cent) + (%.2f * X2_cent) + (%.2f * X3_cent)' % (beta_cent[0], beta_cent[1], beta_cent[2], beta_cent[3]))"
   ]
  },
  {
   "cell_type": "markdown",
   "id": "a4832577",
   "metadata": {},
   "source": [
    "### 通过对比数据中心化前后的结果，我们可以发现，对数据进行中心化之后回归常数变为 0，而回归系数值未改变。\n",
    "**回归常数变为0的原因**是中心化的过程中，自变量 X 被减去了它们的均值，这样在回归模型中，截距项对应的是因变量Y在所有自变量均为均值时的预测值，因此截距项会变为0。\n",
    "\n",
    "**回归系数值未改变的原因**是中心化不会改变自变量之间的相对关系，因此回归系数的值保持不变。\n",
    "\n",
    "中心化主要的作用是消除了截距项与自变量之间的关系，使模型更容易解释，但不会影响自变量对因变量的影响程度。模型中的回归系数仍然表示每个自变量对因变量的影响大小，只是解释上更容易理解。"
   ]
  },
  {
   "cell_type": "markdown",
   "id": "3fef13d0",
   "metadata": {},
   "source": [
    "## 标准化"
   ]
  },
  {
   "cell_type": "code",
   "execution_count": 89,
   "id": "efaef396",
   "metadata": {},
   "outputs": [
    {
     "name": "stdout",
     "output_type": "stream",
     "text": [
      "参数估计值: \n",
      " Intercept    0.0000\n",
      "P1_std       0.3757\n",
      "P2_std       0.5793\n",
      "P3_std       0.5477\n",
      "dtype: float64\n"
     ]
    },
    {
     "data": {
      "text/html": [
       "<table class=\"simpletable\">\n",
       "<caption>OLS Regression Results</caption>\n",
       "<tr>\n",
       "  <th>Dep. Variable:</th>          <td>F_std</td>      <th>  R-squared:         </th> <td>   0.807</td>\n",
       "</tr>\n",
       "<tr>\n",
       "  <th>Model:</th>                   <td>OLS</td>       <th>  Adj. R-squared:    </th> <td>   0.734</td>\n",
       "</tr>\n",
       "<tr>\n",
       "  <th>Method:</th>             <td>Least Squares</td>  <th>  F-statistic:       </th> <td>   11.12</td>\n",
       "</tr>\n",
       "<tr>\n",
       "  <th>Date:</th>             <td>Sat, 07 Oct 2023</td> <th>  Prob (F-statistic):</th>  <td>0.00317</td>\n",
       "</tr>\n",
       "<tr>\n",
       "  <th>Time:</th>                 <td>15:22:18</td>     <th>  Log-Likelihood:    </th> <td> -7.1718</td>\n",
       "</tr>\n",
       "<tr>\n",
       "  <th>No. Observations:</th>      <td>    12</td>      <th>  AIC:               </th> <td>   22.34</td>\n",
       "</tr>\n",
       "<tr>\n",
       "  <th>Df Residuals:</th>          <td>     8</td>      <th>  BIC:               </th> <td>   24.28</td>\n",
       "</tr>\n",
       "<tr>\n",
       "  <th>Df Model:</th>              <td>     3</td>      <th>                     </th>     <td> </td>   \n",
       "</tr>\n",
       "<tr>\n",
       "  <th>Covariance Type:</th>      <td>nonrobust</td>    <th>                     </th>     <td> </td>   \n",
       "</tr>\n",
       "</table>\n",
       "<table class=\"simpletable\">\n",
       "<tr>\n",
       "      <td></td>         <th>coef</th>     <th>std err</th>      <th>t</th>      <th>P>|t|</th>  <th>[0.025</th>    <th>0.975]</th>  \n",
       "</tr>\n",
       "<tr>\n",
       "  <th>Intercept</th> <td> 1.735e-17</td> <td>    0.156</td> <td> 1.12e-16</td> <td> 1.000</td> <td>   -0.359</td> <td>    0.359</td>\n",
       "</tr>\n",
       "<tr>\n",
       "  <th>P1_std</th>    <td>    0.3757</td> <td>    0.157</td> <td>    2.390</td> <td> 0.044</td> <td>    0.013</td> <td>    0.738</td>\n",
       "</tr>\n",
       "<tr>\n",
       "  <th>P2_std</th>    <td>    0.5793</td> <td>    0.156</td> <td>    3.712</td> <td> 0.006</td> <td>    0.219</td> <td>    0.939</td>\n",
       "</tr>\n",
       "<tr>\n",
       "  <th>P3_std</th>    <td>    0.5477</td> <td>    0.157</td> <td>    3.494</td> <td> 0.008</td> <td>    0.186</td> <td>    0.909</td>\n",
       "</tr>\n",
       "</table>\n",
       "<table class=\"simpletable\">\n",
       "<tr>\n",
       "  <th>Omnibus:</th>       <td> 0.392</td> <th>  Durbin-Watson:     </th> <td>   1.043</td>\n",
       "</tr>\n",
       "<tr>\n",
       "  <th>Prob(Omnibus):</th> <td> 0.822</td> <th>  Jarque-Bera (JB):  </th> <td>   0.230</td>\n",
       "</tr>\n",
       "<tr>\n",
       "  <th>Skew:</th>          <td>-0.282</td> <th>  Prob(JB):          </th> <td>   0.891</td>\n",
       "</tr>\n",
       "<tr>\n",
       "  <th>Kurtosis:</th>      <td> 2.625</td> <th>  Cond. No.          </th> <td>    1.16</td>\n",
       "</tr>\n",
       "</table><br/><br/>Notes:<br/>[1] Standard Errors assume that the covariance matrix of the errors is correctly specified."
      ],
      "text/latex": [
       "\\begin{center}\n",
       "\\begin{tabular}{lclc}\n",
       "\\toprule\n",
       "\\textbf{Dep. Variable:}    &      F\\_std      & \\textbf{  R-squared:         } &     0.807   \\\\\n",
       "\\textbf{Model:}            &       OLS        & \\textbf{  Adj. R-squared:    } &     0.734   \\\\\n",
       "\\textbf{Method:}           &  Least Squares   & \\textbf{  F-statistic:       } &     11.12   \\\\\n",
       "\\textbf{Date:}             & Sat, 07 Oct 2023 & \\textbf{  Prob (F-statistic):} &  0.00317    \\\\\n",
       "\\textbf{Time:}             &     15:22:18     & \\textbf{  Log-Likelihood:    } &   -7.1718   \\\\\n",
       "\\textbf{No. Observations:} &          12      & \\textbf{  AIC:               } &     22.34   \\\\\n",
       "\\textbf{Df Residuals:}     &           8      & \\textbf{  BIC:               } &     24.28   \\\\\n",
       "\\textbf{Df Model:}         &           3      & \\textbf{                     } &             \\\\\n",
       "\\textbf{Covariance Type:}  &    nonrobust     & \\textbf{                     } &             \\\\\n",
       "\\bottomrule\n",
       "\\end{tabular}\n",
       "\\begin{tabular}{lcccccc}\n",
       "                   & \\textbf{coef} & \\textbf{std err} & \\textbf{t} & \\textbf{P$> |$t$|$} & \\textbf{[0.025} & \\textbf{0.975]}  \\\\\n",
       "\\midrule\n",
       "\\textbf{Intercept} &    1.735e-17  &        0.156     &  1.12e-16  &         1.000        &       -0.359    &        0.359     \\\\\n",
       "\\textbf{P1\\_std}   &       0.3757  &        0.157     &     2.390  &         0.044        &        0.013    &        0.738     \\\\\n",
       "\\textbf{P2\\_std}   &       0.5793  &        0.156     &     3.712  &         0.006        &        0.219    &        0.939     \\\\\n",
       "\\textbf{P3\\_std}   &       0.5477  &        0.157     &     3.494  &         0.008        &        0.186    &        0.909     \\\\\n",
       "\\bottomrule\n",
       "\\end{tabular}\n",
       "\\begin{tabular}{lclc}\n",
       "\\textbf{Omnibus:}       &  0.392 & \\textbf{  Durbin-Watson:     } &    1.043  \\\\\n",
       "\\textbf{Prob(Omnibus):} &  0.822 & \\textbf{  Jarque-Bera (JB):  } &    0.230  \\\\\n",
       "\\textbf{Skew:}          & -0.282 & \\textbf{  Prob(JB):          } &    0.891  \\\\\n",
       "\\textbf{Kurtosis:}      &  2.625 & \\textbf{  Cond. No.          } &     1.16  \\\\\n",
       "\\bottomrule\n",
       "\\end{tabular}\n",
       "%\\caption{OLS Regression Results}\n",
       "\\end{center}\n",
       "\n",
       "Notes: \\newline\n",
       " [1] Standard Errors assume that the covariance matrix of the errors is correctly specified."
      ],
      "text/plain": [
       "<class 'statsmodels.iolib.summary.Summary'>\n",
       "\"\"\"\n",
       "                            OLS Regression Results                            \n",
       "==============================================================================\n",
       "Dep. Variable:                  F_std   R-squared:                       0.807\n",
       "Model:                            OLS   Adj. R-squared:                  0.734\n",
       "Method:                 Least Squares   F-statistic:                     11.12\n",
       "Date:                Sat, 07 Oct 2023   Prob (F-statistic):            0.00317\n",
       "Time:                        15:22:18   Log-Likelihood:                -7.1718\n",
       "No. Observations:                  12   AIC:                             22.34\n",
       "Df Residuals:                       8   BIC:                             24.28\n",
       "Df Model:                           3                                         \n",
       "Covariance Type:            nonrobust                                         \n",
       "==============================================================================\n",
       "                 coef    std err          t      P>|t|      [0.025      0.975]\n",
       "------------------------------------------------------------------------------\n",
       "Intercept   1.735e-17      0.156   1.12e-16      1.000      -0.359       0.359\n",
       "P1_std         0.3757      0.157      2.390      0.044       0.013       0.738\n",
       "P2_std         0.5793      0.156      3.712      0.006       0.219       0.939\n",
       "P3_std         0.5477      0.157      3.494      0.008       0.186       0.909\n",
       "==============================================================================\n",
       "Omnibus:                        0.392   Durbin-Watson:                   1.043\n",
       "Prob(Omnibus):                  0.822   Jarque-Bera (JB):                0.230\n",
       "Skew:                          -0.282   Prob(JB):                        0.891\n",
       "Kurtosis:                       2.625   Cond. No.                         1.16\n",
       "==============================================================================\n",
       "\n",
       "Notes:\n",
       "[1] Standard Errors assume that the covariance matrix of the errors is correctly specified.\n",
       "\"\"\""
      ]
     },
     "execution_count": 89,
     "metadata": {},
     "output_type": "execute_result"
    }
   ],
   "source": [
    "X = data[:, 0 : p + 1]\n",
    "Y = data[:, -1]\n",
    "# 求均值\n",
    "X_mean = []\n",
    "for k in range(p + 1):\n",
    "    X_mean.append(np.mean(data[:, k]))  # 自变量 x 的均值\n",
    "Y_mean = np.mean(data[:, -1])  # 因变量 y 的均值\n",
    "\n",
    "# 标准化\n",
    "X_std = (X - X_mean) / np.std(X, axis=0)\n",
    "Y_std = (Y - Y_mean) / np.std(Y)\n",
    "\n",
    "# Do the multiple linear regression\n",
    "df = pd.DataFrame(X_std, columns=['intercept_std', 'P1_std', 'P2_std', 'P3_std'])\n",
    "df['F_std'] = Y_std\n",
    "model_std = ols('F_std ~ P1_std + P2_std + P3_std', df).fit()\n",
    "beta_std = model_std.params\n",
    "print('参数估计值: \\n', round(beta_std, 4))\n",
    "Y_hat_std = model_std.fittedvalues\n",
    "model_std.summary()\n"
   ]
  },
  {
   "cell_type": "markdown",
   "id": "d41b4cf3",
   "metadata": {},
   "source": [
    "### 输出标准化后的多元线性回归方程"
   ]
  },
  {
   "cell_type": "code",
   "execution_count": 90,
   "id": "45e3b856",
   "metadata": {},
   "outputs": [
    {
     "name": "stdout",
     "output_type": "stream",
     "text": [
      "Y_hat_std = 0.00 + (0.38 * X1_std) + (0.58 * X2_std) + (0.55 * X3_std)\n"
     ]
    }
   ],
   "source": [
    "print('Y_hat_std = %.2f + (%.2f * X1_std) + (%.2f * X2_std) + (%.2f * X3_std)' % (beta_std[0], beta_std[1], beta_std[2], beta_std[3]))"
   ]
  },
  {
   "cell_type": "markdown",
   "id": "6861830b",
   "metadata": {},
   "source": [
    "### 通过对比数据标准化前后的结果，我们可以发现，参数的正负号不变、大小和原来的参数之间存在关系\n",
    "**参数的正负号不变的原因**是标准化数据不会改变自变量之间的相对关系，因此回归系数的方向（正负号）仍然保持不变。\n",
    "\n",
    "**大小和原来的参数之间存在关系的原因**标准化后的回归系数可以直接比较各自变量对因变量的影响程度。如果自变量的取值范围差异较大，标准化后的回归系数可以用来衡量它们的相对影响。标准化后的回归系数表示因变量 Y 在单位标准差变化下对每个自变量的变化量。"
   ]
  },
  {
   "cell_type": "markdown",
   "id": "92286fcf",
   "metadata": {},
   "source": [
    "# Task 3: 从模型显著性、参数显著性以及残差分析三个角度，分析多元线性回归模型是否合理。"
   ]
  },
  {
   "cell_type": "markdown",
   "id": "8e04c803",
   "metadata": {},
   "source": [
    "### 1、模型显著性和参数显著性"
   ]
  },
  {
   "cell_type": "markdown",
   "id": "63167d41",
   "metadata": {},
   "source": [
    "#### 课上代码"
   ]
  },
  {
   "cell_type": "code",
   "execution_count": 91,
   "id": "7a875dec",
   "metadata": {},
   "outputs": [
    {
     "data": {
      "text/html": [
       "<table class=\"simpletable\">\n",
       "<caption>OLS Regression Results</caption>\n",
       "<tr>\n",
       "  <th>Dep. Variable:</th>    <td>Brake_Horsepower</td> <th>  R-squared:         </th> <td>   0.807</td>\n",
       "</tr>\n",
       "<tr>\n",
       "  <th>Model:</th>                   <td>OLS</td>       <th>  Adj. R-squared:    </th> <td>   0.734</td>\n",
       "</tr>\n",
       "<tr>\n",
       "  <th>Method:</th>             <td>Least Squares</td>  <th>  F-statistic:       </th> <td>   11.12</td>\n",
       "</tr>\n",
       "<tr>\n",
       "  <th>Date:</th>             <td>Sat, 07 Oct 2023</td> <th>  Prob (F-statistic):</th>  <td>0.00317</td>\n",
       "</tr>\n",
       "<tr>\n",
       "  <th>Time:</th>                 <td>15:22:21</td>     <th>  Log-Likelihood:    </th> <td> -40.708</td>\n",
       "</tr>\n",
       "<tr>\n",
       "  <th>No. Observations:</th>      <td>    12</td>      <th>  AIC:               </th> <td>   89.42</td>\n",
       "</tr>\n",
       "<tr>\n",
       "  <th>Df Residuals:</th>          <td>     8</td>      <th>  BIC:               </th> <td>   91.36</td>\n",
       "</tr>\n",
       "<tr>\n",
       "  <th>Df Model:</th>              <td>     3</td>      <th>                     </th>     <td> </td>   \n",
       "</tr>\n",
       "<tr>\n",
       "  <th>Covariance Type:</th>      <td>nonrobust</td>    <th>                     </th>     <td> </td>   \n",
       "</tr>\n",
       "</table>\n",
       "<table class=\"simpletable\">\n",
       "<tr>\n",
       "           <td></td>             <th>coef</th>     <th>std err</th>      <th>t</th>      <th>P>|t|</th>  <th>[0.025</th>    <th>0.975]</th>  \n",
       "</tr>\n",
       "<tr>\n",
       "  <th>Intercept</th>          <td> -266.0312</td> <td>   92.674</td> <td>   -2.871</td> <td> 0.021</td> <td> -479.737</td> <td>  -52.325</td>\n",
       "</tr>\n",
       "<tr>\n",
       "  <th>rpm</th>                <td>    0.0107</td> <td>    0.004</td> <td>    2.390</td> <td> 0.044</td> <td>    0.000</td> <td>    0.021</td>\n",
       "</tr>\n",
       "<tr>\n",
       "  <th>Road_Octane_Number</th> <td>    3.1348</td> <td>    0.844</td> <td>    3.712</td> <td> 0.006</td> <td>    1.188</td> <td>    5.082</td>\n",
       "</tr>\n",
       "<tr>\n",
       "  <th>Compression</th>        <td>    1.8674</td> <td>    0.535</td> <td>    3.494</td> <td> 0.008</td> <td>    0.635</td> <td>    3.100</td>\n",
       "</tr>\n",
       "</table>\n",
       "<table class=\"simpletable\">\n",
       "<tr>\n",
       "  <th>Omnibus:</th>       <td> 0.392</td> <th>  Durbin-Watson:     </th> <td>   1.043</td>\n",
       "</tr>\n",
       "<tr>\n",
       "  <th>Prob(Omnibus):</th> <td> 0.822</td> <th>  Jarque-Bera (JB):  </th> <td>   0.230</td>\n",
       "</tr>\n",
       "<tr>\n",
       "  <th>Skew:</th>          <td>-0.282</td> <th>  Prob(JB):          </th> <td>   0.891</td>\n",
       "</tr>\n",
       "<tr>\n",
       "  <th>Kurtosis:</th>      <td> 2.625</td> <th>  Cond. No.          </th> <td>9.03e+04</td>\n",
       "</tr>\n",
       "</table><br/><br/>Notes:<br/>[1] Standard Errors assume that the covariance matrix of the errors is correctly specified.<br/>[2] The condition number is large, 9.03e+04. This might indicate that there are<br/>strong multicollinearity or other numerical problems."
      ],
      "text/latex": [
       "\\begin{center}\n",
       "\\begin{tabular}{lclc}\n",
       "\\toprule\n",
       "\\textbf{Dep. Variable:}       & Brake\\_Horsepower & \\textbf{  R-squared:         } &     0.807   \\\\\n",
       "\\textbf{Model:}               &        OLS        & \\textbf{  Adj. R-squared:    } &     0.734   \\\\\n",
       "\\textbf{Method:}              &   Least Squares   & \\textbf{  F-statistic:       } &     11.12   \\\\\n",
       "\\textbf{Date:}                &  Sat, 07 Oct 2023 & \\textbf{  Prob (F-statistic):} &  0.00317    \\\\\n",
       "\\textbf{Time:}                &      15:22:21     & \\textbf{  Log-Likelihood:    } &   -40.708   \\\\\n",
       "\\textbf{No. Observations:}    &           12      & \\textbf{  AIC:               } &     89.42   \\\\\n",
       "\\textbf{Df Residuals:}        &            8      & \\textbf{  BIC:               } &     91.36   \\\\\n",
       "\\textbf{Df Model:}            &            3      & \\textbf{                     } &             \\\\\n",
       "\\textbf{Covariance Type:}     &     nonrobust     & \\textbf{                     } &             \\\\\n",
       "\\bottomrule\n",
       "\\end{tabular}\n",
       "\\begin{tabular}{lcccccc}\n",
       "                              & \\textbf{coef} & \\textbf{std err} & \\textbf{t} & \\textbf{P$> |$t$|$} & \\textbf{[0.025} & \\textbf{0.975]}  \\\\\n",
       "\\midrule\n",
       "\\textbf{Intercept}            &    -266.0312  &       92.674     &    -2.871  &         0.021        &     -479.737    &      -52.325     \\\\\n",
       "\\textbf{rpm}                  &       0.0107  &        0.004     &     2.390  &         0.044        &        0.000    &        0.021     \\\\\n",
       "\\textbf{Road\\_Octane\\_Number} &       3.1348  &        0.844     &     3.712  &         0.006        &        1.188    &        5.082     \\\\\n",
       "\\textbf{Compression}          &       1.8674  &        0.535     &     3.494  &         0.008        &        0.635    &        3.100     \\\\\n",
       "\\bottomrule\n",
       "\\end{tabular}\n",
       "\\begin{tabular}{lclc}\n",
       "\\textbf{Omnibus:}       &  0.392 & \\textbf{  Durbin-Watson:     } &    1.043  \\\\\n",
       "\\textbf{Prob(Omnibus):} &  0.822 & \\textbf{  Jarque-Bera (JB):  } &    0.230  \\\\\n",
       "\\textbf{Skew:}          & -0.282 & \\textbf{  Prob(JB):          } &    0.891  \\\\\n",
       "\\textbf{Kurtosis:}      &  2.625 & \\textbf{  Cond. No.          } & 9.03e+04  \\\\\n",
       "\\bottomrule\n",
       "\\end{tabular}\n",
       "%\\caption{OLS Regression Results}\n",
       "\\end{center}\n",
       "\n",
       "Notes: \\newline\n",
       " [1] Standard Errors assume that the covariance matrix of the errors is correctly specified. \\newline\n",
       " [2] The condition number is large, 9.03e+04. This might indicate that there are \\newline\n",
       " strong multicollinearity or other numerical problems."
      ],
      "text/plain": [
       "<class 'statsmodels.iolib.summary.Summary'>\n",
       "\"\"\"\n",
       "                            OLS Regression Results                            \n",
       "==============================================================================\n",
       "Dep. Variable:       Brake_Horsepower   R-squared:                       0.807\n",
       "Model:                            OLS   Adj. R-squared:                  0.734\n",
       "Method:                 Least Squares   F-statistic:                     11.12\n",
       "Date:                Sat, 07 Oct 2023   Prob (F-statistic):            0.00317\n",
       "Time:                        15:22:21   Log-Likelihood:                -40.708\n",
       "No. Observations:                  12   AIC:                             89.42\n",
       "Df Residuals:                       8   BIC:                             91.36\n",
       "Df Model:                           3                                         \n",
       "Covariance Type:            nonrobust                                         \n",
       "======================================================================================\n",
       "                         coef    std err          t      P>|t|      [0.025      0.975]\n",
       "--------------------------------------------------------------------------------------\n",
       "Intercept           -266.0312     92.674     -2.871      0.021    -479.737     -52.325\n",
       "rpm                    0.0107      0.004      2.390      0.044       0.000       0.021\n",
       "Road_Octane_Number     3.1348      0.844      3.712      0.006       1.188       5.082\n",
       "Compression            1.8674      0.535      3.494      0.008       0.635       3.100\n",
       "==============================================================================\n",
       "Omnibus:                        0.392   Durbin-Watson:                   1.043\n",
       "Prob(Omnibus):                  0.822   Jarque-Bera (JB):                0.230\n",
       "Skew:                          -0.282   Prob(JB):                        0.891\n",
       "Kurtosis:                       2.625   Cond. No.                     9.03e+04\n",
       "==============================================================================\n",
       "\n",
       "Notes:\n",
       "[1] Standard Errors assume that the covariance matrix of the errors is correctly specified.\n",
       "[2] The condition number is large, 9.03e+04. This might indicate that there are\n",
       "strong multicollinearity or other numerical problems.\n",
       "\"\"\""
      ]
     },
     "execution_count": 91,
     "metadata": {},
     "output_type": "execute_result"
    }
   ],
   "source": [
    "model1.summary()"
   ]
  },
  {
   "cell_type": "markdown",
   "id": "902a9e59",
   "metadata": {},
   "source": [
    "从上表可知，\n",
    "- $F$检验统计量可以计算为11.12，其$p$值为$0.00317$。因此，我们认为回归模型是有意义的。\n",
    "- 对于不同的特征，$t$检验统计量分别为$2.390和$3.712$和$3.494 \t$，其$p$值均不大于$0.05 。因此，我们认为这三个特征都是有意义的。"
   ]
  },
  {
   "cell_type": "markdown",
   "id": "205dd767",
   "metadata": {},
   "source": [
    "### 自己实践"
   ]
  },
  {
   "cell_type": "code",
   "execution_count": 92,
   "id": "63d0043e",
   "metadata": {},
   "outputs": [],
   "source": [
    "# 求解相关项\n",
    "SSE = sum((Y - Y_hat) ** 2)\n",
    "SST = sum((Y - Y_mean) ** 2)\n",
    "SSR = sum((Y_hat - Y_mean) ** 2)\n",
    "\n",
    "sigma2 = SSE / (n - p - 1)  # 方差\n",
    "sigma = np.sqrt(sigma2)  # 标准差\n",
    "\n",
    "c = np.dot(X.T, X)\n",
    "C = np.linalg.inv(c)  # 求逆\n",
    "# print(C)"
   ]
  },
  {
   "cell_type": "markdown",
   "id": "b102abd8",
   "metadata": {},
   "source": [
    "**多元线性模型的显著性检验——F 检验:**  \n",
    "检验假设：$H_0: \\beta_1=\\beta_2=\\beta_3=0$ vs $H_1: \\exists \\beta_i \\neq 0,i=1,2,3$"
   ]
  },
  {
   "cell_type": "code",
   "execution_count": 93,
   "id": "90fc3c4f",
   "metadata": {},
   "outputs": [
    {
     "name": "stdout",
     "output_type": "stream",
     "text": [
      "F0: 11.12\n",
      "pVal1: 0.00317\n",
      "\n",
      "Since p-value < 0.05, reject H0.\n",
      "Since F0 > F(0.95, 3, 8) = 4.07, reject H0.\n"
     ]
    }
   ],
   "source": [
    "# 计算F0\n",
    "F0 = (SSR / p) / (SSE / (n - p - 1))\n",
    "# F0 = model.fvalue\n",
    "print('F0: %.2f' % F0)\n",
    "F = round(f.ppf(0.95, dfn = p, dfd = n - p - 1), 2)\n",
    "\n",
    "# 法1：\n",
    "pVal1 = f.sf(F0, p, n - p - 1)\n",
    "# pVal1 = model.f_pvalue\n",
    "print('pVal1: %.5f' % pVal1)\n",
    "if pVal1 < alpha:\n",
    "    print('\\nSince p-value < 0.05, reject H0.')\n",
    "else:\n",
    "    print('\\nAccept H0.') \n",
    "\n",
    "# 法2：\n",
    "if F0 > F:\n",
    "    print('Since F0 > F(0.95, 3, 8) = %.2f, reject H0.' % F)\n",
    "else:\n",
    "    print('Accept H0.') "
   ]
  },
  {
   "cell_type": "markdown",
   "id": "5b9827e7",
   "metadata": {},
   "source": [
    "由 F 检验结果可知，该回归方程是显著的。"
   ]
  },
  {
   "cell_type": "markdown",
   "id": "852d23eb",
   "metadata": {},
   "source": [
    "**多元线性模型的显著性检验——t 检验:**  \n",
    "检验假设：$H_{0j}: \\beta_j=0$ vs $H_{1j}: \\beta_j \\neq 0,j=1,2,3$"
   ]
  },
  {
   "cell_type": "code",
   "execution_count": 94,
   "id": "47d65aa7",
   "metadata": {},
   "outputs": [
    {
     "name": "stdout",
     "output_type": "stream",
     "text": [
      "t0值为： [-2.8706  2.3896  3.7123  3.4936]\n",
      "t的临界值为：2.3060\n",
      "P值为： [0.0104 0.0219 0.003  0.0041]\n",
      "\n",
      "\n",
      "Since p1-value < 0.05, reject H01.\n",
      "Since p2-value < 0.05, reject H02.\n",
      "Since p3-value < 0.05, reject H03.\n",
      "\n",
      "\n",
      "Since t01 > t(0.975, 8) = 2.3060, reject H01\n",
      "Since t02 > t(0.975, 8) = 2.3060, reject H02\n",
      "Since t03 > t(0.975, 8) = 2.3060, reject H03\n"
     ]
    }
   ],
   "source": [
    "# t检验\n",
    "t0 = []\n",
    "for i in range(p + 1):   \n",
    "    t0.append(beta[i] / (np.sqrt(C[i][i] * sigma2)))  # 求t值\n",
    "# t0 = model.tvalues\n",
    "print('t0值为：', np.round(t0, 4))\n",
    "tVal = t.ppf(1 - alpha / 2, n - p - 1)\n",
    "print('t的临界值为：%.4f' % tVal)\n",
    "pVal2 = []\n",
    "for i in range(p + 1):\n",
    "    P = t.sf(abs(t0[i]), n - p - 1)\n",
    "    pVal2.append(P)  # 已知临界值求p值\n",
    "# pVal2 = model.pvalues / 2\n",
    "print('P值为：', np.round(pVal2, 4))\n",
    "\n",
    "print('\\n')\n",
    "# 法1：\n",
    "for i in range(p):\n",
    "    if pVal2[i + 1] < alpha:\n",
    "        print ('Since p%d-value < 0.05, reject H0%d.' % (i + 1, i + 1))\n",
    "    else:\n",
    "        print('Accept H0%d.' % (i + 1))\n",
    "print('\\n')   \n",
    "\n",
    "# 法2：\n",
    "for i in range(p):\n",
    "    if abs(t0[i + 1]) > tVal:\n",
    "        print('Since t0%d > t(0.975, 8) = %.4f, reject H0%d' % (i + 1, tVal, i + 1))\n",
    "    else:\n",
    "        print('Accept H0%d.' % (i + 1)) "
   ]
  },
  {
   "cell_type": "markdown",
   "id": "9777f592",
   "metadata": {},
   "source": [
    "由 t 检验结果可知，各回归系数都是显著的。"
   ]
  },
  {
   "cell_type": "markdown",
   "id": "946ccc12",
   "metadata": {},
   "source": [
    "**复相关系数（可决系数）的检验:**"
   ]
  },
  {
   "cell_type": "markdown",
   "id": "70d7ea1f",
   "metadata": {},
   "source": [
    "定义样本决定系数为\n",
    "$$\n",
    "R^{2}=\\frac{S S_{R}}{S S_{T}}=1-\\frac{S S_{E}}{S S_{T}}\n",
    "$$"
   ]
  },
  {
   "cell_type": "markdown",
   "id": "1e6d2623",
   "metadata": {},
   "source": [
    "$R^{2}$ 的取值在 [0,1] 区间内。\n",
    "\n",
    "1. $R^{2}$ 越接近 $1,$ 表明回归拟合的效果越好。\n",
    "2. $R^{2}$ 越接近 $0,$ 表明回归拟合的效果越差。"
   ]
  },
  {
   "cell_type": "markdown",
   "id": "6dc2c84f",
   "metadata": {},
   "source": [
    "调整可决系数：\n",
    "\n",
    "$$R_{a}^{2}=1-\\frac{n-1}{n-m-1}\\left(1-R^{2}\\right)$$\n",
    "\n",
    "随着变量个数上升，$R^{2}$会增大而影响决定系数的准确度，所以引入惩罚项加以修正，称之 $adjusted R^{2}$"
   ]
  },
  {
   "cell_type": "code",
   "execution_count": 95,
   "id": "838cef60",
   "metadata": {},
   "outputs": [
    {
     "name": "stdout",
     "output_type": "stream",
     "text": [
      "可决系数：0.8065\n",
      "调整可决系数Ra：0.7340\n"
     ]
    }
   ],
   "source": [
    "# 可决系数\n",
    "R2 = SSR / SST\n",
    "print('可决系数：%.4f' % R2)\n",
    "\n",
    "# 调整可决系数\n",
    "R2c = 1 - (SSE/(n-p-1)) / (SST/(n-1))\n",
    "print('调整可决系数Ra：%.4f' % R2c)"
   ]
  },
  {
   "cell_type": "markdown",
   "id": "f10e2444",
   "metadata": {},
   "source": [
    "由于复相关系数（可决系数）值接近1，可以说明整体上 $X_1$,$X_2$,$X_3$与 $Y$ 呈线性关系。"
   ]
  },
  {
   "cell_type": "markdown",
   "id": "f90daf6f",
   "metadata": {},
   "source": [
    "### 2、残差分析"
   ]
  },
  {
   "cell_type": "markdown",
   "id": "0994c143",
   "metadata": {},
   "source": [
    "###  计算Brake_Horsepower的残差"
   ]
  },
  {
   "cell_type": "code",
   "execution_count": 96,
   "id": "a59a5781",
   "metadata": {},
   "outputs": [
    {
     "name": "stdout",
     "output_type": "stream",
     "text": [
      "   intercept      P1    P2     P3      F_res\n",
      "0        1.0  2000.0  90.0  100.0   0.731289\n",
      "1        1.0  1800.0  94.0   95.0 -13.328247\n",
      "2        1.0  2400.0  88.0  110.0 -11.958476\n",
      "3        1.0  1900.0  91.0   96.0   3.137442\n",
      "4        1.0  1600.0  86.0  100.0  11.555798\n"
     ]
    }
   ],
   "source": [
    "# 计算制动马力的残差\n",
    "data_res = data * 1.0  # 乘1.0 不然会损失精度\n",
    "for i in range(n):\n",
    "    data_res[:, p + 1] = Y - Y_hat\n",
    "df = pd.DataFrame(data_res, columns = ['intercept', 'P1', 'P2', 'P3', 'F_res'])\n",
    "res = data_res[:, p + 1]\n",
    "# res = model.resid\n",
    "print(df.head())"
   ]
  },
  {
   "cell_type": "markdown",
   "id": "dec0110c",
   "metadata": {},
   "source": [
    "### 残差的正态概率图   \n",
    "使用残差正态概率图可验证残差呈正态分布的假设。残差的正态概率图应该大致为一条直线。"
   ]
  },
  {
   "cell_type": "code",
   "execution_count": 97,
   "id": "e5e6575b",
   "metadata": {},
   "outputs": [
    {
     "data": {
      "image/png": "[encoded data removed]",
      "text/plain": [
       "<Figure size 640x480 with 1 Axes>"
      ]
     },
     "metadata": {},
     "output_type": "display_data"
    }
   ],
   "source": [
    "# 残差的正态概率图\n",
    "osm, osr = stats.probplot(res, dist = 'norm', plot = plt)\n",
    "x = osm[0][0]\n",
    "y = osm[1][0]\n",
    "plt.text(x, y, '%.2f' % float(y), ha='center', va= 'bottom', fontsize=9)\n",
    "plt.grid()\n",
    "plt.show()"
   ]
  },
  {
   "cell_type": "code",
   "execution_count": 98,
   "id": "bf84f7ba",
   "metadata": {},
   "outputs": [
    {
     "name": "stdout",
     "output_type": "stream",
     "text": [
      "残差 -13.33 不是异常值.\n"
     ]
    }
   ],
   "source": [
    "# 异常值检验\n",
    "MSE = SSE / (n - p - 1)\n",
    "# MSE = model.mse_resid\n",
    "d = np.abs(y) / np.sqrt(MSE)\n",
    "if d < 3:\n",
    "    print('残差', round(y, 2), '不是异常值.')\n",
    "else:\n",
    "    print('残差', round(y, 2), '是异常值')\n"
   ]
  },
  {
   "cell_type": "markdown",
   "id": "ef068745",
   "metadata": {},
   "source": [
    "从残差的正态概率图可以看出，这些点大致在一条直线附近，说明数据近似服从正态分布。"
   ]
  },
  {
   "cell_type": "markdown",
   "id": "cb7ee8e6",
   "metadata": {},
   "source": [
    "### 残差与拟合值的关系图   \n",
    "使用残差与拟合值图可验证“残差随机分布”和“具有常量方差”的假设。理想情况下，点应当在 0 的两端随机分布（模型的拟合点应该平均散布在被拟合值点附近），点中无可辨识的模式。  \n",
    "下表中的模式可能表示该模型不满足模型假设: "
   ]
  },
  {
   "cell_type": "markdown",
   "id": "df759ea2",
   "metadata": {},
   "source": [
    "| 模式 | 模式的含义 |\n",
    "| :----------: | :--------: |\n",
    "| 残差相对拟合值呈扇形或不均匀分散 | 异方差 |\n",
    "| 曲线 | 缺少高阶项 |\n",
    "| 远离 0 的点 | 异常值 |\n",
    "| 在 X 方向远离其他点的点 | 有影响的点|"
   ]
  },
  {
   "cell_type": "code",
   "execution_count": 99,
   "id": "aea320e7",
   "metadata": {},
   "outputs": [
    {
     "data": {
      "text/plain": [
       "Text(0, 0.5, 'e_i')"
      ]
     },
     "execution_count": 99,
     "metadata": {},
     "output_type": "execute_result"
    },
    {
     "data": {
      "image/png": "[encoded data removed]",
      "text/plain": [
       "<Figure size 640x480 with 1 Axes>"
      ]
     },
     "metadata": {},
     "output_type": "display_data"
    }
   ],
   "source": [
    "# 残差与拟合值的关系图\n",
    "plt.scatter(Y_hat, res, c = 'red')\n",
    "plt.title('Plot of residuals versus y_i')\n",
    "plt.xlabel('y_i')\n",
    "plt.ylabel('e_i')"
   ]
  },
  {
   "cell_type": "markdown",
   "id": "b80a9dc2",
   "metadata": {},
   "source": [
    "从残差与拟合值的关系图中，无法拒绝方差齐性的假设。所以不能认为模型不合理，即认为模型合理。"
   ]
  },
  {
   "cell_type": "markdown",
   "id": "43fcad07",
   "metadata": {},
   "source": [
    "#### 方差分析可以看成特殊情况下的回归分析，方差分析就是解释变量全为分组的dummy（哑变量）的回归分析。  \n",
    "\n",
    "方差齐性检验的本质：样本以及总体的方差分布是常数，和自变量或因变量没关系。    \n",
    "线性回归里面我们一般用残差图来检验方差齐性，画散点图是为了弄清因变量和残差之间有没有关系。这里并不是说不同指标的方差不同，因为这里的自变量不像ANOVA中是可以人为控制的（分组-取值），这里的自变量是**观察**到的，如果我们没法取到每个 x 值所有对应的 y 值，就不能说对不同的指标方差不同，只是说观测值的方差不同（也只是一种探测）；我们这里只是用残差图去估计因变量的方差齐性（比较主观，看残差分布是否与拟合值没有明显的趋势关系）。  \n",
    "当然我们并不能通过残差的分布来证明因变量的方差齐性，我们只是提出了“方差齐性”的假设，然后画出残差图，它杂乱无章，不相关，看起来是独立的，所以我们不能推翻这个假设，就认为观测值的方差是齐性的。  \n"
   ]
  },
  {
   "cell_type": "markdown",
   "id": "ec94f873",
   "metadata": {},
   "source": [
    "# Task 4: 若取发动机转速为3000转/min，道路辛烷值为90，发动机压缩值为100时，分别给出制动马力值的置信区间和预测区间。"
   ]
  },
  {
   "cell_type": "markdown",
   "id": "be6c33c3",
   "metadata": {},
   "source": [
    "#### 注意两者的计算方法"
   ]
  },
  {
   "cell_type": "markdown",
   "id": "d4e34aab",
   "metadata": {},
   "source": [
    "**Remark3**: 多元情况下依然有预测区间的长度大于置信区间，借机温习一下二者的计算方法\n",
    "\n",
    "预测区间：\n",
    "\n",
    "$$\n",
    "(\\hat{y}_{f}-t_{\\alpha/2}*\\sqrt{(1+\\frac{1}{n}+\\frac{x_{f}-\\bar{x}}{\\sum_{i=1}^{n}\\left(x_{i}-\\bar{x}\\right)^{2}})\\sigma^{2}},\\hat{y}_{f}+t_{\\alpha/2}*\\sqrt{(1+\\frac{1}{n}+\\frac{x_{f}-\\bar{x}}{\\sum_{i=1}^{n}\\left(x_{i}-\\bar{x}\\right)^{2}})\\sigma^{2}}$$\n",
    "\n",
    "置信区间：\n",
    "\n",
    "$$\n",
    "(\\hat{y}_{f}-t_{\\alpha/2}*\\sqrt{(\\frac{1}{n}+\\frac{x_{f}-\\bar{x}}{\\sum_{i=1}^{n}\\left(x_{i}-\\bar{x}\\right)^{2}})\\sigma^{2}},\\hat{y}_{f}+t_{\\alpha/2}*\\sqrt{(\\frac{1}{n}+\\frac{x_{f}-\\bar{x}}{\\sum_{i=1}^{n}\\left(x_{i}-\\bar{x}\\right)^{2}})\\sigma^{2}}$$"
   ]
  },
  {
   "cell_type": "markdown",
   "id": "34e49655",
   "metadata": {},
   "source": [
    "### 置信区间"
   ]
  },
  {
   "cell_type": "code",
   "execution_count": 100,
   "id": "b37b493f",
   "metadata": {},
   "outputs": [
    {
     "name": "stdout",
     "output_type": "stream",
     "text": [
      "3000\n",
      "90\n",
      "100\n",
      "8.736173458784997\n",
      "给定 x =  [1, 3000, 90, 100] , E(y_0) 的置信区间： [226.2457 243.7181]\n",
      "8.736173458784997\n",
      "8.736173458784997\n",
      "宽度 =  17.472399999999993\n"
     ]
    }
   ],
   "source": [
    "# 给定 x_0，求 E(y_0) 的估计值\n",
    "def confidence_interval(x0):\n",
    "    x0 = np.array(x0)\n",
    "    Y0 = np.dot(x0.T, beta)\n",
    "    delta0 = tVal * sigma * np.sqrt(x0.T @ C @ x0)\n",
    "    Y0_int = [Y0 - delta0, Y0 + delta0]\n",
    "    print(delta0)\n",
    "    return Y0_int\n",
    "\n",
    "x0 = [1]\n",
    "for i in range(p):\n",
    "    x0.append(int(input()))\n",
    "print('给定 x = ', x0, ', E(y_0) 的置信区间：', np.round(confidence_interval(x0), 4))\n",
    "print('宽度 = ',np.round(confidence_interval(x0), 4)[1]-np.round(confidence_interval(x0), 4)[0])"
   ]
  },
  {
   "cell_type": "markdown",
   "id": "95a8ce94",
   "metadata": {},
   "source": [
    "### 预测区间"
   ]
  },
  {
   "cell_type": "code",
   "execution_count": 101,
   "id": "9578381a",
   "metadata": {},
   "outputs": [
    {
     "name": "stdout",
     "output_type": "stream",
     "text": [
      "3000\n",
      "90\n",
      "100\n",
      "给定 x =  [1, 3000, 90, 100] , y_0 的预测区间： [212.8622 257.1016]\n",
      "宽度 =  44.23940000000002\n"
     ]
    }
   ],
   "source": [
    "# 给定 x_0，求 y_0 的预测区间\n",
    "def confidence_interval(x0):\n",
    "    x0 = np.array(x0)\n",
    "    Y0 = np.dot(x0.T, beta)\n",
    "    delta1 = tVal * sigma * np.sqrt(1 + x0.T @ C @ x0)\n",
    "    Y0_int = [Y0 - delta1, Y0 + delta1]\n",
    "    return Y0_int\n",
    "\n",
    "x0_ = [1]\n",
    "for i in range(p):\n",
    "    x0_.append(int(input()))\n",
    "print('给定 x = ', x0_, ', y_0 的预测区间：', np.round(confidence_interval(x0_), 4))\n",
    "print('宽度 = ',np.round(confidence_interval(x0), 4)[1]-np.round(confidence_interval(x0), 4)[0])"
   ]
  },
  {
   "cell_type": "markdown",
   "id": "97fead80",
   "metadata": {},
   "source": [
    "从上面的差值可以看出，宽度44.23>17.47，符合预测区间大于置信区间的逻辑"
   ]
  },
  {
   "cell_type": "markdown",
   "id": "bbd8c0be",
   "metadata": {},
   "source": [
    "### 遇到的问题"
   ]
  },
  {
   "cell_type": "markdown",
   "id": "43237c2f",
   "metadata": {},
   "source": [
    "#### 1、标准化"
   ]
  },
  {
   "cell_type": "code",
   "execution_count": 102,
   "id": "433464d5",
   "metadata": {},
   "outputs": [
    {
     "name": "stdout",
     "output_type": "stream",
     "text": [
      "参数估计值: \n",
      " Intercept      0.0000\n",
      "P1_std         0.6913\n",
      "P2_std       202.2802\n",
      "P3_std       120.4986\n",
      "dtype: float64\n"
     ]
    },
    {
     "data": {
      "text/html": [
       "<table class=\"simpletable\">\n",
       "<caption>OLS Regression Results</caption>\n",
       "<tr>\n",
       "  <th>Dep. Variable:</th>          <td>F_std</td>      <th>  R-squared:         </th> <td>   0.807</td>\n",
       "</tr>\n",
       "<tr>\n",
       "  <th>Model:</th>                   <td>OLS</td>       <th>  Adj. R-squared:    </th> <td>   0.734</td>\n",
       "</tr>\n",
       "<tr>\n",
       "  <th>Method:</th>             <td>Least Squares</td>  <th>  F-statistic:       </th> <td>   11.12</td>\n",
       "</tr>\n",
       "<tr>\n",
       "  <th>Date:</th>             <td>Sat, 07 Oct 2023</td> <th>  Prob (F-statistic):</th>  <td>0.00317</td>\n",
       "</tr>\n",
       "<tr>\n",
       "  <th>Time:</th>                 <td>15:22:49</td>     <th>  Log-Likelihood:    </th> <td> -7.1718</td>\n",
       "</tr>\n",
       "<tr>\n",
       "  <th>No. Observations:</th>      <td>    12</td>      <th>  AIC:               </th> <td>   22.34</td>\n",
       "</tr>\n",
       "<tr>\n",
       "  <th>Df Residuals:</th>          <td>     8</td>      <th>  BIC:               </th> <td>   24.28</td>\n",
       "</tr>\n",
       "<tr>\n",
       "  <th>Df Model:</th>              <td>     3</td>      <th>                     </th>     <td> </td>   \n",
       "</tr>\n",
       "<tr>\n",
       "  <th>Covariance Type:</th>      <td>nonrobust</td>    <th>                     </th>     <td> </td>   \n",
       "</tr>\n",
       "</table>\n",
       "<table class=\"simpletable\">\n",
       "<tr>\n",
       "      <td></td>         <th>coef</th>     <th>std err</th>      <th>t</th>      <th>P>|t|</th>  <th>[0.025</th>    <th>0.975]</th>  \n",
       "</tr>\n",
       "<tr>\n",
       "  <th>Intercept</th> <td> 1.735e-17</td> <td>    0.156</td> <td> 1.12e-16</td> <td> 1.000</td> <td>   -0.359</td> <td>    0.359</td>\n",
       "</tr>\n",
       "<tr>\n",
       "  <th>P1_std</th>    <td>    0.6913</td> <td>    0.289</td> <td>    2.390</td> <td> 0.044</td> <td>    0.024</td> <td>    1.358</td>\n",
       "</tr>\n",
       "<tr>\n",
       "  <th>P2_std</th>    <td>  202.2802</td> <td>   54.489</td> <td>    3.712</td> <td> 0.006</td> <td>   76.628</td> <td>  327.932</td>\n",
       "</tr>\n",
       "<tr>\n",
       "  <th>P3_std</th>    <td>  120.4986</td> <td>   34.491</td> <td>    3.494</td> <td> 0.008</td> <td>   40.961</td> <td>  200.036</td>\n",
       "</tr>\n",
       "</table>\n",
       "<table class=\"simpletable\">\n",
       "<tr>\n",
       "  <th>Omnibus:</th>       <td> 0.392</td> <th>  Durbin-Watson:     </th> <td>   1.043</td>\n",
       "</tr>\n",
       "<tr>\n",
       "  <th>Prob(Omnibus):</th> <td> 0.822</td> <th>  Jarque-Bera (JB):  </th> <td>   0.230</td>\n",
       "</tr>\n",
       "<tr>\n",
       "  <th>Skew:</th>          <td>-0.282</td> <th>  Prob(JB):          </th> <td>   0.891</td>\n",
       "</tr>\n",
       "<tr>\n",
       "  <th>Kurtosis:</th>      <td> 2.625</td> <th>  Cond. No.          </th> <td>    350.</td>\n",
       "</tr>\n",
       "</table><br/><br/>Notes:<br/>[1] Standard Errors assume that the covariance matrix of the errors is correctly specified."
      ],
      "text/latex": [
       "\\begin{center}\n",
       "\\begin{tabular}{lclc}\n",
       "\\toprule\n",
       "\\textbf{Dep. Variable:}    &      F\\_std      & \\textbf{  R-squared:         } &     0.807   \\\\\n",
       "\\textbf{Model:}            &       OLS        & \\textbf{  Adj. R-squared:    } &     0.734   \\\\\n",
       "\\textbf{Method:}           &  Least Squares   & \\textbf{  F-statistic:       } &     11.12   \\\\\n",
       "\\textbf{Date:}             & Sat, 07 Oct 2023 & \\textbf{  Prob (F-statistic):} &  0.00317    \\\\\n",
       "\\textbf{Time:}             &     15:22:49     & \\textbf{  Log-Likelihood:    } &   -7.1718   \\\\\n",
       "\\textbf{No. Observations:} &          12      & \\textbf{  AIC:               } &     22.34   \\\\\n",
       "\\textbf{Df Residuals:}     &           8      & \\textbf{  BIC:               } &     24.28   \\\\\n",
       "\\textbf{Df Model:}         &           3      & \\textbf{                     } &             \\\\\n",
       "\\textbf{Covariance Type:}  &    nonrobust     & \\textbf{                     } &             \\\\\n",
       "\\bottomrule\n",
       "\\end{tabular}\n",
       "\\begin{tabular}{lcccccc}\n",
       "                   & \\textbf{coef} & \\textbf{std err} & \\textbf{t} & \\textbf{P$> |$t$|$} & \\textbf{[0.025} & \\textbf{0.975]}  \\\\\n",
       "\\midrule\n",
       "\\textbf{Intercept} &    1.735e-17  &        0.156     &  1.12e-16  &         1.000        &       -0.359    &        0.359     \\\\\n",
       "\\textbf{P1\\_std}   &       0.6913  &        0.289     &     2.390  &         0.044        &        0.024    &        1.358     \\\\\n",
       "\\textbf{P2\\_std}   &     202.2802  &       54.489     &     3.712  &         0.006        &       76.628    &      327.932     \\\\\n",
       "\\textbf{P3\\_std}   &     120.4986  &       34.491     &     3.494  &         0.008        &       40.961    &      200.036     \\\\\n",
       "\\bottomrule\n",
       "\\end{tabular}\n",
       "\\begin{tabular}{lclc}\n",
       "\\textbf{Omnibus:}       &  0.392 & \\textbf{  Durbin-Watson:     } &    1.043  \\\\\n",
       "\\textbf{Prob(Omnibus):} &  0.822 & \\textbf{  Jarque-Bera (JB):  } &    0.230  \\\\\n",
       "\\textbf{Skew:}          & -0.282 & \\textbf{  Prob(JB):          } &    0.891  \\\\\n",
       "\\textbf{Kurtosis:}      &  2.625 & \\textbf{  Cond. No.          } &     350.  \\\\\n",
       "\\bottomrule\n",
       "\\end{tabular}\n",
       "%\\caption{OLS Regression Results}\n",
       "\\end{center}\n",
       "\n",
       "Notes: \\newline\n",
       " [1] Standard Errors assume that the covariance matrix of the errors is correctly specified."
      ],
      "text/plain": [
       "<class 'statsmodels.iolib.summary.Summary'>\n",
       "\"\"\"\n",
       "                            OLS Regression Results                            \n",
       "==============================================================================\n",
       "Dep. Variable:                  F_std   R-squared:                       0.807\n",
       "Model:                            OLS   Adj. R-squared:                  0.734\n",
       "Method:                 Least Squares   F-statistic:                     11.12\n",
       "Date:                Sat, 07 Oct 2023   Prob (F-statistic):            0.00317\n",
       "Time:                        15:22:49   Log-Likelihood:                -7.1718\n",
       "No. Observations:                  12   AIC:                             22.34\n",
       "Df Residuals:                       8   BIC:                             24.28\n",
       "Df Model:                           3                                         \n",
       "Covariance Type:            nonrobust                                         \n",
       "==============================================================================\n",
       "                 coef    std err          t      P>|t|      [0.025      0.975]\n",
       "------------------------------------------------------------------------------\n",
       "Intercept   1.735e-17      0.156   1.12e-16      1.000      -0.359       0.359\n",
       "P1_std         0.6913      0.289      2.390      0.044       0.024       1.358\n",
       "P2_std       202.2802     54.489      3.712      0.006      76.628     327.932\n",
       "P3_std       120.4986     34.491      3.494      0.008      40.961     200.036\n",
       "==============================================================================\n",
       "Omnibus:                        0.392   Durbin-Watson:                   1.043\n",
       "Prob(Omnibus):                  0.822   Jarque-Bera (JB):                0.230\n",
       "Skew:                          -0.282   Prob(JB):                        0.891\n",
       "Kurtosis:                       2.625   Cond. No.                         350.\n",
       "==============================================================================\n",
       "\n",
       "Notes:\n",
       "[1] Standard Errors assume that the covariance matrix of the errors is correctly specified.\n",
       "\"\"\""
      ]
     },
     "execution_count": 102,
     "metadata": {},
     "output_type": "execute_result"
    }
   ],
   "source": [
    "X = data[:, 0 : p + 1]\n",
    "Y = data[:, -1]\n",
    "# 求均值\n",
    "X_mean = []\n",
    "for k in range(p + 1):\n",
    "    X_mean.append(np.mean(data[:, k]))  # 自变量 x 的均值\n",
    "Y_mean = np.mean(data[:, -1])  # 因变量 y 的均值\n",
    "\n",
    "# 标准化\n",
    "X_std = (X - X_mean) / np.std(X)\n",
    "Y_std = (Y - Y_mean) / np.std(Y)\n",
    "\n",
    "# Do the multiple linear regression\n",
    "df = pd.DataFrame(X_std, columns=['intercept_std', 'P1_std', 'P2_std', 'P3_std'])\n",
    "df['F_std'] = Y_std\n",
    "model_std = ols('F_std ~ P1_std + P2_std + P3_std', df).fit()\n",
    "beta_std = model_std.params\n",
    "print('参数估计值: \\n', round(beta_std, 4))\n",
    "Y_hat_std = model_std.fittedvalues\n",
    "model_std.summary()"
   ]
  },
  {
   "cell_type": "markdown",
   "id": "5e94e3b6",
   "metadata": {},
   "source": [
    "在标准化的过程中，X没有指定axis=0。如果不指定 axis=0，np.std(X) 将计算整个矩阵 X 的标准差，得到的是一个标量值，而我们通常期望的是对每一列（每个自变量）分别计算标准差，以便进行标准化。\n",
    "\n",
    "通过指定 axis=0，我们告诉 NumPy 在每一列上计算标准差，而不是整个矩阵。这样，X_std 将包含每个自变量的标准化值，而不是整个矩阵的标准差。\n",
    "\n",
    "因此，指定 axis=0 是确保正确计算每个自变量的标准差，并进行正确的标准化。"
   ]
  },
  {
   "cell_type": "markdown",
   "id": "968d3773",
   "metadata": {},
   "source": [
    "#### 2、矩阵乘法"
   ]
  },
  {
   "cell_type": "markdown",
   "id": "f25ccfdb",
   "metadata": {},
   "source": [
    "由np.array()多维数组定义的矩阵，使用运算符“@”可以进行矩阵乘法。'*'运算符是将两个向量中每个元素进行相乘，是数乘运算，需要两个参与运算的矩阵维度相同。'np.dot()'和'@'运算符都可以起到矩阵乘法的作用，在处理连乘时‘@’相对方便。"
   ]
  },
  {
   "cell_type": "code",
   "execution_count": null,
   "id": "9ed51c19",
   "metadata": {},
   "outputs": [],
   "source": []
  }
 ],
 "metadata": {
  "kernelspec": {
   "display_name": "Python 3 (ipykernel)",
   "language": "python",
   "name": "python3"
  },
  "language_info": {
   "codemirror_mode": {
    "name": "ipython",
    "version": 3
   },
   "file_extension": ".py",
   "mimetype": "text/x-python",
   "name": "python",
   "nbconvert_exporter": "python",
   "pygments_lexer": "ipython3",
   "version": "3.11.4"
  }
 },
 "nbformat": 4,
 "nbformat_minor": 5
}
