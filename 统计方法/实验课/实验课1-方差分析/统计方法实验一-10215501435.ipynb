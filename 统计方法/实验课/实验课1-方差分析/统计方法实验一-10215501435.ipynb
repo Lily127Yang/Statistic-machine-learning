{
 "cells": [
  {
   "cell_type": "markdown",
   "id": "2c55846c-3a6d-4760-a12a-11a7fa856f3f",
   "metadata": {},
   "source": [
    "# Statistical-Methods 实验一：10215501435 杨茜雅"
   ]
  },
  {
   "cell_type": "markdown",
   "id": "51b41bf8-d228-49bb-ad26-b5414d52d35b",
   "metadata": {},
   "source": [
    "## 背景描述\n",
    "为了调查吃巧克力对心血管健康的影响，实验由三种类型的巧克力组成：100g的黑巧克力，含有200mg全脂牛奶的100g黑巧克力和200g的牛奶巧克力。12个实验对象：7女5男。在不同的天数里，每个实验对象将吃一种类型的巧克力，一个小时后测量他们血浆的总抗氧能力。 \n",
    "\n",
    "\n",
    "\n",
    "## 数据描述\n",
    "实验次序本身具有随机性，无需再随机化。请使用Project_1.csv中的数据集。数据字典如下表所示。\n",
    "\n",
    "| 变量名 | 变量含义 | 变量类型 | 变量取值范围 |\n",
    "| :----------: | :--------: | :----------: | :----------: |\n",
    "| （自变量）Chocolate | 巧克力类型 | 分类变量 | [1, 2, 3] |\n",
    "| （因变量）Capacity | 血浆浓度 | 连续变量 | R |\n",
    "\n",
    "\n",
    "\n",
    "## 问题 \n",
    "注：显著性水平 $\\alpha$ 取0.05\n",
    "\n",
    "1. 两两比较 3 种巧克力对心血管健康的影响是否存在差异。\n",
    "2. 判断 3 种巧克力对心血管健康的影响是否有差异。\n",
    "3. 试说明所使用模型的合理性。\n",
    "4. 估计食用这 3 种巧克力一小时后血浆的总抗氧能力。请分别给出点估计和区间估计。\n",
    "5. 用Bonferroni方法比较吃了 3 种巧克力后，一个小时的血浆总抗氧能力两两是否存在差异。\n",
    "6. 用Tukey方法比较吃了 3 种巧克力后，一个小时的血浆总抗氧能力两两是否存在差异。采用以下两种不同的方法来解决这个问题:\n",
    "- 直接调用python中现有函数\n",
    "- 用蒙特卡洛随机模拟分布的方式，确定 $t$ 化极差统计量的分位数 $q_{1-\\alpha}(a,df)$ ，计算临界值（critical value) c= $q_{1-\\alpha}(a,df)\\hat{\\sigma}/\\sqrt{m}$\n",
    "\n",
    "7. 基于这个例子，请评述一下Bonferroni方法和Tukey方法的异同。\n"
   ]
  },
  {
   "cell_type": "markdown",
   "id": "c0226057-4a63-4c4d-b19e-0a253b81e193",
   "metadata": {},
   "source": [
    "### 载入一些Python的安装包"
   ]
  },
  {
   "cell_type": "code",
   "execution_count": 1,
   "id": "d8e421fb-e010-4ea5-a60a-22c31ee1a917",
   "metadata": {},
   "outputs": [],
   "source": [
    "import os # 修改工作目录\n",
    "\n",
    "import numpy as np\n",
    "import pandas as pd\n",
    "import scipy.stats as stats # 统计函数\n",
    "import matplotlib.pyplot as plt\n",
    "from plotnine import * # ggplot 绘图\n",
    "from plotnine.data import mpg\n",
    "from jupyterquiz import display_quiz # Quiz\n",
    "import seaborn as sns\n",
    "\n",
    "#from ggplot import ggplot\n",
    "\n",
    "import math\n",
    "\n",
    "from statsmodels.formula.api import ols\n",
    "from statsmodels.stats.anova import anova_lm\n",
    "from scipy.stats import f\n",
    "from scipy.stats import t\n",
    "from statsmodels.stats.stattools import durbin_watson\n",
    "\n",
    "from itertools import combinations\n",
    "\n",
    "import warnings\n",
    "warnings.filterwarnings('ignore')\n",
    "\n",
    "import statsmodels.api as sm\n",
    "from statsmodels.stats.multicomp import pairwise_tukeyhsd"
   ]
  },
  {
   "cell_type": "code",
   "execution_count": 2,
   "id": "d58d5bce-4b52-4618-af7f-97431d4b5e74",
   "metadata": {},
   "outputs": [],
   "source": [
    "os.chdir(\"/home/jovyan/Stat_ML_2023/Data\")"
   ]
  },
  {
   "cell_type": "code",
   "execution_count": 3,
   "id": "eef3cdb0-95ba-4190-a7d0-c7b2ce0f0830",
   "metadata": {},
   "outputs": [
    {
     "name": "stdout",
     "output_type": "stream",
     "text": [
      "Data 1 is shown as follows: \n",
      "     Obs  Chocolate  Capacity\n",
      "0     1          1     118.8\n",
      "1     2          1     122.6\n",
      "2     3          1     115.6\n",
      "3     4          1     113.6\n",
      "4     5          1     119.5\n",
      "5     6          1     115.9\n",
      "6     7          1     115.8\n",
      "7     8          1     115.1\n",
      "8     9          1     116.9\n",
      "9    10          1     115.4\n",
      "10   11          1     115.6\n",
      "11   12          1     107.9\n",
      "12    1          2     105.4\n",
      "13    2          2     101.1\n",
      "14    3          2     102.7\n",
      "15    4          2      97.1\n",
      "16    5          2     101.9\n",
      "17    6          2      98.9\n",
      "18    7          2     100.0\n",
      "19    8          2      99.8\n",
      "20    9          2     102.6\n",
      "21   10          2     100.9\n",
      "22   11          2     104.5\n",
      "23   12          2      93.5\n",
      "24    1          3     102.1\n",
      "25    2          3     105.8\n",
      "26    3          3      99.6\n",
      "27    4          3     102.7\n",
      "28    5          3      98.8\n",
      "29    6          3     100.9\n",
      "30    7          3     102.8\n",
      "31    8          3      98.7\n",
      "32    9          3      94.7\n",
      "33   10          3      97.8\n",
      "34   11          3      99.7\n",
      "35   12          3      98.6\n"
     ]
    }
   ],
   "source": [
    "print('Data 1 is shown as follows: \\n', pd.read_csv(\"Project_1.csv\"))"
   ]
  },
  {
   "cell_type": "markdown",
   "id": "ef486642-65e8-4224-aeba-7de728fb48b7",
   "metadata": {},
   "source": [
    "## 解决方案"
   ]
  },
  {
   "cell_type": "markdown",
   "id": "bcdb4ab6-a69c-48f3-ab8a-a1ce9174a5fa",
   "metadata": {},
   "source": [
    "# **Q1:两两比较3种巧克力对心血管健康的影响是否存在差异** \n",
    "\n",
    "$\\color{blue}{\\textit Solution:}$\n",
    "两两进行二样本独立t检验\n",
    "\n",
    "\n",
    "\n"
   ]
  },
  {
   "cell_type": "code",
   "execution_count": 4,
   "id": "28568c0c-bb44-4d40-b2f1-fbdf5a55fbde",
   "metadata": {
    "scrolled": true
   },
   "outputs": [],
   "source": [
    "alpha = 0.05 # significant level\n",
    "a = 3 # number of levels\n",
    "m = 12 # number of replicates\n",
    "n = a*m # sample size"
   ]
  },
  {
   "cell_type": "code",
   "execution_count": 5,
   "id": "9cb40030-902e-4ad1-bb90-c0a7587e98bd",
   "metadata": {},
   "outputs": [
    {
     "name": "stdout",
     "output_type": "stream",
     "text": [
      "Index(['Obs', 'Chocolate', 'Capacity'], dtype='object')\n"
     ]
    }
   ],
   "source": [
    "## Load Data\n",
    "Data = pd.read_csv(\"Project_1.csv\")\n",
    "print(Data.columns)# Print the column names of Data_1"
   ]
  },
  {
   "cell_type": "code",
   "execution_count": 6,
   "id": "e7032d48-d011-40e9-b6cc-5850484c2eea",
   "metadata": {},
   "outputs": [
    {
     "name": "stdout",
     "output_type": "stream",
     "text": [
      "    Chocolate  Capacity\n",
      "0           1     118.8\n",
      "1           1     122.6\n",
      "2           1     115.6\n",
      "3           1     113.6\n",
      "4           1     119.5\n",
      "5           1     115.9\n",
      "6           1     115.8\n",
      "7           1     115.1\n",
      "8           1     116.9\n",
      "9           1     115.4\n",
      "10          1     115.6\n",
      "11          1     107.9\n",
      "12          2     105.4\n",
      "13          2     101.1\n",
      "14          2     102.7\n",
      "15          2      97.1\n",
      "16          2     101.9\n",
      "17          2      98.9\n",
      "18          2     100.0\n",
      "19          2      99.8\n",
      "20          2     102.6\n",
      "21          2     100.9\n",
      "22          2     104.5\n",
      "23          2      93.5\n",
      "24          3     102.1\n",
      "25          3     105.8\n",
      "26          3      99.6\n",
      "27          3     102.7\n",
      "28          3      98.8\n",
      "29          3     100.9\n",
      "30          3     102.8\n",
      "31          3      98.7\n",
      "32          3      94.7\n",
      "33          3      97.8\n",
      "34          3      99.7\n",
      "35          3      98.6\n"
     ]
    }
   ],
   "source": [
    "Data1 = Data.drop('Obs', axis=1)\n",
    "print(Data1)"
   ]
  },
  {
   "cell_type": "code",
   "execution_count": 7,
   "id": "f7995e57-12d8-4c6f-b1ca-716e891e267f",
   "metadata": {
    "scrolled": true
   },
   "outputs": [
    {
     "data": {
      "image/png": "[encoded data removed]",
      "text/plain": [
       "<Figure size 1000x600 with 1 Axes>"
      ]
     },
     "metadata": {},
     "output_type": "display_data"
    }
   ],
   "source": [
    "sns.set(style=\"whitegrid\")\n",
    "\n",
    "# 创建散点图\n",
    "plt.figure(figsize=(10, 6))\n",
    "sns.stripplot(x='Chocolate', y='Capacity', data=Data, jitter=True, dodge=True, palette='husl')\n",
    "\n",
    "# 添加标签和标题\n",
    "plt.xlabel('Chocolate Type')\n",
    "plt.ylabel('Capacity')\n",
    "plt.title('Chocolate Capacity by Type')\n",
    "\n",
    "# 显示图形\n",
    "plt.show()"
   ]
  },
  {
   "cell_type": "markdown",
   "id": "abae4152-8b20-4086-a31e-45822f13e75b",
   "metadata": {},
   "source": [
    "在上图中，可以从直观上比较三种巧克力对血浆浓度的影响。感觉上，三种巧克力是有区别的。\n",
    "\n",
    "假定巧克力1的数据$x_1,x_2,\\cdots,x_m$来自一个正态分布$N(\\mu_1,\\sigma^2)$，巧克力2的数据$y_1,y_2,\\cdots,y_n$来自另一个正态分布$N(\\mu_2,\\sigma^2)$，并且这两个正态分布是相互独立的。于是，比较两组数据差异的问题，就转化为比较两个总体均值差异的问题。通常，我们会考虑这样的一对假设，即原假设和备择假设分别为\n",
    "$$\n",
    "H_0: \\mu_1 = \\mu_2, \\quad \\text{vs} \\quad H_1: \\mu_1\\neq \\mu_2.\n",
    "$$\n",
    "为解决这个问题，我们构建了一个检验统计量为\n",
    "$$\n",
    "t_0 = \\frac{ (\\bar{x} - \\bar{y})}{\\sqrt{s_w^2 (m^{-1} + n^{-1})}}.\n",
    "$$\n",
    "其中，\n",
    "- $\\bar{x} = m^{-1} \\sum_{i=1}^m x_i$表示巧克力1的样本均值；\n",
    "- $\\bar{y} = n^{-1} \\sum_{i=1}^n y_i$表示巧克力2的样本均值；\n",
    "- $s_w^2 = \\frac{(m-1)\\sum{i=1}^{m}(x_i-\\bar{x})^2 + (n-1)\\sum_{i=1}^n (y_i-\\bar{y})^2}{m+n-2}$表示两组样本的合方差。\n",
    "\n",
    "可以证明，在原假设成立的情况下，$t \\sim t(m+n-2)$。于是，我们可以构造拒绝域为$\\{|t_0| > t_{1-\\alpha/2}(m+n-2)\\}$。当样本落入拒绝域时，则拒绝原假设；反之，则无法拒绝原假设。除了构造拒绝域这一方法之外，我们还可以计算其$p$值，即\n",
    "$$\n",
    "p = 2\\times P(t_{m+n-2} > |t_0|) .\n",
    "$$\n",
    "如果$p$值小于显著性水平$\\alpha$，则拒绝原假设；反之，则无法拒绝原假设。\n",
    "\n",
    "注：在这个问题中，$m=n=12$。"
   ]
  },
  {
   "cell_type": "markdown",
   "id": "8d8593a2-1c7e-4330-9fb9-f89f94f78d13",
   "metadata": {},
   "source": [
    "# 巧克力1和2"
   ]
  },
  {
   "cell_type": "code",
   "execution_count": 8,
   "id": "728a7606-12ad-437e-bde2-b67871ceea0f",
   "metadata": {},
   "outputs": [
    {
     "name": "stdout",
     "output_type": "stream",
     "text": [
      "0     118.8\n",
      "1     122.6\n",
      "2     115.6\n",
      "3     113.6\n",
      "4     119.5\n",
      "5     115.9\n",
      "6     115.8\n",
      "7     115.1\n",
      "8     116.9\n",
      "9     115.4\n",
      "10    115.6\n",
      "11    107.9\n",
      "Name: Capacity, dtype: float64\n",
      "12    105.4\n",
      "13    101.1\n",
      "14    102.7\n",
      "15     97.1\n",
      "16    101.9\n",
      "17     98.9\n",
      "18    100.0\n",
      "19     99.8\n",
      "20    102.6\n",
      "21    100.9\n",
      "22    104.5\n",
      "23     93.5\n",
      "Name: Capacity, dtype: float64\n",
      "24    102.1\n",
      "25    105.8\n",
      "26     99.6\n",
      "27    102.7\n",
      "28     98.8\n",
      "29    100.9\n",
      "30    102.8\n",
      "31     98.7\n",
      "32     94.7\n",
      "33     97.8\n",
      "34     99.7\n",
      "35     98.6\n",
      "Name: Capacity, dtype: float64\n",
      "t statistic is: 11.10565260090929\n",
      "p-value is: 1.733093968209115e-10\n",
      "critical value is： 2.0739\n"
     ]
    }
   ],
   "source": [
    "group1 = Data[Data['Chocolate'] == 1]['Capacity']\n",
    "print(group1)\n",
    "group2 = Data[Data['Chocolate'] == 2]['Capacity']\n",
    "print(group2)\n",
    "group3 = Data[Data['Chocolate'] == 3]['Capacity']\n",
    "print(group3)\n",
    "# 执行两样本 t 检验\n",
    "t_statistic, p_value = stats.ttest_ind(group1, group2)\n",
    "\n",
    "# 打印 t 统计量和 p 值\n",
    "print(\"t statistic is:\", t_statistic)\n",
    "print(\"p-value is:\", p_value)\n",
    "print(\"critical value is：\", round(t.ppf(1-alpha/2,12*2-2),4))"
   ]
  },
  {
   "cell_type": "markdown",
   "id": "165685bf-201d-4c6e-8d16-dba4e3962199",
   "metadata": {},
   "source": [
    "我们发现，\n",
    " 检验统计量的绝对值比临界值大得多，所以，拒绝原假设，也就是说，巧克力1和2对心血管健康的影响有显著差异。"
   ]
  },
  {
   "cell_type": "markdown",
   "id": "28d53575-3e3b-4659-8958-70aa50e6d698",
   "metadata": {},
   "source": [
    "除了上述方法之外，我们仍可以采用p值来得到结论。\n",
    "由于 $P$ 值比显著性水平 $\\alpha$ 小，所以，拒绝原假设。"
   ]
  },
  {
   "cell_type": "markdown",
   "id": "649633ca-8497-4215-8630-d2f3c1173017",
   "metadata": {},
   "source": [
    "对巧克力1和3、2和3也进行同样的操作"
   ]
  },
  {
   "cell_type": "markdown",
   "id": "8ea27b09-cc83-42b9-8fd2-54d3aabbb5e2",
   "metadata": {},
   "source": [
    "# 巧克力1和3"
   ]
  },
  {
   "cell_type": "code",
   "execution_count": 9,
   "id": "77261384-415e-4fbb-b18f-bbc31d39e5cd",
   "metadata": {},
   "outputs": [
    {
     "name": "stdout",
     "output_type": "stream",
     "text": [
      "t statistic is: 12.047774079768462\n",
      "p-value is: 3.683389152570871e-11\n",
      "critical value is： 2.0739\n"
     ]
    }
   ],
   "source": [
    "group1 = Data[Data['Chocolate'] == 1]['Capacity']\n",
    "group2 = Data[Data['Chocolate'] == 2]['Capacity']\n",
    "group3 = Data[Data['Chocolate'] == 3]['Capacity']\n",
    "# 执行两样本 t 检验\n",
    "t_statistic, p_value = stats.ttest_ind(group1, group3)\n",
    "\n",
    "# 打印 t 统计量和 p 值\n",
    "print(\"t statistic is:\", t_statistic)\n",
    "print(\"p-value is:\", p_value)\n",
    "print(\"critical value is：\", round(t.ppf(1-alpha/2,12*2-2),4))"
   ]
  },
  {
   "cell_type": "markdown",
   "id": "41d9a3da-c3e7-4c46-a9fc-26c5fceca7a4",
   "metadata": {},
   "source": [
    "我们发现， 检验统计量的绝对值比临界值大得多，所以，拒绝原假设，也就是说，巧克力1和3对心血管健康的影响有显著差异。"
   ]
  },
  {
   "cell_type": "markdown",
   "id": "f9eb013a-26dd-4d7c-9c52-e324f136c139",
   "metadata": {},
   "source": [
    "除了上述方法之外，我们仍可以采用p值来得到结论。\n",
    "由于 $P$ 值比显著性水平 $\\alpha$ 小，所以，拒绝原假设。"
   ]
  },
  {
   "cell_type": "markdown",
   "id": "df0c1c97-a1a3-4dca-8bc2-124472201f2f",
   "metadata": {},
   "source": [
    "# 巧克力2和3"
   ]
  },
  {
   "cell_type": "code",
   "execution_count": 10,
   "id": "4cd73aff-ca64-47bf-a7b9-92900995847d",
   "metadata": {},
   "outputs": [
    {
     "name": "stdout",
     "output_type": "stream",
     "text": [
      "t statistic is: 0.4126071170622644\n",
      "p-value is: 0.6838877988482657\n",
      "critical value is： 2.0739\n"
     ]
    }
   ],
   "source": [
    "group1 = Data[Data['Chocolate'] == 1]['Capacity']\n",
    "group2 = Data[Data['Chocolate'] == 2]['Capacity']\n",
    "group3 = Data[Data['Chocolate'] == 3]['Capacity']\n",
    "# 执行两样本 t 检验\n",
    "t_statistic, p_value = stats.ttest_ind(group2, group3)\n",
    "\n",
    "# 打印 t 统计量和 p 值\n",
    "print(\"t statistic is:\", t_statistic)\n",
    "print(\"p-value is:\", p_value)\n",
    "print(\"critical value is：\", round(t.ppf(1-alpha/2,12*2-2),4))"
   ]
  },
  {
   "cell_type": "markdown",
   "id": "09f9cc58-dddb-4b6f-adb6-642671e8bc12",
   "metadata": {},
   "source": [
    "我们发现， 检验统计量的绝对值比临界值小得多，所以，无法拒绝原假设，也就是说，巧克力2和3对心血管健康的影响无显著差异。"
   ]
  },
  {
   "cell_type": "markdown",
   "id": "f9668225-c2ca-439f-b36b-03f4e753c45f",
   "metadata": {},
   "source": [
    "除了上述方法之外，我们仍可以采用p值来得到结论。\n",
    "由于 $P$ 值比显著性水平 $\\alpha$ 大，所以，无法拒绝原假设。"
   ]
  },
  {
   "cell_type": "markdown",
   "id": "c0a693ff-66f1-4c4c-8a1d-ec49008eff75",
   "metadata": {},
   "source": [
    "## 所以，综上所述，经过两两比较3种巧克力对心血管健康的影响，我们认为：\n",
    "- 巧克力1与2对心血管健康的影响有显著差异\n",
    "- 巧克力1与3对心血管健康的影响有显著差异\n",
    "- 巧克力2与3对心血管健康的影响无显著差异"
   ]
  },
  {
   "cell_type": "markdown",
   "id": "98e4dc35-e2ed-49ee-bb9a-4dfffdc937ed",
   "metadata": {},
   "source": [
    "# **Q2:判断 3 种巧克力对心血管健康的影响是否有差异。** \n",
    "\n",
    "$\\color{blue}{\\textit Solution:}$\n",
    "进行单因素方差分析\n",
    "\n",
    "检验假设:\n",
    "假设原假设$H_0: \\mu_1 = \\mu_2 = \\mu_3 $与备择假设$ H_1: \\mu_1, \\mu_2, \\mu_3$不全相等\n",
    "\n",
    "\n",
    "\n"
   ]
  },
  {
   "cell_type": "markdown",
   "id": "44411392-1091-4d5e-955c-daa5b271628c",
   "metadata": {},
   "source": [
    "Anova Table"
   ]
  },
  {
   "cell_type": "markdown",
   "id": "a1c1240e-9bc7-486f-9281-a40152927352",
   "metadata": {},
   "source": [
    "| 来源  | 平方和(SS) | 自由度(f) |        均方(MS)        |     检验统计量(F)     |    P-value    |\n",
    "| :---: | :--------: | :-------: | :--------------------: | :-------------------: | :-----------: |\n",
    "| 因子A |   $S_A$    | $f_A=a-1$ | $MS_A=\\frac{S_A}{f_A}$ | $F=\\frac{MS_A}{MS_E}$ | $p=P(Y\\ge F)$ |\n",
    "| 误差E |   $S_E$    | $f_E=n-a$ | $MS_E=\\frac{S_E}{f_E}$ |                       |               |\n",
    "| 总和T |   $S_T$    | $f_T=n-1$ |                        |                       |               |"
   ]
  },
  {
   "cell_type": "markdown",
   "id": "1dc11158-a82e-43e3-b8f8-4e0fa6504e19",
   "metadata": {},
   "source": [
    "计算关系如下"
   ]
  },
  {
   "cell_type": "markdown",
   "id": "5e32821d-8efd-4c80-9dc5-c4440b143e8c",
   "metadata": {},
   "source": [
    "$\\begin{array}{ll}\n",
    "S_{T}=\\sum_{i=1}^{a} \\sum_{j=1}^{m_{i}}\\left(y_{i j}-\\bar{y}\\right)^{2}=\\sum_{i=1}^{r} \\sum_{j=1}^{m_{i}} y_{i j}^{2}-\\frac{T^{2}}{n}, & f_{T}=n-1 \\\\\n",
    "S_{A}=\\sum_{i=1}^{a} m_{i}\\left(\\bar{y}_{i} .-\\bar{y}\\right)^{2}=\\sum_{i=1}^{r} \\frac{T_{i}^{2}}{m_{i}}-\\frac{T^{2}}{n}, & f_{A}=a-1, \\\\\n",
    "S_{E}=\\sum_{i=1}^{a} \\sum_{j=1}^{m_{i}}\\left(y_{i j}-\\bar{y}_{i \\cdot}\\right)^{2}=S_{T}-S_{A}, & f_{E}=n-a\n",
    "\\end{array}$"
   ]
  },
  {
   "cell_type": "code",
   "execution_count": 11,
   "id": "988dedf1-c83c-44af-b4cb-6a9fcc00164f",
   "metadata": {},
   "outputs": [
    {
     "name": "stdout",
     "output_type": "stream",
     "text": [
      "<class 'numpy.ndarray'>\n",
      "The ANOVA table: \n",
      "                 df   sum_sq  mean_sq      F  PR(>F)\n",
      "C(Chocolate)   2.0  1952.64   976.32  93.58     0.0\n",
      "Residual      33.0   344.31    10.43    NaN     NaN\n",
      "P-value of one way ANOVA: 2.5152590041683006e-14\n",
      "\n",
      "Since p-value < 0.05, reject H0.\n",
      "Since F0 > F(0.05,2,33) =  3.28 , reject H0.\n"
     ]
    }
   ],
   "source": [
    "Alpha = 0.05\n",
    "\n",
    "a = 3\n",
    "n = 12\n",
    "load_data = pd.read_csv(\"Project_1.csv\")\n",
    "\n",
    "data = load_data.values[:,1:3]\n",
    "\n",
    "print(type(data))\n",
    "\n",
    "group1 = data[data[:,0] == 1,1]\n",
    "group2 = data[data[:,0] == 2,1]\n",
    "group3 = data[data[:,0] == 3,1]\n",
    "\n",
    "#One-way ANOVA\n",
    "\n",
    "df = pd.DataFrame(data, columns = ['Chocolate', 'Capacity'])\n",
    "\n",
    "model = ols('Capacity ~ C(Chocolate)', df).fit()\n",
    "\n",
    "anovaResults = round(anova_lm(model), 2)\n",
    "print('The ANOVA table: \\n', anovaResults)  \n",
    "\n",
    "F0, pVal1 = stats.f_oneway(group1, group2, group3)\n",
    "\n",
    "# 法1 p值：\n",
    "print('P-value of one way ANOVA:', pVal1)\n",
    "\n",
    "if pVal1 < Alpha:\n",
    "    print('\\nSince p-value < 0.05, reject H0.')\n",
    "else:\n",
    "    print('\\nAccept H0.') \n",
    "    \n",
    "# 法2 检验统计量：\n",
    "F = round(f.ppf(0.95,dfn =2,dfd = 33), 2)\n",
    "\n",
    "if F0 > F:\n",
    "    print('Since F0 > F(0.05,2,33) = ', F, ', reject H0.') #F分布的参数 a-1, n-a\n",
    "else:\n",
    "    print('Accept H0.') "
   ]
  },
  {
   "cell_type": "code",
   "execution_count": 12,
   "id": "a0df32ae-5245-4680-87ae-946d6f7132a8",
   "metadata": {},
   "outputs": [
    {
     "name": "stdout",
     "output_type": "stream",
     "text": [
      "\n",
      "The ANOVA table: \n",
      "                 df     sum_sq   mean_sq        F  PR(>F)\n",
      "C(Chocolate)   2.0  1952.6439  976.3219  93.5756     0.0\n",
      "Residual      33.0   344.3058   10.4335      NaN     NaN\n"
     ]
    }
   ],
   "source": [
    "model = ols('Capacity~C(Chocolate)', df).fit() #使用C(Chocolate)，将 Chocolate 列视为分类变量\n",
    "anovaResults = round(anova_lm(model),4)\n",
    "print(\"\\nThe ANOVA table: \\n\", anovaResults)"
   ]
  },
  {
   "cell_type": "markdown",
   "id": "955d035b-a719-4fe2-bdf4-949e450ed54a",
   "metadata": {},
   "source": [
    "**综上所述我们可以看到，p值小于0.05，F检验统计量的值大于临界值，说明我们可以拒绝原假设，也就是说认为：**\n",
    "\n",
    "**至少存在两种巧克力对心血管健康的影响有差异**\n",
    "\n"
   ]
  },
  {
   "cell_type": "markdown",
   "id": "590d978e-5d39-412b-ba3f-46bc6b6485d5",
   "metadata": {},
   "source": [
    "# **Q3:试说明所使用模型的合理性，即使用单因素方差分析模型是否合理。** \n",
    "\n",
    "$\\color{blue}{\\textit Solution:}$\n",
    "\n",
    "想要判断ANOVA模型是否恰当，可以利用残差检测来进行分析。  \n",
    "处理 $i$ 的观测值 $j$ 的残差定义为：$e_{ij} = y_{ij} - \\hat{y}_{ij}$  \n",
    "其中$\\hat{y}_{ij}$是对应于$y_{ij}$的一个估计， \n",
    "$\\hat{y}_{ij} = \\hat{\\mu} + \\hat{\\tau}_i = \\overline{y}_{··} + (\\overline{y}_{i·} - \\overline{y}_{··}) = \\overline{y}_{i·}$  \n",
    "\n",
    "\n",
    "\n"
   ]
  },
  {
   "cell_type": "markdown",
   "id": "38790488-b032-4dbc-beff-898ff7985ed5",
   "metadata": {},
   "source": [
    "**1. 独立性检验**  "
   ]
  },
  {
   "cell_type": "markdown",
   "id": "831aefb9-2f43-485d-88d2-a486546e8acd",
   "metadata": {},
   "source": [
    "【法1】利用残差的时序图，依照收集数据的时间顺序画出残差图有助于检测残差之间的相关性。"
   ]
  },
  {
   "cell_type": "code",
   "execution_count": 13,
   "id": "4ea94d5d-35b8-443a-b5d4-83f21db7676b",
   "metadata": {
    "scrolled": true
   },
   "outputs": [
    {
     "name": "stdout",
     "output_type": "stream",
     "text": [
      "data_res\n",
      "order\n",
      "[2.74, 6.54, -0.46, -2.46, 3.44, -0.16, -0.26, -0.96, 0.84, -0.66, -8.16, 4.7, 0.4, 2.0, -3.6, 1.2, -1.8, -0.7, -0.9, 1.9, 0.2, 3.8, -7.2, 1.92, 5.62, -0.58, 2.52, -1.38, 0.72, 2.62, -1.48, -5.48, -2.38, -0.48, -1.58]\n"
     ]
    },
    {
     "data": {
      "text/plain": [
       "Text(0, 0.5, 'Residuals')"
      ]
     },
     "execution_count": 13,
     "metadata": {},
     "output_type": "execute_result"
    },
    {
     "data": {
      "image/png": "[encoded data removed]",
      "text/plain": [
       "<Figure size 640x480 with 1 Axes>"
      ]
     },
     "metadata": {},
     "output_type": "display_data"
    }
   ],
   "source": [
    "data_res = data.astype(float) * 1\n",
    "#print(data_res)\n",
    "\n",
    "list_Chocolate = [1, 2, 3]\n",
    "\n",
    "for k in list_Chocolate:\n",
    "    cnt = data_res[data_res[:,0] == k,1]\n",
    "    data_res[data_res[:,0] == k,1] = cnt - np.mean(cnt)\n",
    "    \n",
    "# 画出残差时序图，检测残差之间是否具有独立性\n",
    "print('data_res')\n",
    "\n",
    "x = pd.read_csv('Project_1.csv')\n",
    "\n",
    "random_seq = x.values[:,1]\n",
    "# print('random_seq')\n",
    "# print(random_seq)\n",
    "data_seq = data_res * 1\n",
    "\n",
    "order = []\n",
    "for seq in random_seq:\n",
    "    for Chocolate, Capacity in data_seq:\n",
    "        if((seq == Chocolate) & (Capacity != 0)):\n",
    "            order.append(round(Capacity,2))\n",
    "            data_seq[data_seq[:,1] == Capacity,1] = 0\n",
    "            break\n",
    "\n",
    "print('order')\n",
    "print(order)\n",
    "# print(len(order))\n",
    "            \n",
    "x_order = np.linspace(1,35,35)\n",
    "\n",
    "plt.scatter(x_order, order)\n",
    "plt.title('Plot of residuals versus run order or time')\n",
    "plt.xlabel('Run order or time')\n",
    "plt.ylabel('Residuals')"
   ]
  },
  {
   "cell_type": "markdown",
   "id": "562b5fb0-4fdf-4864-9c37-5ecc85173676",
   "metadata": {},
   "source": [
    "【法2】利用Durbin-Watson检验，又称DW检验来做独立性检验。是用来检验分析中残差的一阶自相关性的。  \n",
    "各残差的相关性方程为：$e_i = \\rho * e_{i-1} + v_i$，检验的原假设为：$\\rho = 0$，备择假设为：$\\rho \\neq 0$  \n",
    "检验统计量为：$$d = \\frac{\\sum^T_{t=2}\\quad(e_i-e_{i-1})^2}{\\sum^T_{t=1}\\quad e_i^2}$$"
   ]
  },
  {
   "cell_type": "code",
   "execution_count": 14,
   "id": "f64737e3-ac4a-4029-b0ed-78181d60f8fa",
   "metadata": {},
   "outputs": [
    {
     "name": "stdout",
     "output_type": "stream",
     "text": [
      "[ 2.74166667  6.54166667 -0.45833333 -2.45833333  3.44166667 -0.15833333\n",
      " -0.25833333 -0.95833333  0.84166667 -0.65833333 -0.45833333 -8.15833333\n",
      "  4.7         0.4         2.         -3.6         1.2        -1.8\n",
      " -0.7        -0.9         1.9         0.2         3.8        -7.2\n",
      "  1.91666667  5.61666667 -0.58333333  2.51666667 -1.38333333  0.71666667\n",
      "  2.61666667 -1.48333333 -5.48333333 -2.38333333 -0.48333333 -1.58333333]\n",
      "Durbin-Watson检验的统计量为： 2.3\n"
     ]
    }
   ],
   "source": [
    "def durbin_watson(residuals):\n",
    "    nume = sum(np.diff(residuals.T) ** 2)\n",
    "    deno = sum(residuals ** 2)\n",
    "    return nume / deno\n",
    "# print(data_res)\n",
    "res = data_res[:, 1]\n",
    "print(res)\n",
    "dw = durbin_watson(res)\n",
    "print('Durbin-Watson检验的统计量为：', round(dw,2))"
   ]
  },
  {
   "cell_type": "markdown",
   "id": "a0881ff3-5cc4-4bf8-b845-b0d42564b90d",
   "metadata": {},
   "source": [
    "Durbin-Watson检验统计量值为2.3，表示残差之间没有显著的自相关，这被认为是一个好的结果。也就是说，我们接受原假设，认为序列数据是满足独立性的。"
   ]
  },
  {
   "cell_type": "markdown",
   "id": "e96ba235-3af2-4763-ac06-c614aa4a531f",
   "metadata": {},
   "source": [
    "**2. 方差齐性检验**  "
   ]
  },
  {
   "cell_type": "markdown",
   "id": "1ad419d0-4397-488b-afd2-e1792b93e216",
   "metadata": {},
   "source": [
    "#### 【法1】Bartlett检验\n",
    "\n",
    "其核心思想是通过求取不同组之间的卡方统计量，然后根据卡方统计量的值来判断组间方差是否相等。该方法极度依赖于数据是正态分布，如果数据非正态分布，则的出来的结果偏差很大。  \n",
    "\n",
    "Bartlett检验统计量为：$\\chi_0^2 = 2.3026\\frac{q}{c}$ \n",
    "\n",
    "其中：\n",
    "\n",
    "$q = (N - a)log_{10}S_p^2 - \\sum_{i=1}^a(n_i - 1)log_{10}S_i^2$\n",
    "\n",
    "$c = 1 + \\frac{1}{3(a-1)}(\\sum_{i=1}^a(n_i-1)^{-1} - (N - a)^{-1})$  \n",
    "\n",
    "$S_p^2 = \\frac{\\sum_{i=1}^a\\quad(n_i-1)S_i^2}{N - a}$ 且$S_i^2$是第 $i$ 个总体的样本方差；当$\\chi_0^2 > \\chi_{\\alpha,a-1}^2$ 时，拒绝$H_0$，其中$\\chi_{\\alpha,a-1}^2$是自由度为$a-1$的卡方分布上的 $\\alpha$ 分位数。"
   ]
  },
  {
   "cell_type": "markdown",
   "id": "2958b1d7-dcd8-47b4-bfc8-0d892cb1900f",
   "metadata": {},
   "source": [
    "Remark:\n",
    "\n",
    "$$\\chi^{2}=\\frac{(N-a) \\ln \\left(S_{p}^{2}\\right)-\\sum_{i=1}^{k}\\left(n_{i}-1\\right) \\ln \\left(S_{i}^{2}\\right)}{1+\\frac{1}{3(k-1)}\\left(\\sum_{i=1}^{k}\\left(\\frac{1}{n_{i}-1}\\right)-\\frac{1}{N-a}\\right)}$$\n",
    "\n"
   ]
  },
  {
   "cell_type": "code",
   "execution_count": 15,
   "id": "2d26492d-b74f-42f2-bd80-55cd43bf74ef",
   "metadata": {
    "scrolled": true
   },
   "outputs": [
    {
     "name": "stdout",
     "output_type": "stream",
     "text": [
      "Bartlett检验的P值为： 0.81\n",
      "Accept H0\n",
      "Bartlett检验统计量： 0.42\n",
      "𝜒_(𝛼,𝑎−1)^2:  5.99\n",
      "Accept H0\n"
     ]
    }
   ],
   "source": [
    "# 用Bartlett检验进行方差齐性检验\n",
    "bart, pVal2 = stats.bartlett(group1, group2, group3)\n",
    "bart_stat = stats.chi2.isf(alpha, a-1)\n",
    "\n",
    "# 法1:计算Bartlett检验的P值\n",
    "print('Bartlett检验的P值为：', round(pVal2, 2))\n",
    "if pVal2 < alpha:\n",
    "    print('Since p-value < 0.05, reject H0.')\n",
    "else:\n",
    "    print('Accept H0')  \n",
    "\n",
    "# 法2：计算Bartlett检验统计量\n",
    "print('Bartlett检验统计量：', round(bart, 2))\n",
    "print('𝜒_(𝛼,𝑎−1)^2: ', round(bart_stat, 2))\n",
    "if bart > bart_stat:\n",
    "    print('Since 𝜒_0^2 > 𝜒_(𝛼,𝑎−1)^2, reject H0.')\n",
    "else:\n",
    "    print('Accept H0')  "
   ]
  },
  {
   "cell_type": "markdown",
   "id": "6d058ae9-8b08-46b7-be67-448bb8d24e9a",
   "metadata": {},
   "source": [
    "由分析可知，Bartlett检验的P值大于 0.05 且Bartlett检验统计量小于 5.99，故接受原假设，即残差具有方差齐性。  \n",
    "  "
   ]
  },
  {
   "cell_type": "markdown",
   "id": "f506b08b-8ec3-4e30-af56-e221bc4282e1",
   "metadata": {},
   "source": [
    "##### 【法2】修正后 Levene 检验\n",
    "\n",
    "因为 Bartlett 对正态性假定的敏感性，所以对于背离正态性的数据，可以通过修正后的 Levene 检验来解决这个问题。令\n",
    "$$\n",
    "y_{ij}^{\\ast} = |y_{ij} - \\tilde{y}_{i}|, i = 1,2,\\cdots,a; j = 1,2,\\cdots,n_i.\n",
    "$$\n",
    "其中，$\\tilde{y}_{i}$表示第$i$组数据的中位数。基于$\\{y_{ij}^{\\ast}\\}$来构建$F$统计量。这个统计量可以用来评价每组数据的绝对偏差的均值是否相等，从而可以判断每组数据的波动是否一致。"
   ]
  },
  {
   "cell_type": "markdown",
   "id": "4551ba6f-b1b9-4157-b8b1-7d98359a1f1f",
   "metadata": {},
   "source": [
    "Levene检验统计量：\n",
    "\n",
    "$$W=\\frac{1}{M S_{e}} \\frac{N\\left(\\bar{Z}-\\bar{Z}_{i}\\right)^{2}}{r-1}$$"
   ]
  },
  {
   "cell_type": "code",
   "execution_count": 16,
   "id": "f7c8602b-a52f-426a-a119-a704defe5561",
   "metadata": {
    "scrolled": true
   },
   "outputs": [
    {
     "name": "stdout",
     "output_type": "stream",
     "text": [
      "Levene检验的P值为： 0.98\n",
      "Accept H0\n"
     ]
    }
   ],
   "source": [
    "# 用Levene检验进行方差齐性检验\n",
    "lene, pVal3 = stats.levene(group1, group2, group3)\n",
    "print('Levene检验的P值为：', round(pVal3, 2))\n",
    "if pVal3 < alpha:\n",
    "    print('Since p-value < 0.05, reject H0.')\n",
    "else:\n",
    "    print('Accept H0')  "
   ]
  },
  {
   "cell_type": "markdown",
   "id": "735ba1d3-d45b-49e3-8ae2-7854c91172b1",
   "metadata": {},
   "source": [
    "由分析可知，Levene检验的P值大于 0.05，故残差具有方差齐性。"
   ]
  },
  {
   "cell_type": "markdown",
   "id": "6e17764d-13ef-4e47-b32f-38995e48567b",
   "metadata": {},
   "source": [
    "**3. 正态性检验**  "
   ]
  },
  {
   "cell_type": "markdown",
   "id": "5c4c0b9b-da6a-436e-86fb-697b128b065d",
   "metadata": {},
   "source": [
    "【法1】利用qq图（The quantitle-quantile plot），来检验数据分布的相似性。令X轴为正态分布的分位数，Y轴为样本分位数，如果这两者构成的点分布在一条直线上，就证明样本数据与正态分布存在线性相关性，即服从正态分布。"
   ]
  },
  {
   "cell_type": "code",
   "execution_count": 17,
   "id": "70e95627-0dde-4590-8458-2de1754da90b",
   "metadata": {},
   "outputs": [
    {
     "data": {
      "image/png": "[encoded data removed]",
      "text/plain": [
       "<Figure size 640x480 with 1 Axes>"
      ]
     },
     "metadata": {},
     "output_type": "display_data"
    },
    {
     "name": "stdout",
     "output_type": "stream",
     "text": [
      "[-8.15833333 -7.2        -5.48333333 -3.6        -2.45833333 -2.38333333\n",
      " -1.8        -1.58333333 -1.48333333 -1.38333333 -0.95833333 -0.9\n",
      " -0.7        -0.65833333 -0.58333333 -0.48333333 -0.45833333 -0.45833333\n",
      " -0.25833333 -0.15833333  0.2         0.4         0.71666667  0.84166667\n",
      "  1.2         1.9         1.91666667  2.          2.51666667  2.61666667\n",
      "  2.74166667  3.44166667  3.8         4.7         5.61666667  6.54166667]\n"
     ]
    }
   ],
   "source": [
    "# 用qq图进行正态性检验\n",
    "osm, osr = stats.probplot(res, dist = 'norm', plot = plt)\n",
    "x1 = osm[0][0]\n",
    "y1 = osm[1][0]\n",
    "plt.text(x1, y1, '%.2f' % float(y1), ha = 'center', va = 'bottom',fontsize = 9)\n",
    "x2 = osm[0][-1]\n",
    "y2 = osm[1][-1]\n",
    "plt.text(x2, y2, '%.2f' % float(y2), ha = 'center', va = 'bottom',fontsize = 9)\n",
    "plt.grid()\n",
    "plt.show()\n",
    "\n",
    "print(osm[1])"
   ]
  },
  {
   "cell_type": "markdown",
   "id": "0b8d369a-4ca5-47c2-b9c2-a77da3b491c0",
   "metadata": {},
   "source": [
    "由上图可以看出，总体上来看，误差分布是近似正态的；\n",
    "\n",
    "qq图中间偏右边略微向下弯曲，在中间左边稍有上翘，这意味着误差分布的尾部比起正态分布的尾部要更薄一些，即最大的残差不完全如所期望的那样大。  \n",
    "\n",
    "**检测异常值的方法：**  \n",
    "\n",
    "计算标准化残差：$d_{ij} = \\frac{e_{ij}}{\\sqrt{MS_E}}$。一般地，标准化残差约 68% 落在 ±1 之内，约 95% 落在 ±2 之内，几乎全部落在 ±3 之内。标准化残差的绝对值大于3的残差是一个可能的异常值。  \n",
    "\n",
    "从上述表中找到最大绝对值得残差，由上述公式得 $d_1 = \\frac{e_1}{\\sqrt{MS_E}} = -\\frac{8.15}{\\sqrt{10.43}} = -2.52 \\in (-3,3)$，故可说明无明显的异常值，即残差是服从正态分布的。  \n"
   ]
  },
  {
   "cell_type": "markdown",
   "id": "61f8471e-b67e-40ea-98ed-c1579167e45a",
   "metadata": {},
   "source": [
    "【法2】利用Shapiro-Wilk检验来做正态性检验。\n",
    "\n",
    "其原假设：样本数据符合正态分布。（注：适用于小样本）  \n",
    "利用方法stats.shapiro()检验正态性，输出结果中第一个为统计量，第二个为P值（统计量越接近 1 越表明数据和正态分布拟合的好，P值大于指定的显著性水平，接受原假设，认为样本来自服从正态分布的总体）"
   ]
  },
  {
   "cell_type": "markdown",
   "id": "aa31fbef-8890-44eb-b1d3-f610f506916d",
   "metadata": {},
   "source": [
    "Shapiro-Wilk检验统计量\n",
    "\n",
    "$$W=\\frac{\\left(\\sum_{i=1}^{n} a_{i} x_{(i)}\\right)^{2}}{\\sum_{i=1}^{n}\\left(x_{i}-\\bar{x}\\right)^{2}}$$"
   ]
  },
  {
   "cell_type": "code",
   "execution_count": 18,
   "id": "47b01848-edde-4a1f-a3e1-e0d4ffe53c56",
   "metadata": {},
   "outputs": [
    {
     "name": "stdout",
     "output_type": "stream",
     "text": [
      "Shapiro-Wilk 0.96\n",
      "pValue 0.26\n",
      "\n",
      "Accept the null hypothesis.\n"
     ]
    }
   ],
   "source": [
    "# 用Shapiro-Wilk检验进行正态性检验\n",
    "SW, pVal4 = stats.shapiro(res)\n",
    "print('Shapiro-Wilk',round(SW, 2))\n",
    "print('pValue',round(pVal4, 2))\n",
    "\n",
    "if pVal4 > alpha:\n",
    "    print('\\nAccept the null hypothesis.')\n",
    "else:\n",
    "    print('\\nSince p-value > 0.05, reject the null hypothesis') "
   ]
  },
  {
   "cell_type": "markdown",
   "id": "d83674a8-67c6-4baf-b8ba-2ec84b23e5f8",
   "metadata": {},
   "source": [
    "由上述分析可知，统计量为 0.96，接近 1；且P值为 0.26，大于指定的显著性水平 0.05。故认为残差来自服从正态分布的总体。 "
   ]
  },
  {
   "cell_type": "markdown",
   "id": "9056890c-ab26-4764-8c51-332f02713c33",
   "metadata": {},
   "source": [
    "# **Q4:估计食用这 3 种巧克力一小时后血浆的总抗氧能力。请分别给出点估计和区间估计。** "
   ]
  },
  {
   "cell_type": "markdown",
   "id": "b893ec56-ee3c-44f7-a3e6-3fd72ee48ad4",
   "metadata": {},
   "source": [
    "在单因素方差分析模型中，待估参数有\n",
    "- $\\mu$: 总体平均水平；\n",
    "- $\\alpha_i$: 第$i$个水平的效应值；\n",
    "- $\\sigma^2$: 误差方差。\n",
    "\n",
    "$\\mu$的最大似然估计是\n",
    "$$\n",
    "\\hat{\\mu} = \\bar{y}_{\\cdot\\cdot} = \\frac{1}{am}\\sum_{i=1}^a\\sum_{j=1}^m y_{ij};\n",
    "$$\n",
    "\n",
    "$\\alpha_i$的最大似然估计是\n",
    "$$\n",
    "\\hat{\\alpha}_i = \\bar{y}_{i\\cdot} - \\bar{y}_{\\cdot\\cdot} = \\frac{1}{m}\\sum_{j=1}^m y_{ij} - \\frac{1}{am}\\sum_{i=1}^a\\sum_{j=1}^m y_{ij};\n",
    "$$\n",
    "\n",
    "$\\sigma^2$的常用估计是\n",
    "$$\n",
    "\\hat{\\sigma}^2 = \\frac{SS_E}{a(m-1)} = \\frac{\\sum_{i=1}^a\\sum_{j=1}^m (y_{ij} - \\bar{y}_{i\\cdot})^2}{n-a}= MS_E;\n",
    "$$"
   ]
  },
  {
   "cell_type": "markdown",
   "id": "cc247332-79d2-4ddb-ac18-2c96423cbabf",
   "metadata": {},
   "source": [
    "### 点估计"
   ]
  },
  {
   "cell_type": "code",
   "execution_count": 19,
   "id": "68f35ab8-0fb5-40e2-aa0a-70ff5c0f8387",
   "metadata": {},
   "outputs": [
    {
     "name": "stdout",
     "output_type": "stream",
     "text": [
      "Overall Mean is: 105.6472\n"
     ]
    }
   ],
   "source": [
    "hat_mu = np.mean(Data.Capacity)\n",
    "print(\"Overall Mean is:\", round(hat_mu,4))"
   ]
  },
  {
   "cell_type": "code",
   "execution_count": 20,
   "id": "d2f38315-7b92-4b13-ba88-f5fa7b6904b2",
   "metadata": {},
   "outputs": [
    {
     "name": "stdout",
     "output_type": "stream",
     "text": [
      "mean of each level is：[116.05833333333334, 100.7, 100.18333333333332]\n",
      "An estimate of sigma^2：10.43\n",
      "The effect of each level is: [10.411111111111126, -4.947222222222209, -5.463888888888889]\n"
     ]
    }
   ],
   "source": [
    "# Estimation of Parameter(𝜎2 and 𝜇𝑖 )\n",
    "mu_1 = np.mean(group1)\n",
    "mu_2 = np.mean(group2)\n",
    "mu_3 = np.mean(group3)\n",
    "\n",
    "mu = [mu_1, mu_2, mu_3]\n",
    "hat_alpha = [mu_1-hat_mu, mu_2-hat_mu, mu_3-hat_mu]\n",
    "sse = 0\n",
    "for i in range(a):\n",
    "    se = 0\n",
    "    power_list = data[data[:,0] == (i+1),1]\n",
    "    for j in range(n):\n",
    "        se += (power_list[j] - mu[i]) ** 2\n",
    "    sse += se\n",
    "var = round(sse / (a * (m - 1)),2) \n",
    "print('mean of each level is：{0}'.format(mu))\n",
    "print('An estimate of sigma^2：{0}'.format(var))\n",
    "print(\"The effect of each level is: {0}\". format(hat_alpha))"
   ]
  },
  {
   "cell_type": "markdown",
   "id": "16c24ac8-1ccc-4ab8-a3dc-d364dceec3c7",
   "metadata": {},
   "source": [
    "### 区间估计"
   ]
  },
  {
   "cell_type": "markdown",
   "id": "c7fdcb52-5a9e-4655-8e61-a52c583fac2f",
   "metadata": {},
   "source": [
    "因子A 的第 $i$ 个水平的均值 $\\mu_i$ 的 $1−\\alpha$ 置信区间为\n",
    "$$\n",
    "[\\bar{y}_{i\\cdot}\\pm t_{1-\\frac{α}{2}} \\cdot \\frac{\\hat{\\sigma}}{\\sqrt{m}}]\n",
    "$$"
   ]
  },
  {
   "cell_type": "code",
   "execution_count": 21,
   "id": "fa8ce075-6a34-48da-adb8-3721eaf4cd19",
   "metadata": {
    "scrolled": true
   },
   "outputs": [
    {
     "name": "stdout",
     "output_type": "stream",
     "text": [
      "巧克力1的均值的95%置信区间： (113.94934437825225, 118.16732228841443)\n",
      "巧克力1的均值的95%置信区间： (98.59101104491891, 102.80898895508109)\n",
      "巧克力1的均值的95%置信区间： (98.07434437825223, 102.29232228841441)\n"
     ]
    }
   ],
   "source": [
    "# 置信水平和自由度\n",
    "alpha = 0.05\n",
    "\n",
    "# 计算置信区间\n",
    "margin_of_error = t.ppf(1-alpha/2,n-a) * (np.sqrt(var) / np.sqrt(m))\n",
    "confidence_interval_1 = (mu_1 - margin_of_error, mu_1 + margin_of_error)\n",
    "confidence_interval_2 = (mu_2 - margin_of_error, mu_2 + margin_of_error)\n",
    "confidence_interval_3 = (mu_3 - margin_of_error, mu_3 + margin_of_error)\n",
    "print(\"巧克力1的均值的95%置信区间：\", confidence_interval_1)\n",
    "print(\"巧克力1的均值的95%置信区间：\", confidence_interval_2)\n",
    "print(\"巧克力1的均值的95%置信区间：\", confidence_interval_3)\n"
   ]
  },
  {
   "cell_type": "markdown",
   "id": "60554b3f-14aa-42d5-ad04-42648021bac5",
   "metadata": {},
   "source": [
    "# **Q5:用Bonferroni方法比较吃了 3 种巧克力后，一个小时的血浆总抗氧能力两两是否存在差异。** "
   ]
  },
  {
   "cell_type": "code",
   "execution_count": 22,
   "id": "20f500ac-bfb3-4544-b8e2-f797cc26475e",
   "metadata": {},
   "outputs": [],
   "source": [
    "import numpy as np\n",
    "import pandas as pd\n",
    "import scipy.stats as stats\n",
    "from statsmodels.stats.multicomp import pairwise_tukeyhsd\n",
    "from scipy.stats import t\n",
    "from scipy.stats import chi2\n",
    "from scipy.stats import norm\n",
    "import math\n",
    "from statsmodels.formula.api import ols\n",
    "from statsmodels.stats.anova import anova_lm\n",
    "import random\n",
    "import matplotlib.pyplot as plt\n",
    "\n",
    "import os # 修改工作目录"
   ]
  },
  {
   "cell_type": "code",
   "execution_count": 23,
   "id": "641fdb37-c934-4e0d-b783-25561d19fa50",
   "metadata": {},
   "outputs": [
    {
     "data": {
      "text/plain": [
       "array([118.8, 122.6, 115.6, 113.6, 119.5, 115.9, 115.8, 115.1, 116.9,\n",
       "       115.4, 115.6, 107.9])"
      ]
     },
     "execution_count": 23,
     "metadata": {},
     "output_type": "execute_result"
    }
   ],
   "source": [
    "# 规定参数\n",
    "alpha = 0.05 # significant level\n",
    "a = 3 # number of levels\n",
    "m = 12 # number of replicates\n",
    "n = a*m # sample size\n",
    "\n",
    "# 将数据分组\n",
    "os.chdir(\"/home/jovyan/Stat_ML_2023/Data\")\n",
    "Data_basic = pd.read_csv(\"Project_1.csv\")\n",
    "Data = Data_basic.values[:,1:3]\n",
    "Group1 = Data[Data[:,0] == 1,1]\n",
    "Group2 = Data[Data[:,0] == 2,1]\n",
    "Group3 = Data[Data[:,0] == 3,1]\n",
    "Group1"
   ]
  },
  {
   "cell_type": "markdown",
   "id": "3d6f6614-a668-4e27-bf63-8656316272ea",
   "metadata": {},
   "source": [
    "Bonferroni方法近似考虑每对水平的样本两两之间的独立t检验，但为了避免多重比较问题同时成立的概率不低于$1-\\alpha$，将每一个事件发生的概率提高， t 检验的分位数要从原先的 $1-\\frac{\\alpha}{2}$ 调整为 $1-\\frac{\\alpha}{a(a-1)}$。"
   ]
  },
  {
   "cell_type": "code",
   "execution_count": 24,
   "id": "9e1ac6ff-5fb1-4d29-80b7-751a2c645861",
   "metadata": {},
   "outputs": [],
   "source": [
    "mean_1 = np.mean(Group1)\n",
    "mean_2 = np.mean(Group2)\n",
    "mean_3 = np.mean(Group3)\n",
    "mean = [mean_1, mean_2, mean_3]\n",
    "sse = 0\n",
    "for i in range(a):\n",
    "    s = 0\n",
    "    lst = Data[Data[:,0] == (i+1),1]\n",
    "    for j in range(m):\n",
    "        s += (lst[j] - mean[i]) ** 2\n",
    "    sse += s\n",
    "mse = round(sse / (n-a),4)"
   ]
  },
  {
   "cell_type": "code",
   "execution_count": 25,
   "id": "ca3aa50c-5c51-47ef-b023-4a84e33e8453",
   "metadata": {},
   "outputs": [
    {
     "name": "stdout",
     "output_type": "stream",
     "text": [
      "食用1、2种巧克力一个小时的血浆总抗氧能力均值差的置信区间为： [ 12.0323 , 18.6843 ]\n"
     ]
    }
   ],
   "source": [
    "#比较1和2\n",
    "flag=np.sqrt(2/m)*np.sqrt(mse)*stats.t.isf(alpha/(a*(a-1)),n-a)\n",
    "print(\"食用1、2种巧克力一个小时的血浆总抗氧能力均值差的置信区间为：\"\n",
    ",\"[\",round((mean_1-mean_2)-flag,4),\",\",round((mean_1-mean_2)+flag,4),\"]\")\n"
   ]
  },
  {
   "cell_type": "code",
   "execution_count": 26,
   "id": "05cd1759-e73d-44b2-abf1-92e2636f4988",
   "metadata": {},
   "outputs": [
    {
     "name": "stdout",
     "output_type": "stream",
     "text": [
      "食用1、2种巧克力一个小时的血浆总抗氧能力均值差的置信区间为： [ 12.549 , 19.201 ]\n"
     ]
    }
   ],
   "source": [
    "#比较1和3\n",
    "print(\"食用1、2种巧克力一个小时的血浆总抗氧能力均值差的置信区间为：\"\n",
    ",\"[\",round((mean_1-mean_3)-flag,4),\",\",round((mean_1-mean_3)+flag,4),\"]\")\n"
   ]
  },
  {
   "cell_type": "code",
   "execution_count": 27,
   "id": "c2834afe-5225-49bb-aef8-250ebca1435f",
   "metadata": {},
   "outputs": [
    {
     "name": "stdout",
     "output_type": "stream",
     "text": [
      "食用1、2种巧克力一个小时的血浆总抗氧能力均值差的置信区间为： [ -2.8093 , 3.8427 ]\n"
     ]
    }
   ],
   "source": [
    "#比较2和3\n",
    "print(\"食用1、2种巧克力一个小时的血浆总抗氧能力均值差的置信区间为：\"\n",
    ",\"[\",round((mean_2-mean_3)-flag,4),\",\",round((mean_2-mean_3)+flag,4),\"]\")\n"
   ]
  },
  {
   "cell_type": "markdown",
   "id": "1833e39c-9b14-4a74-9f37-6273b30b583e",
   "metadata": {},
   "source": [
    "#### 利用Bonferroni方法可知，仅巧克力2与巧克力3的抗氧能力样本均值之差的区间估计值包括0。\n",
    "\n",
    "#### 其说明巧克力1和2存在一定差异\n",
    "#### 巧克力1和3存在一定差异\n",
    "#### 巧克力2与巧克力3无显著差异\n"
   ]
  },
  {
   "cell_type": "markdown",
   "id": "86873404-8cc6-48d0-bdaf-531938ad4792",
   "metadata": {},
   "source": [
    "# **Q6：用Tukey方法比较吃了 3 种巧克力后，一个小时的血浆总抗氧能力两两是否存在差异。采用以下两种不同的方法来解决这个问题:** "
   ]
  },
  {
   "cell_type": "markdown",
   "id": "37bd7572-e002-4459-ac99-d2a6c7697b4b",
   "metadata": {},
   "source": [
    "## 法一：直接调用python中现有函数"
   ]
  },
  {
   "cell_type": "code",
   "execution_count": 28,
   "id": "f5b321de-a8c6-439d-8ca2-4e833a62cf5e",
   "metadata": {
    "scrolled": true
   },
   "outputs": [
    {
     "name": "stdout",
     "output_type": "stream",
     "text": [
      " Multiple Comparison of Means - Tukey HSD, FWER=0.05  \n",
      "======================================================\n",
      "group1 group2 meandiff p-adj   lower    upper   reject\n",
      "------------------------------------------------------\n",
      "     1      2 -15.3583    0.0 -18.5941 -12.1226   True\n",
      "     1      3  -15.875    0.0 -19.1108 -12.6392   True\n",
      "     2      3  -0.5167 0.9191  -3.7524   2.7191  False\n",
      "------------------------------------------------------\n"
     ]
    },
    {
     "data": {
      "image/png": "[encoded data removed]",
      "text/plain": [
       "<Figure size 1000x600 with 1 Axes>"
      ]
     },
     "metadata": {},
     "output_type": "display_data"
    }
   ],
   "source": [
    "Tukey= pairwise_tukeyhsd(endog = Data_basic[\"Capacity\"], groups=Data_basic[\"Chocolate\"],alpha=alpha)\n",
    "print(Tukey)\n",
    "Tukey.plot_simultaneous(ylabel='Chocolate',xlabel='Capacity')\n",
    "plt.grid()\n",
    "plt.show()"
   ]
  },
  {
   "cell_type": "markdown",
   "id": "e7c884d0-1e9c-40a2-a227-16642caafc79",
   "metadata": {},
   "source": [
    "$P_{12}$<显著性水平0.05，拒绝原假设，两者在血浆抗氧能力方面存在显著差异。\n",
    "\n",
    "$P_{13}$<显著性水平0.05，拒绝原假设，两者在血浆抗氧能力方面存在显著差异。\n",
    "\n",
    "$P_{23}$>显著性水平0.05，接受原假设，两者在血浆抗氧能力方面不存在显著差异。\n",
    "\n",
    "Tukey方法得到的结果与Bonferroni方法得到的结果相同。"
   ]
  },
  {
   "cell_type": "markdown",
   "id": "65e45d43-9727-4cd3-8182-3e2b79b44a10",
   "metadata": {},
   "source": [
    "## 法二：\n",
    "用蒙特卡洛随机模拟分布的方式，确定 $t$ 化极差统计量的分位数 $q_{1-\\alpha}(a,df)$ ，计算临界值（critical value) c= $q_{1-\\alpha}(a,df)\\hat{\\sigma}/\\sqrt{m}$\n"
   ]
  },
  {
   "cell_type": "code",
   "execution_count": 29,
   "id": "39fdacb2-2521-4364-bcda-1a668e428f7d",
   "metadata": {},
   "outputs": [
    {
     "name": "stdout",
     "output_type": "stream",
     "text": [
      "利用蒙特卡洛方法得到所求分位数的值为  3.424242221281675\n",
      "临界值c的值为  3.1929276315043054\n"
     ]
    }
   ],
   "source": [
    "# 模拟得到q的1-alpha分位数\n",
    "N = 10000\n",
    "q = np.zeros(N)\n",
    "for i in range(N):\n",
    "    X = np.array([norm.rvs() for x in range(a)])\n",
    "    y = chi2.rvs(n-a)\n",
    "    q[i] = (X.max() - X.min()) / np.sqrt(y / (n-a))\n",
    "q = np.sort(q)\n",
    "q=q[round((1-alpha)*N)]\n",
    "print(\"利用蒙特卡洛方法得到所求分位数的值为 \",q)\n",
    "\n",
    "var_ = math.sqrt(sse / (a * (m - 1)))\n",
    "c = q*var_/math.sqrt(m)\n",
    "print(\"临界值c的值为 \", c)"
   ]
  },
  {
   "cell_type": "code",
   "execution_count": 30,
   "id": "078bc1ae-458c-44d7-97a3-ab949c228141",
   "metadata": {},
   "outputs": [
    {
     "name": "stdout",
     "output_type": "stream",
     "text": [
      "mean12:  15.3583\n",
      "拒绝原假设，两者在血浆抗氧能力方面存在显著差异\n",
      "mean13:  15.875\n",
      "拒绝原假设，两者在血浆抗氧能力方面存在显著差异\n",
      "mean23:  0.5167\n",
      "保留原假设，两者在血浆抗氧能力方面不存在显著差异\n"
     ]
    }
   ],
   "source": [
    "mean12 = round(abs(mean_1-mean_2),4)\n",
    "mean13 = round(abs(mean_1-mean_3),4)\n",
    "mean23 = round(abs(mean_2-mean_3),4)\n",
    "print(\"mean12: \",mean12)\n",
    "if mean12 < c: \n",
    "    print('保留原假设，两者在血浆抗氧能力方面不存在显著差异') \n",
    "else:\n",
    "    print('拒绝原假设，两者在血浆抗氧能力方面存在显著差异') \n",
    "print(\"mean13: \",mean13)\n",
    "if mean13 < c: \n",
    "    print('保留原假设，两者在血浆抗氧能力方面不存在显著差异') \n",
    "else:\n",
    "    print('拒绝原假设，两者在血浆抗氧能力方面存在显著差异') \n",
    "print(\"mean23: \",mean23)\n",
    "if mean23 < c: \n",
    "    print('保留原假设，两者在血浆抗氧能力方面不存在显著差异') \n",
    "else:\n",
    "    print('拒绝原假设，两者在血浆抗氧能力方面存在显著差异')"
   ]
  },
  {
   "cell_type": "markdown",
   "id": "6c7179ef-3f66-4c36-87e5-536f36a672e2",
   "metadata": {},
   "source": [
    "### 通过比较均值之差的绝对值与临界值的大小可知：\n",
    "### 巧克力1和2的抗氧能力均值之差的绝对值均大于临界值，故存在显著差异\n",
    "\n",
    "### 巧克力1和3的抗氧能力均值之差的绝对值均大于临界值，故存在显著差异\n",
    "\n",
    "### 巧克力2和3的抗氧能力均值之差的绝对值小于临界值，不存在显著#差异"
   ]
  },
  {
   "cell_type": "markdown",
   "id": "ba1057f1-3d1c-409e-84ff-f681993ff9c1",
   "metadata": {},
   "source": [
    "# **Q7：基于这个例子，请评述一下Bonferroni方法和Tukey方法的异同** "
   ]
  },
  {
   "cell_type": "markdown",
   "id": "e074c09f-dd3f-4d6c-87af-3bcd4b9e5fdb",
   "metadata": {},
   "source": [
    "#### Bonferroni方法和Tukey方法均为用于方差分析时进行多重比较的方法。\n",
    "\n",
    "Bonferroni法是在LSD法的基础上对α进行了调整。其将一个小的置信区间变换为多个大的置信区间的并集，这是一个比较保守的置信区间，因此估计得到的结果并不准确，精度较差。当比较的次数不多时，该方法效果比较好；当比较次数较多时，该方法对​α的调整会出现矫枉过正的情况。\n",
    "\n",
    "Tukey检验的一个重要的优点是非常简单,且所需实验样本相对较少。对于一系列比较而言，发生类型 I 错误的几率比单独进行任何一个比较的误差率高。为了避免此高误差率，Tukey 法会调整每个单独区间的置信水平，使生成的整体置信水平等于指定值。Tukey方法对 $P(W)$ 的推导是等价推导，会导致Tukey方法不准的关键因素就在于 $q_{1-\\alpha}(a, df)$ 的取值，其可能产生的误差是可控的。\n",
    "\n",
    "在投入实际应用时，Tukey方法在比较次数较多时精准度上优于Bonferroni方法。且Tukey方法更为简单，所需的实验样本相对较少。\n",
    "- 如果比较的组数较多（如4组以上），进行两两比较，则首选Tukey法。\n",
    "- 如果比较组数不是很多（如3组），则Tukey 法和Bonferroni 法均可作为首选。\n",
    "- 如果不仅想执行两两比较，还想进行其他比较方式，如一个对照组与另外两个试验组的均值比较(A 与B+C/2 比较），则选择Bonferroni法。\n",
    "- 如果比较次数很多，则不建议选择Bonferroni法。\n",
    " ####\n",
    "\n"
   ]
  }
 ],
 "metadata": {
  "kernelspec": {
   "display_name": "Python 3 (ipykernel)",
   "language": "python",
   "name": "python3"
  },
  "language_info": {
   "codemirror_mode": {
    "name": "ipython",
    "version": 3
   },
   "file_extension": ".py",
   "mimetype": "text/x-python",
   "name": "python",
   "nbconvert_exporter": "python",
   "pygments_lexer": "ipython3",
   "version": "3.11.5"
  }
 },
 "nbformat": 4,
 "nbformat_minor": 5
}
