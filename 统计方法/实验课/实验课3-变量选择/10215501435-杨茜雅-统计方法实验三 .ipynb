{
 "cells": [
  {
   "cell_type": "markdown",
   "id": "1eae88cf-e825-42ac-ab47-81c1016f3433",
   "metadata": {},
   "source": [
    "## 统计方法实验三--Simulation--10215501435 杨茜雅\n",
    "### 实现一个模拟实验"
   ]
  },
  {
   "cell_type": "markdown",
   "id": "da28bba1-45f9-495c-839a-f692041ce1a0",
   "metadata": {},
   "source": [
    "## 实验任务\n",
    "1. 绘制一张图片（以k作为横坐标），偏差平方、方差以及均方误差这三条曲线；\n",
    "2. 基于所绘制的图象，请评述，模型的欠拟合和过拟合分别对预测结果造成怎样的影响？"
   ]
  },
  {
   "cell_type": "markdown",
   "id": "d60c78d3-f687-4b1d-825f-7e3bbe7b5417",
   "metadata": {},
   "source": [
    "## 背景描述  \n",
    "\n",
    "定义$Bias^2_k,\\ Var_k,\\ MSE_k$分别为第 k 个线性回归模型的偏差平方、方差和均方误差。\n",
    "\n",
    "## 参数设置\n",
    "\n",
    "参数设置如下:\n",
    "\n",
    "i. $(p, p_1) = (20, 10)$;\n",
    "\n",
    "ii. $\\sigma_\\epsilon = 3$; 量化误差的波动\n",
    "\n",
    "iii. $\\sigma = 0.2$; 量化自变量的波动\n",
    "\n",
    "iv. 预测点的位置 $\\pmb{x}_0 = (1, \\pmb{0.05}^′_{20})^′$;\n",
    "\n",
    "v. 重复次数 $M = 5000$"
   ]
  },
  {
   "cell_type": "markdown",
   "id": "dd6523e8-0976-4895-986c-4a1f4f1a07ac",
   "metadata": {},
   "source": [
    "$$\n",
    "\\begin{aligned}\n",
    "\\operatorname{Bias}_{k}^{2} &=\\left(\\frac{1}{M} \\sum_{m=1}^{M} \\hat{y}_{0, m}^{(k)}-\\boldsymbol{x}_{0}^{\\prime} \\boldsymbol{\\beta}\\right)^{2} \\\\\n",
    "\\operatorname{Var}_{k} &=\\frac{1}{M} \\sum_{m=1}^{M}\\left(\\hat{y}_{0, m}^{(k)}-\\frac{1}{M} \\sum_{m=1}^{M} \\hat{y}_{0, m}^{(k)}\\right)^{2} \\\\\n",
    "\\mathrm{MSE}_{k} &=\\frac{1}{M} \\sum_{m=1}^{M}\\left(\\hat{y}_{0, m}^{(k)}-\\boldsymbol{x}_{0}^{\\prime} \\boldsymbol{\\beta}\\right)^{2}\n",
    "\\end{aligned}\n",
    "$$"
   ]
  },
  {
   "cell_type": "markdown",
   "id": "1bea728d-5f40-42ca-96d5-c3bd16bf29e7",
   "metadata": {},
   "source": [
    "$$\n",
    "\\operatorname{MSE}\\left(\\hat{y}_{0}\\right)=E\\left(\\hat{y}_{0}-E\\left(y_{0}\\right)\\right)^{2}=\\operatorname{Bias}^{2}\\left(\\hat{y}_{0}\\right)+\\operatorname{Var}\\left(\\hat{y}_{0}\\right)\n",
    "$$"
   ]
  },
  {
   "cell_type": "markdown",
   "id": "e86519c8-8bf3-4876-a127-5bbd012ad37e",
   "metadata": {},
   "source": [
    "### Task1：绘制一张图片（以k作为横坐标），偏差平方、方差以及均方误差这三条曲线；"
   ]
  },
  {
   "cell_type": "code",
   "execution_count": 1,
   "id": "7cba1e29-2ad3-4802-9151-cfad2e2d3c90",
   "metadata": {},
   "outputs": [],
   "source": [
    "import os # 修改工作目录\n",
    "\n",
    "import math\n",
    "import numpy as np\n",
    "import pandas as pd\n",
    "import matplotlib.pyplot as plt\n",
    "from sklearn.linear_model import LinearRegression\n",
    "from sklearn import linear_model"
   ]
  },
  {
   "cell_type": "code",
   "execution_count": 2,
   "id": "b0fa235c-8b74-4af2-8716-e560811d05dc",
   "metadata": {},
   "outputs": [],
   "source": [
    "Bias_sq=[] # 偏差平方\n",
    "Var=[]  # 方差\n",
    "MSE=[]  # 均方误差"
   ]
  },
  {
   "cell_type": "code",
   "execution_count": 3,
   "id": "39218d0c-daf2-4cb2-804d-6800f9457eee",
   "metadata": {},
   "outputs": [],
   "source": [
    "M=5000           # 模拟次数\n",
    "p=20             # 自变量总数\n",
    "p1=10           \n",
    "sigma=0.2  # xi\n",
    "sigma_e=3  # ei\n",
    "N=500  # 特征向量列维度"
   ]
  },
  {
   "cell_type": "markdown",
   "id": "f0ec77fc-00e7-4b3c-8453-a4f4392ecf6b",
   "metadata": {},
   "source": [
    "确定自变量范围，最少$1$个，最多$20$个（总自变量数为$20$个）\n",
    "\n",
    "期望$mean$和协方差$cov$用于后面生成多元正态的特征矩阵$X$，其中$mean$为$0_p$；$cov$对角项为$\\sigma^2$，其余为$0$，因为独立\n",
    "\n",
    "定义$x_0=(1,0.05_{20}^{'})^{'}$，参数$\\beta=(1_{1+p_1}^{'},0_{p-p_1}^{'})^{'}$，这样构造的 $\\beta$ 使得$X$中的前$p_1+1$列的特征（包括常数项）对因变量有影响。\n",
    "\n"
   ]
  },
  {
   "cell_type": "code",
   "execution_count": 4,
   "id": "d2dd1616-62c2-487e-b999-6799e00c4023",
   "metadata": {},
   "outputs": [],
   "source": [
    "k_least=1  # 最少自变量数\n",
    "k_most=20  # 最多自变量数\n",
    "\n",
    "mean=np.zeros((p)) # xi均值，维度20\n",
    "# 协方差\n",
    "cov=np.zeros((p,p))\n",
    "for i in range(p):\n",
    "    cov[i][i]=sigma**2\n",
    "\n",
    "# 预测样本\n",
    "x0=np.array([1]+[0.05]*p) \n",
    "beta=np.array([1]*(1+p1)+[0]*(p-p1))"
   ]
  },
  {
   "cell_type": "markdown",
   "id": "522f663f-57f9-473c-9408-c9c5ddd1607e",
   "metadata": {},
   "source": [
    "$y_0=x_0^{'}\\beta+\\epsilon_0$的最佳点预测值为$x_0^{'}\\beta$"
   ]
  },
  {
   "cell_type": "code",
   "execution_count": 5,
   "id": "fa4457f5-05f5-4de1-8309-14cb8884a7e6",
   "metadata": {},
   "outputs": [],
   "source": [
    "y0=np.sum(beta*x0)"
   ]
  },
  {
   "cell_type": "markdown",
   "id": "e5a21b30-1663-4589-a050-9bf9e809fa49",
   "metadata": {},
   "source": [
    "开始模拟实验，首先选择遍历自变量个数，从$1$到$20$，后面$y\\_hat$用来存放$y_0$的预测值${\\hat{y}_{0,m}}^{(k)}$\n",
    "\n",
    "在第二层循环中重复$5000$次可以得到$5000$个不同的预测值。\n",
    "\n",
    "1. 首先通过随机多元正态分布来生成特征矩阵$X=(x_{ij})_{n\\times(p+1)}$，有\n",
    "\n",
    "$$\n",
    "\\mathbf{X} = \\begin{pmatrix}\n",
    "1 & x_{11} & x_{12} &\\cdots & x_{1p}\\\\\n",
    "1 & x_{21} & x_{22} &\\cdots & x_{2p}\\\\\n",
    "\\vdots & \\vdots & \\vdots && \\vdots\\\\\n",
    "1 & x_{n1} & x_{n2} &\\cdots & x_{np}\\\\\n",
    "\\end{pmatrix}\n",
    "= \\begin{pmatrix}\n",
    "1 & {x_{1}}^{'}\\\\\n",
    "1 & {x_{2}}^{'}\\\\\n",
    "\\vdots & \\vdots\\\\\n",
    "1 & {x_{n}}^{'}\\\\\n",
    "\\end{pmatrix}\n",
    "$$\n",
    "\n",
    "其中 ${x_{i}}^{'},i=1,2, \\cdots ,n$是独立同分布的服从多元正态分布的$p$维随机向量。\n",
    "\n",
    "同时，误差向量$\\epsilon=(\\epsilon_1,\\epsilon_2,\\cdots,\\epsilon_n)^{'}$ ，$\\epsilon_i$独立同分布于正态分布$N(0,\\sigma_\\epsilon^2),i=1,2,\\cdots,n$；而响应变量$y=X\\beta+\\epsilon$。\n",
    "\n",
    "2. 其次，通过使用$sklearn$的线性回归进行数据拟合，得到最小二乘估计$\\hat{\\beta}^{(k)}=(\\hat{\\beta}_0,\\hat{\\beta}_1,\\cdots,\\hat{\\beta}_k,0^{'}_{20-k})^{'}$，并且可算得$y_0$的预测值为$\\hat{y}_0^{(k)}=x_0^{'}\\hat{\\beta}^{(k)}$\n",
    "\n",
    "3. 最后通过$5000$次循环算得预测值，通过公式计算出每$k$个自变量对应的$Bias\\_sq,Var,MSE$"
   ]
  },
  {
   "cell_type": "code",
   "execution_count": 6,
   "id": "4328a607-144d-477f-b377-3689ad0587b2",
   "metadata": {},
   "outputs": [],
   "source": [
    "for k in range(k_least,k_most+1):\n",
    "    y_hat=[]\n",
    "    for m in range(M):\n",
    "        x=np.random.multivariate_normal(mean,cov,(N,),'raise') # 生成多元正态分布\n",
    "        e=np.random.normal(loc=0,scale=sigma_e,size=N)\n",
    "        y=[np.sum(beta*([1]+list(x[n1]))) for n1 in range(N)]+e\n",
    "        \n",
    "        # scikit-learn\n",
    "        x_=[x[n2][:k] for n2 in range(N)]\n",
    "        model=linear_model.LinearRegression()\n",
    "        model.fit(x_,y)\n",
    "        beta_hat=np.append(np.array(model.intercept_),model.coef_)\n",
    "        \n",
    "        y_hat.append(np.sum(beta_hat*x0[:k+1]))\n",
    "    y_hat=np.array(y_hat)\n",
    "    \n",
    "    Bias_sq.append((np.mean(y_hat)-y0)**2)\n",
    "    Var.append(np.mean((y_hat-np.mean(y_hat))**2))\n",
    "    MSE.append(np.mean((y_hat-y0)**2))"
   ]
  },
  {
   "cell_type": "code",
   "execution_count": 7,
   "id": "1f5fee6e-e3e5-4a6d-98de-013cfe6c7a6f",
   "metadata": {
    "scrolled": true
   },
   "outputs": [
    {
     "name": "stdout",
     "output_type": "stream",
     "text": [
      "偏差平方Bias^2：\n",
      "自变量个数： 1   Bias^2： 0.20083213457959573\n",
      "自变量个数： 2   Bias^2： 0.16081206770682696\n",
      "自变量个数： 3   Bias^2： 0.12032875505239826\n",
      "自变量个数： 4   Bias^2： 0.08900993021302088\n",
      "自变量个数： 5   Bias^2： 0.06293056262094412\n",
      "自变量个数： 6   Bias^2： 0.04050426844237154\n",
      "自变量个数： 7   Bias^2： 0.02235820163008092\n",
      "自变量个数： 8   Bias^2： 0.009643121832374795\n",
      "自变量个数： 9   Bias^2： 0.0028395519979369514\n",
      "自变量个数： 10   Bias^2： 3.1717022009772384e-06\n",
      "自变量个数： 11   Bias^2： 6.062906432968728e-07\n",
      "自变量个数： 12   Bias^2： 2.751569743483037e-06\n",
      "自变量个数： 13   Bias^2： 2.9400730123947916e-07\n",
      "自变量个数： 14   Bias^2： 1.6950098081183948e-07\n",
      "自变量个数： 15   Bias^2： 9.843085435084025e-07\n",
      "自变量个数： 16   Bias^2： 8.896594696734178e-07\n",
      "自变量个数： 17   Bias^2： 7.873765131895508e-06\n",
      "自变量个数： 18   Bias^2： 1.8290078449077238e-06\n",
      "自变量个数： 19   Bias^2： 9.383923549618004e-07\n",
      "自变量个数： 20   Bias^2： 7.05348950324228e-06\n",
      "方差Var：\n",
      "自变量个数： 1   Var： 0.020291394299496848\n",
      "自变量个数： 2   Var： 0.021087275966457705\n",
      "自变量个数： 3   Var： 0.021409761743485835\n",
      "自变量个数： 4   Var： 0.022541170564440223\n",
      "自变量个数： 5   Var： 0.0242879499174212\n",
      "自变量个数： 6   Var： 0.025351256084047716\n",
      "自变量个数： 7   Var： 0.02679991207349957\n",
      "自变量个数： 8   Var： 0.026802031960012726\n",
      "自变量个数： 9   Var： 0.02880599644955107\n",
      "自变量个数： 10   Var： 0.02962944232276343\n",
      "自变量个数： 11   Var： 0.03140317461311012\n",
      "自变量个数： 12   Var： 0.031072306156451526\n",
      "自变量个数： 13   Var： 0.03390022814476194\n",
      "自变量个数： 14   Var： 0.03336494035860414\n",
      "自变量个数： 15   Var： 0.037167922486054585\n",
      "自变量个数： 16   Var： 0.0372294593348261\n",
      "自变量个数： 17   Var： 0.0378267868650068\n",
      "自变量个数： 18   Var： 0.03957718784389803\n",
      "自变量个数： 19   Var： 0.04188289261076862\n",
      "自变量个数： 20   Var： 0.04233317302500012\n",
      "均方误差MSE：\n",
      "自变量个数： 1   MSE： 0.2211235288790926\n",
      "自变量个数： 2   MSE： 0.18189934367328464\n",
      "自变量个数： 3   MSE： 0.14173851679588426\n",
      "自变量个数： 4   MSE： 0.11155110077746122\n",
      "自变量个数： 5   MSE： 0.0872185125383652\n",
      "自变量个数： 6   MSE： 0.0658555245264193\n",
      "自变量个数： 7   MSE： 0.0491581137035805\n",
      "自变量个数： 8   MSE： 0.036445153792387545\n",
      "自变量个数： 9   MSE： 0.03164554844748804\n",
      "自变量个数： 10   MSE： 0.029632614024964404\n",
      "自变量个数： 11   MSE： 0.03140378090375341\n",
      "自变量个数： 12   MSE： 0.031075057726195007\n",
      "自变量个数： 13   MSE： 0.033900522152063184\n",
      "自变量个数： 14   MSE： 0.03336510985958495\n",
      "自变量个数： 15   MSE： 0.03716890679459809\n",
      "自变量个数： 16   MSE： 0.037230348994295774\n",
      "自变量个数： 17   MSE： 0.0378346606301387\n",
      "自变量个数： 18   MSE： 0.039579016851742935\n",
      "自变量个数： 19   MSE： 0.04188383100312358\n",
      "自变量个数： 20   MSE： 0.042340226514503365\n",
      "MSE最⼩所对应的⾃变量个数: 10   MSE： 0.029632614024964404\n"
     ]
    },
    {
     "data": {
      "image/png": "[encoded data removed]",
      "text/plain": [
       "<Figure size 640x480 with 1 Axes>"
      ]
     },
     "metadata": {},
     "output_type": "display_data"
    }
   ],
   "source": [
    "print('偏差平方Bias^2：')\n",
    "for i in range(len(Bias_sq)):\n",
    "    print('自变量个数：',i+1,'  Bias^2：',Bias_sq[i])\n",
    "print('方差Var：')\n",
    "for i in range(len(Var)):\n",
    "    print('自变量个数：',i+1,'  Var：',Var[i])\n",
    "print('均方误差MSE：')\n",
    "for i in range(len(MSE)):\n",
    "    print('自变量个数：',i+1,'  MSE：',MSE[i])\n",
    "MSE_argmin=np.argmin(MSE) \n",
    "MSE_min=np.min(MSE)\n",
    "print('MSE最⼩所对应的⾃变量个数:',MSE_argmin+1,'  MSE：',MSE_min)\n",
    "\n",
    "plot_range=range(k_least,k_most+1)\n",
    "plt.plot(plot_range,Bias_sq,label=\"Bias^2\",color=\"b\",marker=\"o\")\n",
    "plt.plot(plot_range,Var,label=\"Var\",color=\"g\",marker=\"o\")\n",
    "plt.plot(plot_range,MSE,label=\"MSE\",color=\"r\",marker=\"o\")\n",
    "plt.grid(True,linewidth=\"0.3\")\n",
    "plt.legend()\n",
    "plt.show()"
   ]
  },
  {
   "cell_type": "markdown",
   "id": "4118c59a-a263-4ac0-abcc-193758c9b324",
   "metadata": {},
   "source": [
    "### Task2：基于所绘制的图象，请评述，模型的欠拟合和过拟合分别对预测结果造成怎样的影响？"
   ]
  },
  {
   "cell_type": "markdown",
   "id": "d510ffde-5283-4fd5-aaa3-4a2ef4bda4a8",
   "metadata": {},
   "source": [
    "## 由上图可以观察得：\n",
    "\n",
    "- 在过拟合的情况下，也就是横坐标x=10右边的图片部分，均方误差会随着模型复杂度的提升而增加，偏差平方则变为0并保持，而方差呈上升状态，且与均方误差的趋势几乎一样（不完全重合）\n",
    "- 在欠拟合的情况下，也就是横坐标x=10左边的图片部分，均方误差和偏差平方都呈下降状态，在最佳时（大约在10左右）降到最低点，而方差持续上升，大致呈线性。"
   ]
  },
  {
   "cell_type": "code",
   "execution_count": null,
   "id": "ce402bba-5f73-4f2c-bd2c-52d46e14ad42",
   "metadata": {},
   "outputs": [],
   "source": []
  }
 ],
 "metadata": {
  "kernelspec": {
   "display_name": "Python 3 (ipykernel)",
   "language": "python",
   "name": "python3"
  },
  "language_info": {
   "codemirror_mode": {
    "name": "ipython",
    "version": 3
   },
   "file_extension": ".py",
   "mimetype": "text/x-python",
   "name": "python",
   "nbconvert_exporter": "python",
   "pygments_lexer": "ipython3",
   "version": "3.11.5"
  }
 },
 "nbformat": 4,
 "nbformat_minor": 5
}
