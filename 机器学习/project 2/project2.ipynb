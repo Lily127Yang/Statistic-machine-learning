{
 "cells": [
  {
   "cell_type": "markdown",
   "metadata": {},
   "source": [
    "### 导入工具包"
   ]
  },
  {
   "cell_type": "code",
   "execution_count": 1,
   "metadata": {},
   "outputs": [],
   "source": [
    "import os\n",
    "import pandas as pd\n",
    "import numpy as np\n",
    "import datetime\n",
    "import random\n",
    "from sklearn.metrics import classification_report\n",
    "import matplotlib.pyplot as plt\n",
    "from sklearn.feature_extraction.text import TfidfVectorizer as TFIDF\n",
    "from sklearn.model_selection import train_test_split\n",
    "from sklearn.naive_bayes import MultinomialNB,ComplementNB,BernoulliNB#多项式、补集和伯努利的贝叶斯\n",
    "from time import time\n",
    "import warnings\n",
    "warnings.filterwarnings(\"ignore\")"
   ]
  },
  {
   "cell_type": "markdown",
   "metadata": {},
   "source": [
    "### 导入下载的20_newsgroups，但由于是文本，需要把它处理成.csv"
   ]
  },
  {
   "cell_type": "code",
   "execution_count": 2,
   "metadata": {},
   "outputs": [],
   "source": [
    "path = '20_newsgroups/'\n",
    "file_names = os.listdir(path)"
   ]
  },
  {
   "cell_type": "code",
   "execution_count": 3,
   "metadata": {},
   "outputs": [
    {
     "data": {
      "text/plain": [
       "20"
      ]
     },
     "execution_count": 3,
     "metadata": {},
     "output_type": "execute_result"
    }
   ],
   "source": [
    "len(file_names)"
   ]
  },
  {
   "cell_type": "code",
   "execution_count": 4,
   "metadata": {},
   "outputs": [
    {
     "data": {
      "text/plain": [
       "['alt.atheism',\n",
       " 'comp.graphics',\n",
       " 'comp.os.ms-windows.misc',\n",
       " 'comp.sys.ibm.pc.hardware',\n",
       " 'comp.sys.mac.hardware',\n",
       " 'comp.windows.x',\n",
       " 'misc.forsale',\n",
       " 'rec.autos',\n",
       " 'rec.motorcycles',\n",
       " 'rec.sport.baseball',\n",
       " 'rec.sport.hockey',\n",
       " 'sci.crypt',\n",
       " 'sci.electronics',\n",
       " 'sci.med',\n",
       " 'sci.space',\n",
       " 'soc.religion.christian',\n",
       " 'talk.politics.guns',\n",
       " 'talk.politics.mideast',\n",
       " 'talk.politics.misc',\n",
       " 'talk.religion.misc']"
      ]
     },
     "execution_count": 4,
     "metadata": {},
     "output_type": "execute_result"
    }
   ],
   "source": [
    "file_names"
   ]
  },
  {
   "cell_type": "code",
   "execution_count": 5,
   "metadata": {},
   "outputs": [],
   "source": [
    "target=[]\n",
    "data=[]\n",
    "for file_name in file_names:\n",
    "    path_ = '20_newsgroups/{}'.format(file_name)\n",
    "    file_names_ = os.listdir(path_)\n",
    "    for file in file_names_:\n",
    "        if file !='.ipynb_checkpoints':\n",
    "            path__='20_newsgroups/{}/{}'.format(file_name,file)\n",
    "            text = open(path__, encoding=\"utf8\", errors='ignore')\n",
    "            text=text.read()\n",
    "#             print(text)\n",
    "            data.append(text)\n",
    "            target.append(file_name)"
   ]
  },
  {
   "cell_type": "code",
   "execution_count": 6,
   "metadata": {},
   "outputs": [],
   "source": [
    "df = pd.DataFrame({'data': data,'target': target}, columns=['data', 'target'])\n",
    "df.to_csv('./20_newsgroups.csv')"
   ]
  },
  {
   "cell_type": "markdown",
   "metadata": {},
   "source": [
    "## 探索文本数据"
   ]
  },
  {
   "cell_type": "code",
   "execution_count": 7,
   "metadata": {},
   "outputs": [],
   "source": [
    "df=pd.read_csv('20_newsgroups.csv')"
   ]
  },
  {
   "cell_type": "code",
   "execution_count": 8,
   "metadata": {},
   "outputs": [
    {
     "data": {
      "text/html": [
       "<div>\n",
       "<style scoped>\n",
       "    .dataframe tbody tr th:only-of-type {\n",
       "        vertical-align: middle;\n",
       "    }\n",
       "\n",
       "    .dataframe tbody tr th {\n",
       "        vertical-align: top;\n",
       "    }\n",
       "\n",
       "    .dataframe thead th {\n",
       "        text-align: right;\n",
       "    }\n",
       "</style>\n",
       "<table border=\"1\" class=\"dataframe\">\n",
       "  <thead>\n",
       "    <tr style=\"text-align: right;\">\n",
       "      <th></th>\n",
       "      <th>Unnamed: 0</th>\n",
       "      <th>data</th>\n",
       "      <th>target</th>\n",
       "    </tr>\n",
       "  </thead>\n",
       "  <tbody>\n",
       "    <tr>\n",
       "      <th>0</th>\n",
       "      <td>0</td>\n",
       "      <td>Xref: cantaloupe.srv.cs.cmu.edu alt.atheism:49...</td>\n",
       "      <td>alt.atheism</td>\n",
       "    </tr>\n",
       "    <tr>\n",
       "      <th>1</th>\n",
       "      <td>1</td>\n",
       "      <td>Xref: cantaloupe.srv.cs.cmu.edu alt.atheism:51...</td>\n",
       "      <td>alt.atheism</td>\n",
       "    </tr>\n",
       "    <tr>\n",
       "      <th>2</th>\n",
       "      <td>2</td>\n",
       "      <td>Newsgroups: alt.atheism\\nPath: cantaloupe.srv....</td>\n",
       "      <td>alt.atheism</td>\n",
       "    </tr>\n",
       "    <tr>\n",
       "      <th>3</th>\n",
       "      <td>3</td>\n",
       "      <td>Xref: cantaloupe.srv.cs.cmu.edu alt.atheism:51...</td>\n",
       "      <td>alt.atheism</td>\n",
       "    </tr>\n",
       "    <tr>\n",
       "      <th>4</th>\n",
       "      <td>4</td>\n",
       "      <td>Xref: cantaloupe.srv.cs.cmu.edu alt.atheism:51...</td>\n",
       "      <td>alt.atheism</td>\n",
       "    </tr>\n",
       "    <tr>\n",
       "      <th>...</th>\n",
       "      <td>...</td>\n",
       "      <td>...</td>\n",
       "      <td>...</td>\n",
       "    </tr>\n",
       "    <tr>\n",
       "      <th>19992</th>\n",
       "      <td>19992</td>\n",
       "      <td>Xref: cantaloupe.srv.cs.cmu.edu alt.atheism:54...</td>\n",
       "      <td>talk.religion.misc</td>\n",
       "    </tr>\n",
       "    <tr>\n",
       "      <th>19993</th>\n",
       "      <td>19993</td>\n",
       "      <td>Xref: cantaloupe.srv.cs.cmu.edu alt.atheism:54...</td>\n",
       "      <td>talk.religion.misc</td>\n",
       "    </tr>\n",
       "    <tr>\n",
       "      <th>19994</th>\n",
       "      <td>19994</td>\n",
       "      <td>Xref: cantaloupe.srv.cs.cmu.edu talk.religion....</td>\n",
       "      <td>talk.religion.misc</td>\n",
       "    </tr>\n",
       "    <tr>\n",
       "      <th>19995</th>\n",
       "      <td>19995</td>\n",
       "      <td>Xref: cantaloupe.srv.cs.cmu.edu talk.religion....</td>\n",
       "      <td>talk.religion.misc</td>\n",
       "    </tr>\n",
       "    <tr>\n",
       "      <th>19996</th>\n",
       "      <td>19996</td>\n",
       "      <td>Xref: cantaloupe.srv.cs.cmu.edu talk.abortion:...</td>\n",
       "      <td>talk.religion.misc</td>\n",
       "    </tr>\n",
       "  </tbody>\n",
       "</table>\n",
       "<p>19997 rows × 3 columns</p>\n",
       "</div>"
      ],
      "text/plain": [
       "       Unnamed: 0                                               data  \\\n",
       "0               0  Xref: cantaloupe.srv.cs.cmu.edu alt.atheism:49...   \n",
       "1               1  Xref: cantaloupe.srv.cs.cmu.edu alt.atheism:51...   \n",
       "2               2  Newsgroups: alt.atheism\\nPath: cantaloupe.srv....   \n",
       "3               3  Xref: cantaloupe.srv.cs.cmu.edu alt.atheism:51...   \n",
       "4               4  Xref: cantaloupe.srv.cs.cmu.edu alt.atheism:51...   \n",
       "...           ...                                                ...   \n",
       "19992       19992  Xref: cantaloupe.srv.cs.cmu.edu alt.atheism:54...   \n",
       "19993       19993  Xref: cantaloupe.srv.cs.cmu.edu alt.atheism:54...   \n",
       "19994       19994  Xref: cantaloupe.srv.cs.cmu.edu talk.religion....   \n",
       "19995       19995  Xref: cantaloupe.srv.cs.cmu.edu talk.religion....   \n",
       "19996       19996  Xref: cantaloupe.srv.cs.cmu.edu talk.abortion:...   \n",
       "\n",
       "                   target  \n",
       "0             alt.atheism  \n",
       "1             alt.atheism  \n",
       "2             alt.atheism  \n",
       "3             alt.atheism  \n",
       "4             alt.atheism  \n",
       "...                   ...  \n",
       "19992  talk.religion.misc  \n",
       "19993  talk.religion.misc  \n",
       "19994  talk.religion.misc  \n",
       "19995  talk.religion.misc  \n",
       "19996  talk.religion.misc  \n",
       "\n",
       "[19997 rows x 3 columns]"
      ]
     },
     "execution_count": 8,
     "metadata": {},
     "output_type": "execute_result"
    }
   ],
   "source": [
    "df"
   ]
  },
  {
   "cell_type": "code",
   "execution_count": 9,
   "metadata": {},
   "outputs": [
    {
     "data": {
      "text/plain": [
       "'Xref: cantaloupe.srv.cs.cmu.edu alt.atheism:49960 alt.atheism.moderated:713 news.answers:7054 alt.answers:126\\nPath: cantaloupe.srv.cs.cmu.edu!crabapple.srv.cs.cmu.edu!bb3.andrew.cmu.edu!news.sei.cmu.edu!cis.ohio-state.edu!magnus.acs.ohio-state.edu!usenet.ins.cwru.edu!agate!spool.mu.edu!uunet!pipex!ibmpcug!mantis!mathew\\nFrom: mathew <mathew@mantis.co.uk>\\nNewsgroups: alt.atheism,alt.atheism.moderated,news.answers,alt.answers\\nSubject: Alt.Atheism FAQ: Atheist Resources\\nSummary: Books, addresses, music -- anything related to atheism\\nKeywords: FAQ, atheism, books, music, fiction, addresses, contacts\\nMessage-ID: <19930329115719@mantis.co.uk>\\nDate: Mon, 29 Mar 1993 11:57:19 GMT\\nExpires: Thu, 29 Apr 1993 11:57:19 GMT\\nFollowup-To: alt.atheism\\nDistribution: world\\nOrganization: Mantis Consultants, Cambridge. UK.\\nApproved: news-answers-request@mit.edu\\nSupersedes: <19930301143317@mantis.co.uk>\\nLines: 290\\n\\nArchive-name: atheism/resources\\nAlt-atheism-archive-name: resources\\nLast-modified: 11 December 1992\\nVersion: 1.0\\n\\n                              Atheist Resources\\n\\n                      Addresses of Atheist Organizations\\n\\n                                     USA\\n\\nFREEDOM FROM RELIGION FOUNDATION\\n\\nDarwin fish bumper stickers and assorted other atheist paraphernalia are\\navailable from the Freedom From Religion Foundation in the US.\\n\\nWrite to:  FFRF, P.O. Box 750, Madison, WI 53701.\\nTelephone: (608) 256-8900\\n\\nEVOLUTION DESIGNS\\n\\nEvolution Designs sell the \"Darwin fish\".  It\\'s a fish symbol, like the ones\\nChristians stick on their cars, but with feet and the word \"Darwin\" written\\ninside.  The deluxe moulded 3D plastic fish is $4.95 postpaid in the US.\\n\\nWrite to:  Evolution Designs, 7119 Laurel Canyon #4, North Hollywood,\\n           CA 91605.\\n\\nPeople in the San Francisco Bay area can get Darwin Fish from Lynn Gold --\\ntry mailing <figmo@netcom.com>.  For net people who go to Lynn directly, the\\nprice is $4.95 per fish.\\n\\nAMERICAN ATHEIST PRESS\\n\\nAAP publish various atheist books -- critiques of the Bible, lists of\\nBiblical contradictions, and so on.  One such book is:\\n\\n\"The Bible Handbook\" by W.P. Ball and G.W. Foote.  American Atheist Press.\\n372 pp.  ISBN 0-910309-26-4, 2nd edition, 1986.  Bible contradictions,\\nabsurdities, atrocities, immoralities... contains Ball, Foote: \"The Bible\\nContradicts Itself\", AAP.  Based on the King James version of the Bible.\\n\\nWrite to:  American Atheist Press, P.O. Box 140195, Austin, TX 78714-0195.\\n      or:  7215 Cameron Road, Austin, TX 78752-2973.\\nTelephone: (512) 458-1244\\nFax:       (512) 467-9525\\n\\nPROMETHEUS BOOKS\\n\\nSell books including Haught\\'s \"Holy Horrors\" (see below).\\n\\nWrite to:  700 East Amherst Street, Buffalo, New York 14215.\\nTelephone: (716) 837-2475.\\n\\nAn alternate address (which may be newer or older) is:\\nPrometheus Books, 59 Glenn Drive, Buffalo, NY 14228-2197.\\n\\nAFRICAN-AMERICANS FOR HUMANISM\\n\\nAn organization promoting black secular humanism and uncovering the history of\\nblack freethought.  They publish a quarterly newsletter, AAH EXAMINER.\\n\\nWrite to:  Norm R. Allen, Jr., African Americans for Humanism, P.O. Box 664,\\n           Buffalo, NY 14226.\\n\\n                                United Kingdom\\n\\nRationalist Press Association          National Secular Society\\n88 Islington High Street               702 Holloway Road\\nLondon N1 8EW                          London N19 3NL\\n071 226 7251                           071 272 1266\\n\\nBritish Humanist Association           South Place Ethical Society\\n14 Lamb\\'s Conduit Passage              Conway Hall\\nLondon WC1R 4RH                        Red Lion Square\\n071 430 0908                           London WC1R 4RL\\nfax 071 430 1271                       071 831 7723\\n\\nThe National Secular Society publish \"The Freethinker\", a monthly magazine\\nfounded in 1881.\\n\\n                                   Germany\\n\\nIBKA e.V.\\nInternationaler Bund der Konfessionslosen und Atheisten\\nPostfach 880, D-1000 Berlin 41. Germany.\\n\\nIBKA publish a journal:\\nMIZ. (Materialien und Informationen zur Zeit. Politisches\\nJournal der Konfessionslosesn und Atheisten. Hrsg. IBKA e.V.)\\nMIZ-Vertrieb, Postfach 880, D-1000 Berlin 41. Germany.\\n\\nFor atheist books, write to:\\n\\nIBDK, Internationaler B\"ucherdienst der Konfessionslosen\\nPostfach 3005, D-3000 Hannover 1. Germany.\\nTelephone: 0511/211216\\n\\n\\n                               Books -- Fiction\\n\\nTHOMAS M. DISCH\\n\\n\"The Santa Claus Compromise\"\\nShort story.  The ultimate proof that Santa exists.  All characters and \\nevents are fictitious.  Any similarity to living or dead gods -- uh, well...\\n\\nWALTER M. MILLER, JR\\n\\n\"A Canticle for Leibowitz\"\\nOne gem in this post atomic doomsday novel is the monks who spent their lives\\ncopying blueprints from \"Saint Leibowitz\", filling the sheets of paper with\\nink and leaving white lines and letters.\\n\\nEDGAR PANGBORN\\n\\n\"Davy\"\\nPost atomic doomsday novel set in clerical states.  The church, for example,\\nforbids that anyone \"produce, describe or use any substance containing...\\natoms\". \\n\\nPHILIP K. DICK\\n\\nPhilip K. Dick Dick wrote many philosophical and thought-provoking short \\nstories and novels.  His stories are bizarre at times, but very approachable.\\nHe wrote mainly SF, but he wrote about people, truth and religion rather than\\ntechnology.  Although he often believed that he had met some sort of God, he\\nremained sceptical.  Amongst his novels, the following are of some relevance:\\n\\n\"Galactic Pot-Healer\"\\nA fallible alien deity summons a group of Earth craftsmen and women to a\\nremote planet to raise a giant cathedral from beneath the oceans.  When the\\ndeity begins to demand faith from the earthers, pot-healer Joe Fernwright is\\nunable to comply.  A polished, ironic and amusing novel.\\n\\n\"A Maze of Death\"\\nNoteworthy for its description of a technology-based religion.\\n\\n\"VALIS\"\\nThe schizophrenic hero searches for the hidden mysteries of Gnostic\\nChristianity after reality is fired into his brain by a pink laser beam of\\nunknown but possibly divine origin.  He is accompanied by his dogmatic and\\ndismissively atheist friend and assorted other odd characters.\\n\\n\"The Divine Invasion\"\\nGod invades Earth by making a young woman pregnant as she returns from\\nanother star system.  Unfortunately she is terminally ill, and must be\\nassisted by a dead man whose brain is wired to 24-hour easy listening music.\\n\\nMARGARET ATWOOD\\n\\n\"The Handmaid\\'s Tale\"\\nA story based on the premise that the US Congress is mysteriously\\nassassinated, and fundamentalists quickly take charge of the nation to set it\\n\"right\" again.  The book is the diary of a woman\\'s life as she tries to live\\nunder the new Christian theocracy.  Women\\'s right to own property is revoked,\\nand their bank accounts are closed; sinful luxuries are outlawed, and the\\nradio is only used for readings from the Bible.  Crimes are punished\\nretroactively: doctors who performed legal abortions in the \"old world\" are\\nhunted down and hanged.  Atwood\\'s writing style is difficult to get used to\\nat first, but the tale grows more and more chilling as it goes on.\\n\\nVARIOUS AUTHORS\\n\\n\"The Bible\"\\nThis somewhat dull and rambling work has often been criticized.  However, it\\nis probably worth reading, if only so that you\\'ll know what all the fuss is\\nabout.  It exists in many different versions, so make sure you get the one\\ntrue version.\\n\\n                             Books -- Non-fiction\\n\\nPETER DE ROSA\\n\\n\"Vicars of Christ\", Bantam Press, 1988\\nAlthough de Rosa seems to be Christian or even Catholic this is a very\\nenlighting history of papal immoralities, adulteries, fallacies etc.\\n(German translation: \"Gottes erste Diener. Die dunkle Seite des Papsttums\",\\nDroemer-Knaur, 1989)\\n\\nMICHAEL MARTIN\\n\\n\"Atheism: A Philosophical Justification\", Temple University Press,\\n Philadelphia, USA.\\nA detailed and scholarly justification of atheism.  Contains an outstanding\\nappendix defining terminology and usage in this (necessarily) tendentious\\narea.  Argues both for \"negative atheism\" (i.e. the \"non-belief in the\\nexistence of god(s)\") and also for \"positive atheism\" (\"the belief in the\\nnon-existence of god(s)\").  Includes great refutations of the most\\nchallenging arguments for god; particular attention is paid to refuting\\ncontempory theists such as Platinga and Swinburne.\\n541 pages. ISBN 0-87722-642-3 (hardcover; paperback also available)\\n\\n\"The Case Against Christianity\", Temple University Press\\nA comprehensive critique of Christianity, in which he considers\\nthe best contemporary defences of Christianity and (ultimately)\\ndemonstrates that they are unsupportable and/or incoherent.\\n273 pages. ISBN 0-87722-767-5\\n\\nJAMES TURNER\\n\\n\"Without God, Without Creed\", The Johns Hopkins University Press, Baltimore,\\n MD, USA\\nSubtitled \"The Origins of Unbelief in America\".  Examines the way in which\\nunbelief (whether agnostic or atheistic)  became a mainstream alternative\\nworld-view.  Focusses on the period 1770-1900, and while considering France\\nand Britain the emphasis is on American, and particularly New England\\ndevelopments.  \"Neither a religious history of secularization or atheism,\\nWithout God, Without Creed is, rather, the intellectual history of the fate\\nof a single idea, the belief that God exists.\" \\n316 pages. ISBN (hardcover) 0-8018-2494-X (paper) 0-8018-3407-4\\n\\nGEORGE SELDES (Editor)\\n\\n\"The great thoughts\", Ballantine Books, New York, USA\\nA \"dictionary of quotations\" of a different kind, concentrating on statements\\nand writings which, explicitly or implicitly, present the person\\'s philosophy\\nand world-view.  Includes obscure (and often suppressed) opinions from many\\npeople.  For some popular observations, traces the way in which various\\npeople expressed and twisted the idea over the centuries.  Quite a number of\\nthe quotations are derived from Cardiff\\'s \"What Great Men Think of Religion\"\\nand Noyes\\' \"Views of Religion\".\\n490 pages. ISBN (paper) 0-345-29887-X.\\n\\nRICHARD SWINBURNE\\n\\n\"The Existence of God (Revised Edition)\", Clarendon Paperbacks, Oxford\\nThis book is the second volume in a trilogy that began with \"The Coherence of\\nTheism\" (1977) and was concluded with \"Faith and Reason\" (1981).  In this\\nwork, Swinburne attempts to construct a series of inductive arguments for the\\nexistence of God.  His arguments, which are somewhat tendentious and rely\\nupon the imputation of late 20th century western Christian values and\\naesthetics to a God which is supposedly as simple as can be conceived, were\\ndecisively rejected in Mackie\\'s \"The Miracle of Theism\".  In the revised\\nedition of \"The Existence of God\", Swinburne includes an Appendix in which he\\nmakes a somewhat incoherent attempt to rebut Mackie.\\n\\nJ. L. MACKIE\\n\\n\"The Miracle of Theism\", Oxford\\nThis (posthumous) volume contains a comprehensive review of the principal\\narguments for and against the existence of God.  It ranges from the classical\\nphilosophical positions of Descartes, Anselm, Berkeley, Hume et al, through\\nthe moral arguments of Newman, Kant and Sidgwick, to the recent restatements\\nof the classical theses by Plantinga and Swinburne.  It also addresses those\\npositions which push the concept of God beyond the realm of the rational,\\nsuch as those of Kierkegaard, Kung and Philips, as well as \"replacements for\\nGod\" such as Lelie\\'s axiarchism.  The book is a delight to read - less\\nformalistic and better written than Martin\\'s works, and refreshingly direct\\nwhen compared with the hand-waving of Swinburne.\\n\\nJAMES A. HAUGHT\\n\\n\"Holy Horrors: An Illustrated History of Religious Murder and Madness\",\\n Prometheus Books\\nLooks at religious persecution from ancient times to the present day -- and\\nnot only by Christians.\\nLibrary of Congress Catalog Card Number 89-64079. 1990.\\n\\nNORM R. ALLEN, JR.\\n\\n\"African American Humanism: an Anthology\"\\nSee the listing for African Americans for Humanism above.\\n\\nGORDON STEIN\\n\\n\"An Anthology of Atheism and Rationalism\", Prometheus Books\\nAn anthology covering a wide range of subjects, including \\'The Devil, Evil\\nand Morality\\' and \\'The History of Freethought\\'.  Comprehensive bibliography.\\n\\nEDMUND D. COHEN\\n\\n\"The Mind of The Bible-Believer\", Prometheus Books\\nA study of why people become Christian fundamentalists, and what effect it\\nhas on them.\\n\\n                                Net Resources\\n\\nThere\\'s a small mail-based archive server at mantis.co.uk which carries\\narchives of old alt.atheism.moderated articles and assorted other files.  For\\nmore information, send mail to archive-server@mantis.co.uk saying\\n\\n   help\\n   send atheism/index\\n\\nand it will mail back a reply.\\n\\n\\nmathew\\n\\n'"
      ]
     },
     "execution_count": 9,
     "metadata": {},
     "output_type": "execute_result"
    }
   ],
   "source": [
    "df['data'][0]"
   ]
  },
  {
   "cell_type": "code",
   "execution_count": 10,
   "metadata": {},
   "outputs": [
    {
     "data": {
      "text/plain": [
       "array(['alt.atheism', 'comp.graphics', 'comp.os.ms-windows.misc',\n",
       "       'comp.sys.ibm.pc.hardware', 'comp.sys.mac.hardware',\n",
       "       'comp.windows.x', 'misc.forsale', 'rec.autos', 'rec.motorcycles',\n",
       "       'rec.sport.baseball', 'rec.sport.hockey', 'sci.crypt',\n",
       "       'sci.electronics', 'sci.med', 'sci.space',\n",
       "       'soc.religion.christian', 'talk.politics.guns',\n",
       "       'talk.politics.mideast', 'talk.politics.misc',\n",
       "       'talk.religion.misc'], dtype=object)"
      ]
     },
     "execution_count": 10,
     "metadata": {},
     "output_type": "execute_result"
    }
   ],
   "source": [
    "np.unique(df.target)"
   ]
  },
  {
   "cell_type": "code",
   "execution_count": 11,
   "metadata": {},
   "outputs": [
    {
     "name": "stdout",
     "output_type": "stream",
     "text": [
      "alt.atheism 0.050007501125168774\n",
      "comp.graphics 0.050007501125168774\n",
      "comp.os.ms-windows.misc 0.050007501125168774\n",
      "comp.sys.ibm.pc.hardware 0.050007501125168774\n",
      "comp.sys.mac.hardware 0.050007501125168774\n",
      "comp.windows.x 0.050007501125168774\n",
      "misc.forsale 0.050007501125168774\n",
      "rec.autos 0.050007501125168774\n",
      "rec.motorcycles 0.050007501125168774\n",
      "rec.sport.baseball 0.050007501125168774\n",
      "rec.sport.hockey 0.050007501125168774\n",
      "sci.crypt 0.050007501125168774\n",
      "sci.electronics 0.050007501125168774\n",
      "sci.med 0.050007501125168774\n",
      "sci.space 0.050007501125168774\n",
      "soc.religion.christian 0.049857478621793266\n",
      "talk.politics.guns 0.050007501125168774\n",
      "talk.politics.mideast 0.050007501125168774\n",
      "talk.politics.misc 0.050007501125168774\n",
      "talk.religion.misc 0.050007501125168774\n"
     ]
    }
   ],
   "source": [
    "for i in ['alt.atheism', 'comp.graphics', 'comp.os.ms-windows.misc',\n",
    "       'comp.sys.ibm.pc.hardware', 'comp.sys.mac.hardware',\n",
    "       'comp.windows.x', 'misc.forsale', 'rec.autos', 'rec.motorcycles',\n",
    "       'rec.sport.baseball', 'rec.sport.hockey', 'sci.crypt',\n",
    "       'sci.electronics', 'sci.med', 'sci.space',\n",
    "       'soc.religion.christian', 'talk.politics.guns',\n",
    "       'talk.politics.mideast', 'talk.politics.misc',\n",
    "       'talk.religion.misc']:\n",
    "    print(i,(df.target==i).sum()/len(df.target))"
   ]
  },
  {
   "cell_type": "markdown",
   "metadata": {},
   "source": [
    "#### 看样本均不均衡，看每个类占总共类别的百分之多少，可以看到总体是比较均衡的。"
   ]
  },
  {
   "cell_type": "code",
   "execution_count": 12,
   "metadata": {},
   "outputs": [],
   "source": [
    "x_train, x_test, y_train, y_test = train_test_split(df.data,df.target,test_size=0.25,random_state=3)"
   ]
  },
  {
   "cell_type": "markdown",
   "metadata": {},
   "source": [
    "## 文本特征提取\n",
    "\n",
    "#### 使用TF-IDF向量计数"
   ]
  },
  {
   "cell_type": "code",
   "execution_count": 13,
   "metadata": {},
   "outputs": [],
   "source": [
    "tfidf=TFIDF().fit(x_train)\n",
    "Xtrain_=tfidf.transform(x_train)\n",
    "Xtest_=tfidf.transform(x_test)"
   ]
  },
  {
   "cell_type": "markdown",
   "metadata": {},
   "source": [
    "### 使用三种不同分布的朴素贝叶斯模型先进行预测，分别是Multinomial，Complement，Bernuolli"
   ]
  },
  {
   "cell_type": "markdown",
   "metadata": {},
   "source": [
    "高斯朴素贝叶斯是不接受稀疏矩阵的，而这里恰恰就是稀疏矩阵，所以就不能用这个"
   ]
  },
  {
   "cell_type": "code",
   "execution_count": 14,
   "metadata": {},
   "outputs": [
    {
     "name": "stdout",
     "output_type": "stream",
     "text": [
      "Multinomial\n",
      "\tAccuracy:0.877\n",
      "                          precision    recall  f1-score   support\n",
      "\n",
      "             alt.atheism       0.83      0.82      0.82       255\n",
      "           comp.graphics       0.95      0.73      0.82       265\n",
      " comp.os.ms-windows.misc       0.93      0.89      0.91       270\n",
      "comp.sys.ibm.pc.hardware       0.82      0.86      0.84       259\n",
      "   comp.sys.mac.hardware       0.81      0.94      0.87       234\n",
      "          comp.windows.x       0.93      0.86      0.89       261\n",
      "            misc.forsale       0.97      0.81      0.88       250\n",
      "               rec.autos       0.89      0.93      0.91       221\n",
      "         rec.motorcycles       0.95      0.94      0.95       225\n",
      "      rec.sport.baseball       0.97      0.94      0.95       262\n",
      "        rec.sport.hockey       0.95      0.95      0.95       261\n",
      "               sci.crypt       0.84      0.97      0.90       230\n",
      "         sci.electronics       0.94      0.82      0.88       267\n",
      "                 sci.med       0.98      0.90      0.94       247\n",
      "               sci.space       0.90      0.97      0.93       260\n",
      "  soc.religion.christian       0.92      1.00      0.96       285\n",
      "      talk.politics.guns       0.68      0.96      0.80       215\n",
      "   talk.politics.mideast       0.91      0.98      0.94       250\n",
      "      talk.politics.misc       0.78      0.70      0.73       248\n",
      "      talk.religion.misc       0.65      0.58      0.61       235\n",
      "\n",
      "                accuracy                           0.88      5000\n",
      "               macro avg       0.88      0.88      0.87      5000\n",
      "            weighted avg       0.88      0.88      0.88      5000\n",
      "\n",
      "00:00:619732\n",
      "Complement\n",
      "\tAccuracy:0.907\n",
      "                          precision    recall  f1-score   support\n",
      "\n",
      "             alt.atheism       0.83      0.84      0.84       255\n",
      "           comp.graphics       0.93      0.86      0.89       265\n",
      " comp.os.ms-windows.misc       0.93      0.91      0.92       270\n",
      "comp.sys.ibm.pc.hardware       0.86      0.86      0.86       259\n",
      "   comp.sys.mac.hardware       0.87      0.92      0.90       234\n",
      "          comp.windows.x       0.92      0.91      0.92       261\n",
      "            misc.forsale       0.96      0.90      0.93       250\n",
      "               rec.autos       0.94      0.94      0.94       221\n",
      "         rec.motorcycles       0.96      1.00      0.98       225\n",
      "      rec.sport.baseball       0.98      0.97      0.98       262\n",
      "        rec.sport.hockey       0.95      0.99      0.97       261\n",
      "               sci.crypt       0.95      0.99      0.97       230\n",
      "         sci.electronics       0.95      0.89      0.92       267\n",
      "                 sci.med       0.97      0.96      0.97       247\n",
      "               sci.space       0.91      0.98      0.95       260\n",
      "  soc.religion.christian       0.91      1.00      0.95       285\n",
      "      talk.politics.guns       0.82      0.94      0.88       215\n",
      "   talk.politics.mideast       0.91      0.99      0.95       250\n",
      "      talk.politics.misc       0.85      0.71      0.77       248\n",
      "      talk.religion.misc       0.68      0.56      0.61       235\n",
      "\n",
      "                accuracy                           0.91      5000\n",
      "               macro avg       0.90      0.91      0.90      5000\n",
      "            weighted avg       0.91      0.91      0.90      5000\n",
      "\n",
      "00:00:522055\n",
      "Bernuolli\n",
      "\tAccuracy:0.841\n",
      "                          precision    recall  f1-score   support\n",
      "\n",
      "             alt.atheism       0.84      0.78      0.81       255\n",
      "           comp.graphics       0.84      0.83      0.83       265\n",
      " comp.os.ms-windows.misc       0.97      0.12      0.22       270\n",
      "comp.sys.ibm.pc.hardware       0.79      0.91      0.85       259\n",
      "   comp.sys.mac.hardware       0.74      0.99      0.85       234\n",
      "          comp.windows.x       0.80      0.85      0.83       261\n",
      "            misc.forsale       0.47      0.96      0.63       250\n",
      "               rec.autos       0.89      0.96      0.93       221\n",
      "         rec.motorcycles       0.96      0.96      0.96       225\n",
      "      rec.sport.baseball       0.98      0.97      0.97       262\n",
      "        rec.sport.hockey       1.00      0.94      0.97       261\n",
      "               sci.crypt       0.96      0.93      0.94       230\n",
      "         sci.electronics       0.94      0.93      0.94       267\n",
      "                 sci.med       1.00      0.85      0.92       247\n",
      "               sci.space       0.98      0.87      0.92       260\n",
      "  soc.religion.christian       0.99      0.97      0.98       285\n",
      "      talk.politics.guns       0.85      0.91      0.88       215\n",
      "   talk.politics.mideast       0.93      0.81      0.87       250\n",
      "      talk.politics.misc       0.82      0.69      0.75       248\n",
      "      talk.religion.misc       0.64      0.63      0.64       235\n",
      "\n",
      "                accuracy                           0.84      5000\n",
      "               macro avg       0.87      0.84      0.83      5000\n",
      "            weighted avg       0.87      0.84      0.83      5000\n",
      "\n",
      "00:00:865652\n"
     ]
    }
   ],
   "source": [
    "name=['Multinomial','Complement','Bernuolli']\n",
    "models=[MultinomialNB(),ComplementNB(),BernoulliNB()]\n",
    "for name,mod in zip(name,models):#zip整合函数\n",
    "    times=time()\n",
    "    mod.fit(Xtrain_,y_train)\n",
    "    y_pred=mod.predict(Xtest_)\n",
    "    score=mod.score(Xtest_,y_test)\n",
    "    \n",
    "    print(name)\n",
    "    print(\"\\tAccuracy:{:.3f}\".format(score))\n",
    "    print(classification_report(y_test, y_pred, target_names=np.unique(df.target)))\n",
    "    print(datetime.datetime.fromtimestamp(time()-times).strftime(\"%M:%S:%f\"))"
   ]
  },
  {
   "cell_type": "markdown",
   "metadata": {},
   "source": [
    "在还没有选择超参数的值的情况下，Complement不仅Accuracy最高而且用时最短，表现最好"
   ]
  },
  {
   "cell_type": "markdown",
   "metadata": {},
   "source": [
    "### 分别在这三种模型下通过交叉验证，选择最优超参数"
   ]
  },
  {
   "cell_type": "code",
   "execution_count": 15,
   "metadata": {},
   "outputs": [
    {
     "name": "stdout",
     "output_type": "stream",
     "text": [
      "alpha: 1e-05\n",
      "-------------fold0.0------------\n",
      "1 val_accuracy1: 0.88375\n",
      "1 val_accuracy2: 0.86575\n",
      "1 val_accuracy3: 0.90875\n",
      "-------------fold1.0------------\n",
      "2 val_accuracy1: 0.8725\n",
      "2 val_accuracy2: 0.85775\n",
      "2 val_accuracy3: 0.9045\n",
      "-------------fold2.0------------\n",
      "3 val_accuracy1: 0.878\n",
      "3 val_accuracy2: 0.8655\n",
      "3 val_accuracy3: 0.91225\n",
      "-------------fold3.0------------\n",
      "4 val_accuracy1: 0.87425\n",
      "4 val_accuracy2: 0.863\n",
      "4 val_accuracy3: 0.91125\n",
      "-------------fold4.0------------\n",
      "5 val_accuracy1: 0.873\n",
      "5 val_accuracy2: 0.86475\n",
      "5 val_accuracy3: 0.907\n",
      "alpha: 1e-05 accuracy1: 0.8763\n",
      "alpha: 1e-05 accuracy2: 0.86335\n",
      "alpha: 1e-05 accuracy3: 0.9087500000000001\n",
      "\n",
      "\n",
      "alpha: 0.0001\n",
      "-------------fold0.0------------\n",
      "1 val_accuracy1: 0.879\n",
      "1 val_accuracy2: 0.86575\n",
      "1 val_accuracy3: 0.911\n",
      "-------------fold1.0------------\n",
      "2 val_accuracy1: 0.882\n",
      "2 val_accuracy2: 0.8715\n",
      "2 val_accuracy3: 0.917\n",
      "-------------fold2.0------------\n",
      "3 val_accuracy1: 0.8805\n",
      "3 val_accuracy2: 0.86625\n",
      "3 val_accuracy3: 0.9145\n",
      "-------------fold3.0------------\n",
      "4 val_accuracy1: 0.86975\n",
      "4 val_accuracy2: 0.859\n",
      "4 val_accuracy3: 0.90425\n",
      "-------------fold4.0------------\n",
      "5 val_accuracy1: 0.8765\n",
      "5 val_accuracy2: 0.8575\n",
      "5 val_accuracy3: 0.90425\n",
      "alpha: 0.0001 accuracy1: 0.87755\n",
      "alpha: 0.0001 accuracy2: 0.8640000000000001\n",
      "alpha: 0.0001 accuracy3: 0.9102\n",
      "\n",
      "\n",
      "alpha: 0.0005\n",
      "-------------fold0.0------------\n",
      "1 val_accuracy1: 0.882\n",
      "1 val_accuracy2: 0.87325\n",
      "1 val_accuracy3: 0.906\n",
      "-------------fold1.0------------\n",
      "2 val_accuracy1: 0.87925\n",
      "2 val_accuracy2: 0.87325\n",
      "2 val_accuracy3: 0.9085\n",
      "-------------fold2.0------------\n",
      "3 val_accuracy1: 0.87775\n",
      "3 val_accuracy2: 0.86875\n",
      "3 val_accuracy3: 0.90625\n",
      "-------------fold3.0------------\n",
      "4 val_accuracy1: 0.8715\n",
      "4 val_accuracy2: 0.8655\n",
      "4 val_accuracy3: 0.899\n",
      "-------------fold4.0------------\n",
      "5 val_accuracy1: 0.8805\n",
      "5 val_accuracy2: 0.87025\n",
      "5 val_accuracy3: 0.9045\n",
      "alpha: 0.0005 accuracy1: 0.8782\n",
      "alpha: 0.0005 accuracy2: 0.8702\n",
      "alpha: 0.0005 accuracy3: 0.9048499999999999\n",
      "\n",
      "\n",
      "alpha: 0.001\n",
      "-------------fold0.0------------\n",
      "1 val_accuracy1: 0.8895\n",
      "1 val_accuracy2: 0.88175\n",
      "1 val_accuracy3: 0.91375\n",
      "-------------fold1.0------------\n",
      "2 val_accuracy1: 0.88175\n",
      "2 val_accuracy2: 0.87725\n",
      "2 val_accuracy3: 0.9115\n",
      "-------------fold2.0------------\n",
      "3 val_accuracy1: 0.88575\n",
      "3 val_accuracy2: 0.872\n",
      "3 val_accuracy3: 0.909\n",
      "-------------fold3.0------------\n",
      "4 val_accuracy1: 0.88375\n",
      "4 val_accuracy2: 0.87\n",
      "4 val_accuracy3: 0.91025\n",
      "-------------fold4.0------------\n",
      "5 val_accuracy1: 0.882\n",
      "5 val_accuracy2: 0.8815\n",
      "5 val_accuracy3: 0.91125\n",
      "alpha: 0.001 accuracy1: 0.88455\n",
      "alpha: 0.001 accuracy2: 0.8765000000000001\n",
      "alpha: 0.001 accuracy3: 0.9111500000000001\n",
      "\n",
      "\n",
      "alpha: 0.005\n",
      "-------------fold0.0------------\n",
      "1 val_accuracy1: 0.88975\n",
      "1 val_accuracy2: 0.88425\n",
      "1 val_accuracy3: 0.89925\n",
      "-------------fold1.0------------\n",
      "2 val_accuracy1: 0.894\n",
      "2 val_accuracy2: 0.89\n",
      "2 val_accuracy3: 0.902\n",
      "-------------fold2.0------------\n",
      "3 val_accuracy1: 0.889\n",
      "3 val_accuracy2: 0.87025\n",
      "3 val_accuracy3: 0.8985\n",
      "-------------fold3.0------------\n",
      "4 val_accuracy1: 0.892\n",
      "4 val_accuracy2: 0.8825\n",
      "4 val_accuracy3: 0.90525\n",
      "-------------fold4.0------------\n",
      "5 val_accuracy1: 0.88725\n",
      "5 val_accuracy2: 0.8825\n",
      "5 val_accuracy3: 0.9055\n",
      "alpha: 0.005 accuracy1: 0.8904\n",
      "alpha: 0.005 accuracy2: 0.8818999999999999\n",
      "alpha: 0.005 accuracy3: 0.9021000000000001\n",
      "\n",
      "\n",
      "alpha: 0.01\n",
      "-------------fold0.0------------\n",
      "1 val_accuracy1: 0.88975\n",
      "1 val_accuracy2: 0.885\n",
      "1 val_accuracy3: 0.902\n",
      "-------------fold1.0------------\n",
      "2 val_accuracy1: 0.8915\n",
      "2 val_accuracy2: 0.887\n",
      "2 val_accuracy3: 0.89475\n",
      "-------------fold2.0------------\n",
      "3 val_accuracy1: 0.88325\n",
      "3 val_accuracy2: 0.87875\n",
      "3 val_accuracy3: 0.89475\n",
      "-------------fold3.0------------\n",
      "4 val_accuracy1: 0.89125\n",
      "4 val_accuracy2: 0.88775\n",
      "4 val_accuracy3: 0.9025\n",
      "-------------fold4.0------------\n",
      "5 val_accuracy1: 0.89925\n",
      "5 val_accuracy2: 0.897\n",
      "5 val_accuracy3: 0.909\n",
      "alpha: 0.01 accuracy1: 0.891\n",
      "alpha: 0.01 accuracy2: 0.8871\n",
      "alpha: 0.01 accuracy3: 0.9006000000000001\n",
      "\n",
      "\n",
      "alpha: 0.05\n",
      "-------------fold0.0------------\n",
      "1 val_accuracy1: 0.90075\n",
      "1 val_accuracy2: 0.90125\n",
      "1 val_accuracy3: 0.893\n",
      "-------------fold1.0------------\n",
      "2 val_accuracy1: 0.8955\n",
      "2 val_accuracy2: 0.897\n",
      "2 val_accuracy3: 0.90375\n",
      "-------------fold2.0------------\n",
      "3 val_accuracy1: 0.887\n",
      "3 val_accuracy2: 0.888\n",
      "3 val_accuracy3: 0.90025\n",
      "-------------fold3.0------------\n",
      "4 val_accuracy1: 0.89725\n",
      "4 val_accuracy2: 0.89425\n",
      "4 val_accuracy3: 0.898\n",
      "-------------fold4.0------------\n",
      "5 val_accuracy1: 0.89425\n",
      "5 val_accuracy2: 0.8945\n",
      "5 val_accuracy3: 0.89575\n",
      "alpha: 0.05 accuracy1: 0.89495\n",
      "alpha: 0.05 accuracy2: 0.8949999999999999\n",
      "alpha: 0.05 accuracy3: 0.89815\n",
      "\n",
      "\n",
      "alpha: 0.1\n",
      "-------------fold0.0------------\n",
      "1 val_accuracy1: 0.896\n",
      "1 val_accuracy2: 0.89975\n",
      "1 val_accuracy3: 0.893\n",
      "-------------fold1.0------------\n",
      "2 val_accuracy1: 0.89675\n",
      "2 val_accuracy2: 0.9015\n",
      "2 val_accuracy3: 0.89225\n",
      "-------------fold2.0------------\n",
      "3 val_accuracy1: 0.8965\n",
      "3 val_accuracy2: 0.89225\n",
      "3 val_accuracy3: 0.8855\n",
      "-------------fold3.0------------\n",
      "4 val_accuracy1: 0.89\n",
      "4 val_accuracy2: 0.8985\n",
      "4 val_accuracy3: 0.9015\n",
      "-------------fold4.0------------\n",
      "5 val_accuracy1: 0.9005\n",
      "5 val_accuracy2: 0.90075\n",
      "5 val_accuracy3: 0.8915\n",
      "alpha: 0.1 accuracy1: 0.89595\n",
      "alpha: 0.1 accuracy2: 0.89855\n",
      "alpha: 0.1 accuracy3: 0.89275\n",
      "\n",
      "\n",
      "alpha: 0.2\n",
      "-------------fold0.0------------\n",
      "1 val_accuracy1: 0.89825\n",
      "1 val_accuracy2: 0.903\n",
      "1 val_accuracy3: 0.89775\n",
      "-------------fold1.0------------\n",
      "2 val_accuracy1: 0.89975\n",
      "2 val_accuracy2: 0.90375\n",
      "2 val_accuracy3: 0.88475\n",
      "-------------fold2.0------------\n",
      "3 val_accuracy1: 0.8925\n",
      "3 val_accuracy2: 0.8985\n",
      "3 val_accuracy3: 0.9105\n",
      "-------------fold3.0------------\n",
      "4 val_accuracy1: 0.89275\n",
      "4 val_accuracy2: 0.90325\n",
      "4 val_accuracy3: 0.8885\n",
      "-------------fold4.0------------\n",
      "5 val_accuracy1: 0.89375\n",
      "5 val_accuracy2: 0.8985\n",
      "5 val_accuracy3: 0.88575\n",
      "alpha: 0.2 accuracy1: 0.8954000000000001\n",
      "alpha: 0.2 accuracy2: 0.9014\n",
      "alpha: 0.2 accuracy3: 0.89345\n",
      "\n",
      "\n",
      "alpha: 0.5\n",
      "-------------fold0.0------------\n",
      "1 val_accuracy1: 0.88825\n",
      "1 val_accuracy2: 0.903\n",
      "1 val_accuracy3: 0.8625\n",
      "-------------fold1.0------------\n",
      "2 val_accuracy1: 0.883\n",
      "2 val_accuracy2: 0.89775\n",
      "2 val_accuracy3: 0.866\n",
      "-------------fold2.0------------\n",
      "3 val_accuracy1: 0.8875\n",
      "3 val_accuracy2: 0.9015\n",
      "3 val_accuracy3: 0.8845\n",
      "-------------fold3.0------------\n",
      "4 val_accuracy1: 0.891\n",
      "4 val_accuracy2: 0.90275\n",
      "4 val_accuracy3: 0.8905\n",
      "-------------fold4.0------------\n",
      "5 val_accuracy1: 0.89225\n",
      "5 val_accuracy2: 0.89975\n",
      "5 val_accuracy3: 0.8655\n",
      "alpha: 0.5 accuracy1: 0.8884000000000001\n",
      "alpha: 0.5 accuracy2: 0.9009500000000001\n",
      "alpha: 0.5 accuracy3: 0.8737999999999999\n",
      "\n",
      "\n",
      "alpha: 0.7\n",
      "-------------fold0.0------------\n",
      "1 val_accuracy1: 0.89525\n",
      "1 val_accuracy2: 0.89875\n",
      "1 val_accuracy3: 0.87025\n",
      "-------------fold1.0------------\n",
      "2 val_accuracy1: 0.888\n",
      "2 val_accuracy2: 0.9035\n",
      "2 val_accuracy3: 0.879\n",
      "-------------fold2.0------------\n",
      "3 val_accuracy1: 0.8845\n",
      "3 val_accuracy2: 0.9025\n",
      "3 val_accuracy3: 0.8675\n",
      "-------------fold3.0------------\n",
      "4 val_accuracy1: 0.89375\n",
      "4 val_accuracy2: 0.905\n",
      "4 val_accuracy3: 0.89275\n",
      "-------------fold4.0------------\n",
      "5 val_accuracy1: 0.88725\n",
      "5 val_accuracy2: 0.90275\n",
      "5 val_accuracy3: 0.863\n",
      "alpha: 0.7 accuracy1: 0.8897499999999999\n",
      "alpha: 0.7 accuracy2: 0.9025000000000001\n",
      "alpha: 0.7 accuracy3: 0.8745\n",
      "\n",
      "\n",
      "alpha: 0.9\n",
      "-------------fold0.0------------\n",
      "1 val_accuracy1: 0.87875\n",
      "1 val_accuracy2: 0.90525\n",
      "1 val_accuracy3: 0.88625\n",
      "-------------fold1.0------------\n",
      "2 val_accuracy1: 0.88575\n",
      "2 val_accuracy2: 0.89925\n",
      "2 val_accuracy3: 0.854\n",
      "-------------fold2.0------------\n",
      "3 val_accuracy1: 0.88475\n",
      "3 val_accuracy2: 0.9\n",
      "3 val_accuracy3: 0.855\n",
      "-------------fold3.0------------\n",
      "4 val_accuracy1: 0.8865\n",
      "4 val_accuracy2: 0.90575\n",
      "4 val_accuracy3: 0.86175\n",
      "-------------fold4.0------------\n",
      "5 val_accuracy1: 0.8745\n",
      "5 val_accuracy2: 0.8955\n",
      "5 val_accuracy3: 0.85625\n",
      "alpha: 0.9 accuracy1: 0.8820499999999999\n",
      "alpha: 0.9 accuracy2: 0.90115\n",
      "alpha: 0.9 accuracy3: 0.86265\n",
      "\n",
      "\n",
      "alpha: 1\n",
      "-------------fold0.0------------\n",
      "1 val_accuracy1: 0.889\n",
      "1 val_accuracy2: 0.906\n",
      "1 val_accuracy3: 0.83475\n",
      "-------------fold1.0------------\n",
      "2 val_accuracy1: 0.8885\n",
      "2 val_accuracy2: 0.9\n",
      "2 val_accuracy3: 0.863\n",
      "-------------fold2.0------------\n",
      "3 val_accuracy1: 0.882\n",
      "3 val_accuracy2: 0.902\n",
      "3 val_accuracy3: 0.86425\n",
      "-------------fold3.0------------\n",
      "4 val_accuracy1: 0.88575\n",
      "4 val_accuracy2: 0.9045\n",
      "4 val_accuracy3: 0.8465\n",
      "-------------fold4.0------------\n"
     ]
    },
    {
     "name": "stdout",
     "output_type": "stream",
     "text": [
      "5 val_accuracy1: 0.88525\n",
      "5 val_accuracy2: 0.90375\n",
      "5 val_accuracy3: 0.86075\n",
      "alpha: 1 accuracy1: 0.8861000000000001\n",
      "alpha: 1 accuracy2: 0.9032500000000001\n",
      "alpha: 1 accuracy3: 0.8538500000000001\n",
      "\n",
      "\n"
     ]
    }
   ],
   "source": [
    "# 交叉验证\n",
    "cv1= []\n",
    "cv2= []\n",
    "cv3= []\n",
    "mean1=[] \n",
    "mean2=[]\n",
    "mean3=[]\n",
    "search_list = [0.00001,0.0001,0.0005,0.001,0.005,0.01,0.05,0.1,0.2,0.5,0.7,0.9,1] \n",
    "for i in search_list:\n",
    "    accuracy1 = []\n",
    "    accuracy2 = []\n",
    "    accuracy3 = []\n",
    "    print(\"alpha:\",i)\n",
    "    for j in range(5):\n",
    "        print(\"-------------fold{:.1f}------------\".format(j))\n",
    "        x_train, x_test, y_train, y_test = train_test_split(df.data,df.target,test_size=0.2,random_state=random.randrange(0,1000))\n",
    "        \n",
    "        tfidf=TFIDF().fit(x_train)\n",
    "        Xtrain_=tfidf.transform(x_train)\n",
    "        Xtest_=tfidf.transform(x_test)\n",
    "\n",
    "        model1 = MultinomialNB(alpha=i)\n",
    "        model1.fit(Xtrain_, y_train)\n",
    "        val_accuracy1= model1.score(Xtest_, y_test)\n",
    "        \n",
    "        model2 = ComplementNB(alpha=i)\n",
    "        model2.fit(Xtrain_, y_train)\n",
    "        val_accuracy2= model2.score(Xtest_, y_test)\n",
    "        \n",
    "        model3 = BernoulliNB(alpha=i)\n",
    "        model3.fit(Xtrain_, y_train)\n",
    "        val_accuracy3= model3.score(Xtest_, y_test)\n",
    "        \n",
    "        print(j+1,\"val_accuracy1:\", val_accuracy1)\n",
    "        print(j+1,\"val_accuracy2:\", val_accuracy2)\n",
    "        print(j+1,\"val_accuracy3:\", val_accuracy3)\n",
    "        accuracy1.append(val_accuracy1)\n",
    "        accuracy2.append(val_accuracy2)\n",
    "        accuracy3.append(val_accuracy3)\n",
    "    acc_sum=0\n",
    "    for t in range(len(accuracy1)):\n",
    "        acc_sum=acc_sum+accuracy1[t]\n",
    "    print(\"alpha:\",i,\"accuracy1:\",acc_sum/5)\n",
    "    acc_sum=0\n",
    "    for t in range(len(accuracy2)):\n",
    "        acc_sum=acc_sum+accuracy2[t]\n",
    "    print(\"alpha:\",i,\"accuracy2:\",acc_sum/5)\n",
    "    acc_sum=0\n",
    "    for t in range(len(accuracy3)):\n",
    "        acc_sum=acc_sum+accuracy3[t]\n",
    "    print(\"alpha:\",i,\"accuracy3:\",acc_sum/5)\n",
    "    print(\"\\n\")\n",
    "    cv1.append(accuracy1)\n",
    "    cv2.append(accuracy2)\n",
    "    cv3.append(accuracy3)\n",
    "for i in cv1:\n",
    "    mean1.append(np.mean(i))\n",
    "for i in cv2:\n",
    "    mean2.append(np.mean(i))\n",
    "for i in cv3:\n",
    "    mean3.append(np.mean(i))"
   ]
  },
  {
   "cell_type": "markdown",
   "metadata": {},
   "source": [
    "### 绘图"
   ]
  },
  {
   "cell_type": "code",
   "execution_count": 16,
   "metadata": {},
   "outputs": [
    {
     "data": {
      "image/png": "[encoded data removed]",
      "text/plain": [
       "<Figure size 640x480 with 1 Axes>"
      ]
     },
     "metadata": {},
     "output_type": "display_data"
    }
   ],
   "source": [
    "import seaborn as sns\n",
    "df_plot = pd.DataFrame()\n",
    "df_plot['alpha'] = search_list\n",
    "df_plot['Multinomial Classification Accuracy'] = mean1\n",
    "df_plot['Complement Classification Accuracy'] = mean2\n",
    "df_plot['Bernuolli Classification Accuracy'] = mean3\n",
    "df_plot = pd.DataFrame(df_plot).set_index('alpha')\n",
    "sns.lineplot(data=df_plot)\n",
    "plt.title(\"comparison of classification accuracy\")\n",
    "plt.show()"
   ]
  },
  {
   "cell_type": "markdown",
   "metadata": {},
   "source": [
    "由此可以看到，Multinomial和Bernuolli的classification accuracy均是先升高再下降，而complement模型则是先快速升高后趋于稳定，且最后的准确率是complement模型最高，所以接下来用complement最好的模型参数来看看最后的结果。"
   ]
  },
  {
   "cell_type": "markdown",
   "metadata": {},
   "source": [
    "### 首先绘制随着alpha的变化，交叉验证误差图，选取平均准确率最高且方差较小的alpha作为最后模型的参数"
   ]
  },
  {
   "cell_type": "code",
   "execution_count": 17,
   "metadata": {},
   "outputs": [
    {
     "data": {
      "image/png": "[encoded data removed]",
      "text/plain": [
       "<Figure size 640x480 with 1 Axes>"
      ]
     },
     "metadata": {},
     "output_type": "display_data"
    }
   ],
   "source": [
    "dict_=dict(zip(search_list,cv2))\n",
    "accu_mean=[]\n",
    "accu_std=[]\n",
    "for i,j in dict_.items():\n",
    "    accu_mean.append(np.mean(j))\n",
    "    accu_std.append(np.std(j))\n",
    "for i in search_list:\n",
    "    accus = dict_[i]\n",
    "    plt.scatter([i] * len(accus), accus)\n",
    "plt.errorbar(search_list, accu_mean, accu_std,ecolor='green')\n",
    "plt.title('5-Fold Cross validation')\n",
    "plt.xlabel('alpha')\n",
    "plt.ylabel('Cross validation accuracy')\n",
    "plt.show()"
   ]
  },
  {
   "cell_type": "code",
   "execution_count": 18,
   "metadata": {},
   "outputs": [
    {
     "data": {
      "text/plain": [
       "1"
      ]
     },
     "execution_count": 18,
     "metadata": {},
     "output_type": "execute_result"
    }
   ],
   "source": [
    "alpha_best=search_list[np.argmax(mean2)]\n",
    "alpha_best"
   ]
  },
  {
   "cell_type": "markdown",
   "metadata": {},
   "source": [
    "### 最后达到的效果："
   ]
  },
  {
   "cell_type": "code",
   "execution_count": 19,
   "metadata": {},
   "outputs": [
    {
     "name": "stdout",
     "output_type": "stream",
     "text": [
      "                          precision    recall  f1-score   support\n",
      "\n",
      "             alt.atheism       0.77      0.86      0.81       212\n",
      "           comp.graphics       0.87      0.89      0.88       177\n",
      " comp.os.ms-windows.misc       0.93      0.91      0.92       203\n",
      "comp.sys.ibm.pc.hardware       0.88      0.89      0.88       198\n",
      "   comp.sys.mac.hardware       0.96      0.92      0.94       212\n",
      "          comp.windows.x       0.93      0.88      0.91       188\n",
      "            misc.forsale       0.94      0.91      0.93       221\n",
      "               rec.autos       0.97      0.93      0.95       214\n",
      "         rec.motorcycles       0.95      1.00      0.97       204\n",
      "      rec.sport.baseball       0.97      0.95      0.96       211\n",
      "        rec.sport.hockey       0.91      0.98      0.94       183\n",
      "               sci.crypt       0.96      0.98      0.97       193\n",
      "         sci.electronics       0.94      0.91      0.92       182\n",
      "                 sci.med       0.97      0.94      0.95       205\n",
      "               sci.space       0.93      1.00      0.96       212\n",
      "  soc.religion.christian       0.91      1.00      0.95       194\n",
      "      talk.politics.guns       0.82      0.96      0.88       189\n",
      "   talk.politics.mideast       0.88      0.98      0.93       198\n",
      "      talk.politics.misc       0.85      0.70      0.77       198\n",
      "      talk.religion.misc       0.70      0.49      0.57       206\n",
      "\n",
      "                accuracy                           0.90      4000\n",
      "               macro avg       0.90      0.90      0.90      4000\n",
      "            weighted avg       0.90      0.90      0.90      4000\n",
      "\n"
     ]
    }
   ],
   "source": [
    "model = ComplementNB(alpha=alpha_best)\n",
    "model.fit(Xtrain_, y_train)\n",
    "y_pred=model.predict(Xtest_)\n",
    "val_accuracy= model.score(Xtest_, y_test)\n",
    "print(classification_report(y_test, y_pred, target_names=np.unique(df.target)))"
   ]
  },
  {
   "cell_type": "markdown",
   "metadata": {},
   "source": [
    "最后达到90%的准确率，效果还不错。"
   ]
  }
 ],
 "metadata": {
  "kernelspec": {
   "display_name": "Python 3 (ipykernel)",
   "language": "python",
   "name": "python3"
  },
  "language_info": {
   "codemirror_mode": {
    "name": "ipython",
    "version": 3
   },
   "file_extension": ".py",
   "mimetype": "text/x-python",
   "name": "python",
   "nbconvert_exporter": "python",
   "pygments_lexer": "ipython3",
   "version": "3.11.4"
  }
 },
 "nbformat": 4,
 "nbformat_minor": 4
}
